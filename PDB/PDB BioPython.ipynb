{
 "metadata": {
  "name": "",
  "signature": "sha256:125fbc18c3046d23da30b4459468da71f6e6ed880525d83775703ce24e71c631"
 },
 "nbformat": 3,
 "nbformat_minor": 0,
 "worksheets": [
  {
   "cells": [
    {
     "cell_type": "code",
     "collapsed": false,
     "input": [
      "from IPython.display import HTML\n",
      "HTML(\"<iframe src='http://biopython.org/wiki/The_Biopython_Structural_Bioinformatics_FAQ' width=100% height=500></iframe>\")"
     ],
     "language": "python",
     "metadata": {},
     "outputs": [
      {
       "html": [
        "<iframe src='http://biopython.org/wiki/The_Biopython_Structural_Bioinformatics_FAQ' width=100% height=500></iframe>"
       ],
       "metadata": {},
       "output_type": "pyout",
       "prompt_number": 1,
       "text": [
        "<IPython.core.display.HTML at 0x7f4505b032d0>"
       ]
      }
     ],
     "prompt_number": 1
    },
    {
     "cell_type": "code",
     "collapsed": false,
     "input": [
      "from Bio import PDB"
     ],
     "language": "python",
     "metadata": {},
     "outputs": [],
     "prompt_number": 2
    },
    {
     "cell_type": "code",
     "collapsed": false,
     "input": [
      "pdblist = PDB.PDBList()"
     ],
     "language": "python",
     "metadata": {},
     "outputs": [],
     "prompt_number": 3
    },
    {
     "cell_type": "code",
     "collapsed": false,
     "input": [
      "pdblist.retrieve_pdb_file(\"4ni1\", pdir=\".\")"
     ],
     "language": "python",
     "metadata": {},
     "outputs": [
      {
       "output_type": "stream",
       "stream": "stdout",
       "text": [
        "Downloading PDB structure '4ni1'...\n"
       ]
      },
      {
       "metadata": {},
       "output_type": "pyout",
       "prompt_number": 4,
       "text": [
        "'./pdb4ni1.ent'"
       ]
      }
     ],
     "prompt_number": 4
    },
    {
     "cell_type": "code",
     "collapsed": false,
     "input": [
      "! head pdb4ni1.ent"
     ],
     "language": "python",
     "metadata": {},
     "outputs": [
      {
       "output_type": "stream",
       "stream": "stdout",
       "text": [
        "HEADER    OXYGEN TRANSPORT                        05-NOV-13   4NI1              \r\n",
        "TITLE     QAUTERNARY R CO-LIGANDED HEMOGLOBIN STRUCTURE IN COMPLEX WITH A THIOL \r\n",
        "TITLE    2 CONTAINING COMPOUND                                                  \r\n",
        "COMPND    MOL_ID: 1;                                                            \r\n",
        "COMPND   2 MOLECULE: HEMOGLOBIN SUBUNIT ALPHA;                                  \r\n",
        "COMPND   3 CHAIN: A;                                                            \r\n",
        "COMPND   4 SYNONYM: ALPHA-GLOBIN, HEMOGLOBIN ALPHA CHAIN;                       \r\n",
        "COMPND   5 MOL_ID: 2;                                                           \r\n",
        "COMPND   6 MOLECULE: HEMOGLOBIN SUBUNIT BETA;                                   \r\n",
        "COMPND   7 CHAIN: B;                                                            \r\n"
       ]
      }
     ],
     "prompt_number": 5
    },
    {
     "cell_type": "code",
     "collapsed": false,
     "input": [
      "parser = PDB.PDBParser()"
     ],
     "language": "python",
     "metadata": {},
     "outputs": [],
     "prompt_number": 6
    },
    {
     "cell_type": "code",
     "collapsed": false,
     "input": [
      "estructura = parser.get_structure(id=\"4ni1\",file=\"pdb4ni1.ent\")"
     ],
     "language": "python",
     "metadata": {},
     "outputs": [
      {
       "output_type": "stream",
       "stream": "stderr",
       "text": [
        "/usr/lib/python2.7/dist-packages/Bio/PDB/StructureBuilder.py:85: PDBConstructionWarning: WARNING: Chain A is discontinuous at line 2674.\n",
        "  PDBConstructionWarning)\n",
        "/usr/lib/python2.7/dist-packages/Bio/PDB/StructureBuilder.py:85: PDBConstructionWarning: WARNING: Chain B is discontinuous at line 2765.\n",
        "  PDBConstructionWarning)\n",
        "/usr/lib/python2.7/dist-packages/Bio/PDB/StructureBuilder.py:85: PDBConstructionWarning: WARNING: Chain A is discontinuous at line 2842.\n",
        "  PDBConstructionWarning)\n",
        "/usr/lib/python2.7/dist-packages/Bio/PDB/StructureBuilder.py:85: PDBConstructionWarning: WARNING: Chain B is discontinuous at line 2973.\n",
        "  PDBConstructionWarning)\n"
       ]
      }
     ],
     "prompt_number": 7
    },
    {
     "cell_type": "code",
     "collapsed": false,
     "input": [
      "type(estructura)"
     ],
     "language": "python",
     "metadata": {},
     "outputs": [
      {
       "metadata": {},
       "output_type": "pyout",
       "prompt_number": 8,
       "text": [
        "Bio.PDB.Structure.Structure"
       ]
      }
     ],
     "prompt_number": 8
    },
    {
     "cell_type": "code",
     "collapsed": false,
     "input": [
      "estructura.header"
     ],
     "language": "python",
     "metadata": {},
     "outputs": [
      {
       "metadata": {},
       "output_type": "pyout",
       "prompt_number": 9,
       "text": [
        "{'author': 'M.K.Safo,J.Meadows,T.-P.Ko,A.Nakagawa,W.Zapol',\n",
        " 'compound': {'1': {'chain': 'a',\n",
        "   'misc': '',\n",
        "   'molecule': 'hemoglobin subunit alpha',\n",
        "   'synonym': 'alpha-globin, hemoglobin alpha chain'},\n",
        "  '2': {'chain': 'b',\n",
        "   'misc': '',\n",
        "   'molecule': 'hemoglobin subunit beta',\n",
        "   'synonym': 'beta-globin, hemoglobin beta chain'}},\n",
        " 'deposition_date': '2013-11-05',\n",
        " 'head': 'oxygen transport',\n",
        " 'journal': 'AUTH   A.NAKAGAWA,F.E.LUI,D.WASSAF,R.YEFIDOFF-FREEDMAN,D.CASALENA,AUTH 2 M.A.PALMER,J.MEADOWS,A.MOZZARELLI,L.RONDA,O.ABDULMALIK,AUTH 3 K.D.BLOCH,M.K.SAFO,W.M.ZAPOLTITL   IDENTIFICATION OF A SMALL MOLECULE THAT INCREASES HEMOGLOBINTITL 2 OXYGEN AFFINITY AND REDUCES SS ERYTHROCYTE SICKLING.REF    ACS CHEM.BIOL.                             2014REFN                   ESSN 1554-8937PMID   25061917DOI    10.1021/CB500230B',\n",
        " 'journal_reference': 'a.nakagawa,f.e.lui,d.wassaf,r.yefidoff-freedman,d.casm.a.palmer,j.meadows,a.mozzarelli,l.ronda,o.abdulmalik.d.bloch,m.k.safo,w.m.zapol identification of a small molecule that increases hemoxygen affinity and reduces ss erythrocyte sickling. acs chem.biol. 2014 essn 1554-8937 25061917 10.1021/cb500230b ',\n",
        " 'keywords': 'allosteric, tetramer, oxygen transport, relaxed state, tense state, globin fold, red blood cell',\n",
        " 'name': ' qauternary r co-liganded hemoglobin structure in complex with a thiol containing compound',\n",
        " 'release_date': '2014-09-17',\n",
        " 'resolution': 1.9,\n",
        " 'source': {'1': {'misc': '',\n",
        "   'organism_common': 'human',\n",
        "   'organism_scientific': 'homo sapiens',\n",
        "   'organism_taxid': '9606'},\n",
        "  '2': {'misc': '',\n",
        "   'organism_common': 'human',\n",
        "   'organism_scientific': 'homo sapiens',\n",
        "   'organism_taxid': '9606'}},\n",
        " 'structure_method': 'x-ray diffraction',\n",
        " 'structure_reference': []}"
       ]
      }
     ],
     "prompt_number": 9
    },
    {
     "cell_type": "code",
     "collapsed": false,
     "input": [
      "for modelo in estructura:\n",
      "    print(modelo)"
     ],
     "language": "python",
     "metadata": {},
     "outputs": [
      {
       "output_type": "stream",
       "stream": "stdout",
       "text": [
        "<Model id=0>\n"
       ]
      }
     ],
     "prompt_number": 10
    },
    {
     "cell_type": "code",
     "collapsed": false,
     "input": [
      "for modelo in estructura:\n",
      "    for cadena in modelo:\n",
      "        print(cadena)"
     ],
     "language": "python",
     "metadata": {},
     "outputs": [
      {
       "output_type": "stream",
       "stream": "stdout",
       "text": [
        "<Chain id=A>\n",
        "<Chain id=B>\n"
       ]
      }
     ],
     "prompt_number": 11
    },
    {
     "cell_type": "code",
     "collapsed": false,
     "input": [
      "modelo = estructura[0]\n",
      "type(modelo)"
     ],
     "language": "python",
     "metadata": {},
     "outputs": [
      {
       "metadata": {},
       "output_type": "pyout",
       "prompt_number": 12,
       "text": [
        "Bio.PDB.Model.Model"
       ]
      }
     ],
     "prompt_number": 12
    },
    {
     "cell_type": "code",
     "collapsed": false,
     "input": [
      "cadena_a = modelo['A']\n",
      "type(cadena_a)"
     ],
     "language": "python",
     "metadata": {},
     "outputs": [
      {
       "metadata": {},
       "output_type": "pyout",
       "prompt_number": 13,
       "text": [
        "Bio.PDB.Chain.Chain"
       ]
      }
     ],
     "prompt_number": 13
    },
    {
     "cell_type": "code",
     "collapsed": false,
     "input": [
      "for residuo in cadena_a:\n",
      "    print( residuo, residuo.get_id(), residuo.get_id()[0] ) # residuo, id, hetero flag "
     ],
     "language": "python",
     "metadata": {},
     "outputs": [
      {
       "output_type": "stream",
       "stream": "stdout",
       "text": [
        "(<Residue VAL het=  resseq=1 icode= >, (' ', 1, ' '), ' ')\n",
        "(<Residue LEU het=  resseq=2 icode= >, (' ', 2, ' '), ' ')\n",
        "(<Residue SER het=  resseq=3 icode= >, (' ', 3, ' '), ' ')\n",
        "(<Residue PRO het=  resseq=4 icode= >, (' ', 4, ' '), ' ')\n",
        "(<Residue ALA het=  resseq=5 icode= >, (' ', 5, ' '), ' ')\n",
        "(<Residue ASP het=  resseq=6 icode= >, (' ', 6, ' '), ' ')\n",
        "(<Residue LYS het=  resseq=7 icode= >, (' ', 7, ' '), ' ')\n",
        "(<Residue THR het=  resseq=8 icode= >, (' ', 8, ' '), ' ')\n",
        "(<Residue ASN het=  resseq=9 icode= >, (' ', 9, ' '), ' ')\n",
        "(<Residue VAL het=  resseq=10 icode= >, (' ', 10, ' '), ' ')\n",
        "(<Residue LYS het=  resseq=11 icode= >, (' ', 11, ' '), ' ')\n",
        "(<Residue ALA het=  resseq=12 icode= >, (' ', 12, ' '), ' ')\n",
        "(<Residue ALA het=  resseq=13 icode= >, (' ', 13, ' '), ' ')\n",
        "(<Residue TRP het=  resseq=14 icode= >, (' ', 14, ' '), ' ')\n",
        "(<Residue GLY het=  resseq=15 icode= >, (' ', 15, ' '), ' ')\n",
        "(<Residue LYS het=  resseq=16 icode= >, (' ', 16, ' '), ' ')\n",
        "(<Residue VAL het=  resseq=17 icode= >, (' ', 17, ' '), ' ')\n",
        "(<Residue GLY het=  resseq=18 icode= >, (' ', 18, ' '), ' ')\n",
        "(<Residue ALA het=  resseq=19 icode= >, (' ', 19, ' '), ' ')\n",
        "(<Residue HIS het=  resseq=20 icode= >, (' ', 20, ' '), ' ')\n",
        "(<Residue ALA het=  resseq=21 icode= >, (' ', 21, ' '), ' ')\n",
        "(<Residue GLY het=  resseq=22 icode= >, (' ', 22, ' '), ' ')\n",
        "(<Residue GLU het=  resseq=23 icode= >, (' ', 23, ' '), ' ')\n",
        "(<Residue TYR het=  resseq=24 icode= >, (' ', 24, ' '), ' ')\n",
        "(<Residue GLY het=  resseq=25 icode= >, (' ', 25, ' '), ' ')\n",
        "(<Residue ALA het=  resseq=26 icode= >, (' ', 26, ' '), ' ')\n",
        "(<Residue GLU het=  resseq=27 icode= >, (' ', 27, ' '), ' ')\n",
        "(<Residue ALA het=  resseq=28 icode= >, (' ', 28, ' '), ' ')\n",
        "(<Residue LEU het=  resseq=29 icode= >, (' ', 29, ' '), ' ')\n",
        "(<Residue GLU het=  resseq=30 icode= >, (' ', 30, ' '), ' ')\n",
        "(<Residue ARG het=  resseq=31 icode= >, (' ', 31, ' '), ' ')\n",
        "(<Residue MET het=  resseq=32 icode= >, (' ', 32, ' '), ' ')\n",
        "(<Residue PHE het=  resseq=33 icode= >, (' ', 33, ' '), ' ')\n",
        "(<Residue LEU het=  resseq=34 icode= >, (' ', 34, ' '), ' ')\n",
        "(<Residue SER het=  resseq=35 icode= >, (' ', 35, ' '), ' ')\n",
        "(<Residue PHE het=  resseq=36 icode= >, (' ', 36, ' '), ' ')\n",
        "(<Residue PRO het=  resseq=37 icode= >, (' ', 37, ' '), ' ')\n",
        "(<Residue THR het=  resseq=38 icode= >, (' ', 38, ' '), ' ')\n",
        "(<Residue THR het=  resseq=39 icode= >, (' ', 39, ' '), ' ')\n",
        "(<Residue LYS het=  resseq=40 icode= >, (' ', 40, ' '), ' ')\n",
        "(<Residue THR het=  resseq=41 icode= >, (' ', 41, ' '), ' ')\n",
        "(<Residue TYR het=  resseq=42 icode= >, (' ', 42, ' '), ' ')\n",
        "(<Residue PHE het=  resseq=43 icode= >, (' ', 43, ' '), ' ')\n",
        "(<Residue PRO het=  resseq=44 icode= >, (' ', 44, ' '), ' ')\n",
        "(<Residue HIS het=  resseq=45 icode= >, (' ', 45, ' '), ' ')\n",
        "(<Residue PHE het=  resseq=46 icode= >, (' ', 46, ' '), ' ')\n",
        "(<Residue ASP het=  resseq=47 icode= >, (' ', 47, ' '), ' ')\n",
        "(<Residue LEU het=  resseq=48 icode= >, (' ', 48, ' '), ' ')\n",
        "(<Residue SER het=  resseq=49 icode= >, (' ', 49, ' '), ' ')\n",
        "(<Residue HIS het=  resseq=50 icode= >, (' ', 50, ' '), ' ')\n",
        "(<Residue GLY het=  resseq=51 icode= >, (' ', 51, ' '), ' ')\n",
        "(<Residue SER het=  resseq=52 icode= >, (' ', 52, ' '), ' ')\n",
        "(<Residue ALA het=  resseq=53 icode= >, (' ', 53, ' '), ' ')\n",
        "(<Residue GLN het=  resseq=54 icode= >, (' ', 54, ' '), ' ')\n",
        "(<Residue VAL het=  resseq=55 icode= >, (' ', 55, ' '), ' ')\n",
        "(<Residue LYS het=  resseq=56 icode= >, (' ', 56, ' '), ' ')\n",
        "(<Residue GLY het=  resseq=57 icode= >, (' ', 57, ' '), ' ')\n",
        "(<Residue HIS het=  resseq=58 icode= >, (' ', 58, ' '), ' ')\n",
        "(<Residue GLY het=  resseq=59 icode= >, (' ', 59, ' '), ' ')\n",
        "(<Residue LYS het=  resseq=60 icode= >, (' ', 60, ' '), ' ')\n",
        "(<Residue LYS het=  resseq=61 icode= >, (' ', 61, ' '), ' ')\n",
        "(<Residue VAL het=  resseq=62 icode= >, (' ', 62, ' '), ' ')\n",
        "(<Residue ALA het=  resseq=63 icode= >, (' ', 63, ' '), ' ')\n",
        "(<Residue ASP het=  resseq=64 icode= >, (' ', 64, ' '), ' ')\n",
        "(<Residue ALA het=  resseq=65 icode= >, (' ', 65, ' '), ' ')\n",
        "(<Residue LEU het=  resseq=66 icode= >, (' ', 66, ' '), ' ')\n",
        "(<Residue THR het=  resseq=67 icode= >, (' ', 67, ' '), ' ')\n",
        "(<Residue ASN het=  resseq=68 icode= >, (' ', 68, ' '), ' ')\n",
        "(<Residue ALA het=  resseq=69 icode= >, (' ', 69, ' '), ' ')\n",
        "(<Residue VAL het=  resseq=70 icode= >, (' ', 70, ' '), ' ')\n",
        "(<Residue ALA het=  resseq=71 icode= >, (' ', 71, ' '), ' ')\n",
        "(<Residue HIS het=  resseq=72 icode= >, (' ', 72, ' '), ' ')\n",
        "(<Residue VAL het=  resseq=73 icode= >, (' ', 73, ' '), ' ')\n",
        "(<Residue ASP het=  resseq=74 icode= >, (' ', 74, ' '), ' ')\n",
        "(<Residue ASP het=  resseq=75 icode= >, (' ', 75, ' '), ' ')\n",
        "(<Residue MET het=  resseq=76 icode= >, (' ', 76, ' '), ' ')\n",
        "(<Residue PRO het=  resseq=77 icode= >, (' ', 77, ' '), ' ')\n",
        "(<Residue ASN het=  resseq=78 icode= >, (' ', 78, ' '), ' ')\n",
        "(<Residue ALA het=  resseq=79 icode= >, (' ', 79, ' '), ' ')\n",
        "(<Residue LEU het=  resseq=80 icode= >, (' ', 80, ' '), ' ')\n",
        "(<Residue SER het=  resseq=81 icode= >, (' ', 81, ' '), ' ')\n",
        "(<Residue ALA het=  resseq=82 icode= >, (' ', 82, ' '), ' ')\n",
        "(<Residue LEU het=  resseq=83 icode= >, (' ', 83, ' '), ' ')\n",
        "(<Residue SER het=  resseq=84 icode= >, (' ', 84, ' '), ' ')\n",
        "(<Residue ASP het=  resseq=85 icode= >, (' ', 85, ' '), ' ')\n",
        "(<Residue LEU het=  resseq=86 icode= >, (' ', 86, ' '), ' ')\n",
        "(<Residue HIS het=  resseq=87 icode= >, (' ', 87, ' '), ' ')\n",
        "(<Residue ALA het=  resseq=88 icode= >, (' ', 88, ' '), ' ')\n",
        "(<Residue HIS het=  resseq=89 icode= >, (' ', 89, ' '), ' ')\n",
        "(<Residue LYS het=  resseq=90 icode= >, (' ', 90, ' '), ' ')\n",
        "(<Residue LEU het=  resseq=91 icode= >, (' ', 91, ' '), ' ')\n",
        "(<Residue ARG het=  resseq=92 icode= >, (' ', 92, ' '), ' ')\n",
        "(<Residue VAL het=  resseq=93 icode= >, (' ', 93, ' '), ' ')\n",
        "(<Residue ASP het=  resseq=94 icode= >, (' ', 94, ' '), ' ')\n",
        "(<Residue PRO het=  resseq=95 icode= >, (' ', 95, ' '), ' ')\n",
        "(<Residue VAL het=  resseq=96 icode= >, (' ', 96, ' '), ' ')\n",
        "(<Residue ASN het=  resseq=97 icode= >, (' ', 97, ' '), ' ')\n",
        "(<Residue PHE het=  resseq=98 icode= >, (' ', 98, ' '), ' ')\n",
        "(<Residue LYS het=  resseq=99 icode= >, (' ', 99, ' '), ' ')\n",
        "(<Residue LEU het=  resseq=100 icode= >, (' ', 100, ' '), ' ')\n",
        "(<Residue LEU het=  resseq=101 icode= >, (' ', 101, ' '), ' ')\n",
        "(<Residue SER het=  resseq=102 icode= >, (' ', 102, ' '), ' ')\n",
        "(<Residue HIS het=  resseq=103 icode= >, (' ', 103, ' '), ' ')\n",
        "(<Residue CYS het=  resseq=104 icode= >, (' ', 104, ' '), ' ')\n",
        "(<Residue LEU het=  resseq=105 icode= >, (' ', 105, ' '), ' ')\n",
        "(<Residue LEU het=  resseq=106 icode= >, (' ', 106, ' '), ' ')\n",
        "(<Residue VAL het=  resseq=107 icode= >, (' ', 107, ' '), ' ')\n",
        "(<Residue THR het=  resseq=108 icode= >, (' ', 108, ' '), ' ')\n",
        "(<Residue LEU het=  resseq=109 icode= >, (' ', 109, ' '), ' ')\n",
        "(<Residue ALA het=  resseq=110 icode= >, (' ', 110, ' '), ' ')\n",
        "(<Residue ALA het=  resseq=111 icode= >, (' ', 111, ' '), ' ')\n",
        "(<Residue HIS het=  resseq=112 icode= >, (' ', 112, ' '), ' ')\n",
        "(<Residue LEU het=  resseq=113 icode= >, (' ', 113, ' '), ' ')\n",
        "(<Residue PRO het=  resseq=114 icode= >, (' ', 114, ' '), ' ')\n",
        "(<Residue ALA het=  resseq=115 icode= >, (' ', 115, ' '), ' ')\n",
        "(<Residue GLU het=  resseq=116 icode= >, (' ', 116, ' '), ' ')\n",
        "(<Residue PHE het=  resseq=117 icode= >, (' ', 117, ' '), ' ')\n",
        "(<Residue THR het=  resseq=118 icode= >, (' ', 118, ' '), ' ')\n",
        "(<Residue PRO het=  resseq=119 icode= >, (' ', 119, ' '), ' ')\n",
        "(<Residue ALA het=  resseq=120 icode= >, (' ', 120, ' '), ' ')\n",
        "(<Residue VAL het=  resseq=121 icode= >, (' ', 121, ' '), ' ')\n",
        "(<Residue HIS het=  resseq=122 icode= >, (' ', 122, ' '), ' ')\n",
        "(<Residue ALA het=  resseq=123 icode= >, (' ', 123, ' '), ' ')\n",
        "(<Residue SER het=  resseq=124 icode= >, (' ', 124, ' '), ' ')\n",
        "(<Residue LEU het=  resseq=125 icode= >, (' ', 125, ' '), ' ')\n",
        "(<Residue ASP het=  resseq=126 icode= >, (' ', 126, ' '), ' ')\n",
        "(<Residue LYS het=  resseq=127 icode= >, (' ', 127, ' '), ' ')\n",
        "(<Residue PHE het=  resseq=128 icode= >, (' ', 128, ' '), ' ')\n",
        "(<Residue LEU het=  resseq=129 icode= >, (' ', 129, ' '), ' ')\n",
        "(<Residue ALA het=  resseq=130 icode= >, (' ', 130, ' '), ' ')\n",
        "(<Residue SER het=  resseq=131 icode= >, (' ', 131, ' '), ' ')\n",
        "(<Residue VAL het=  resseq=132 icode= >, (' ', 132, ' '), ' ')\n",
        "(<Residue SER het=  resseq=133 icode= >, (' ', 133, ' '), ' ')\n",
        "(<Residue THR het=  resseq=134 icode= >, (' ', 134, ' '), ' ')\n",
        "(<Residue VAL het=  resseq=135 icode= >, (' ', 135, ' '), ' ')\n",
        "(<Residue LEU het=  resseq=136 icode= >, (' ', 136, ' '), ' ')\n",
        "(<Residue THR het=  resseq=137 icode= >, (' ', 137, ' '), ' ')\n",
        "(<Residue SER het=  resseq=138 icode= >, (' ', 138, ' '), ' ')\n",
        "(<Residue LYS het=  resseq=139 icode= >, (' ', 139, ' '), ' ')\n",
        "(<Residue TYR het=  resseq=140 icode= >, (' ', 140, ' '), ' ')\n",
        "(<Residue ARG het=  resseq=141 icode= >, (' ', 141, ' '), ' ')\n",
        "(<Residue CMO het=H_CMO resseq=201 icode= >, ('H_CMO', 201, ' '), 'H_CMO')\n",
        "(<Residue HEM het=H_HEM resseq=202 icode= >, ('H_HEM', 202, ' '), 'H_HEM')\n",
        "(<Residue 2JX het=H_2JX resseq=203 icode= >, ('H_2JX', 203, ' '), 'H_2JX')\n",
        "(<Residue 2JX het=H_2JX resseq=204 icode= >, ('H_2JX', 204, ' '), 'H_2JX')\n",
        "(<Residue MBN het=H_MBN resseq=205 icode= >, ('H_MBN', 205, ' '), 'H_MBN')\n",
        "(<Residue MBN het=H_MBN resseq=206 icode= >, ('H_MBN', 206, ' '), 'H_MBN')\n",
        "(<Residue HOH het=W resseq=301 icode= >, ('W', 301, ' '), 'W')\n",
        "(<Residue HOH het=W resseq=302 icode= >, ('W', 302, ' '), 'W')\n",
        "(<Residue HOH het=W resseq=303 icode= >, ('W', 303, ' '), 'W')\n",
        "(<Residue HOH het=W resseq=304 icode= >, ('W', 304, ' '), 'W')\n",
        "(<Residue HOH het=W resseq=305 icode= >, ('W', 305, ' '), 'W')\n",
        "(<Residue HOH het=W resseq=306 icode= >, ('W', 306, ' '), 'W')\n",
        "(<Residue HOH het=W resseq=307 icode= >, ('W', 307, ' '), 'W')\n",
        "(<Residue HOH het=W resseq=308 icode= >, ('W', 308, ' '), 'W')\n",
        "(<Residue HOH het=W resseq=309 icode= >, ('W', 309, ' '), 'W')\n",
        "(<Residue HOH het=W resseq=310 icode= >, ('W', 310, ' '), 'W')\n",
        "(<Residue HOH het=W resseq=311 icode= >, ('W', 311, ' '), 'W')\n",
        "(<Residue HOH het=W resseq=312 icode= >, ('W', 312, ' '), 'W')\n",
        "(<Residue HOH het=W resseq=313 icode= >, ('W', 313, ' '), 'W')\n",
        "(<Residue HOH het=W resseq=314 icode= >, ('W', 314, ' '), 'W')\n",
        "(<Residue HOH het=W resseq=315 icode= >, ('W', 315, ' '), 'W')\n",
        "(<Residue HOH het=W resseq=316 icode= >, ('W', 316, ' '), 'W')\n",
        "(<Residue HOH het=W resseq=317 icode= >, ('W', 317, ' '), 'W')\n",
        "(<Residue HOH het=W resseq=318 icode= >, ('W', 318, ' '), 'W')\n",
        "(<Residue HOH het=W resseq=319 icode= >, ('W', 319, ' '), 'W')\n",
        "(<Residue HOH het=W resseq=320 icode= >, ('W', 320, ' '), 'W')\n",
        "(<Residue HOH het=W resseq=321 icode= >, ('W', 321, ' '), 'W')\n",
        "(<Residue HOH het=W resseq=322 icode= >, ('W', 322, ' '), 'W')\n",
        "(<Residue HOH het=W resseq=323 icode= >, ('W', 323, ' '), 'W')\n",
        "(<Residue HOH het=W resseq=324 icode= >, ('W', 324, ' '), 'W')\n",
        "(<Residue HOH het=W resseq=325 icode= >, ('W', 325, ' '), 'W')\n",
        "(<Residue HOH het=W resseq=326 icode= >, ('W', 326, ' '), 'W')\n",
        "(<Residue HOH het=W resseq=327 icode= >, ('W', 327, ' '), 'W')\n",
        "(<Residue HOH het=W resseq=328 icode= >, ('W', 328, ' '), 'W')\n",
        "(<Residue HOH het=W resseq=329 icode= >, ('W', 329, ' '), 'W')\n",
        "(<Residue HOH het=W resseq=330 icode= >, ('W', 330, ' '), 'W')\n",
        "(<Residue HOH het=W resseq=331 icode= >, ('W', 331, ' '), 'W')\n",
        "(<Residue HOH het=W resseq=332 icode= >, ('W', 332, ' '), 'W')\n",
        "(<Residue HOH het=W resseq=333 icode= >, ('W', 333, ' '), 'W')\n",
        "(<Residue HOH het=W resseq=334 icode= >, ('W', 334, ' '), 'W')\n",
        "(<Residue HOH het=W resseq=335 icode= >, ('W', 335, ' '), 'W')\n",
        "(<Residue HOH het=W resseq=336 icode= >, ('W', 336, ' '), 'W')\n",
        "(<Residue HOH het=W resseq=337 icode= >, ('W', 337, ' '), 'W')\n",
        "(<Residue HOH het=W resseq=338 icode= >, ('W', 338, ' '), 'W')\n",
        "(<Residue HOH het=W resseq=339 icode= >, ('W', 339, ' '), 'W')\n",
        "(<Residue HOH het=W resseq=340 icode= >, ('W', 340, ' '), 'W')\n",
        "(<Residue HOH het=W resseq=341 icode= >, ('W', 341, ' '), 'W')\n",
        "(<Residue HOH het=W resseq=342 icode= >, ('W', 342, ' '), 'W')\n",
        "(<Residue HOH het=W resseq=343 icode= >, ('W', 343, ' '), 'W')\n",
        "(<Residue HOH het=W resseq=344 icode= >, ('W', 344, ' '), 'W')\n",
        "(<Residue HOH het=W resseq=345 icode= >, ('W', 345, ' '), 'W')\n",
        "(<Residue HOH het=W resseq=346 icode= >, ('W', 346, ' '), 'W')\n",
        "(<Residue HOH het=W resseq=347 icode= >, ('W', 347, ' '), 'W')\n",
        "(<Residue HOH het=W resseq=348 icode= >, ('W', 348, ' '), 'W')\n",
        "(<Residue HOH het=W resseq=349 icode= >, ('W', 349, ' '), 'W')\n",
        "(<Residue HOH het=W resseq=350 icode= >, ('W', 350, ' '), 'W')\n",
        "(<Residue HOH het=W resseq=351 icode= >, ('W', 351, ' '), 'W')\n",
        "(<Residue HOH het=W resseq=352 icode= >, ('W', 352, ' '), 'W')\n",
        "(<Residue HOH het=W resseq=353 icode= >, ('W', 353, ' '), 'W')\n",
        "(<Residue HOH het=W resseq=354 icode= >, ('W', 354, ' '), 'W')\n",
        "(<Residue HOH het=W resseq=355 icode= >, ('W', 355, ' '), 'W')\n",
        "(<Residue HOH het=W resseq=356 icode= >, ('W', 356, ' '), 'W')\n",
        "(<Residue HOH het=W resseq=357 icode= >, ('W', 357, ' '), 'W')\n",
        "(<Residue HOH het=W resseq=358 icode= >, ('W', 358, ' '), 'W')\n",
        "(<Residue HOH het=W resseq=359 icode= >, ('W', 359, ' '), 'W')\n",
        "(<Residue HOH het=W resseq=360 icode= >, ('W', 360, ' '), 'W')\n",
        "(<Residue HOH het=W resseq=361 icode= >, ('W', 361, ' '), 'W')\n",
        "(<Residue HOH het=W resseq=362 icode= >, ('W', 362, ' '), 'W')\n",
        "(<Residue HOH het=W resseq=363 icode= >, ('W', 363, ' '), 'W')\n",
        "(<Residue HOH het=W resseq=364 icode= >, ('W', 364, ' '), 'W')\n",
        "(<Residue HOH het=W resseq=365 icode= >, ('W', 365, ' '), 'W')\n",
        "(<Residue HOH het=W resseq=366 icode= >, ('W', 366, ' '), 'W')\n",
        "(<Residue HOH het=W resseq=367 icode= >, ('W', 367, ' '), 'W')\n",
        "(<Residue HOH het=W resseq=368 icode= >, ('W', 368, ' '), 'W')\n",
        "(<Residue HOH het=W resseq=369 icode= >, ('W', 369, ' '), 'W')\n",
        "(<Residue HOH het=W resseq=370 icode= >, ('W', 370, ' '), 'W')\n",
        "(<Residue HOH het=W resseq=371 icode= >, ('W', 371, ' '), 'W')\n",
        "(<Residue HOH het=W resseq=372 icode= >, ('W', 372, ' '), 'W')\n",
        "(<Residue HOH het=W resseq=373 icode= >, ('W', 373, ' '), 'W')\n",
        "(<Residue HOH het=W resseq=374 icode= >, ('W', 374, ' '), 'W')\n",
        "(<Residue HOH het=W resseq=375 icode= >, ('W', 375, ' '), 'W')\n",
        "(<Residue HOH het=W resseq=376 icode= >, ('W', 376, ' '), 'W')\n",
        "(<Residue HOH het=W resseq=377 icode= >, ('W', 377, ' '), 'W')\n",
        "(<Residue HOH het=W resseq=378 icode= >, ('W', 378, ' '), 'W')\n",
        "(<Residue HOH het=W resseq=379 icode= >, ('W', 379, ' '), 'W')\n",
        "(<Residue HOH het=W resseq=380 icode= >, ('W', 380, ' '), 'W')\n",
        "(<Residue HOH het=W resseq=381 icode= >, ('W', 381, ' '), 'W')\n",
        "(<Residue HOH het=W resseq=382 icode= >, ('W', 382, ' '), 'W')\n",
        "(<Residue HOH het=W resseq=383 icode= >, ('W', 383, ' '), 'W')\n",
        "(<Residue HOH het=W resseq=384 icode= >, ('W', 384, ' '), 'W')\n",
        "(<Residue HOH het=W resseq=385 icode= >, ('W', 385, ' '), 'W')\n",
        "(<Residue HOH het=W resseq=386 icode= >, ('W', 386, ' '), 'W')\n",
        "(<Residue HOH het=W resseq=387 icode= >, ('W', 387, ' '), 'W')\n",
        "(<Residue HOH het=W resseq=388 icode= >, ('W', 388, ' '), 'W')\n",
        "(<Residue HOH het=W resseq=389 icode= >, ('W', 389, ' '), 'W')\n",
        "(<Residue HOH het=W resseq=390 icode= >, ('W', 390, ' '), 'W')\n",
        "(<Residue HOH het=W resseq=391 icode= >, ('W', 391, ' '), 'W')\n",
        "(<Residue HOH het=W resseq=392 icode= >, ('W', 392, ' '), 'W')\n",
        "(<Residue HOH het=W resseq=393 icode= >, ('W', 393, ' '), 'W')\n",
        "(<Residue HOH het=W resseq=394 icode= >, ('W', 394, ' '), 'W')\n",
        "(<Residue HOH het=W resseq=395 icode= >, ('W', 395, ' '), 'W')\n",
        "(<Residue HOH het=W resseq=396 icode= >, ('W', 396, ' '), 'W')\n",
        "(<Residue HOH het=W resseq=397 icode= >, ('W', 397, ' '), 'W')\n",
        "(<Residue HOH het=W resseq=398 icode= >, ('W', 398, ' '), 'W')\n",
        "(<Residue HOH het=W resseq=399 icode= >, ('W', 399, ' '), 'W')\n",
        "(<Residue HOH het=W resseq=400 icode= >, ('W', 400, ' '), 'W')\n",
        "(<Residue HOH het=W resseq=401 icode= >, ('W', 401, ' '), 'W')\n",
        "(<Residue HOH het=W resseq=402 icode= >, ('W', 402, ' '), 'W')\n",
        "(<Residue HOH het=W resseq=403 icode= >, ('W', 403, ' '), 'W')\n",
        "(<Residue HOH het=W resseq=404 icode= >, ('W', 404, ' '), 'W')\n",
        "(<Residue HOH het=W resseq=405 icode= >, ('W', 405, ' '), 'W')\n",
        "(<Residue HOH het=W resseq=406 icode= >, ('W', 406, ' '), 'W')\n",
        "(<Residue HOH het=W resseq=407 icode= >, ('W', 407, ' '), 'W')\n",
        "(<Residue HOH het=W resseq=408 icode= >, ('W', 408, ' '), 'W')\n",
        "(<Residue HOH het=W resseq=409 icode= >, ('W', 409, ' '), 'W')\n",
        "(<Residue HOH het=W resseq=410 icode= >, ('W', 410, ' '), 'W')\n",
        "(<Residue HOH het=W resseq=411 icode= >, ('W', 411, ' '), 'W')\n",
        "(<Residue HOH het=W resseq=412 icode= >, ('W', 412, ' '), 'W')\n",
        "(<Residue HOH het=W resseq=413 icode= >, ('W', 413, ' '), 'W')\n",
        "(<Residue HOH het=W resseq=414 icode= >, ('W', 414, ' '), 'W')\n",
        "(<Residue HOH het=W resseq=415 icode= >, ('W', 415, ' '), 'W')\n",
        "(<Residue HOH het=W resseq=416 icode= >, ('W', 416, ' '), 'W')\n",
        "(<Residue HOH het=W resseq=417 icode= >, ('W', 417, ' '), 'W')\n",
        "(<Residue HOH het=W resseq=418 icode= >, ('W', 418, ' '), 'W')\n",
        "(<Residue HOH het=W resseq=419 icode= >, ('W', 419, ' '), 'W')\n",
        "(<Residue HOH het=W resseq=420 icode= >, ('W', 420, ' '), 'W')\n",
        "(<Residue HOH het=W resseq=421 icode= >, ('W', 421, ' '), 'W')\n",
        "(<Residue HOH het=W resseq=422 icode= >, ('W', 422, ' '), 'W')\n",
        "(<Residue HOH het=W resseq=423 icode= >, ('W', 423, ' '), 'W')\n",
        "(<Residue HOH het=W resseq=424 icode= >, ('W', 424, ' '), 'W')\n",
        "(<Residue HOH het=W resseq=425 icode= >, ('W', 425, ' '), 'W')\n",
        "(<Residue HOH het=W resseq=426 icode= >, ('W', 426, ' '), 'W')\n",
        "(<Residue HOH het=W resseq=427 icode= >, ('W', 427, ' '), 'W')\n",
        "(<Residue HOH het=W resseq=428 icode= >, ('W', 428, ' '), 'W')\n",
        "(<Residue HOH het=W resseq=429 icode= >, ('W', 429, ' '), 'W')\n",
        "(<Residue HOH het=W resseq=430 icode= >, ('W', 430, ' '), 'W')\n",
        "(<Residue HOH het=W resseq=431 icode= >, ('W', 431, ' '), 'W')\n"
       ]
      }
     ],
     "prompt_number": 14
    },
    {
     "cell_type": "code",
     "collapsed": false,
     "input": [
      "residuos = [ residuo for residuo in cadena_a if residuo.get_id()[0]==' ' ] # No son hetero-residuos (agua, ligandos, etc)"
     ],
     "language": "python",
     "metadata": {},
     "outputs": [],
     "prompt_number": 15
    },
    {
     "cell_type": "code",
     "collapsed": false,
     "input": [
      "type(residuos[0])"
     ],
     "language": "python",
     "metadata": {},
     "outputs": [
      {
       "metadata": {},
       "output_type": "pyout",
       "prompt_number": 16,
       "text": [
        "Bio.PDB.Residue.Residue"
       ]
      }
     ],
     "prompt_number": 16
    },
    {
     "cell_type": "code",
     "collapsed": false,
     "input": [
      "res_1 = residuos[0]\n",
      "res_2 = residuos[1]"
     ],
     "language": "python",
     "metadata": {},
     "outputs": [],
     "prompt_number": 17
    },
    {
     "cell_type": "code",
     "collapsed": false,
     "input": [
      "res_1"
     ],
     "language": "python",
     "metadata": {},
     "outputs": [
      {
       "metadata": {},
       "output_type": "pyout",
       "prompt_number": 18,
       "text": [
        "<Residue VAL het=  resseq=1 icode= >"
       ]
      }
     ],
     "prompt_number": 18
    },
    {
     "cell_type": "code",
     "collapsed": false,
     "input": [
      "for atomo in res_1:\n",
      "    print( atomo )"
     ],
     "language": "python",
     "metadata": {},
     "outputs": [
      {
       "output_type": "stream",
       "stream": "stdout",
       "text": [
        "<Atom N>\n",
        "<Atom CA>\n",
        "<Atom C>\n",
        "<Atom O>\n",
        "<Atom CB>\n",
        "<Atom CG1>\n",
        "<Atom CG2>\n"
       ]
      }
     ],
     "prompt_number": 19
    },
    {
     "cell_type": "code",
     "collapsed": false,
     "input": [
      "res_1['CA']"
     ],
     "language": "python",
     "metadata": {},
     "outputs": [
      {
       "metadata": {},
       "output_type": "pyout",
       "prompt_number": 20,
       "text": [
        "<Atom CA>"
       ]
      }
     ],
     "prompt_number": 20
    },
    {
     "cell_type": "code",
     "collapsed": false,
     "input": [
      "res_1['CA'].coord"
     ],
     "language": "python",
     "metadata": {},
     "outputs": [
      {
       "metadata": {},
       "output_type": "pyout",
       "prompt_number": 21,
       "text": [
        "array([ 47.17699814,  19.27199936,  50.19200134], dtype=float32)"
       ]
      }
     ],
     "prompt_number": 21
    },
    {
     "cell_type": "code",
     "collapsed": false,
     "input": [
      "res_2['CA'].coord"
     ],
     "language": "python",
     "metadata": {},
     "outputs": [
      {
       "metadata": {},
       "output_type": "pyout",
       "prompt_number": 22,
       "text": [
        "array([ 48.19400024,  19.11700058,  53.86000061], dtype=float32)"
       ]
      }
     ],
     "prompt_number": 22
    },
    {
     "cell_type": "code",
     "collapsed": false,
     "input": [
      "res_1['CA'].coord - res_2['CA'].coord"
     ],
     "language": "python",
     "metadata": {},
     "outputs": [
      {
       "metadata": {},
       "output_type": "pyout",
       "prompt_number": 23,
       "text": [
        "array([-1.01700211,  0.15499878, -3.66799927], dtype=float32)"
       ]
      }
     ],
     "prompt_number": 23
    },
    {
     "cell_type": "code",
     "collapsed": false,
     "input": [
      "import numpy as np"
     ],
     "language": "python",
     "metadata": {},
     "outputs": [],
     "prompt_number": 24
    },
    {
     "cell_type": "code",
     "collapsed": false,
     "input": [
      "( res_1['CA'].coord - res_2['CA'].coord )**2"
     ],
     "language": "python",
     "metadata": {},
     "outputs": [
      {
       "metadata": {},
       "output_type": "pyout",
       "prompt_number": 25,
       "text": [
        "array([  1.03429329,   0.02402462,  13.45421886], dtype=float32)"
       ]
      }
     ],
     "prompt_number": 25
    },
    {
     "cell_type": "code",
     "collapsed": false,
     "input": [
      "np.sqrt( np.sum( ( res_1['CA'].coord - res_2['CA'].coord )**2 ) )"
     ],
     "language": "python",
     "metadata": {},
     "outputs": [
      {
       "metadata": {},
       "output_type": "pyout",
       "prompt_number": 26,
       "text": [
        "3.8095324"
       ]
      }
     ],
     "prompt_number": 26
    },
    {
     "cell_type": "code",
     "collapsed": false,
     "input": [
      "res_1['CA'] - res_2['CA']"
     ],
     "language": "python",
     "metadata": {},
     "outputs": [
      {
       "metadata": {},
       "output_type": "pyout",
       "prompt_number": 27,
       "text": [
        "3.8095324"
       ]
      }
     ],
     "prompt_number": 27
    },
    {
     "cell_type": "code",
     "collapsed": false,
     "input": [
      "polipeptido_a = PDB.Polypeptide.Polypeptide(cadena_a)"
     ],
     "language": "python",
     "metadata": {},
     "outputs": [],
     "prompt_number": 28
    },
    {
     "cell_type": "code",
     "collapsed": false,
     "input": [
      "polipeptido_a.get_phi_psi_list()"
     ],
     "language": "python",
     "metadata": {},
     "outputs": [
      {
       "metadata": {},
       "output_type": "pyout",
       "prompt_number": 29,
       "text": [
        "[(None, 1.3765674266624874),\n",
        " (1.0318327139978001, 1.0245748945826672),\n",
        " (-1.1542115061999301, 2.9088581834562346),\n",
        " (-0.98460400011681548, -0.62067059209091391),\n",
        " (-1.1427197104246762, -0.71933704041409341),\n",
        " (-1.1558816194578903, -0.75005245881605742),\n",
        " (-1.0023436278004736, -0.80987037766246162),\n",
        " (-1.0010674828570132, -0.76723934703984353),\n",
        " (-1.1684157043444419, -0.78531972715980025),\n",
        " (-1.1923203922394403, -0.6307132592425474),\n",
        " (-1.1707866783586822, -0.58416785923645576),\n",
        " (-1.2096751714132929, -0.77978235910653004),\n",
        " (-1.0788421369326784, -0.78649692275846328),\n",
        " (-0.94914334534466549, -0.76732759820011676),\n",
        " (-1.0732862737443167, -0.86995418302227034),\n",
        " (-1.0511323614598151, -0.76669268301746807),\n",
        " (-0.98823642461446526, -0.86371029229008567),\n",
        " (0.92228402546683186, -2.374356548309561),\n",
        " (-1.0827443703701851, -0.14665363819419902),\n",
        " (-1.492314014286434, -0.11069408363637442),\n",
        " (-0.78508953950887761, -0.87408267421125796),\n",
        " (-1.077860776667692, -0.73036274063704332),\n",
        " (-1.1291340078818393, -0.6603041654269417),\n",
        " (-1.2475865066327849, -0.55571786344306673),\n",
        " (-1.1642080519473474, -0.64638053023917497),\n",
        " (-1.2176024487568948, -0.74241696350454733),\n",
        " (-1.0890014832393109, -0.68581067208428603),\n",
        " (-1.1438064799421068, -0.7184820660907798),\n",
        " (-1.0497918752248954, -0.826851547399164),\n",
        " (-1.0534237327327491, -0.75657566618814409),\n",
        " (-0.99326217968149255, -0.73011444925822488),\n",
        " (-1.1668806294231471, -0.82988313371231326),\n",
        " (-1.0637204070253998, -0.63409231091024187),\n",
        " (-1.3858509633164446, -0.6943046681254148),\n",
        " (-1.4181020523836938, -0.60109348913584892),\n",
        " (-2.222692674182944, 1.3932246479536843),\n",
        " (-0.90744448294665569, -0.45288907763171621),\n",
        " (-1.0454914860084408, -0.55880875310888145),\n",
        " (-1.1533430217420977, -0.35431768293530619),\n",
        " (-1.1066097814294344, -0.45174562331414153),\n",
        " (-1.1616094949344942, -0.13079715758553279),\n",
        " (-1.5793697184814812, -0.17365666415231304),\n",
        " (-2.2146949093083355, 0.9555673979902074),\n",
        " (-0.98078870030544152, -0.70880646648253864),\n",
        " (-1.4858173635449055, -0.080283782986936655),\n",
        " (-1.5519266318877345, 2.6214718919610496),\n",
        " (-1.647980864385957, 2.1562263279291773),\n",
        " (-1.7629734577087204, 0.21661367064640336),\n",
        " (-1.2164017644257592, 2.8497601754347746),\n",
        " (-1.0638704464182662, 2.4395800995099548),\n",
        " (1.4449699381224976, -0.019217558013253502),\n",
        " (-0.99955407086861847, 2.1035788523152688),\n",
        " (-1.1010113397929553, -0.47554049540551707),\n",
        " (-1.1993075033176388, -0.73566706395761183),\n",
        " (-1.1984475926863905, -0.63479918351562359),\n",
        " (-1.1096065907317427, -0.82905039974384154),\n",
        " (-1.0839319515436179, -0.64476822074561579),\n",
        " (-1.2634615389933672, -0.61151235055071196),\n",
        " (-0.98019953416188621, -0.69910005427130772),\n",
        " (-1.1574251432553588, -0.72469761301922897),\n",
        " (-1.083388700825586, -0.78893391509827537),\n",
        " (-1.0443853836265824, -0.87427483482369284),\n",
        " (-0.99611816539462561, -0.81073088571332619),\n",
        " (-1.0368976758855883, -0.67047394971413743),\n",
        " (-1.1410594944434391, -0.75696415220676938),\n",
        " (-1.1643902793703047, -0.58143631249481131),\n",
        " (-1.2952657335845441, -0.68192062855885982),\n",
        " (-1.1085358751396321, -0.55540250536547464),\n",
        " (-1.1985344443182515, -0.82954667221426537),\n",
        " (-1.2234771039283008, -0.53447459340516001),\n",
        " (-1.1808382334350489, -0.39144126449405181),\n",
        " (-2.2743799921494672, 0.73170563095272134),\n",
        " (-0.95406658964163837, -0.49411631327451766),\n",
        " (-1.4522581630402085, -0.037102351996761207),\n",
        " (-2.5453438207821106, 0.81748486219761662),\n",
        " (-1.0115904650004426, -0.70351785793761767),\n",
        " (-0.95255611372376936, -0.75782863306515402),\n",
        " (-1.193736854808704, -0.84124100683347702),\n",
        " (-1.0616907535837357, -0.70228262410296927),\n",
        " (-1.6308780767354198, 0.2017734491458571),\n",
        " (-0.86298888502316129, -1.13641111469745),\n",
        " (-0.98630746486535226, -0.54915258530136113),\n",
        " (-1.3141858902013375, -0.50303464669285658),\n",
        " (-1.1837426663779429, -0.76562992996599499),\n",
        " (-1.0344601620564247, -0.82419257078885166),\n",
        " (-1.0239909892752324, -0.96422515775563278),\n",
        " (-1.1709795688878613, -0.68615425826316567),\n",
        " (-1.4808026404553141, -0.98574983773416369),\n",
        " (-1.2250184504998365, -0.85342589829311732),\n",
        " (-1.4910929653867631, -0.93362955639599954),\n",
        " (-1.4395464973597722, -0.29071979108105611),\n",
        " (0.89159630309180082, 0.92738649556646469),\n",
        " (-1.3593632400640063, 2.170504241752552),\n",
        " (-1.0085641553306202, 2.2141625672045198),\n",
        " (-0.855300710150108, -0.70005677174836711),\n",
        " (-1.0081912610989212, -0.47918864780948617),\n",
        " (-1.1800110134650779, -0.45261538906842158),\n",
        " (-1.1561626114938917, -0.60778947352649826),\n",
        " (-1.1652862841972644, -0.7254770702460297),\n",
        " (-1.1165476557172038, -0.82522321059051873),\n",
        " (-1.1520195770218769, -0.75496220860124508),\n",
        " (-0.9545372532786548, -0.86125666771492071),\n",
        " (-0.95146435712870603, -0.73984413621956202),\n",
        " (-1.2223910416524157, -0.64373333318347858),\n",
        " (-1.0757704091859044, -0.74333272862502542),\n",
        " (-1.1424325489263019, -0.79608392365174796),\n",
        " (-1.0042119034497523, -0.73371352696586822),\n",
        " (-1.0988109972758497, -0.79773182397199438),\n",
        " (-1.1140742735839544, -0.74159014766954678),\n",
        " (-0.99929360682511392, -0.68717471476411407),\n",
        " (-1.3297306528858601, -0.1667703240409007),\n",
        " (-2.0583942669984303, -0.35593585025744662),\n",
        " (-2.0846774362060247, 1.1496768568496363),\n",
        " (-0.79429494511766463, -0.88840039676837756),\n",
        " (-1.2196808893070112, -0.8150543635470997),\n",
        " (-1.2408121476326701, -0.51398771797129994),\n",
        " (-1.3802402557169593, 1.0113745807276531),\n",
        " (-1.343032334623147, 2.8968675339895382),\n",
        " (-0.95402726110862823, -0.7079424318893246),\n",
        " (-1.13305198760502, -0.77171721335066745),\n",
        " (-1.1498060449411105, -0.66603628774153067),\n",
        " (-1.0664951275833929, -0.807449337492817),\n",
        " (-1.0792306161484424, -0.69343888689168098),\n",
        " (-1.1930770376501969, -0.69599754886260712),\n",
        " (-1.2315534658519154, -0.66307618094298992),\n",
        " (-1.045566678080091, -0.76776200799218919),\n",
        " (-1.2423279359996047, -0.5821600978092083),\n",
        " (-1.0976258238876546, -0.84540333423886926),\n",
        " (-1.1809450603656866, -0.55640115853827654),\n",
        " (-1.1924914763444026, -0.5902278931509215),\n",
        " (-1.1645902922604858, -0.83817268127609224),\n",
        " (-0.99981409803177668, -0.87333652501466441),\n",
        " (-1.0502598260462397, -0.73919611648065253),\n",
        " (-1.0915212235793899, -0.64080741756196657),\n",
        " (-1.2163042650418758, -0.71365809623557164),\n",
        " (-1.1868356114103176, -0.28035491704025978),\n",
        " (-1.9094075440345724, 0.041038602780958326),\n",
        " (-1.1018105018737032, -0.46505948430231159),\n",
        " (-1.1606786356134366, -0.23620842412788035),\n",
        " (-1.488464543955234, -0.28299200510738337),\n",
        " (-1.8115110370986316, None),\n",
        " (None, None),\n",
        " (None, None),\n",
        " (None, None),\n",
        " (None, None),\n",
        " (None, None),\n",
        " (None, None),\n",
        " (None, None),\n",
        " (None, None),\n",
        " (None, None),\n",
        " (None, None),\n",
        " (None, None),\n",
        " (None, None),\n",
        " (None, None),\n",
        " (None, None),\n",
        " (None, None),\n",
        " (None, None),\n",
        " (None, None),\n",
        " (None, None),\n",
        " (None, None),\n",
        " (None, None),\n",
        " (None, None),\n",
        " (None, None),\n",
        " (None, None),\n",
        " (None, None),\n",
        " (None, None),\n",
        " (None, None),\n",
        " (None, None),\n",
        " (None, None),\n",
        " (None, None),\n",
        " (None, None),\n",
        " (None, None),\n",
        " (None, None),\n",
        " (None, None),\n",
        " (None, None),\n",
        " (None, None),\n",
        " (None, None),\n",
        " (None, None),\n",
        " (None, None),\n",
        " (None, None),\n",
        " (None, None),\n",
        " (None, None),\n",
        " (None, None),\n",
        " (None, None),\n",
        " (None, None),\n",
        " (None, None),\n",
        " (None, None),\n",
        " (None, None),\n",
        " (None, None),\n",
        " (None, None),\n",
        " (None, None),\n",
        " (None, None),\n",
        " (None, None),\n",
        " (None, None),\n",
        " (None, None),\n",
        " (None, None),\n",
        " (None, None),\n",
        " (None, None),\n",
        " (None, None),\n",
        " (None, None),\n",
        " (None, None),\n",
        " (None, None),\n",
        " (None, None),\n",
        " (None, None),\n",
        " (None, None),\n",
        " (None, None),\n",
        " (None, None),\n",
        " (None, None),\n",
        " (None, None),\n",
        " (None, None),\n",
        " (None, None),\n",
        " (None, None),\n",
        " (None, None),\n",
        " (None, None),\n",
        " (None, None),\n",
        " (None, None),\n",
        " (None, None),\n",
        " (None, None),\n",
        " (None, None),\n",
        " (None, None),\n",
        " (None, None),\n",
        " (None, None),\n",
        " (None, None),\n",
        " (None, None),\n",
        " (None, None),\n",
        " (None, None),\n",
        " (None, None),\n",
        " (None, None),\n",
        " (None, None),\n",
        " (None, None),\n",
        " (None, None),\n",
        " (None, None),\n",
        " (None, None),\n",
        " (None, None),\n",
        " (None, None),\n",
        " (None, None),\n",
        " (None, None),\n",
        " (None, None),\n",
        " (None, None),\n",
        " (None, None),\n",
        " (None, None),\n",
        " (None, None),\n",
        " (None, None),\n",
        " (None, None),\n",
        " (None, None),\n",
        " (None, None),\n",
        " (None, None),\n",
        " (None, None),\n",
        " (None, None),\n",
        " (None, None),\n",
        " (None, None),\n",
        " (None, None),\n",
        " (None, None),\n",
        " (None, None),\n",
        " (None, None),\n",
        " (None, None),\n",
        " (None, None),\n",
        " (None, None),\n",
        " (None, None),\n",
        " (None, None),\n",
        " (None, None),\n",
        " (None, None),\n",
        " (None, None),\n",
        " (None, None),\n",
        " (None, None),\n",
        " (None, None),\n",
        " (None, None),\n",
        " (None, None),\n",
        " (None, None),\n",
        " (None, None),\n",
        " (None, None),\n",
        " (None, None),\n",
        " (None, None),\n",
        " (None, None),\n",
        " (None, None),\n",
        " (None, None),\n",
        " (None, None),\n",
        " (None, None)]"
       ]
      }
     ],
     "prompt_number": 29
    }
   ],
   "metadata": {}
  }
 ]
}