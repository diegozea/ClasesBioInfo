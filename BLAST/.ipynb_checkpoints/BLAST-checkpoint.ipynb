{
 "metadata": {
  "name": "",
  "signature": "sha256:5c2d6f20e20edff53c588f94c07629db7997612c657f5c67b69d7b28b184cf65"
 },
 "nbformat": 3,
 "nbformat_minor": 0,
 "worksheets": [
  {
   "cells": [
    {
     "cell_type": "heading",
     "level": 1,
     "metadata": {},
     "source": [
      "BLAST"
     ]
    },
    {
     "cell_type": "code",
     "collapsed": false,
     "input": [
      "from utils_notebook import *"
     ],
     "language": "python",
     "metadata": {},
     "outputs": [],
     "prompt_number": 1
    },
    {
     "cell_type": "code",
     "collapsed": false,
     "input": [
      "web(\"http://blast.ncbi.nlm.nih.gov/Blast.cgi\")"
     ],
     "language": "python",
     "metadata": {},
     "outputs": [
      {
       "html": [
        "<iframe src=\"http://blast.ncbi.nlm.nih.gov/Blast.cgi\"  width=100% height=500></iframe>"
       ],
       "metadata": {},
       "output_type": "pyout",
       "prompt_number": 2,
       "text": [
        "<IPython.core.display.HTML at 0x7fe847edef90>"
       ]
      }
     ],
     "prompt_number": 2
    },
    {
     "cell_type": "code",
     "collapsed": false,
     "input": [
      "wiki(\"BLAST\", modo=\"mobile\")"
     ],
     "language": "python",
     "metadata": {},
     "outputs": [
      {
       "html": [
        "<iframe src=\"http://en.mobile.wikipedia.org/wiki/BLAST\"  width=100% height=500></iframe>"
       ],
       "metadata": {},
       "output_type": "pyout",
       "prompt_number": 3,
       "text": [
        "<IPython.core.display.HTML at 0x7fe847ede410>"
       ]
      }
     ],
     "prompt_number": 3
    },
    {
     "cell_type": "code",
     "collapsed": false,
     "input": [
      "from Bio import SeqIO"
     ],
     "language": "python",
     "metadata": {},
     "outputs": [],
     "prompt_number": 4
    },
    {
     "cell_type": "code",
     "collapsed": false,
     "input": [
      "record = SeqIO.read(\"ejemplo/Sir_15_SP6.txt\",\"fasta\")"
     ],
     "language": "python",
     "metadata": {},
     "outputs": [],
     "prompt_number": 5
    },
    {
     "cell_type": "code",
     "collapsed": false,
     "input": [
      "from Bio.Blast import NCBIWWW"
     ],
     "language": "python",
     "metadata": {},
     "outputs": [],
     "prompt_number": 6
    },
    {
     "cell_type": "code",
     "collapsed": false,
     "input": [
      "help( NCBIWWW.qblast )"
     ],
     "language": "python",
     "metadata": {},
     "outputs": [
      {
       "output_type": "stream",
       "stream": "stdout",
       "text": [
        "Help on function qblast in module Bio.Blast.NCBIWWW:\n",
        "\n",
        "qblast(program, database, sequence, auto_format=None, composition_based_statistics=None, db_genetic_code=None, endpoints=None, entrez_query='(none)', expect=10.0, filter=None, gapcosts=None, genetic_code=None, hitlist_size=50, i_thresh=None, layout=None, lcase_mask=None, matrix_name=None, nucl_penalty=None, nucl_reward=None, other_advanced=None, perc_ident=None, phi_pattern=None, query_file=None, query_believe_defline=None, query_from=None, query_to=None, searchsp_eff=None, service=None, threshold=None, ungapped_alignment=None, word_size=None, alignments=500, alignment_view=None, descriptions=500, entrez_links_new_window=None, expect_low=None, expect_high=None, format_entrez_query=None, format_object=None, format_type='XML', ncbi_gi=None, results_file=None, show_overview=None, megablast=None)\n",
        "    Do a BLAST search using the QBLAST server at NCBI.\n",
        "    \n",
        "    Supports all parameters of the qblast API for Put and Get.\n",
        "    Some useful parameters:\n",
        "    program        blastn, blastp, blastx, tblastn, or tblastx (lower case)\n",
        "    database       Which database to search against (e.g. \"nr\").\n",
        "    sequence       The sequence to search.\n",
        "    ncbi_gi        TRUE/FALSE whether to give 'gi' identifier.\n",
        "    descriptions   Number of descriptions to show.  Def 500.\n",
        "    alignments     Number of alignments to show.  Def 500.\n",
        "    expect         An expect value cutoff.  Def 10.0.\n",
        "    matrix_name    Specify an alt. matrix (PAM30, PAM70, BLOSUM80, BLOSUM45).\n",
        "    filter         \"none\" turns off filtering.  Default no filtering\n",
        "    format_type    \"HTML\", \"Text\", \"ASN.1\", or \"XML\".  Def. \"XML\".\n",
        "    entrez_query   Entrez query to limit Blast search\n",
        "    hitlist_size   Number of hits to return. Default 50\n",
        "    megablast      TRUE/FALSE whether to use MEga BLAST algorithm (blastn only)\n",
        "    service        plain, psi, phi, rpsblast, megablast (lower case)\n",
        "    \n",
        "    This function does no checking of the validity of the parameters\n",
        "    and passes the values to the server as is.  More help is available at:\n",
        "    http://www.ncbi.nlm.nih.gov/BLAST/Doc/urlapi.html\n",
        "\n"
       ]
      }
     ],
     "prompt_number": 7
    },
    {
     "cell_type": "code",
     "collapsed": false,
     "input": [
      "with open(\"blastn.txt\",\"w\") as archivo:\n",
      "    resultado = NCBIWWW.qblast(\"blastn\", \"nr\", record.seq, format_type=\"Text\")\n",
      "    archivo.write( resultado.read() )\n",
      "    resultado.close()"
     ],
     "language": "python",
     "metadata": {},
     "outputs": [],
     "prompt_number": 8
    },
    {
     "cell_type": "code",
     "collapsed": false,
     "input": [
      "! head -40  blastn.txt | tail -20"
     ],
     "language": "python",
     "metadata": {},
     "outputs": [
      {
       "output_type": "stream",
       "stream": "stdout",
       "text": [
        "Length=1389\r\n",
        "\r\n",
        "\r\n",
        "                                                                   Score     E\r\n",
        "Sequences producing significant alignments:                       (Bits)  Value\r\n",
        "\r\n",
        "ref|XM_002366314.1|  Toxoplasma gondii ME49 NAD-dependent deac...   1683   0.0  \r\n",
        "dbj|AK318171.1|  Toxoplasma gondii cDNA, clone: XTG08308.2, fu...   1595   0.0  \r\n",
        "ref|XM_008883857.1|  Hammondia hammondi histone deacetylase SI...   1552   0.0  \r\n",
        "ref|XM_003884149.1|  Neospora caninum Liverpool putative NAD-d...    888   0.0  \r\n",
        "emb|FR823391.1|  Neospora caninum Liverpool complete genome, c...    282   7e-72\r\n",
        "emb|AJ429812.1|  Human immunodeficiency virus type 1 proviral ...  73.4    7e-09\r\n",
        "emb|AJ519510.1|  Bencomia exstipulata microsatellite DNA, clon...  71.6    2e-08\r\n",
        "emb|FN553439.1|  Uncultured archaeon partial mcrA gene for Met...  69.8    8e-08\r\n",
        "emb|FN553438.1|  Uncultured archaeon partial mcrA gene for Met...  69.8    8e-08\r\n",
        "emb|FN553436.1|  Uncultured archaeon partial mcrA gene for Met...  69.8    8e-08\r\n",
        "emb|FM252731.1|  Uncultured gamma proteobacterium partial 16S ...  69.8    8e-08\r\n",
        "emb|FM252549.1|  Uncultured alpha proteobacterium partial 16S ...  69.8    8e-08\r\n",
        "emb|FM252501.1|  Uncultured gamma proteobacterium partial 16S ...  69.8    8e-08\r\n",
        "emb|FM252406.1|  Uncultured alpha proteobacterium partial 16S ...  69.8    8e-08\r\n"
       ]
      }
     ],
     "prompt_number": 9
    },
    {
     "cell_type": "code",
     "collapsed": false,
     "input": [
      "seq = record.seq\n",
      "str(seq)"
     ],
     "language": "python",
     "metadata": {},
     "outputs": [
      {
       "metadata": {},
       "output_type": "pyout",
       "prompt_number": 10,
       "text": [
        "'AATTTAGGGGGGAAGATCTTCCAGTATTGGCTCGACCTGCAGGCGGCCGCGAATTCACTAGTGATTTTAATTAACTATCTCCTTTGCAGCGCCTTCACTGTTTGAGCCAACTGGCTCGCCCGCCCCTGAACAAACTTATCGCTGATACGGTTTGTTAGTCCTGTTGTCTCTAAGTTAACCTCAACAACTTTCGCACCACCACGCATCGCCCGATATGGCAAGTCAGAGGCAGGGCTGACAGAAGCGCTGGTCCCAACAACCAAAAGCAGGTCACACTTGTCCACTTCTCGATTCGCGTCCCGCACGGCGTTCGCTGGAATGCCTTCTCCAAACAGAATCACATCGGGTTTGAAGATTCCGCCACAAGCGCACTTCGGGGGAAGGTCCTTTGCGAAGTTTTCATCTTGCAGCATAGACTTGGAGAGACGCATTTTCTTCCCACATTGCCGGCACGTAGCAGAGAGAAGACTACCGTGGTACTCGATGACGTTGGTGGATCCCGAGTCCTGGTGAAGATTGTCAACGTTCTGCGTTACAATGAATTTCAGGTACCCAAGCCTCTGGAGATCTGTTAACGCCACATGCGCCGCATTCGGCATCGGGTCATTTGTCCTCAGGAAATCGAGGAGAAGCTCCCAGATCTTGTGAGGGTATCGCCAGAACCCCCAAATTGTCGCGTATACCGTCGGGTCATATTTCTTCCACAAGCCGTCAGAGGGATCGCGGAATGTCGGAATGCCACTTTCGGCAGAGACCCCCGCGCCGGTGAGAGCCACGACATATTTTGCCTTCCGAACGTCATCGGCGAGGTCTTCAAAAGAGATGAACGTCGTGTTTTTCTTCTGGAAAAATGTTGCAGCTTGCCCCATGTCGTCTCTCTGGTGGTAGTCACTTCCCGCAGGGTCTGTTTCCGGACATGAGGGAATCAGCTCTTTCACTTCCCATAAACTGAGTGCCACCAGACGATTCGAAGTTTGAAATGGAAGTAAAAAAAGGTGGCCGTTCTCTGTTTTCTCAAATGAAAGTTCCCTTTTTTAATCGGCTTGAAGCGTAAAGTTTCAAAACCCTCTCCGTAGGTACAGCCAACCAAGAAACTGGTTATGAAGGGCTTCAAAAAAGCCACCCAAGGGGGGAGACAAAAAAAAAAAACACAAAAAAAAACCAAGAAAGGGGTTTTATATTGAATTAATTTAAAAATTCCCCCGGGGGCCCCCCCCTTGGGGGGGGGGCGGAGGAGAAGTATTTGCCCCAACTCCGGGGGGCCCCCAATTTTTTCGCCCCTCTTAAAAAGAGGGGGGAATACTTATATTTATTAAAAATTATTCAATATGCGGGGGCCCGCCCGCTCGTGTTTTTTTTATTACTACCAATACGGTGTGCGCGGTGGAG'"
       ]
      }
     ],
     "prompt_number": 10
    },
    {
     "cell_type": "markdown",
     "metadata": {},
     "source": [
      "<img src=\"imagen_todo.png\" \\>"
     ]
    },
    {
     "cell_type": "code",
     "collapsed": false,
     "input": [
      "from Bio.SeqUtils import GC\n",
      "\n",
      "import numpy as np\n",
      "import matplotlib.pyplot as plt\n",
      "%matplotlib inline\n",
      "\n",
      "gc = np.zeros( len(seq) )\n",
      "w = 21 # Ventana\n",
      "c = 10 # Centro de la ventana: 11\n",
      "for i in range(0, len(seq) - w + 1):\n",
      "    gc[i+c] = GC(seq[i:i+w])\n",
      "\n",
      "plt.plot(gc);"
     ],
     "language": "python",
     "metadata": {},
     "outputs": [
      {
       "metadata": {},
       "output_type": "display_data",
       "png": "[encoded data removed]",
       "text": [
        "<matplotlib.figure.Figure at 0x7fe824de1b50>"
       ]
      }
     ],
     "prompt_number": 11
    },
    {
     "cell_type": "code",
     "collapsed": false,
     "input": [
      "def H(dna):\n",
      "    \"\"\"Entropia\"\"\"\n",
      "    N = len(dna)\n",
      "    suma = 0.0\n",
      "    for letra in \"ACTG\":\n",
      "        p = dna.count(letra) / float(N)\n",
      "        if p > 0:\n",
      "            suma += p * np.log2(p)\n",
      "    return( -1.0 * suma )"
     ],
     "language": "python",
     "metadata": {},
     "outputs": [],
     "prompt_number": 12
    },
    {
     "cell_type": "code",
     "collapsed": false,
     "input": [
      "for i in range(1,5):\n",
      "    sub = \"ACTG\"[0:i]\n",
      "    print(\"%s\\t%f\" % ( sub, H(sub) ) )"
     ],
     "language": "python",
     "metadata": {},
     "outputs": [
      {
       "output_type": "stream",
       "stream": "stdout",
       "text": [
        "A\t-0.000000\n",
        "AC\t1.000000\n",
        "ACT\t1.584963\n",
        "ACTG\t2.000000\n"
       ]
      }
     ],
     "prompt_number": 13
    },
    {
     "cell_type": "code",
     "collapsed": false,
     "input": [
      "bits = np.zeros( len(seq) )\n",
      "w = 41 # Ventana\n",
      "c = 20 # Centro de la ventana: 21\n",
      "for i in range(0, len(seq) - w + 1):\n",
      "    bits[i+c] = H(seq[i:i+w])\n",
      "\n",
      "plt.plot(bits);"
     ],
     "language": "python",
     "metadata": {},
     "outputs": [
      {
       "metadata": {},
       "output_type": "display_data",
       "png": "[encoded data removed]",
       "text": [
        "<matplotlib.figure.Figure at 0x7fe827986690>"
       ]
      }
     ],
     "prompt_number": 14
    },
    {
     "cell_type": "code",
     "collapsed": false,
     "input": [
      "import clases_anteriores"
     ],
     "language": "python",
     "metadata": {},
     "outputs": [],
     "prompt_number": 15
    },
    {
     "cell_type": "code",
     "collapsed": false,
     "input": [
      "clases_anteriores.choose_threshold(k=21)"
     ],
     "language": "python",
     "metadata": {},
     "outputs": [
      {
       "metadata": {},
       "output_type": "pyout",
       "prompt_number": 16,
       "text": [
        "0.47619047619047616"
       ]
      }
     ],
     "prompt_number": 16
    },
    {
     "cell_type": "code",
     "collapsed": false,
     "input": [
      "clases_anteriores.dotplot(seq, seq, 21, 0.476);"
     ],
     "language": "python",
     "metadata": {},
     "outputs": [
      {
       "metadata": {},
       "output_type": "display_data",
       "png": "[encoded data removed]",
       "text": [
        "<matplotlib.figure.Figure at 0x7fe84e538e90>"
       ]
      }
     ],
     "prompt_number": 17
    },
    {
     "cell_type": "code",
     "collapsed": false,
     "input": [
      "with open(\"blastn_trimmed.txt\",\"w\") as archivo:\n",
      "    resultado = NCBIWWW.qblast(\"blastn\", \"nr\", record.seq[200:900], format_type=\"Text\")\n",
      "    archivo.write( resultado.read() )\n",
      "    resultado.close()"
     ],
     "language": "python",
     "metadata": {},
     "outputs": [],
     "prompt_number": 18
    },
    {
     "cell_type": "code",
     "collapsed": false,
     "input": [
      "! head -40 blastn_trimmed.txt | tail -20"
     ],
     "language": "python",
     "metadata": {},
     "outputs": [
      {
       "output_type": "stream",
       "stream": "stdout",
       "text": [
        "Length=700\r\n",
        "\r\n",
        "\r\n",
        "                                                                   Score     E\r\n",
        "Sequences producing significant alignments:                       (Bits)  Value\r\n",
        "\r\n",
        "ref|XM_002366314.1|  Toxoplasma gondii ME49 NAD-dependent deac...   1258   0.0  \r\n",
        "ref|XM_008883857.1|  Hammondia hammondi histone deacetylase SI...   1195   0.0  \r\n",
        "dbj|AK318171.1|  Toxoplasma gondii cDNA, clone: XTG08308.2, fu...   1171   0.0  \r\n",
        "ref|XM_003884149.1|  Neospora caninum Liverpool putative NAD-d...    765   0.0  \r\n",
        "emb|FR823391.1|  Neospora caninum Liverpool complete genome, c...    282   4e-72\r\n",
        "gb|CP000769.1|  Anaeromyxobacter sp. Fw109-5, complete genome      69.8    4e-08\r\n",
        "gb|CP000473.1|  Solibacter usitatus Ellin6076, complete genome     66.2    5e-07\r\n",
        "dbj|AP014637.1|  Pseudomonas sp. StFLB209 DNA, complete genome     64.4    2e-06\r\n",
        "gb|CP006958.1|  Achromobacter xylosoxidans NBRC 15126 = ATCC 2...  64.4    2e-06\r\n",
        "emb|HE798385.1|  Achromobacter xylosoxidans NH44784-1996 compl...  64.4    2e-06\r\n",
        "ref|XM_008817388.1|  Plasmodium inui San Antonio 1 hypothetica...  60.8    2e-05\r\n",
        "gb|CP003382.1|  Deinococcus peraridilitoris DSM 19664, complet...  57.2    3e-04\r\n",
        "gb|CP002620.1|  Pseudomonas mendocina NK-01, complete genome       57.2    3e-04\r\n",
        "gb|CP002085.1|  Desulfarculus baarsii DSM 2075, complete genome    57.2    3e-04\r\n"
       ]
      }
     ],
     "prompt_number": 19
    },
    {
     "cell_type": "code",
     "collapsed": false,
     "input": [
      "str(seq[200:900])"
     ],
     "language": "python",
     "metadata": {},
     "outputs": [
      {
       "metadata": {},
       "output_type": "pyout",
       "prompt_number": 20,
       "text": [
        "'ACGCATCGCCCGATATGGCAAGTCAGAGGCAGGGCTGACAGAAGCGCTGGTCCCAACAACCAAAAGCAGGTCACACTTGTCCACTTCTCGATTCGCGTCCCGCACGGCGTTCGCTGGAATGCCTTCTCCAAACAGAATCACATCGGGTTTGAAGATTCCGCCACAAGCGCACTTCGGGGGAAGGTCCTTTGCGAAGTTTTCATCTTGCAGCATAGACTTGGAGAGACGCATTTTCTTCCCACATTGCCGGCACGTAGCAGAGAGAAGACTACCGTGGTACTCGATGACGTTGGTGGATCCCGAGTCCTGGTGAAGATTGTCAACGTTCTGCGTTACAATGAATTTCAGGTACCCAAGCCTCTGGAGATCTGTTAACGCCACATGCGCCGCATTCGGCATCGGGTCATTTGTCCTCAGGAAATCGAGGAGAAGCTCCCAGATCTTGTGAGGGTATCGCCAGAACCCCCAAATTGTCGCGTATACCGTCGGGTCATATTTCTTCCACAAGCCGTCAGAGGGATCGCGGAATGTCGGAATGCCACTTTCGGCAGAGACCCCCGCGCCGGTGAGAGCCACGACATATTTTGCCTTCCGAACGTCATCGGCGAGGTCTTCAAAAGAGATGAACGTCGTGTTTTTCTTCTGGAAAAATGTTGCAGCTTGCCCCATGTCGTCTCTCTGGTGGTAGTCACTTCCCGCA'"
       ]
      }
     ],
     "prompt_number": 20
    },
    {
     "cell_type": "markdown",
     "metadata": {},
     "source": [
      "<img src=\"image_trimmed.png\" \\>"
     ]
    },
    {
     "cell_type": "code",
     "collapsed": false,
     "input": [
      "str(seq[900:])"
     ],
     "language": "python",
     "metadata": {},
     "outputs": [
      {
       "metadata": {},
       "output_type": "pyout",
       "prompt_number": 21,
       "text": [
        "'GGGTCTGTTTCCGGACATGAGGGAATCAGCTCTTTCACTTCCCATAAACTGAGTGCCACCAGACGATTCGAAGTTTGAAATGGAAGTAAAAAAAGGTGGCCGTTCTCTGTTTTCTCAAATGAAAGTTCCCTTTTTTAATCGGCTTGAAGCGTAAAGTTTCAAAACCCTCTCCGTAGGTACAGCCAACCAAGAAACTGGTTATGAAGGGCTTCAAAAAAGCCACCCAAGGGGGGAGACAAAAAAAAAAAACACAAAAAAAAACCAAGAAAGGGGTTTTATATTGAATTAATTTAAAAATTCCCCCGGGGGCCCCCCCCTTGGGGGGGGGGCGGAGGAGAAGTATTTGCCCCAACTCCGGGGGGCCCCCAATTTTTTCGCCCCTCTTAAAAAGAGGGGGGAATACTTATATTTATTAAAAATTATTCAATATGCGGGGGCCCGCCCGCTCGTGTTTTTTTTATTACTACCAATACGGTGTGCGCGGTGGAG'"
       ]
      }
     ],
     "prompt_number": 21
    },
    {
     "cell_type": "markdown",
     "metadata": {},
     "source": [
      "<img src=\"imagen_final.png\" \\>  \n",
      "<img src=\"imagen_final2.png\" \\>"
     ]
    },
    {
     "cell_type": "code",
     "collapsed": false,
     "input": [
      "with open(\"blastn_filter.txt\",\"w\") as archivo:\n",
      "    resultado = NCBIWWW.qblast(\"blastn\", \"nr\", record.seq, format_type=\"Text\", filter=True)\n",
      "    archivo.write( resultado.read() )\n",
      "    resultado.close()"
     ],
     "language": "python",
     "metadata": {},
     "outputs": [],
     "prompt_number": 22
    },
    {
     "cell_type": "code",
     "collapsed": false,
     "input": [
      "! head -40 blastn_filter.txt | tail -20"
     ],
     "language": "python",
     "metadata": {},
     "outputs": [
      {
       "output_type": "stream",
       "stream": "stdout",
       "text": [
        "Length=1389\r\n",
        "\r\n",
        "\r\n",
        "                                                                   Score     E\r\n",
        "Sequences producing significant alignments:                       (Bits)  Value\r\n",
        "\r\n",
        "ref|XM_002366314.1|  Toxoplasma gondii ME49 NAD-dependent deac...   1671   0.0  \r\n",
        "dbj|AK318171.1|  Toxoplasma gondii cDNA, clone: XTG08308.2, fu...   1584   0.0  \r\n",
        "ref|XM_008883857.1|  Hammondia hammondi histone deacetylase SI...   1541   0.0  \r\n",
        "ref|XM_003884149.1|  Neospora caninum Liverpool putative NAD-d...    888   0.0  \r\n",
        "emb|FR823391.1|  Neospora caninum Liverpool complete genome, c...    282   7e-72\r\n",
        "emb|AJ429812.1|  Human immunodeficiency virus type 1 proviral ...  73.4    7e-09\r\n",
        "emb|AJ519510.1|  Bencomia exstipulata microsatellite DNA, clon...  71.6    2e-08\r\n",
        "emb|FN553439.1|  Uncultured archaeon partial mcrA gene for Met...  69.8    8e-08\r\n",
        "emb|FN553438.1|  Uncultured archaeon partial mcrA gene for Met...  69.8    8e-08\r\n",
        "emb|FN553436.1|  Uncultured archaeon partial mcrA gene for Met...  69.8    8e-08\r\n",
        "emb|FM252731.1|  Uncultured gamma proteobacterium partial 16S ...  69.8    8e-08\r\n",
        "emb|FM252549.1|  Uncultured alpha proteobacterium partial 16S ...  69.8    8e-08\r\n",
        "emb|FM252501.1|  Uncultured gamma proteobacterium partial 16S ...  69.8    8e-08\r\n",
        "emb|FM252406.1|  Uncultured alpha proteobacterium partial 16S ...  69.8    8e-08\r\n"
       ]
      }
     ],
     "prompt_number": 23
    },
    {
     "cell_type": "code",
     "collapsed": false,
     "input": [
      "with open(\"blastx.txt\",\"w\") as archivo:\n",
      "    resultado = NCBIWWW.qblast(\"blastx\", \"nr\", record.seq, format_type=\"Text\")\n",
      "    archivo.write( resultado.read() )\n",
      "    resultado.close()"
     ],
     "language": "python",
     "metadata": {},
     "outputs": [],
     "prompt_number": 24
    },
    {
     "cell_type": "code",
     "collapsed": false,
     "input": [
      "!head -40 blastx.txt | tail -20"
     ],
     "language": "python",
     "metadata": {},
     "outputs": [
      {
       "output_type": "stream",
       "stream": "stdout",
       "text": [
        "           49,282,817 sequences; 17,683,028,627 total letters\r\n",
        "Query= \r\n",
        "Length=1389\r\n",
        "\r\n",
        "\r\n",
        "                                                                   Score     E\r\n",
        "Sequences producing significant alignments:                       (Bits)  Value\r\n",
        "\r\n",
        "ref|XP_002366355.1|  NAD-dependent deacetylase, putative [Toxo...    577   0.0   \r\n",
        "gb|EPR62320.1|  histone deacetylase SIR2 [Toxoplasma gondii GT1]     577   0.0   \r\n",
        "ref|XP_008882079.1|  histone deacetylase SIR2 [Hammondia hammo...    564   0.0   \r\n",
        "ref|XP_003884198.1|  putative NAD-dependent deacetylase [Neosp...    491   8e-170\r\n",
        "emb|CDJ42555.1|  NAD-dependent deacetylase, putative [Eimeria ...    389   2e-129\r\n",
        "emb|CDJ65355.1|  NAD-dependent deacetylase, putative [Eimeria ...    386   2e-128\r\n",
        "emb|CDI74590.1|  NAD-dependent deacetylase, putative [Eimeria ...    378   3e-125\r\n",
        "emb|CDJ59951.1|  NAD-dependent deacetylase, putative [Eimeria ...    300   1e-95 \r\n",
        "ref|XP_729333.1|  transcriptional regulatory protein [Plasmodi...    287   5e-90 \r\n",
        "emb|CDR15841.1|  transcriptional regulatory protein sir2 homol...    286   7e-90 \r\n",
        "gb|EUD71620.1|  hypothetical protein YYG_03033 [Plasmodium vin...    286   1e-89 \r\n",
        "emb|CDS50742.1|  transcriptional regulatory protein sir2a [Pla...    286   1e-89 \r\n"
       ]
      }
     ],
     "prompt_number": 25
    },
    {
     "cell_type": "markdown",
     "metadata": {},
     "source": [
      "<img src=\"imagen_blastx.png\" \\>"
     ]
    },
    {
     "cell_type": "heading",
     "level": 1,
     "metadata": {},
     "source": [
      "Obteniendo las prote\u00ednas para un blastx local"
     ]
    },
    {
     "cell_type": "code",
     "collapsed": false,
     "input": [
      "web(\"http://www.ncbi.nlm.nih.gov/Taxonomy/Browser/wwwtax.cgi?id=5810\", alto=350)"
     ],
     "language": "python",
     "metadata": {},
     "outputs": [
      {
       "html": [
        "<iframe src=\"http://www.ncbi.nlm.nih.gov/Taxonomy/Browser/wwwtax.cgi?id=5810\"  width=100% height=350></iframe>"
       ],
       "metadata": {},
       "output_type": "pyout",
       "prompt_number": 26,
       "text": [
        "<IPython.core.display.HTML at 0x7fe82236c8d0>"
       ]
      }
     ],
     "prompt_number": 26
    },
    {
     "cell_type": "markdown",
     "metadata": {},
     "source": [
      "**[Obtener fasta con BioPython desde TaxID](https://www.biostars.org/p/17715/)**"
     ]
    },
    {
     "cell_type": "raw",
     "metadata": {},
     "source": [
      "from Bio import Entrez\n",
      "Entrez.email = 'example@gmail.com'\n",
      "\n",
      "basededatos = 'taxonomy'\n",
      "taxid = '5810'\n",
      "\n",
      "# Busco las especies\n",
      "busqueda = \"txid\" + str(taxid) + \"[Subtree]\"\n",
      "handle = Entrez.esearch(db=basededatos, term=busqueda, retmax=95000)\n",
      "especies = Entrez.read(handle)\n",
      "handle.close();"
     ]
    },
    {
     "cell_type": "raw",
     "metadata": {},
     "source": [
      "basededatos = 'protein'\n",
      "\n",
      "# Busco las proteinas por especies\n",
      "proteinas = []"
     ]
    },
    {
     "cell_type": "raw",
     "metadata": {},
     "source": [
      "#for taxid in especies['IdList']:\n",
      "#    busqueda = \"txid\" + str(taxid)\n",
      "#    handle = Entrez.esearch(db=basededatos, term=busqueda, retmax=95000)\n",
      "#    resultados = Entrez.read(handle)\n",
      "#    proteinas.extend(resultados['IdList'])\n",
      "#    handle.close()"
     ]
    },
    {
     "cell_type": "markdown",
     "metadata": {},
     "source": [
      "Tarda mucho tiempo en hacer las consultas y descargar los fasta, bajo para una sola especie: ```508771```  \n",
      "Pido todas las secuencias que se conozcan por curiosidad.  \n",
      "Pero podr\u00eda pedir s\u00f3lo las de [RefSeq](http://www.ncbi.nlm.nih.gov/refseq/) para tener mejores anotaciones y eliminar redundancia."
     ]
    },
    {
     "cell_type": "raw",
     "metadata": {},
     "source": [
      "busqueda = \"txid\" + str(508771) # Para pedir solo RefSeq: \"refseq[filter] AND txid\" + str(ncbiTaxId)\n",
      "handle = Entrez.esearch(db=basededatos, term=busqueda, retmax=17000)\n",
      "resultados = Entrez.read(handle)\n",
      "proteinas.extend(resultados['IdList'])\n",
      "handle.close()"
     ]
    },
    {
     "cell_type": "code",
     "collapsed": false,
     "input": [
      "web(\"http://www.ncbi.nlm.nih.gov/protein/?term=txid508771\")"
     ],
     "language": "python",
     "metadata": {},
     "outputs": [
      {
       "html": [
        "<iframe src=\"http://www.ncbi.nlm.nih.gov/protein/?term=txid508771\"  width=100% height=500></iframe>"
       ],
       "metadata": {},
       "output_type": "pyout",
       "prompt_number": 27,
       "text": [
        "<IPython.core.display.HTML at 0x7fe82236c150>"
       ]
      }
     ],
     "prompt_number": 27
    },
    {
     "cell_type": "raw",
     "metadata": {},
     "source": [
      "import time\n",
      "# Guardo los datos\n",
      "with open(\"toxo.fasta\",\"w\") as fh:\n",
      "    for ID in proteinas:\n",
      "        try:\n",
      "            fasta = Entrez.efetch(db=basededatos, id=ID, rettype='fasta')\n",
      "            fh.write( fasta.read() )\n",
      "            fasta.close()\n",
      "        except:\n",
      "            time.sleep(1)"
     ]
    },
    {
     "cell_type": "code",
     "collapsed": false,
     "input": [
      "!grep \">\" toxo.fasta | wc -l"
     ],
     "language": "python",
     "metadata": {},
     "outputs": [
      {
       "output_type": "stream",
       "stream": "stdout",
       "text": [
        "16372\r\n"
       ]
      }
     ],
     "prompt_number": 28
    },
    {
     "cell_type": "code",
     "collapsed": false,
     "input": [
      "! head toxo.fasta"
     ],
     "language": "python",
     "metadata": {},
     "outputs": [
      {
       "output_type": "stream",
       "stream": "stdout",
       "text": [
        ">gi|609412106|pdb|4CHM|D Chain D, Structure Of Inner Membrane Complex (imc) Sub-compartment Protein 1 (isp1) From Toxoplasma Gondii\r\n",
        "GSMASPQVTAADIEDLHRRLLAGMAVLVLLQDGTRLQCILHYNEADSSLSISCEDKVRVIPLSDIKALLH\r\n",
        "TRDQLQRVETKANLVDDESCVALHLLESGNCIPLRFDGVKDKTCFVDLLKKLKAAA\r\n",
        "\r\n",
        ">gi|609412105|pdb|4CHM|C Chain C, Structure Of Inner Membrane Complex (imc) Sub-compartment Protein 1 (isp1) From Toxoplasma Gondii\r\n",
        "GSMASPQVTAADIEDLHRRLLAGMAVLVLLQDGTRLQCILHYNEADSSLSISCEDKVRVIPLSDIKALLH\r\n",
        "TRDQLQRVETKANLVDDESCVALHLLESGNCIPLRFDGVKDKTCFVDLLKKLKAAA\r\n",
        "\r\n",
        ">gi|609412104|pdb|4CHM|B Chain B, Structure Of Inner Membrane Complex (imc) Sub-compartment Protein 1 (isp1) From Toxoplasma Gondii\r\n",
        "GSMASPQVTAADIEDLHRRLLAGMAVLVLLQDGTRLQCILHYNEADSSLSISCEDKVRVIPLSDIKALLH\r\n"
       ]
      }
     ],
     "prompt_number": 29
    },
    {
     "cell_type": "heading",
     "level": 1,
     "metadata": {},
     "source": [
      "Generando una base de datos local"
     ]
    },
    {
     "cell_type": "code",
     "collapsed": false,
     "input": [
      "! man formatdb | head -20"
     ],
     "language": "python",
     "metadata": {},
     "outputs": [
      {
       "output_type": "stream",
       "stream": "stdout",
       "text": [
        "FORMATDB(1)                                                                                NCBI Tools User's Manual                                                                                FORMATDB(1)\r\n",
        "\r\n",
        "\r\n",
        "\r\n",
        "NAME\r\n",
        "       formatdb - format protein or nucleotide databases for BLAST\r\n",
        "\r\n",
        "SYNOPSIS\r\n",
        "       formatdb [-] [-B filename] [-F filename] [-L filename] [-T filename] [-V] [-a] [-b] [-e] [-i filename] [-l filename] [-n str] [-o] [-p F] [-s] [-t str] [-v N]\r\n",
        "\r\n",
        "DESCRIPTION\r\n",
        "       formatdb  must  be used in order to format protein or nucleotide source databases before these databases can be searched by blastall, blastpgp or MegaBLAST. The source database may be in either FASTA\r\n",
        "       or ASN.1 format.  Although the FASTA format is most often used as input to formatdb, the use of ASN.1 is advantageous for those who are using ASN.1 as the common source for other formats such as  the\r\n",
        "       GenBank  report.  Once  a  source  database  file  has  been formatted by formatdb it is not needed by BLAST. Please note that if you are going to apply periodic updates to your BLAST databases using\r\n",
        "       fmerge(1), you will need to keep the source database file.\r\n",
        "\r\n",
        "OPTIONS\r\n",
        "       A summary of options is included below.\r\n",
        "\r\n",
        "       -      Print usage message\r\n"
       ]
      }
     ],
     "prompt_number": 30
    },
    {
     "cell_type": "raw",
     "metadata": {},
     "source": [
      "! formatdb -i toxo.fasta -n toxo"
     ]
    },
    {
     "cell_type": "code",
     "collapsed": false,
     "input": [
      "! ls -ltr toxo*"
     ],
     "language": "python",
     "metadata": {},
     "outputs": [
      {
       "output_type": "stream",
       "stream": "stdout",
       "text": [
        "-rw-r--r-- 1 dzea dzea 14363131 sep  7 01:26 toxo.fasta\r\n",
        "-rw-r--r-- 1 dzea dzea 12651529 sep  7 06:58 toxo.psq\r\n",
        "-rw-r--r-- 1 dzea dzea   131040 sep  7 06:58 toxo.pin\r\n",
        "-rw-r--r-- 1 dzea dzea  2538064 sep  7 06:58 toxo.phr\r\n"
       ]
      }
     ],
     "prompt_number": 31
    },
    {
     "cell_type": "heading",
     "level": 1,
     "metadata": {},
     "source": [
      "blastx local"
     ]
    },
    {
     "cell_type": "code",
     "collapsed": false,
     "input": [
      "# ! man blast"
     ],
     "language": "python",
     "metadata": {},
     "outputs": [],
     "prompt_number": 32
    },
    {
     "cell_type": "code",
     "collapsed": false,
     "input": [
      "# ! blastall -p blastx -i ./ejemplo/Sir_15_SP6.txt -d toxo -F \"S\" # -I \"200 900\""
     ],
     "language": "python",
     "metadata": {},
     "outputs": [],
     "prompt_number": 33
    },
    {
     "cell_type": "code",
     "collapsed": false,
     "input": [
      "! blastall -p blastx -i ./ejemplo/Sir_15_SP6.txt -d toxo -F \"S\" | head -65"
     ],
     "language": "python",
     "metadata": {},
     "outputs": [
      {
       "output_type": "stream",
       "stream": "stdout",
       "text": [
        "BLASTX 2.2.26 [Sep-21-2011]\r\n",
        "\r\n",
        "\r\n",
        "Reference: Altschul, Stephen F., Thomas L. Madden, Alejandro A. Schaffer, \r\n",
        "Jinghui Zhang, Zheng Zhang, Webb Miller, and David J. Lipman (1997), \r\n",
        "\"Gapped BLAST and PSI-BLAST: a new generation of protein database search\r\n",
        "programs\",  Nucleic Acids Res. 25:3389-3402.\r\n",
        "\r\n",
        "Query= 140811-04_O01_Sir_15_SP6.ab1\t1389\r\n",
        "         (1389 letters)\r\n",
        "\r\n",
        "Database: toxo \r\n",
        "           16,372 sequences; 12,635,156 total letters\r\n",
        "\r\n",
        "Searching..................................................done\r\n",
        "\r\n",
        "\r\n",
        "\r\n",
        "                                                                 Score    E\r\n",
        "Sequences producing significant alignments:                      (bits) Value\r\n",
        "\r\n",
        "gi|237834115|ref|XP_002366355.1| NAD-dependent deacetylase, puta...   561   0.0  \r\n",
        "gi|527310566|gb|EPT27201.1| histone deacetylase SIR2 [Toxoplasma...   561   0.0  \r\n",
        "gi|237839013|ref|XP_002368804.1| Sir2 domain-containing protein ...    47   3e-05\r\n",
        "gi|527310957|gb|EPT27588.1| histone deacetylase SIR2-like [Toxop...    47   3e-05\r\n",
        "gi|237842707|ref|XP_002370651.1| mitochondrial carrier domain-co...    33   0.45 \r\n",
        "gi|527308023|gb|EPT24662.1| carrier superfamily protein [Toxopla...    33   0.45 \r\n",
        "gi|237831301|ref|XP_002364948.1| insulysin, putative [Toxoplasma...    32   1.1  \r\n",
        "gi|527312603|gb|EPT29232.1| sporozoite developmental protein [To...    32   1.1  \r\n",
        "gi|237838653|ref|XP_002368624.1| hypothetical protein TGME49_064...    31   2.0  \r\n",
        "gi|527311137|gb|EPT27768.1| hypothetical protein TGME49_264950 [...    31   2.1  \r\n",
        "gi|237841321|ref|XP_002369958.1| hypothetical protein TGME49_021...    31   2.6  \r\n",
        "gi|527315350|gb|EPT31965.1| hypothetical protein TGME49_221280 [...    31   2.6  \r\n",
        "gi|237845007|ref|XP_002371801.1| hypothetical protein TGME49_011...    30   6.0  \r\n",
        "gi|527310182|gb|EPT26817.1| RAP domain-containing protein [Toxop...    30   6.0  \r\n",
        "\r\n",
        ">gi|237834115|ref|XP_002366355.1| NAD-dependent deacetylase,\r\n",
        "           putative [Toxoplasma gondii ME49]\r\n",
        "          Length = 360\r\n",
        "\r\n",
        " Score =  561 bits (1447), Expect = 0.0\r\n",
        " Identities = 275/277 (99%), Positives = 277/277 (100%)\r\n",
        " Frame = -2\r\n",
        "\r\n",
        "Query: 908 TDPAGSDYHQRDDMGQAATFFQKKNTTFISFEDLADDVRKAKYVVALTGAGVSAESGIPT 729\r\n",
        "           T+PAGSDYHQRDDMGQAAT+FQKKNTTFISFEDLADDVRKAKYVVALTGAGVSAESGIPT\r\n",
        "Sbjct: 84  TEPAGSDYHQRDDMGQAATYFQKKNTTFISFEDLADDVRKAKYVVALTGAGVSAESGIPT 143\r\n",
        "\r\n",
        "Query: 728 FRDPSDGLWKKYDPTVYATIWGFWRYPHKIWELLLDFLRTNDPMPNAAHVALTDLQRLGY 549\r\n",
        "           FRDPSDGLWKKYDPTVYATIWGFWRYPHKIWELLLDFLRTNDPMPNAAHVALTDLQRLGY\r\n",
        "Sbjct: 144 FRDPSDGLWKKYDPTVYATIWGFWRYPHKIWELLLDFLRTNDPMPNAAHVALTDLQRLGY 203\r\n",
        "\r\n",
        "Query: 548 LKFIVTQNVDNLHQDSGSTNVIEYHGSLLSATCRQCGKKMRLSKSMLQDENFAKDLPPKC 369\r\n",
        "           LKFIVTQNVDNLHQDSGSTNVIEYHGSLLSATCRQCGKKMRLSKSMLQDENFAKDLPPKC\r\n",
        "Sbjct: 204 LKFIVTQNVDNLHQDSGSTNVIEYHGSLLSATCRQCGKKMRLSKSMLQDENFAKDLPPKC 263\r\n",
        "\r\n",
        "Query: 368 ACGGIFKPDVILFGEGIPANAVRDANREVDKCDLLLVVGTSASVSPASDLPYRAMRGGAK 189\r\n",
        "           ACGGIFKPDVILFGEGIPANAVRDANREVDKCDLLLVVGTSASVSPASDLPYRAMRGGAK\r\n",
        "Sbjct: 264 ACGGIFKPDVILFGEGIPANAVRDANREVDKCDLLLVVGTSASVSPASDLPYRAMRGGAK 323\r\n",
        "\r\n",
        "Query: 188 VVEVNLETTGLTNRISDKFVQGRASQLAQTVKALQRR 78\r\n",
        "           VVEVNLETTGLTNRISDKFVQGRASQLAQTVKALQRR\r\n",
        "Sbjct: 324 VVEVNLETTGLTNRISDKFVQGRASQLAQTVKALQRR 360\r\n",
        "\r\n",
        "\r\n"
       ]
      }
     ],
     "prompt_number": 34
    },
    {
     "cell_type": "code",
     "collapsed": false,
     "input": [
      "web(\"http://www.ncbi.nlm.nih.gov/staff/tao/URLAPI/new/node80.html\")"
     ],
     "language": "python",
     "metadata": {},
     "outputs": [
      {
       "html": [
        "<iframe src=\"http://www.ncbi.nlm.nih.gov/staff/tao/URLAPI/new/node80.html\"  width=100% height=500></iframe>"
       ],
       "metadata": {},
       "output_type": "pyout",
       "prompt_number": 35,
       "text": [
        "<IPython.core.display.HTML at 0x7fe82236c590>"
       ]
      }
     ],
     "prompt_number": 35
    },
    {
     "cell_type": "code",
     "collapsed": false,
     "input": [
      "web(\"http://xkcd.com/293/\")"
     ],
     "language": "python",
     "metadata": {},
     "outputs": [
      {
       "html": [
        "<iframe src=\"http://xkcd.com/293/\"  width=100% height=500></iframe>"
       ],
       "metadata": {},
       "output_type": "pyout",
       "prompt_number": 36,
       "text": [
        "<IPython.core.display.HTML at 0x7fe82236cd10>"
       ]
      }
     ],
     "prompt_number": 36
    },
    {
     "cell_type": "heading",
     "level": 1,
     "metadata": {},
     "source": [
      "Filtros de organismos y complejidad en la web"
     ]
    },
    {
     "cell_type": "markdown",
     "metadata": {},
     "source": [
      "<img src=\"imagen_toxo_1.png\" \\>  \n",
      "<img src=\"imagen_toxo_2.png\" \\>  "
     ]
    },
    {
     "cell_type": "code",
     "collapsed": false,
     "input": [
      "web(\"http://www.ncbi.nlm.nih.gov/blast/html/blastcgihelp.html\")"
     ],
     "language": "python",
     "metadata": {},
     "outputs": [
      {
       "html": [
        "<iframe src=\"http://www.ncbi.nlm.nih.gov/blast/html/blastcgihelp.html\"  width=100% height=500></iframe>"
       ],
       "metadata": {},
       "output_type": "pyout",
       "prompt_number": 37,
       "text": [
        "<IPython.core.display.HTML at 0x7fe827572890>"
       ]
      }
     ],
     "prompt_number": 37
    },
    {
     "cell_type": "markdown",
     "metadata": {},
     "source": [
      "<img src=\"imagen_toxo_3.png\" \\>  "
     ]
    },
    {
     "cell_type": "code",
     "collapsed": false,
     "input": [],
     "language": "python",
     "metadata": {},
     "outputs": [],
     "prompt_number": 37
    }
   ],
   "metadata": {}
  }
 ]
}