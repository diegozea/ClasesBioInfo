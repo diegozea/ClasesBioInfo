{
 "metadata": {
  "name": ""
 },
 "nbformat": 3,
 "nbformat_minor": 0,
 "worksheets": [
  {
   "cells": [
    {
     "cell_type": "heading",
     "level": 1,
     "metadata": {},
     "source": [
      "B\u00fasqueda de codones de inicio en un archivo FASTA"
     ]
    },
    {
     "cell_type": "code",
     "collapsed": false,
     "input": [
      "from Bio import SeqIO\n",
      "from Bio.Data import CodonTable"
     ],
     "language": "python",
     "metadata": {},
     "outputs": [],
     "prompt_number": 1
    },
    {
     "cell_type": "code",
     "collapsed": false,
     "input": [
      "def buscar(secuencia,codon):\n",
      "    \"\"\"(seq,str) -> list\n",
      "    Dada una secuencia y un codon\n",
      "    Retorna la lista de indices en los cuales comienza ese codon en la secuencia\n",
      "    \n",
      "    >>> buscar(\"ATGCATG\",\"ATG\")\n",
      "    [0, 4]\n",
      "    \"\"\"\n",
      "    lista = []\n",
      "    indice = 0\n",
      "    while indice < len(secuencia):\n",
      "        pos = secuencia.find(codon,indice)\n",
      "        if pos == -1 :\n",
      "            break\n",
      "        indice = pos + 1\n",
      "        lista.append(pos)\n",
      "    return( lista )"
     ],
     "language": "python",
     "metadata": {},
     "outputs": [],
     "prompt_number": 2
    },
    {
     "cell_type": "code",
     "collapsed": false,
     "input": [
      "buscar(\"ATGCATG\",\"ATG\")"
     ],
     "language": "python",
     "metadata": {},
     "outputs": [
      {
       "metadata": {},
       "output_type": "pyout",
       "prompt_number": 3,
       "text": [
        "[0, 4]"
       ]
      }
     ],
     "prompt_number": 3
    },
    {
     "cell_type": "code",
     "collapsed": false,
     "input": [
      "def buscar_starts(archivo, id=11):\n",
      "    \"\"\"(str,int) -> (list,list)\n",
      "    Dado un archivo FASTA, con un record, busca las posiciones de comienzo de los codones de start\n",
      "    Retorna dos listas:\n",
      "    La primera con las posiciones en la que inician los codones en la cadena sentido\n",
      "    La segunda con las posiciones en que inician los codones en la cadena antisentido (segun la numeracion de la cadena sentido)\n",
      "    WARNING: Si hay mas de un record en el archivo, los resultados de las multiples cadenas se mezclaran\n",
      "    \"\"\"\n",
      "    # Inicializo las listas\n",
      "    sentido = []\n",
      "    antisentido = []\n",
      "    # Obtengo la tabla de codones\n",
      "    tabla = CodonTable.unambiguous_dna_by_id[ id ]\n",
      "    # Ejecuto para cada record del archivo\n",
      "    for seqrec in SeqIO.parse( archivo ,\"fasta\"):\n",
      "        # Obtengo la secuencia reversa complementaria\n",
      "        rc = seqrec.seq.reverse_complement()\n",
      "        # Ejecuto la busqueda para cada codon de inicio de la tabla de codones\n",
      "        for codon in tabla.start_codons:\n",
      "            # Busco los codones con la funcion definida anteriormente\n",
      "            sentido.extend( buscar(seqrec.seq, codon) )\n",
      "            antisentido.extend( buscar(rc, codon) )\n",
      "    # list-comprehensions para pasar las posiciones de la reversa complementaria a la sentido\n",
      "    return( sentido, [ ( len(rc) -1 ) - pos for pos in antisentido ] )\n",
      "            "
     ],
     "language": "python",
     "metadata": {},
     "outputs": [],
     "prompt_number": 4
    },
    {
     "cell_type": "markdown",
     "metadata": {},
     "source": [
      "Para m\u00e1s informaci\u00f3n en [list comprehensions](https://docs.python.org/2/tutorial/datastructures.html#list-comprehensions)"
     ]
    },
    {
     "cell_type": "code",
     "collapsed": false,
     "input": [
      "posiciones = buscar_starts(\"sequence.fasta\")\n",
      "posiciones[1][:10]"
     ],
     "language": "python",
     "metadata": {},
     "outputs": [
      {
       "metadata": {},
       "output_type": "pyout",
       "prompt_number": 5,
       "text": [
        "[1664910,\n",
        " 1664821,\n",
        " 1664799,\n",
        " 1664789,\n",
        " 1664774,\n",
        " 1664737,\n",
        " 1664713,\n",
        " 1664664,\n",
        " 1664638,\n",
        " 1664605]"
       ]
      }
     ],
     "prompt_number": 5
    },
    {
     "cell_type": "heading",
     "level": 1,
     "metadata": {},
     "source": [
      "Conteo de k-mers en un archivo FASTA"
     ]
    },
    {
     "cell_type": "markdown",
     "metadata": {},
     "source": [
      "Tambien pueden ver la implementaci\u00f3n de [Python for Biologists](http://pythonforbiologists.com/index.php/kmer-counting-business-card/)"
     ]
    },
    {
     "cell_type": "code",
     "collapsed": false,
     "input": [
      "from Bio.Seq import Seq\n",
      "from Bio.Alphabet import IUPAC\n",
      "seq = Seq(\"ATGCATG\", IUPAC.unambiguous_dna)"
     ],
     "language": "python",
     "metadata": {},
     "outputs": [],
     "prompt_number": 6
    },
    {
     "cell_type": "code",
     "collapsed": false,
     "input": [
      "def kmer_count(archivo,k=3):\n",
      "    \"\"\"(str,int) -> dict\n",
      "    Dado un archivo FASTA genera un diccionario con la frecuencia de k-mers\n",
      "    \"\"\"\n",
      "    contador = {}\n",
      "    for seqrec in SeqIO.parse( archivo ,\"fasta\"):\n",
      "        seq = str( seqrec.seq )\n",
      "        for pos in range(0,len(seq)-k+1):\n",
      "            sub = seq[pos:pos+k]\n",
      "            if sub in contador:\n",
      "                contador[ sub ] += 1\n",
      "            else:\n",
      "                contador[ sub ]  = 1\n",
      "    return( contador )\n",
      "    "
     ],
     "language": "python",
     "metadata": {},
     "outputs": [],
     "prompt_number": 7
    },
    {
     "cell_type": "code",
     "collapsed": false,
     "input": [
      "contador = kmer_count(\"sequence.fasta\")"
     ],
     "language": "python",
     "metadata": {},
     "outputs": [],
     "prompt_number": 8
    },
    {
     "cell_type": "code",
     "collapsed": false,
     "input": [
      "contador.items()[:10]"
     ],
     "language": "python",
     "metadata": {},
     "outputs": [
      {
       "metadata": {},
       "output_type": "pyout",
       "prompt_number": 9,
       "text": [
        "[('ACC', 12731),\n",
        " ('NAA', 1),\n",
        " ('CCY', 1),\n",
        " ('AGG', 19393),\n",
        " ('CCT', 18757),\n",
        " ('AGC', 18862),\n",
        " ('AGA', 39295),\n",
        " ('GSG', 1),\n",
        " ('CCG', 2807),\n",
        " ('AGT', 23069)]"
       ]
      }
     ],
     "prompt_number": 9
    },
    {
     "cell_type": "heading",
     "level": 1,
     "metadata": {},
     "source": [
      "Guardando los Resultados en Archivos de Texto"
     ]
    },
    {
     "cell_type": "markdown",
     "metadata": {},
     "source": [
      "Las posiciones est\u00e1n almacenadas en un objeto de tipo *tuple* con **dos elementos**, los cuales corresponden a dos objetos de tipo *list* que contienen valores del tipo *int*. La primera lista es la cadena **sentido**, mientras que la segunda es la **antisentido**."
     ]
    },
    {
     "cell_type": "code",
     "collapsed": false,
     "input": [
      "print( type(posiciones) )\n",
      "print( type(posiciones[0]) )\n",
      "print( type(posiciones[0][0]) )"
     ],
     "language": "python",
     "metadata": {},
     "outputs": [
      {
       "output_type": "stream",
       "stream": "stdout",
       "text": [
        "<type 'tuple'>\n",
        "<type 'list'>\n",
        "<type 'int'>\n"
       ]
      }
     ],
     "prompt_number": 10
    },
    {
     "cell_type": "markdown",
     "metadata": {},
     "source": [
      "Guardaremos esto en un s\u00f3lo archivo, en al carpeta de trabajo, que tenga por nombre **starts.txt**\n",
      "El archivo contendr\u00e1 dos columnas. La primera indicando si es una posici\u00f3n de la cadena *sentido* o *antisentido*. La segunda columna, separando con *tab*, tendr\u00e1 la posici\u00f3n del cod\u00f3n de start."
     ]
    },
    {
     "cell_type": "markdown",
     "metadata": {},
     "source": [
      "Primero [abrimos el archivo](https://docs.python.org/2/tutorial/inputoutput.html#reading-and-writing-files) en modo escritura (**```w```**) usando la funci\u00f3n **```open()```**"
     ]
    },
    {
     "cell_type": "code",
     "collapsed": false,
     "input": [
      "archivo = open(\"starts.txt\", \"w\")"
     ],
     "language": "python",
     "metadata": {},
     "outputs": [],
     "prompt_number": 11
    },
    {
     "cell_type": "code",
     "collapsed": false,
     "input": [
      "type( archivo )"
     ],
     "language": "python",
     "metadata": {},
     "outputs": [
      {
       "metadata": {},
       "output_type": "pyout",
       "prompt_number": 12,
       "text": [
        "file"
       ]
      }
     ],
     "prompt_number": 12
    },
    {
     "cell_type": "code",
     "collapsed": false,
     "input": [
      "print( archivo )"
     ],
     "language": "python",
     "metadata": {},
     "outputs": [
      {
       "output_type": "stream",
       "stream": "stdout",
       "text": [
        "<open file 'starts.txt', mode 'w' at 0x7f0b2c068f60>\n"
       ]
      }
     ],
     "prompt_number": 13
    },
    {
     "cell_type": "markdown",
     "metadata": {},
     "source": [
      "Ahora vamos a iterar sobre cada una de las listas. Los \u00edndices dentro de la tupla son ```0``` para la lista de la cadena sentido, ```1``` para la antisentido. Esas listas las podemos recorrer completas con un **```for```**. Para guardar una l\u00ednea de texto en el archivo que abrimos usaremos el m\u00e9todo **```write()```** de la clase **```file```**. La cadena **```str```** que queremos imprimir la generamos sumando peque\u00f1as cadenas. Usaremos **```\\t```** para indicar un tab y **```\\n```** para indicar nueva l\u00ednea."
     ]
    },
    {
     "cell_type": "code",
     "collapsed": false,
     "input": [
      "for pos in posiciones[0]:\n",
      "    archivo.write( \"sentido\\t\" + str(pos) + \"\\n\" )"
     ],
     "language": "python",
     "metadata": {},
     "outputs": [],
     "prompt_number": 14
    },
    {
     "cell_type": "code",
     "collapsed": false,
     "input": [
      "for pos in posiciones[1]:\n",
      "    archivo.write( \"antisentido\\t\" + str(pos) + \"\\n\" )"
     ],
     "language": "python",
     "metadata": {},
     "outputs": [],
     "prompt_number": 15
    },
    {
     "cell_type": "markdown",
     "metadata": {},
     "source": [
      "Una vez guardadas las l\u00edneas, tenemos que cerrar el archivo usando el m\u00e9todo **```close```** para que el contenido se guarde."
     ]
    },
    {
     "cell_type": "code",
     "collapsed": false,
     "input": [
      "archivo.close()"
     ],
     "language": "python",
     "metadata": {},
     "outputs": [],
     "prompt_number": 16
    },
    {
     "cell_type": "markdown",
     "metadata": {},
     "source": [
      "Estando en Ubuntu, es f\u00e1cil ejecutar un peque\u00f1o **comando de la terminal** desde IPython, s\u00f3lo hay que escribir **```!```** antes de escribir el comando que usamos en la terminal. Por ejemplo podemos usar **```head```** y **```tail```** para ver si nuestro archivo esta correcto."
     ]
    },
    {
     "cell_type": "code",
     "collapsed": false,
     "input": [
      "! head -2 starts.txt"
     ],
     "language": "python",
     "metadata": {},
     "outputs": [
      {
       "output_type": "stream",
       "stream": "stdout",
       "text": [
        "sentido\t19\r\n",
        "sentido\t63\r\n"
       ]
      }
     ],
     "prompt_number": 17
    },
    {
     "cell_type": "code",
     "collapsed": false,
     "input": [
      "! tail -2 starts.txt"
     ],
     "language": "python",
     "metadata": {},
     "outputs": [
      {
       "output_type": "stream",
       "stream": "stdout",
       "text": [
        "antisentido\t841\r\n",
        "antisentido\t709\r\n"
       ]
      }
     ],
     "prompt_number": 18
    },
    {
     "cell_type": "markdown",
     "metadata": {},
     "source": [
      "Una cosa \u00fatil que podemos chequear es si la cantidad de l\u00edneas del archivo es la deseada:"
     ]
    },
    {
     "cell_type": "code",
     "collapsed": false,
     "input": [
      "len(posiciones[0]) + len(posiciones[1])"
     ],
     "language": "python",
     "metadata": {},
     "outputs": [
      {
       "metadata": {},
       "output_type": "pyout",
       "prompt_number": 19,
       "text": [
        "493438"
       ]
      }
     ],
     "prompt_number": 19
    },
    {
     "cell_type": "code",
     "collapsed": false,
     "input": [
      "! wc -l starts.txt"
     ],
     "language": "python",
     "metadata": {},
     "outputs": [
      {
       "output_type": "stream",
       "stream": "stdout",
       "text": [
        "493438 starts.txt\r\n"
       ]
      }
     ],
     "prompt_number": 20
    },
    {
     "cell_type": "heading",
     "level": 4,
     "metadata": {},
     "source": [
      "Guardando el contenido del diccionario de codones"
     ]
    },
    {
     "cell_type": "markdown",
     "metadata": {},
     "source": [
      "Otra cosa \u00fatil ser\u00eda guardar el diccionario de codones, tambi\u00e9n en un formato de dos columnas separadas por tabs. Pero de manera de s\u00f3lo incluir el conteo de los codones que no contienen ambig\u00fcedades de IUPAC. Podemos usar conjuntos (**```set```**)"
     ]
    },
    {
     "cell_type": "code",
     "collapsed": false,
     "input": [
      "set(IUPAC.ambiguous_dna.letters)"
     ],
     "language": "python",
     "metadata": {},
     "outputs": [
      {
       "metadata": {},
       "output_type": "pyout",
       "prompt_number": 21,
       "text": [
        "{'A', 'B', 'C', 'D', 'G', 'H', 'K', 'M', 'N', 'R', 'S', 'T', 'V', 'W', 'Y'}"
       ]
      }
     ],
     "prompt_number": 21
    },
    {
     "cell_type": "code",
     "collapsed": false,
     "input": [
      "set(IUPAC.unambiguous_dna.letters)"
     ],
     "language": "python",
     "metadata": {},
     "outputs": [
      {
       "metadata": {},
       "output_type": "pyout",
       "prompt_number": 22,
       "text": [
        "{'A', 'C', 'G', 'T'}"
       ]
      }
     ],
     "prompt_number": 22
    },
    {
     "cell_type": "code",
     "collapsed": false,
     "input": [
      "ambiguas = set.difference( set(IUPAC.ambiguous_dna.letters), set(IUPAC.unambiguous_dna.letters) )"
     ],
     "language": "python",
     "metadata": {},
     "outputs": [],
     "prompt_number": 23
    },
    {
     "cell_type": "markdown",
     "metadata": {},
     "source": [
      "Los diccionarios tiene maneras especiales de ser iteradas. Un de ellas es usar el m\u00e9todo **```iteritems()```** que retorna en cada vuelta del *loop* **```for```** una tupla conteniendo una *key* y un *value* del diccionario."
     ]
    },
    {
     "cell_type": "code",
     "collapsed": false,
     "input": [
      "contador.iteritems()"
     ],
     "language": "python",
     "metadata": {},
     "outputs": [
      {
       "metadata": {},
       "output_type": "pyout",
       "prompt_number": 24,
       "text": [
        "<dictionary-itemiterator at 0x7f0b2c03f158>"
       ]
      }
     ],
     "prompt_number": 24
    },
    {
     "cell_type": "code",
     "collapsed": false,
     "input": [
      "for item in contador.iteritems():\n",
      "    if len( ambiguas.intersection( set( item[0] ) ) ) == 0:\n",
      "        print item\n",
      "        break # Imprimo solo el primero, y salgo del loop, para evitar llenar la pantalla"
     ],
     "language": "python",
     "metadata": {},
     "outputs": [
      {
       "output_type": "stream",
       "stream": "stdout",
       "text": [
        "('ACC', 12731)\n"
       ]
      }
     ],
     "prompt_number": 25
    },
    {
     "cell_type": "markdown",
     "metadata": {},
     "source": [
      "Una manera de poder abrir un archivo, dejando que *Python* se encargue de cerrarlo cuando terminamos de usarlo, o si surge alg\u00fan error, es usando la sentencia **```with```** junto a **```open```**. Es la manera recomendada para abrir archivos. Ac\u00e1 la vamos a usar para abrir el archivo **codones.txt** en modo escritura (**```w```**)."
     ]
    },
    {
     "cell_type": "code",
     "collapsed": false,
     "input": [
      "with open(\"codones.txt\", \"w\") as archivo:\n",
      "    for llave, valor in contador.iteritems():\n",
      "        if len( ambiguas.intersection( set( llave ) ) ) == 0:\n",
      "            archivo.write( llave + \"\\t\" + str(valor) + \"\\n\" )"
     ],
     "language": "python",
     "metadata": {},
     "outputs": [],
     "prompt_number": 26
    },
    {
     "cell_type": "code",
     "collapsed": false,
     "input": [
      "! head codones.txt"
     ],
     "language": "python",
     "metadata": {},
     "outputs": [
      {
       "output_type": "stream",
       "stream": "stdout",
       "text": [
        "ACC\t12731\r\n",
        "AGG\t19393\r\n",
        "CCT\t18757\r\n",
        "AGC\t18862\r\n",
        "AGA\t39295\r\n",
        "CCG\t2807\r\n",
        "AGT\t23069\r\n",
        "CCA\t22867\r\n",
        "CCC\t10914\r\n",
        "TAT\t59194\r\n"
       ]
      }
     ],
     "prompt_number": 27
    },
    {
     "cell_type": "code",
     "collapsed": false,
     "input": [
      "! wc -l codones.txt"
     ],
     "language": "python",
     "metadata": {},
     "outputs": [
      {
       "output_type": "stream",
       "stream": "stdout",
       "text": [
        "64 codones.txt\r\n"
       ]
      }
     ],
     "prompt_number": 28
    },
    {
     "cell_type": "code",
     "collapsed": false,
     "input": [],
     "language": "python",
     "metadata": {},
     "outputs": []
    }
   ],
   "metadata": {}
  }
 ]
}