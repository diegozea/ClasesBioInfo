{
 "metadata": {
  "name": ""
 },
 "nbformat": 3,
 "nbformat_minor": 0,
 "worksheets": [
  {
   "cells": [
    {
     "cell_type": "code",
     "collapsed": false,
     "input": [
      "alumnos = [ \"Tom\u00e1s\",\"Josefina\", \"Michay\", \"Andr\u00e9s\", \"Leonel\", \"Gabriela\", \"Soledad\" ]"
     ],
     "language": "python",
     "metadata": {},
     "outputs": [],
     "prompt_number": 21
    },
    {
     "cell_type": "code",
     "collapsed": false,
     "input": [
      "import random"
     ],
     "language": "python",
     "metadata": {},
     "outputs": [],
     "prompt_number": 22
    },
    {
     "cell_type": "markdown",
     "metadata": {},
     "source": [
      "*mammals.csv*     contiene los datos de peso del cerebro y el cuerpo de 62 especies de mam\u00edferos terrestres.  \n",
      "*Animals2.csv*    contiene los datos de peso del cerebro y el cuerpo de 65 animales terrestres."
     ]
    },
    {
     "cell_type": "code",
     "collapsed": false,
     "input": [
      "tareas = [ \"mammals.csv\", \"Animals2.csv\" ]"
     ],
     "language": "python",
     "metadata": {},
     "outputs": [],
     "prompt_number": 23
    },
    {
     "cell_type": "code",
     "collapsed": false,
     "input": [
      "random.sample(tareas,1)"
     ],
     "language": "python",
     "metadata": {},
     "outputs": [
      {
       "metadata": {},
       "output_type": "pyout",
       "prompt_number": 24,
       "text": [
        "['Animals2.csv']"
       ]
      }
     ],
     "prompt_number": 24
    },
    {
     "cell_type": "code",
     "collapsed": false,
     "input": [
      "asignacion = {}"
     ],
     "language": "python",
     "metadata": {},
     "outputs": [],
     "prompt_number": 25
    },
    {
     "cell_type": "code",
     "collapsed": false,
     "input": [
      "for alumno in alumnos:\n",
      "    asignacion[alumno] = random.sample(tareas,1)"
     ],
     "language": "python",
     "metadata": {},
     "outputs": [],
     "prompt_number": 26
    },
    {
     "cell_type": "code",
     "collapsed": false,
     "input": [
      "asignacion"
     ],
     "language": "python",
     "metadata": {},
     "outputs": [
      {
       "metadata": {},
       "output_type": "pyout",
       "prompt_number": 27,
       "text": [
        "{'Andr\\xc3\\xa9s': ['Animals2.csv'],\n",
        " 'Gabriela': ['mammals.csv'],\n",
        " 'Josefina': ['Animals2.csv'],\n",
        " 'Leonel': ['mammals.csv'],\n",
        " 'Michay': ['mammals.csv'],\n",
        " 'Soledad': ['Animals2.csv'],\n",
        " 'Tom\\xc3\\xa1s': ['mammals.csv']}"
       ]
      }
     ],
     "prompt_number": 27
    },
    {
     "cell_type": "heading",
     "level": 4,
     "metadata": {},
     "source": [
      "Tarea"
     ]
    },
    {
     "cell_type": "markdown",
     "metadata": {},
     "source": [
      "Dado uno de los archivos, deben entregar una notebook donde lean el archivo usando pandas, y realicen al menos un gr\u00e1fico. Cualquier observaci\u00f3n interesante que puedan hacer, ser\u00e1 bienvenida en el puntaje del ejercicio. Deben contestar adem\u00e1s la siguiente pregunta: \u00bfEst\u00e1n correlacionadas las variables?"
     ]
    },
    {
     "cell_type": "code",
     "collapsed": false,
     "input": [],
     "language": "python",
     "metadata": {},
     "outputs": []
    }
   ],
   "metadata": {}
  }
 ]
}