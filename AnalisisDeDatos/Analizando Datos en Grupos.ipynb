{
 "metadata": {
  "name": ""
 },
 "nbformat": 3,
 "nbformat_minor": 0,
 "worksheets": [
  {
   "cells": [
    {
     "cell_type": "heading",
     "level": 1,
     "metadata": {},
     "source": [
      "Analizando Datos en Grupos con *pandas*"
     ]
    },
    {
     "cell_type": "markdown",
     "metadata": {},
     "source": [
      "Es com\u00fan, al analizar datos, tener variables categ\u00f3ricas o grupos definidos dentro de los datos. *pandas* permite trabajar facilmente con este tipo de datos usando la estrategia [*split-apply-combine*.](http://pandas.pydata.org/pandas-docs/stable/groupby.html)  \n",
      "En este caso usaremos el dataset *PlantGrowth* de *R* de un experimento de campo, donde se mide el peso seco para tres grupos de plantas."
     ]
    },
    {
     "cell_type": "code",
     "collapsed": false,
     "input": [
      "! head -5 PlantGrowth.tsv"
     ],
     "language": "python",
     "metadata": {},
     "outputs": [
      {
       "output_type": "stream",
       "stream": "stdout",
       "text": [
        "weight group\r\n",
        "4.17 ctrl\r\n",
        "5.58 ctrl\r\n",
        "5.18 ctrl\r\n",
        "6.11 ctrl\r\n"
       ]
      }
     ],
     "prompt_number": 1
    },
    {
     "cell_type": "code",
     "collapsed": false,
     "input": [
      "import pandas as pd"
     ],
     "language": "python",
     "metadata": {},
     "outputs": [],
     "prompt_number": 2
    },
    {
     "cell_type": "code",
     "collapsed": false,
     "input": [
      "datos = pd.read_table(\"PlantGrowth.tsv\", delimiter=\" \")"
     ],
     "language": "python",
     "metadata": {},
     "outputs": [],
     "prompt_number": 3
    },
    {
     "cell_type": "code",
     "collapsed": false,
     "input": [
      "datos.groupby(\"group\").head(2) # Notar que aplica head() a cada grupo"
     ],
     "language": "python",
     "metadata": {},
     "outputs": [
      {
       "html": [
        "<div style=\"max-height:1000px;max-width:1500px;overflow:auto;\">\n",
        "<table border=\"1\" class=\"dataframe\">\n",
        "  <thead>\n",
        "    <tr style=\"text-align: right;\">\n",
        "      <th></th>\n",
        "      <th></th>\n",
        "      <th>weight</th>\n",
        "      <th>group</th>\n",
        "    </tr>\n",
        "    <tr>\n",
        "      <th>group</th>\n",
        "      <th></th>\n",
        "      <th></th>\n",
        "      <th></th>\n",
        "    </tr>\n",
        "  </thead>\n",
        "  <tbody>\n",
        "    <tr>\n",
        "      <th rowspan=\"2\" valign=\"top\">ctrl</th>\n",
        "      <th>0 </th>\n",
        "      <td> 4.17</td>\n",
        "      <td> ctrl</td>\n",
        "    </tr>\n",
        "    <tr>\n",
        "      <th>1 </th>\n",
        "      <td> 5.58</td>\n",
        "      <td> ctrl</td>\n",
        "    </tr>\n",
        "    <tr>\n",
        "      <th rowspan=\"2\" valign=\"top\">trt1</th>\n",
        "      <th>10</th>\n",
        "      <td> 4.81</td>\n",
        "      <td> trt1</td>\n",
        "    </tr>\n",
        "    <tr>\n",
        "      <th>11</th>\n",
        "      <td> 4.17</td>\n",
        "      <td> trt1</td>\n",
        "    </tr>\n",
        "    <tr>\n",
        "      <th rowspan=\"2\" valign=\"top\">trt2</th>\n",
        "      <th>20</th>\n",
        "      <td> 6.31</td>\n",
        "      <td> trt2</td>\n",
        "    </tr>\n",
        "    <tr>\n",
        "      <th>21</th>\n",
        "      <td> 5.12</td>\n",
        "      <td> trt2</td>\n",
        "    </tr>\n",
        "  </tbody>\n",
        "</table>\n",
        "<p>6 rows \u00d7 2 columns</p>\n",
        "</div>"
       ],
       "metadata": {},
       "output_type": "pyout",
       "prompt_number": 4,
       "text": [
        "          weight group\n",
        "group                 \n",
        "ctrl  0     4.17  ctrl\n",
        "      1     5.58  ctrl\n",
        "trt1  10    4.81  trt1\n",
        "      11    4.17  trt1\n",
        "trt2  20    6.31  trt2\n",
        "      21    5.12  trt2\n",
        "\n",
        "[6 rows x 2 columns]"
       ]
      }
     ],
     "prompt_number": 4
    },
    {
     "cell_type": "code",
     "collapsed": false,
     "input": [
      "datos.groupby(\"group\").describe()"
     ],
     "language": "python",
     "metadata": {},
     "outputs": [
      {
       "html": [
        "<div style=\"max-height:1000px;max-width:1500px;overflow:auto;\">\n",
        "<table border=\"1\" class=\"dataframe\">\n",
        "  <thead>\n",
        "    <tr style=\"text-align: right;\">\n",
        "      <th></th>\n",
        "      <th></th>\n",
        "      <th>weight</th>\n",
        "    </tr>\n",
        "    <tr>\n",
        "      <th>group</th>\n",
        "      <th></th>\n",
        "      <th></th>\n",
        "    </tr>\n",
        "  </thead>\n",
        "  <tbody>\n",
        "    <tr>\n",
        "      <th rowspan=\"8\" valign=\"top\">ctrl</th>\n",
        "      <th>count</th>\n",
        "      <td> 10.000000</td>\n",
        "    </tr>\n",
        "    <tr>\n",
        "      <th>mean</th>\n",
        "      <td>  5.032000</td>\n",
        "    </tr>\n",
        "    <tr>\n",
        "      <th>std</th>\n",
        "      <td>  0.583091</td>\n",
        "    </tr>\n",
        "    <tr>\n",
        "      <th>min</th>\n",
        "      <td>  4.170000</td>\n",
        "    </tr>\n",
        "    <tr>\n",
        "      <th>25%</th>\n",
        "      <td>  4.550000</td>\n",
        "    </tr>\n",
        "    <tr>\n",
        "      <th>50%</th>\n",
        "      <td>  5.155000</td>\n",
        "    </tr>\n",
        "    <tr>\n",
        "      <th>75%</th>\n",
        "      <td>  5.292500</td>\n",
        "    </tr>\n",
        "    <tr>\n",
        "      <th>max</th>\n",
        "      <td>  6.110000</td>\n",
        "    </tr>\n",
        "    <tr>\n",
        "      <th rowspan=\"8\" valign=\"top\">trt1</th>\n",
        "      <th>count</th>\n",
        "      <td> 10.000000</td>\n",
        "    </tr>\n",
        "    <tr>\n",
        "      <th>mean</th>\n",
        "      <td>  4.661000</td>\n",
        "    </tr>\n",
        "    <tr>\n",
        "      <th>std</th>\n",
        "      <td>  0.793676</td>\n",
        "    </tr>\n",
        "    <tr>\n",
        "      <th>min</th>\n",
        "      <td>  3.590000</td>\n",
        "    </tr>\n",
        "    <tr>\n",
        "      <th>25%</th>\n",
        "      <td>  4.207500</td>\n",
        "    </tr>\n",
        "    <tr>\n",
        "      <th>50%</th>\n",
        "      <td>  4.550000</td>\n",
        "    </tr>\n",
        "    <tr>\n",
        "      <th>75%</th>\n",
        "      <td>  4.870000</td>\n",
        "    </tr>\n",
        "    <tr>\n",
        "      <th>max</th>\n",
        "      <td>  6.030000</td>\n",
        "    </tr>\n",
        "    <tr>\n",
        "      <th rowspan=\"8\" valign=\"top\">trt2</th>\n",
        "      <th>count</th>\n",
        "      <td> 10.000000</td>\n",
        "    </tr>\n",
        "    <tr>\n",
        "      <th>mean</th>\n",
        "      <td>  5.526000</td>\n",
        "    </tr>\n",
        "    <tr>\n",
        "      <th>std</th>\n",
        "      <td>  0.442573</td>\n",
        "    </tr>\n",
        "    <tr>\n",
        "      <th>min</th>\n",
        "      <td>  4.920000</td>\n",
        "    </tr>\n",
        "    <tr>\n",
        "      <th>25%</th>\n",
        "      <td>  5.267500</td>\n",
        "    </tr>\n",
        "    <tr>\n",
        "      <th>50%</th>\n",
        "      <td>  5.435000</td>\n",
        "    </tr>\n",
        "    <tr>\n",
        "      <th>75%</th>\n",
        "      <td>  5.735000</td>\n",
        "    </tr>\n",
        "    <tr>\n",
        "      <th>max</th>\n",
        "      <td>  6.310000</td>\n",
        "    </tr>\n",
        "  </tbody>\n",
        "</table>\n",
        "<p>24 rows \u00d7 1 columns</p>\n",
        "</div>"
       ],
       "metadata": {},
       "output_type": "pyout",
       "prompt_number": 5,
       "text": [
        "                weight\n",
        "group                 \n",
        "ctrl  count  10.000000\n",
        "      mean    5.032000\n",
        "      std     0.583091\n",
        "      min     4.170000\n",
        "      25%     4.550000\n",
        "      50%     5.155000\n",
        "      75%     5.292500\n",
        "      max     6.110000\n",
        "trt1  count  10.000000\n",
        "      mean    4.661000\n",
        "      std     0.793676\n",
        "      min     3.590000\n",
        "      25%     4.207500\n",
        "      50%     4.550000\n",
        "      75%     4.870000\n",
        "      max     6.030000\n",
        "trt2  count  10.000000\n",
        "      mean    5.526000\n",
        "      std     0.442573\n",
        "      min     4.920000\n",
        "      25%     5.267500\n",
        "      50%     5.435000\n",
        "      75%     5.735000\n",
        "      max     6.310000\n",
        "\n",
        "[24 rows x 1 columns]"
       ]
      }
     ],
     "prompt_number": 5
    },
    {
     "cell_type": "code",
     "collapsed": false,
     "input": [
      "%matplotlib inline"
     ],
     "language": "python",
     "metadata": {},
     "outputs": [],
     "prompt_number": 6
    },
    {
     "cell_type": "markdown",
     "metadata": {},
     "source": [
      "Uno puede dividir en grupos para aplicar una funci\u00f3n que realice un gr\u00e1fico sobre cada uno de los grupos."
     ]
    },
    {
     "cell_type": "code",
     "collapsed": false,
     "input": [
      "datos.groupby(\"group\").hist(\"weight\")"
     ],
     "language": "python",
     "metadata": {},
     "outputs": [
      {
       "metadata": {},
       "output_type": "pyout",
       "prompt_number": 7,
       "text": [
        "group\n",
        "ctrl     [[Axes(0.125,0.125;0.775x0.775)]]\n",
        "trt1     [[Axes(0.125,0.125;0.775x0.775)]]\n",
        "trt2     [[Axes(0.125,0.125;0.775x0.775)]]\n",
        "dtype: object"
       ]
      },
      {
       "metadata": {},
       "output_type": "display_data",
       "png": "[encoded data removed]",
       "text": [
        "<matplotlib.figure.Figure at 0x7f48d7f346d0>"
       ]
      },
      {
       "metadata": {},
       "output_type": "display_data",
       "png": "[encoded data removed]",
       "text": [
        "<matplotlib.figure.Figure at 0x7f48d7c54c90>"
       ]
      },
      {
       "metadata": {},
       "output_type": "display_data",
       "png": "[encoded data removed]",
       "text": [
        "<matplotlib.figure.Figure at 0x7f48d7b85e10>"
       ]
      }
     ],
     "prompt_number": 7
    },
    {
     "cell_type": "markdown",
     "metadata": {},
     "source": [
      "A veces las funciones para realizar gr\u00e1ficos poseen argumentos que nos permiten separar por grupos."
     ]
    },
    {
     "cell_type": "code",
     "collapsed": false,
     "input": [
      "datos.hist(\"weight\", by=datos[\"group\"]);"
     ],
     "language": "python",
     "metadata": {},
     "outputs": [
      {
       "metadata": {},
       "output_type": "display_data",
       "png": "[encoded data removed]",
       "text": [
        "<matplotlib.figure.Figure at 0x7f48d51d3610>"
       ]
      }
     ],
     "prompt_number": 8
    },
    {
     "cell_type": "markdown",
     "metadata": {},
     "source": [
      "*pandas* nos da la posibilidad de crear nuestras propias funci\u00f3n para aplicarlas a un *DataFrame* usando [**apply()**](http://pandas.pydata.org/pandas-docs/stable/groupby.html#flexible-apply)"
     ]
    },
    {
     "cell_type": "code",
     "collapsed": false,
     "input": [
      "import numpy as np \n",
      "\n",
      "def media_error(subset,columna,index):\n",
      "    array = subset[columna]\n",
      "    return pd.Series( {\"media\":array.mean(), \"error\":array.std() / np.sqrt( len( array )  ) } )\n",
      "    "
     ],
     "language": "python",
     "metadata": {},
     "outputs": [],
     "prompt_number": 9
    },
    {
     "cell_type": "code",
     "collapsed": false,
     "input": [
      "resultado = datos.groupby(\"group\").apply(media_error,columna=\"weight\",index=\"group\")"
     ],
     "language": "python",
     "metadata": {},
     "outputs": [],
     "prompt_number": 10
    },
    {
     "cell_type": "code",
     "collapsed": false,
     "input": [
      "resultado"
     ],
     "language": "python",
     "metadata": {},
     "outputs": [
      {
       "html": [
        "<div style=\"max-height:1000px;max-width:1500px;overflow:auto;\">\n",
        "<table border=\"1\" class=\"dataframe\">\n",
        "  <thead>\n",
        "    <tr style=\"text-align: right;\">\n",
        "      <th></th>\n",
        "      <th>error</th>\n",
        "      <th>media</th>\n",
        "    </tr>\n",
        "    <tr>\n",
        "      <th>group</th>\n",
        "      <th></th>\n",
        "      <th></th>\n",
        "    </tr>\n",
        "  </thead>\n",
        "  <tbody>\n",
        "    <tr>\n",
        "      <th>ctrl</th>\n",
        "      <td> 0.184390</td>\n",
        "      <td> 5.032</td>\n",
        "    </tr>\n",
        "    <tr>\n",
        "      <th>trt1</th>\n",
        "      <td> 0.250982</td>\n",
        "      <td> 4.661</td>\n",
        "    </tr>\n",
        "    <tr>\n",
        "      <th>trt2</th>\n",
        "      <td> 0.139954</td>\n",
        "      <td> 5.526</td>\n",
        "    </tr>\n",
        "  </tbody>\n",
        "</table>\n",
        "<p>3 rows \u00d7 2 columns</p>\n",
        "</div>"
       ],
       "metadata": {},
       "output_type": "pyout",
       "prompt_number": 11,
       "text": [
        "          error  media\n",
        "group                 \n",
        "ctrl   0.184390  5.032\n",
        "trt1   0.250982  4.661\n",
        "trt2   0.139954  5.526\n",
        "\n",
        "[3 rows x 2 columns]"
       ]
      }
     ],
     "prompt_number": 11
    },
    {
     "cell_type": "code",
     "collapsed": false,
     "input": [
      "resultado.plot( y=\"media\", yerr=resultado[\"error\"], kind=\"bar\", error_kw=dict(ecolor='k'), alpha=0.5);"
     ],
     "language": "python",
     "metadata": {},
     "outputs": [
      {
       "metadata": {},
       "output_type": "display_data",
       "png": "[encoded data removed]",
       "text": [
        "<matplotlib.figure.Figure at 0x7f48d5176cd0>"
       ]
      }
     ],
     "prompt_number": 12
    },
    {
     "cell_type": "markdown",
     "metadata": {},
     "source": [
      "Si necesitamos hacer algo estad\u00edsticamente m\u00e1s complicado, tenemos que usar [*scipy*](http://www.scipy.org/) & [*statsmodels*](http://statsmodels.sourceforge.net/). Por ejemplo, realizaremos un [*ANOVA*](http://statsmodels.sourceforge.net/devel/examples/generated/example_interactions.html) & [*Tukey-kramer HSD test*](http://en.wikipedia.org/wiki/Tukey's_range_test)"
     ]
    },
    {
     "cell_type": "markdown",
     "metadata": {},
     "source": [
      "Para realizar un *ANOVA* primero debemos la testear normalidad de los datos usando **```stats.normaltest```**."
     ]
    },
    {
     "cell_type": "code",
     "collapsed": false,
     "input": [
      "import scipy.stats as stats"
     ],
     "language": "python",
     "metadata": {},
     "outputs": [],
     "prompt_number": 13
    },
    {
     "cell_type": "code",
     "collapsed": false,
     "input": [
      "datos[\"weight\"].groupby( datos.group ).apply(stats.normaltest)"
     ],
     "language": "python",
     "metadata": {},
     "outputs": [
      {
       "output_type": "stream",
       "stream": "stderr",
       "text": [
        "/usr/lib/python2.7/dist-packages/scipy/stats/stats.py:1293: UserWarning: kurtosistest only valid for n>=20 ... continuing anyway, n=10\n",
        "  int(n))\n"
       ]
      },
      {
       "metadata": {},
       "output_type": "pyout",
       "prompt_number": 14,
       "text": [
        "group\n",
        "ctrl     (0.233495628907, 0.889809561981)\n",
        "trt1     (0.967740620147, 0.616393136709)\n",
        "trt2      (1.01317725871, 0.602547589896)\n",
        "dtype: object"
       ]
      }
     ],
     "prompt_number": 14
    },
    {
     "cell_type": "markdown",
     "metadata": {},
     "source": [
      "Una vez que testeamos la normalidad de los datos, podemos proseguir a realizar el *ANOVA*"
     ]
    },
    {
     "cell_type": "code",
     "collapsed": false,
     "input": [
      "from statsmodels.formula.api import ols\n",
      "from statsmodels.stats.anova import anova_lm\n",
      "modelo_lineal = ols(\"weight ~ group\", datos).fit()\n",
      "modelo_lineal.summary()"
     ],
     "language": "python",
     "metadata": {},
     "outputs": [
      {
       "html": [
        "<table class=\"simpletable\">\n",
        "<caption>OLS Regression Results</caption>\n",
        "<tr>\n",
        "  <th>Dep. Variable:</th>         <td>weight</td>      <th>  R-squared:         </th> <td>   0.264</td>\n",
        "</tr>\n",
        "<tr>\n",
        "  <th>Model:</th>                   <td>OLS</td>       <th>  Adj. R-squared:    </th> <td>   0.210</td>\n",
        "</tr>\n",
        "<tr>\n",
        "  <th>Method:</th>             <td>Least Squares</td>  <th>  F-statistic:       </th> <td>   4.846</td>\n",
        "</tr>\n",
        "<tr>\n",
        "  <th>Date:</th>             <td>Tue, 19 Aug 2014</td> <th>  Prob (F-statistic):</th>  <td>0.0159</td> \n",
        "</tr>\n",
        "<tr>\n",
        "  <th>Time:</th>                 <td>23:52:45</td>     <th>  Log-Likelihood:    </th> <td> -26.810</td>\n",
        "</tr>\n",
        "<tr>\n",
        "  <th>No. Observations:</th>      <td>    30</td>      <th>  AIC:               </th> <td>   59.62</td>\n",
        "</tr>\n",
        "<tr>\n",
        "  <th>Df Residuals:</th>          <td>    27</td>      <th>  BIC:               </th> <td>   63.82</td>\n",
        "</tr>\n",
        "<tr>\n",
        "  <th>Df Model:</th>              <td>     2</td>      <th>                     </th>     <td> </td>   \n",
        "</tr>\n",
        "</table>\n",
        "<table class=\"simpletable\">\n",
        "<tr>\n",
        "        <td></td>           <th>coef</th>     <th>std err</th>      <th>t</th>      <th>P>|t|</th> <th>[95.0% Conf. Int.]</th> \n",
        "</tr>\n",
        "<tr>\n",
        "  <th>Intercept</th>     <td>    5.0320</td> <td>    0.197</td> <td>   25.527</td> <td> 0.000</td> <td>    4.628     5.436</td>\n",
        "</tr>\n",
        "<tr>\n",
        "  <th>group[T.trt1]</th> <td>   -0.3710</td> <td>    0.279</td> <td>   -1.331</td> <td> 0.194</td> <td>   -0.943     0.201</td>\n",
        "</tr>\n",
        "<tr>\n",
        "  <th>group[T.trt2]</th> <td>    0.4940</td> <td>    0.279</td> <td>    1.772</td> <td> 0.088</td> <td>   -0.078     1.066</td>\n",
        "</tr>\n",
        "</table>\n",
        "<table class=\"simpletable\">\n",
        "<tr>\n",
        "  <th>Omnibus:</th>       <td> 1.835</td> <th>  Durbin-Watson:     </th> <td>   2.704</td>\n",
        "</tr>\n",
        "<tr>\n",
        "  <th>Prob(Omnibus):</th> <td> 0.400</td> <th>  Jarque-Bera (JB):  </th> <td>   1.406</td>\n",
        "</tr>\n",
        "<tr>\n",
        "  <th>Skew:</th>          <td> 0.524</td> <th>  Prob(JB):          </th> <td>   0.495</td>\n",
        "</tr>\n",
        "<tr>\n",
        "  <th>Kurtosis:</th>      <td> 2.835</td> <th>  Cond. No.          </th> <td>    3.73</td>\n",
        "</tr>\n",
        "</table>"
       ],
       "metadata": {},
       "output_type": "pyout",
       "prompt_number": 15,
       "text": [
        "<class 'statsmodels.iolib.summary.Summary'>\n",
        "\"\"\"\n",
        "                            OLS Regression Results                            \n",
        "==============================================================================\n",
        "Dep. Variable:                 weight   R-squared:                       0.264\n",
        "Model:                            OLS   Adj. R-squared:                  0.210\n",
        "Method:                 Least Squares   F-statistic:                     4.846\n",
        "Date:                Tue, 19 Aug 2014   Prob (F-statistic):             0.0159\n",
        "Time:                        23:52:45   Log-Likelihood:                -26.810\n",
        "No. Observations:                  30   AIC:                             59.62\n",
        "Df Residuals:                      27   BIC:                             63.82\n",
        "Df Model:                           2                                         \n",
        "=================================================================================\n",
        "                    coef    std err          t      P>|t|      [95.0% Conf. Int.]\n",
        "---------------------------------------------------------------------------------\n",
        "Intercept         5.0320      0.197     25.527      0.000         4.628     5.436\n",
        "group[T.trt1]    -0.3710      0.279     -1.331      0.194        -0.943     0.201\n",
        "group[T.trt2]     0.4940      0.279      1.772      0.088        -0.078     1.066\n",
        "==============================================================================\n",
        "Omnibus:                        1.835   Durbin-Watson:                   2.704\n",
        "Prob(Omnibus):                  0.400   Jarque-Bera (JB):                1.406\n",
        "Skew:                           0.524   Prob(JB):                        0.495\n",
        "Kurtosis:                       2.835   Cond. No.                         3.73\n",
        "==============================================================================\n",
        "\"\"\""
       ]
      }
     ],
     "prompt_number": 15
    },
    {
     "cell_type": "code",
     "collapsed": false,
     "input": [
      "anova_lm(modelo_lineal)"
     ],
     "language": "python",
     "metadata": {},
     "outputs": [
      {
       "html": [
        "<div style=\"max-height:1000px;max-width:1500px;overflow:auto;\">\n",
        "<table border=\"1\" class=\"dataframe\">\n",
        "  <thead>\n",
        "    <tr style=\"text-align: right;\">\n",
        "      <th></th>\n",
        "      <th>df</th>\n",
        "      <th>sum_sq</th>\n",
        "      <th>mean_sq</th>\n",
        "      <th>F</th>\n",
        "      <th>PR(&gt;F)</th>\n",
        "    </tr>\n",
        "  </thead>\n",
        "  <tbody>\n",
        "    <tr>\n",
        "      <th>group</th>\n",
        "      <td>  2</td>\n",
        "      <td>  3.76634</td>\n",
        "      <td> 1.883170</td>\n",
        "      <td> 4.846088</td>\n",
        "      <td> 0.01591</td>\n",
        "    </tr>\n",
        "    <tr>\n",
        "      <th>Residual</th>\n",
        "      <td> 27</td>\n",
        "      <td> 10.49209</td>\n",
        "      <td> 0.388596</td>\n",
        "      <td>      NaN</td>\n",
        "      <td>     NaN</td>\n",
        "    </tr>\n",
        "  </tbody>\n",
        "</table>\n",
        "<p>2 rows \u00d7 5 columns</p>\n",
        "</div>"
       ],
       "metadata": {},
       "output_type": "pyout",
       "prompt_number": 16,
       "text": [
        "          df    sum_sq   mean_sq         F   PR(>F)\n",
        "group      2   3.76634  1.883170  4.846088  0.01591\n",
        "Residual  27  10.49209  0.388596       NaN      NaN\n",
        "\n",
        "[2 rows x 5 columns]"
       ]
      }
     ],
     "prompt_number": 16
    },
    {
     "cell_type": "code",
     "collapsed": false,
     "input": [
      "from statsmodels.stats.multicomp import pairwise_tukeyhsd"
     ],
     "language": "python",
     "metadata": {},
     "outputs": [],
     "prompt_number": 17
    },
    {
     "cell_type": "code",
     "collapsed": false,
     "input": [
      "tukey = pairwise_tukeyhsd(datos.weight,datos.group)"
     ],
     "language": "python",
     "metadata": {},
     "outputs": [],
     "prompt_number": 18
    },
    {
     "cell_type": "code",
     "collapsed": false,
     "input": [
      "print( tukey.summary() )"
     ],
     "language": "python",
     "metadata": {},
     "outputs": [
      {
       "output_type": "stream",
       "stream": "stdout",
       "text": [
        "Multiple Comparison of Means - Tukey HSD,FWER=0.05\n",
        "============================================\n",
        "group1 group2 meandiff  lower  upper  reject\n",
        "--------------------------------------------\n",
        "  0      1     -0.371  -1.0621 0.3201 False \n",
        "  0      2     0.494   -0.1971 1.1851 False \n",
        "  1      2     0.865    0.1739 1.5561  True \n",
        "--------------------------------------------\n"
       ]
      }
     ],
     "prompt_number": 19
    },
    {
     "cell_type": "code",
     "collapsed": false,
     "input": [],
     "language": "python",
     "metadata": {},
     "outputs": []
    }
   ],
   "metadata": {}
  }
 ]
}