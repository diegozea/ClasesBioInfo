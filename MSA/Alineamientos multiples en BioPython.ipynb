{
 "metadata": {
  "name": "",
  "signature": "sha256:f1722e75bd89e014420402ac4292d9fa6b7f323454341fbd7db132e4a3f03c01"
 },
 "nbformat": 3,
 "nbformat_minor": 0,
 "worksheets": [
  {
   "cells": [
    {
     "cell_type": "code",
     "collapsed": false,
     "input": [
      "#! t_coffee -seq=P02768_blast_complete.fasta -mode=quickaln -outfile=ej.tcoffee"
     ],
     "language": "python",
     "metadata": {},
     "outputs": [],
     "prompt_number": 1
    },
    {
     "cell_type": "code",
     "collapsed": false,
     "input": [
      "#! xdg-open ej.tcoffee.html"
     ],
     "language": "python",
     "metadata": {},
     "outputs": [],
     "prompt_number": 2
    },
    {
     "cell_type": "markdown",
     "metadata": {},
     "source": [
      "Salida en ```HTML``` de ```T-Coffee```:"
     ]
    },
    {
     "cell_type": "code",
     "collapsed": false,
     "input": [
      "from IPython.display import HTML\n",
      "HTML(\"<iframe src='ej.tcoffee.html' width=100%, height=300></iframe>\")"
     ],
     "language": "python",
     "metadata": {},
     "outputs": [
      {
       "html": [
        "<iframe src='ej.tcoffee.html' width=100%, height=300></iframe>"
       ],
       "metadata": {},
       "output_type": "pyout",
       "prompt_number": 3,
       "text": [
        "<IPython.core.display.HTML at 0x7f5f660cff90>"
       ]
      }
     ],
     "prompt_number": 3
    },
    {
     "cell_type": "markdown",
     "metadata": {},
     "source": [
      "Salida de ```T-Coffee``` en formato ```clustal```:"
     ]
    },
    {
     "cell_type": "code",
     "collapsed": false,
     "input": [
      "! head ej.tcoffee"
     ],
     "language": "python",
     "metadata": {},
     "outputs": [
      {
       "output_type": "stream",
       "stream": "stdout",
       "text": [
        "CLUSTAL FORMAT for T-COFFEE Version_10.00.r1613 [http://www.tcoffee.org] [MODE: quickaln ], CPU=0.25 sec, SCORE=-2182, Nseq=45, Len=1470 \r\n",
        "\r\n",
        "gi|113576|sp|P02768.2|ALBU_HUMAN     ------MKWVTFISL----LFLFSSAYSRGV--FRRD--A--H-KSEVAH\r\n",
        "gi|338817855|sp|Q5NVH5.2|ALBU_PONAB  ------MKWVTFISL----LFLFSSAYSRGV--FRRD--A--H-KSEVAH\r\n",
        "gi|190358749|sp|A2V9Z4.1|ALBU_MACFA  ------MKWVTFISL----LFLFSSAYSRGV--FRRD--T--H-KSEVAH\r\n",
        "gi|2492797|sp|Q28522.1|ALBU_MACMU    --------------L----LFLFSSAYSRGV--FRRD--T--H-KSEVAH\r\n",
        "gi|1351908|sp|P49064.1|ALBU_FELCA    ------MKWVTFISL----LLLFSSAYSRGV--TRRE--A--H-QSEIAH\r\n",
        "gi|56757408|sp|P49822.3|ALBU_CANFA   ------MKWVTFISL----FFLFSSAYSRGL--VRRE--A--Y-KSEIAH\r\n",
        "gi|298351527|sp|A6YF56.1|ALBU_MESAU  ------MKWVTFLLL----LFVSDSAFSRGL--FRRD--A--H-KSEIAH\r\n",
        "gi|76363596|sp|Q5XLE4.1|ALBU_EQUAS   ------MKWVTFVSL----LFLFSSAYFRGV--LRRD--T--H-KSEIAH\r\n"
       ]
      }
     ],
     "prompt_number": 4
    },
    {
     "cell_type": "markdown",
     "metadata": {},
     "source": [
      "Mismas secuecias alineadas con ```MUSCLE``` en formato ```fasta```:"
     ]
    },
    {
     "cell_type": "code",
     "collapsed": false,
     "input": [
      "! head muscle_out.fasta"
     ],
     "language": "python",
     "metadata": {},
     "outputs": [
      {
       "output_type": "stream",
       "stream": "stdout",
       "text": [
        ">gi|113581|sp|P21848.1|ALBU1_SALSA RecName: Full=Serum albumin 1; Flags: Precursor [Salmo salar]\r\n",
        "------MQWLSVC-SLLVLLSVL-------SRSQA----QNQICTIF---------TEAK\r\n",
        "EDGFKSL----ILVGLAQNLPDSTLGDLVPLIAEALAMGVKCC-SDTPPEDCERDVADLF\r\n",
        "QSAVCSSETLVEKND-LKMCCEKTAAERTHCFVDH------K--AKIPRDLSLKAELPAA\r\n",
        "--DQCEDFKKDHKAFVGRFIFKFSKSNPMLPPHVVLAIAKGYGEVLTTCCGEAEAQT---\r\n",
        "--CFDTKKATFQHAVMKRVAELRSLCIVHKKYGDRVVKAKKLVQYSQKMPQASFQEMGGM\r\n",
        "VDKIVATVAPCCS-----------------------------------------------\r\n",
        "------------------------------------------------------------\r\n",
        "------------------------------------------------------------\r\n",
        "------------------------------------------------------------\r\n"
       ]
      }
     ],
     "prompt_number": 5
    },
    {
     "cell_type": "markdown",
     "metadata": {},
     "source": [
      "Pueden leer alineamientos m\u00faltiples (de diferentes formatos) en **BioPython** con el m\u00f3dulo **[AlignIO](http://biopython.org/DIST/docs/api/Bio.AlignIO-module.html)**"
     ]
    },
    {
     "cell_type": "code",
     "collapsed": false,
     "input": [
      "from Bio import AlignIO"
     ],
     "language": "python",
     "metadata": {},
     "outputs": [],
     "prompt_number": 6
    },
    {
     "cell_type": "code",
     "collapsed": false,
     "input": [
      "muscle_aln = AlignIO.read(\"muscle_out.fasta\", \"fasta\")\n",
      "print muscle_aln"
     ],
     "language": "python",
     "metadata": {},
     "outputs": [
      {
       "output_type": "stream",
       "stream": "stdout",
       "text": [
        "SingleLetterAlphabet() alignment with 45 rows and 1463 columns\n",
        "------MQWLSVC-SLLVLLSVL-------SRSQA----QNQIC...V-- gi|113581|sp|P21848.1|ALBU1_SALSA\n",
        "------MQWLSVC-SLLVLLSVL-------SRSQA----QNQIC...V-- gi|543792|sp|Q03156.1|ALBU2_SALSA\n",
        "------MKLLKLTGFIFFLFFLTESLTLPTQPRDI-E--NFNST...--- gi|1168366|sp|P43652.1|AFAM_HUMAN\n",
        "------MRHLKLTGFIFFLLPLTESLALPTKPQDV-D--HFNAT...QR- gi|126302514|sp|O89020.2|AFAM_MOUSE\n",
        "------MRHLKLTGFIFFLLSLTESLALPTKPQDVDH--FNAT-...QR- gi|543793|sp|P36953.1|AFAM_RAT\n",
        "--------------------------------------------...--- gi|113579|sp|P21847.1|ALBU_LITCT\n",
        "------MKWTILT-ALLII--SAESKNL--YKRDS-EPHIRFLG...--- gi|123901170|sp|Q3T478.1|ALBU_BOMMX\n",
        "------MKWITLI-CLLISSSFIESRIL--FKRDTDADHHKHIA...--- gi|113571|sp|P14872.2|ALBUB_XENLA\n",
        "------MKWITLI-CLLISSTLIESRII--FKRDTDVDHHKHIA...--- gi|113569|sp|P08759.2|ALBUA_XENLA\n",
        "------MKWVESI-FLIFLLNFTESRTL--HRNEY-G--IASIL...V-- gi|20177883|sp|Q28789.1|FETA_PANTR\n",
        "------MKWVESI-FLIFLLNFTESRTL--HRNEY-G--IASIL...V-- gi|120042|sp|P02771.1|FETA_HUMAN\n",
        "------MKWVESI-FLIFLLNFTESRTL--HRNEY-G--IASIL...V-- gi|120041|sp|P28050.1|FETA_GORGO\n",
        "------MKWVVSI-LLIFLLNSTESRTM--HSNAY-G--IASAL...V-- gi|1345987|sp|P49066.1|FETA_HORSE\n",
        "------MKWVVSF-FLLFLLNFSDSRTM--HKNAY-G--IDSIL...V-- gi|110278951|sp|Q3SZ57.1|FETA_BOVIN\n",
        "------MKWVVSF-FSIFLLNFSESRTM--HRNAY-G--IASIL...V-- gi|75054113|sp|Q8MJU5.1|FETA_CANFA\n",
        "------MKWVVSI-FLIVLLNFTESRTM--HENAY-G--IASIL...V-- gi|75054076|sp|Q8MJ76.1|FETA_PIG\n",
        "------MKWITPA-SLILLLHFAASKAL--HENEF-G--IASTL...V-- gi|120043|sp|P02772.1|FETA_MOUSE\n",
        "MKQPATMKWSASI-SFLLLLNFAEPRVL--HTNEF-G--IESTL...V-- gi|120044|sp|P02773.1|FETA_RAT\n",
        "...\n",
        "------MKRVLVL-LLAVAFGHALERG-----RDY-E--KNKVC...--- gi|139641|sp|P02774.1|VTDB_HUMAN\n"
       ]
      }
     ],
     "prompt_number": 7
    },
    {
     "cell_type": "code",
     "collapsed": false,
     "input": [
      "tcoffee_aln = AlignIO.read(\"ej.tcoffee\", \"clustal\")\n",
      "print tcoffee_aln"
     ],
     "language": "python",
     "metadata": {},
     "outputs": [
      {
       "output_type": "stream",
       "stream": "stdout",
       "text": [
        "SingleLetterAlphabet() alignment with 45 rows and 1470 columns\n",
        "------MKWVTFISL----LFLFSSAYSRGV--FRRD--A--H-...L-- gi|113576|sp|P02768.2|ALBU_HUMAN\n",
        "------MKWVTFISL----LFLFSSAYSRGV--FRRD--A--H-...L-- gi|338817855|sp|Q5NVH5.2|ALBU_PONAB\n",
        "------MKWVTFISL----LFLFSSAYSRGV--FRRD--T--H-...A-- gi|190358749|sp|A2V9Z4.1|ALBU_MACFA\n",
        "--------------L----LFLFSSAYSRGV--FRRD--T--H-...A-- gi|2492797|sp|Q28522.1|ALBU_MACMU\n",
        "------MKWVTFISL----LLLFSSAYSRGV--TRRE--A--H-...--- gi|1351908|sp|P49064.1|ALBU_FELCA\n",
        "------MKWVTFISL----FFLFSSAYSRGL--VRRE--A--Y-...--- gi|56757408|sp|P49822.3|ALBU_CANFA\n",
        "------MKWVTFLLL----LFVSDSAFSRGL--FRRD--A--H-...--- gi|298351527|sp|A6YF56.1|ALBU_MESAU\n",
        "------MKWVTFVSL----LFLFSSAYFRGV--LRRD--T--H-...A-- gi|76363596|sp|Q5XLE4.1|ALBU_EQUAS\n",
        "------MKWVTFVSL----LFLFSSAYSRGV--LRRD--T--H-...A-- gi|543794|sp|P35747.1|ALBU_HORSE\n",
        "------MKWVTFISL----LFLFSSAYSRGV--FRRE--A--H-...G-- gi|44889024|sp|P49065.2|ALBU_RABIT\n",
        "------MKWVTFISL----LLLFSSAYSRGV--FRRD--T--H-...A-- gi|1351907|sp|P02769.4|ALBU_BOVIN\n",
        "------MKWVTFISL----LLLFSSAYSRGV--FRRD--T--H-...A-- gi|113582|sp|P14639.1|ALBU_SHEEP\n",
        "------MKWVTFLLL----LFISGSAFSRGV--FRRE--A--H-...--- gi|124028612|sp|P02770.2|ALBU_RAT\n",
        "------MKWVTFISL----LFLFSSAYSRGV--FRRD--T--Y-...--- gi|71152981|sp|P08835.2|ALBU_PIG\n",
        "------MKWVTFLLL----LFVSGSAFSRGV--FRRE--A--H-...--- gi|5915682|sp|P07724.3|ALBU_MOUSE\n",
        "------MKWVTFLLL----LFVSGSAFSRGV--FRRD-AA--H-...--- gi|3121749|sp|O35090.1|ALBU_MERUN\n",
        "------MKWVTLISF----IFLFSSATSRNLQRFARD-AE--H-...IGA gi|113575|sp|P19121.2|ALBU_CHICK\n",
        "------MKWVESIFL----IFLLNFTESRTL---HRN-EY--G-...-GV gi|20177883|sp|Q28789.1|FETA_PANTR\n",
        "...\n",
        "--------------------------------------------...--- gi|46576369|sp|P83517.1|ALBU_NEOFS\n"
       ]
      }
     ],
     "prompt_number": 8
    },
    {
     "cell_type": "markdown",
     "metadata": {},
     "source": [
      "Uno puede seleccionar filas y columnas especificas de una alineamiento de la clase **[MultipleSeqAlignment](http://biopython.org/DIST/docs/api/Bio.Align.MultipleSeqAlignment-class.html)**"
     ]
    },
    {
     "cell_type": "code",
     "collapsed": false,
     "input": [
      "type(tcoffee_aln)"
     ],
     "language": "python",
     "metadata": {},
     "outputs": [
      {
       "metadata": {},
       "output_type": "pyout",
       "prompt_number": 9,
       "text": [
        "Bio.Align.MultipleSeqAlignment"
       ]
      }
     ],
     "prompt_number": 9
    },
    {
     "cell_type": "code",
     "collapsed": false,
     "input": [
      "print tcoffee_aln[0:5,0:10]"
     ],
     "language": "python",
     "metadata": {},
     "outputs": [
      {
       "output_type": "stream",
       "stream": "stdout",
       "text": [
        "SingleLetterAlphabet() alignment with 5 rows and 10 columns\n",
        "------MKWV gi|113576|sp|P02768.2|ALBU_HUMAN\n",
        "------MKWV gi|338817855|sp|Q5NVH5.2|ALBU_PONAB\n",
        "------MKWV gi|190358749|sp|A2V9Z4.1|ALBU_MACFA\n",
        "---------- gi|2492797|sp|Q28522.1|ALBU_MACMU\n",
        "------MKWV gi|1351908|sp|P49064.1|ALBU_FELCA\n"
       ]
      }
     ],
     "prompt_number": 10
    },
    {
     "cell_type": "markdown",
     "metadata": {},
     "source": [
      "El m\u00f3dulo **[AlignInfo](http://biopython.org/DIST/docs/api/Bio.Align.AlignInfo-module.html)** y su clase **[SummaryInfo](http://biopython.org/DIST/docs/api/Bio.Align.AlignInfo.SummaryInfo-class.html)** permite obtener informaci\u00f3n \u00fatil de los alineamientos"
     ]
    },
    {
     "cell_type": "code",
     "collapsed": false,
     "input": [
      "from Bio.Align import AlignInfo"
     ],
     "language": "python",
     "metadata": {},
     "outputs": [],
     "prompt_number": 11
    },
    {
     "cell_type": "code",
     "collapsed": false,
     "input": [
      "muscle_info = AlignInfo.SummaryInfo(muscle_aln)\n",
      "tcoffee_info = AlignInfo.SummaryInfo(tcoffee_aln)"
     ],
     "language": "python",
     "metadata": {},
     "outputs": [],
     "prompt_number": 12
    },
    {
     "cell_type": "code",
     "collapsed": false,
     "input": [
      "muscle_info.gap_consensus()"
     ],
     "language": "python",
     "metadata": {},
     "outputs": [
      {
       "metadata": {},
       "output_type": "pyout",
       "prompt_number": 13,
       "text": [
        "Seq('------MKXXXXX-XLXXXXXXXXSRXX--XXXXX-X--XXXXXXXX-------...X--', SingleLetterAlphabet())"
       ]
      }
     ],
     "prompt_number": 13
    },
    {
     "cell_type": "code",
     "collapsed": false,
     "input": [
      "tcoffee_info.gap_consensus()"
     ],
     "language": "python",
     "metadata": {},
     "outputs": [
      {
       "metadata": {},
       "output_type": "pyout",
       "prompt_number": 14,
       "text": [
        "Seq('------MKXXXXXXL----XXXXXXXXSRXX--XXXX-XX--X-XXXXXXXXXX...X-X', SingleLetterAlphabet())"
       ]
      }
     ],
     "prompt_number": 14
    }
   ],
   "metadata": {}
  }
 ]
}