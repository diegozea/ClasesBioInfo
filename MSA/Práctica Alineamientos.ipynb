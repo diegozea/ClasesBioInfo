{
 "metadata": {
  "celltoolbar": "Slideshow",
  "name": "",
  "signature": "sha256:ede458376fd83b71ee03c36f8949dfa73ebee66b4596bee92f2b6693c0651857"
 },
 "nbformat": 3,
 "nbformat_minor": 0,
 "worksheets": [
  {
   "cells": [
    {
     "cell_type": "code",
     "collapsed": false,
     "input": [
      "from utils_notebook import *"
     ],
     "language": "python",
     "metadata": {
      "slideshow": {
       "slide_type": "skip"
      }
     },
     "outputs": [],
     "prompt_number": 1
    },
    {
     "cell_type": "markdown",
     "metadata": {
      "slideshow": {
       "slide_type": "slide"
      }
     },
     "source": [
      "[Tabla (incompleta) de **Soft en Bioinfo**](http://elements.eaglegenomics.com/)"
     ]
    },
    {
     "cell_type": "code",
     "collapsed": false,
     "input": [
      "web(\"http://elements.eaglegenomics.com/\")"
     ],
     "language": "python",
     "metadata": {
      "slideshow": {
       "slide_type": "fragment"
      }
     },
     "outputs": [
      {
       "html": [
        "<iframe src=\"http://elements.eaglegenomics.com/\"  width=100% height=500></iframe>"
       ],
       "metadata": {},
       "output_type": "pyout",
       "prompt_number": 2,
       "text": [
        "<IPython.core.display.HTML at 0xb637b2ec>"
       ]
      }
     ],
     "prompt_number": 2
    },
    {
     "cell_type": "code",
     "collapsed": false,
     "input": [
      "web(\"http://www.ebi.ac.uk/Tools/psa/\")"
     ],
     "language": "python",
     "metadata": {
      "slideshow": {
       "slide_type": "slide"
      }
     },
     "outputs": [
      {
       "html": [
        "<iframe src=\"http://www.ebi.ac.uk/Tools/psa/\"  width=100% height=500></iframe>"
       ],
       "metadata": {},
       "output_type": "pyout",
       "prompt_number": 4,
       "text": [
        "<IPython.core.display.HTML at 0xb637b82c>"
       ]
      }
     ],
     "prompt_number": 4
    },
    {
     "cell_type": "markdown",
     "metadata": {
      "slideshow": {
       "slide_type": "slide"
      }
     },
     "source": [
      "#I  \n",
      "Obtener las secuencias de las prote\u00ednas con ```GI:67476446``` y ```GI:317373446``` de GenBank.  \n",
      "Realizar alineamientos:  \n",
      "- global \u00f3ptimo (```needle```)\n",
      "- local \u00f3ptimo (```water```)\n",
      "- local sub\u00f3timos (```matcher```)\n",
      "\u00bfPor qu\u00e9 no deben descartarse los alineamientos sub\u00f3ptimos? \u00bfC\u00f3mo esto se relaciona con la estructura modular de las prote\u00ednas?\n",
      "\n",
      "#II  \n",
      "Alinear local y globalmente las prote\u00ednas con [ACCESSION](http://bioportal.bioontology.org/ontologies/EDAM/?p=classes&conceptid=http%3A%2F%2Fedamontology.org%2Fdata_2315#details) ```YP_001653979``` y ```AAD08692``` de [NCBI](http://www.ncbi.nlm.nih.gov/). \u00bfCu\u00e1l es m\u00e1s \u00fatil?\n"
     ]
    },
    {
     "cell_type": "code",
     "collapsed": false,
     "input": [],
     "language": "python",
     "metadata": {
      "slideshow": {
       "slide_type": "skip"
      }
     },
     "outputs": []
    }
   ],
   "metadata": {}
  }
 ]
}