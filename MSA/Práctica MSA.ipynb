{
 "metadata": {
  "celltoolbar": "Slideshow",
  "name": "",
  "signature": "sha256:3284262173fb1298bd5c5295470c08d071d1691757beea58cf1fdb562e83dfa6"
 },
 "nbformat": 3,
 "nbformat_minor": 0,
 "worksheets": [
  {
   "cells": [
    {
     "cell_type": "code",
     "collapsed": false,
     "input": [
      "from utils_notebook import *"
     ],
     "language": "python",
     "metadata": {
      "slideshow": {
       "slide_type": "skip"
      }
     },
     "outputs": [],
     "prompt_number": 1
    },
    {
     "cell_type": "heading",
     "level": 1,
     "metadata": {
      "slideshow": {
       "slide_type": "slide"
      }
     },
     "source": [
      "Alineamiento M\u00faltiple de Secuencias  "
     ]
    },
    {
     "cell_type": "code",
     "collapsed": false,
     "input": [
      "wiki(\"List_of_sequence_alignment_software#Multiple_sequence_alignment\", modo=\"mobile\")"
     ],
     "language": "python",
     "metadata": {
      "slideshow": {
       "slide_type": "slide"
      }
     },
     "outputs": [
      {
       "html": [
        "<iframe src=\"http://en.mobile.wikipedia.org/wiki/List_of_sequence_alignment_software#Multiple_sequence_alignment\"  width=100% height=500></iframe>"
       ],
       "metadata": {},
       "output_type": "pyout",
       "prompt_number": 2,
       "text": [
        "<IPython.core.display.HTML at 0xb63a916c>"
       ]
      }
     ],
     "prompt_number": 2
    },
    {
     "cell_type": "code",
     "collapsed": false,
     "input": [
      "web(\"http://www.ebi.ac.uk/Tools/msa/\")"
     ],
     "language": "python",
     "metadata": {
      "slideshow": {
       "slide_type": "slide"
      }
     },
     "outputs": [
      {
       "html": [
        "<iframe src=\"http://www.ebi.ac.uk/Tools/msa/\"  width=100% height=500></iframe>"
       ],
       "metadata": {},
       "output_type": "pyout",
       "prompt_number": 3,
       "text": [
        "<IPython.core.display.HTML at 0xb63a97cc>"
       ]
      }
     ],
     "prompt_number": 3
    },
    {
     "cell_type": "markdown",
     "metadata": {
      "slideshow": {
       "slide_type": "slide"
      }
     },
     "source": [
      "Existen muchos programas para realizar alineamientos m\u00faltiples de secuencias, la elecci\u00f3n de qu\u00e9 programa usar depende casi exclusivamente de las secuencias a analizar y las razones por las cuales realizar el alineamiento. Entre los lineamientos o recomendaciones posibles, pueden darse los siguientes:  \n",
      "\t \t \t\n",
      "- **MSA:** [MSA](http://www.ncbi.nlm.nih.gov/CBBresearch/Schaffer/msa.html) funciona bien para pocas secuencias cortas  \n",
      "- **Clustal:** Es el m\u00e1s vers\u00e1til, y el m\u00e1s utilizado. El algoritmo es r\u00e1pido y sensible. ClustalW (clustalw), o ClustalX (clustalx) en su versi\u00f3n gr\u00e1fica, puede utilizarse por s\u00ed solo o puede estar integrado en otros programas. Para prote\u00ednas la [Clustal Omega](http://www.clustal.org/omega/) (clustalo) proporciona mejores resultados, adem\u00e1s de ser m\u00e1s eficiente  \n",
      "- **DIALIGN:** Puede funcionar mejor que Clustal en algunas secuencias con inserciones. Se puede utilizar desde su interfaz en EMBOSS (edialign)    \n",
      "- **T-Coffee:** (t_coffee) Puede dar mejores alineamientos, aunque el requerimiento computacional es grande. Se puede correr en un [servidor web](http://tcoffee.crg.cat/apps/tcoffee/all.html)  \n",
      "- **MUSCLE:** (muscle) Es muy r\u00e1pido y genera buenos alineamientos. Es recomendable cuando se cuente con muchas secuencias."
     ]
    },
    {
     "cell_type": "markdown",
     "metadata": {
      "slideshow": {
       "slide_type": "fragment"
      }
     },
     "source": [
      "Para la **visualizaci\u00f3n de los alineamientos** se van a utilizar los programas [JalView](http://www.jalview.org/) (jalview) y ClustalX (clustalx)."
     ]
    },
    {
     "cell_type": "heading",
     "level": 2,
     "metadata": {
      "slideshow": {
       "slide_type": "slide"
      }
     },
     "source": [
      "Pr\u00e1ctica"
     ]
    },
    {
     "cell_type": "markdown",
     "metadata": {
      "slideshow": {
       "slide_type": "slide"
      }
     },
     "source": [
      "# I  \n",
      "Realice un **BLAST** contra la base de datos **UNIPROT** con la secuencia de la Histona H1 Humana (**P07305**) con el fin de obtener secuencias de prote\u00ednas hom\u00f3logas. Utilice un cutoff de **E-value** adecuado para tal fin (limitar la cantidad de **hits a 250**). Guarde las secuencias en formato **fasta**."
     ]
    },
    {
     "cell_type": "markdown",
     "metadata": {
      "slideshow": {
       "slide_type": "slide"
      }
     },
     "source": [
      "#II  \n",
      "Alinear las secuencias utilizando el programa T-Coffee.  \n",
      "Ejecute el programa **t_coffee** en modo preciso: ```accurate```\n",
      "Observe los archivos de salida, que puede decir acerca del score del alinemiento resultante."
     ]
    },
    {
     "cell_type": "markdown",
     "metadata": {
      "slideshow": {
       "slide_type": "slide"
      }
     },
     "source": [
      "#III\n",
      "Realizar el mismo alineamiento utilizando **clustalw**  \n",
      "Compare los resultados obtenidos con el programa T-Coffee"
     ]
    },
    {
     "cell_type": "code",
     "collapsed": false,
     "input": [],
     "language": "python",
     "metadata": {
      "slideshow": {
       "slide_type": "skip"
      }
     },
     "outputs": [],
     "prompt_number": 3
    }
   ],
   "metadata": {}
  }
 ]
}