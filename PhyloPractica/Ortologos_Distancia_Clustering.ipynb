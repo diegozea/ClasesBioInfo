{
 "metadata": {
  "celltoolbar": "Slideshow",
  "name": "",
  "signature": "sha256:819aae860510b6ebe1eee5b2db9e8772551bbb20f1f65bec940daee42a97005d"
 },
 "nbformat": 3,
 "nbformat_minor": 0,
 "worksheets": [
  {
   "cells": [
    {
     "cell_type": "code",
     "collapsed": false,
     "input": [
      "import utils_notebook as ut"
     ],
     "language": "python",
     "metadata": {
      "slideshow": {
       "slide_type": "skip"
      }
     },
     "outputs": [],
     "prompt_number": 1
    },
    {
     "cell_type": "heading",
     "level": 1,
     "metadata": {
      "slideshow": {
       "slide_type": "slide"
      }
     },
     "source": [
      "Filogenia de un grupo de Ort\u00f3logos"
     ]
    },
    {
     "cell_type": "code",
     "collapsed": false,
     "input": [
      "ut.web(\"http://omabrowser.org/cgi-bin/gateway.pl?f=DisplayEntry&p1=ASPOR04405&p2=orthologs\", alto=600)"
     ],
     "language": "python",
     "metadata": {
      "slideshow": {
       "slide_type": "slide"
      }
     },
     "outputs": [
      {
       "html": [
        "<iframe src=\"http://omabrowser.org/cgi-bin/gateway.pl?f=DisplayEntry&p1=ASPOR04405&p2=orthologs\"  width=100% height=600></iframe>"
       ],
       "metadata": {},
       "output_type": "pyout",
       "prompt_number": 2,
       "text": [
        "<IPython.core.display.HTML at 0x7f20c287c8d0>"
       ]
      }
     ],
     "prompt_number": 2
    },
    {
     "cell_type": "code",
     "collapsed": false,
     "input": [
      "ut.web(\"http://omabrowser.org/cgi-bin/gateway.pl?f=DisplayEntry&p1=7442632&p2=fasta\")"
     ],
     "language": "python",
     "metadata": {
      "slideshow": {
       "slide_type": "slide"
      }
     },
     "outputs": [
      {
       "html": [
        "<iframe src=\"http://omabrowser.org/cgi-bin/gateway.pl?f=DisplayEntry&p1=7442632&p2=fasta\"  width=100% height=500></iframe>"
       ],
       "metadata": {},
       "output_type": "pyout",
       "prompt_number": 3,
       "text": [
        "<IPython.core.display.HTML at 0x7f20c287c0d0>"
       ]
      }
     ],
     "prompt_number": 3
    },
    {
     "cell_type": "markdown",
     "metadata": {
      "slideshow": {
       "slide_type": "slide"
      }
     },
     "source": [
      "De manera similar a [wget en bash](http://manpages.ubuntu.com/manpages/precise/man1/wget.1.html), es posible descargar un archivo desde Python usando [urlretrieve del m\u00f3dulo urllib](https://docs.python.org/2/library/urllib.html#urllib.urlretrieve)"
     ]
    },
    {
     "cell_type": "code",
     "collapsed": false,
     "input": [
      "from urllib import urlretrieve\n",
      "urlretrieve(url=\"http://omabrowser.org/cgi-bin/gateway.pl?f=DisplayEntry&p1=7442632&p2=fasta\", filename=\"oma_prot.fasta\")"
     ],
     "language": "python",
     "metadata": {
      "slideshow": {
       "slide_type": "fragment"
      }
     },
     "outputs": [
      {
       "metadata": {},
       "output_type": "pyout",
       "prompt_number": 4,
       "text": [
        "('oma_prot.fasta', <httplib.HTTPMessage instance at 0x7f20c287e950>)"
       ]
      }
     ],
     "prompt_number": 4
    },
    {
     "cell_type": "markdown",
     "metadata": {
      "slideshow": {
       "slide_type": "fragment"
      }
     },
     "source": [
      "```!``` al principio de la celda para correr cosas en ```bash``` s\u00f3lo funciona para ```IPython```. Cuando queremos correr algo en la consola desde otro lugar (en un *script* por ejemplo) lo correcto es usar el [m\u00f3dulo subprocess](https://docs.python.org/2/library/subprocess.html). "
     ]
    },
    {
     "cell_type": "code",
     "collapsed": false,
     "input": [
      "import subprocess\n",
      "print( subprocess.check_output([\"head\",\"oma_prot.fasta\"]) )"
     ],
     "language": "python",
     "metadata": {
      "slideshow": {
       "slide_type": "fragment"
      }
     },
     "outputs": [
      {
       "output_type": "stream",
       "stream": "stdout",
       "text": [
        ">self | ASPOR04405 | 4410 | PGLR1_ASPOR\n",
        "MHFQLLGLAALGSLAAAAPAPSRTSELVERGSSCTFTSAAQASASAKSCSNIVLKNIAVPAGETLDLSKAKDGATITFEG\n",
        "TTTFGYKEWKGPLIRFGGNKITVTQAAGAVIDGQGSRWWDGKGTNGGKTKPKFIYAHKLQSSTIKGLHVKNSPVQVFSVQ\n",
        "GNDVHLTDITIDNSDGDNNGGHNTDAFDVSESNGVYITGANVKNQDDCLAINSGENIEFTGATCSGGHGISIGSIGNRDS\n",
        "NTVKNVKVADSTVVDSDNGIRIKTISGATGSVSGVTYENITLKNIKKNGIVIEQDYKNGGPTGKPTTGVPITDLTVNGVT\n",
        "GSVASKATPVYILCGKGSCSDWTWKGVSISGGKKSDKCQNIPSGASC\n",
        ">1:1 ortholog | ASHGO01704 | AAS52247.1\n",
        "MSCLFPLKASDIQMLFSTLVSTAALIGGATAATVNGACVLTGKDLNKVAEVKKCTNIVIKDFTVPAGKALDLYGLRDGTT\n",
        "VTFAGKVTMDYAKWAGPVFLLGGKDIHVTGAPGHVLEGEGQKWWNGAGDPKNEKPKFMRFKMTGKSVVEKLNVHNTPKMA\n",
        "FSVNNCHGLTIRNNVFDNRAGDGKAKNTDAFDVGSSTNILIHDNKIWNQDDCLAVNSGDQIRFLHNFCSGGHGISIGSVG\n",
        "\n"
       ]
      }
     ],
     "prompt_number": 5
    },
    {
     "cell_type": "code",
     "collapsed": false,
     "input": [
      "from Bio import SeqIO\n",
      "sequencias = SeqIO.parse(\"oma_prot.fasta\",\"fasta\")\n",
      "for record in sequencias:\n",
      "    print(record.description)"
     ],
     "language": "python",
     "metadata": {
      "slideshow": {
       "slide_type": "slide"
      }
     },
     "outputs": [
      {
       "output_type": "stream",
       "stream": "stdout",
       "text": [
        "self | ASPOR04405 | 4410 | PGLR1_ASPOR\n",
        "1:1 ortholog | ASHGO01704 | AAS52247.1\n",
        "1:1 ortholog | ASPFU06544 | EAL89402.1 | PGLRA_ASPFU\n",
        "1:1 ortholog | PENCW11731 | XP_002565929.1\n",
        "1:1 ortholog | HORVD05781 | MLOC_51158.2\n",
        "1:1 ortholog | ASPCL04100 | CADACLAP00004327 | PGLR1_ASPCL\n",
        "1:1 ortholog | ASPFN08740 | CADAFLAP00004552 | PGLR1_ASPFN\n",
        "1:1 ortholog | PENCH04510 | 34016\n",
        "1:1 ortholog | NEOFI00364 | 365 | PGLRA_NEOFI\n",
        "1:1 ortholog | ASPAC03769 | 51257\n",
        "1:1 ortholog | MUSAC06263 | GSMUA_Achr1P12720_001\n",
        "1:many ortholog | ORYSJ11914 | LOC_Os01g43490.1\n",
        "1:many ortholog | ORYSJ33612 | LOC_Os11g14400.1\n",
        "1:many ortholog | ORYSJ44415 | LOC_Os08g23790.1\n",
        "1:many ortholog | SORBI07642 | 4769697\n",
        "1:many ortholog | SORBI11759 | 4862412\n",
        "1:many ortholog | SOYBN18216 | GLYMA07G34990.2\n",
        "1:many ortholog | SOYBN21541 | GLYMA09G04640.2\n",
        "1:many ortholog | SOYBN32626 | GLYMA14G00930.1\n",
        "1:many ortholog | TRIUA05691 | TRIUR3_33373-P1\n",
        "1:many ortholog | TRIUA13864 | TRIUR3_19991-P1\n",
        "1:many ortholog | TRIUA14262 | TRIUR3_18974-P1\n",
        "many:many ortholog | POPTR09663 | POPTR_0007s00480.1\n",
        "many:many ortholog | POPTR09666 | POPTR_0007s00510.1\n",
        "many:many ortholog | POPTR09667 | POPTR_0007s00520.1\n",
        "many:many ortholog | POPTR26051 | POPTR_0010s25450.1\n",
        "many:many ortholog | MANES25518 | PACid:17986635\n",
        "many:many ortholog | MANES29597 | PACid:17990888\n",
        "many:many ortholog | PHYIT08415 | PITG_10255T0\n",
        "many:many ortholog | PHYIT13409 | PITG_16824T0\n",
        "many:many ortholog | PHYIT15292 | PITG_19455T0\n",
        "many:many ortholog | PHYIT15413 | PITG_19619T0\n",
        "many:many ortholog | PHYIT15418 | PITG_19624T0\n",
        "many:many ortholog | PHYIT15419 | PITG_19625T0\n",
        "many:many ortholog | PHYIT15434 | PITG_19649T0\n",
        "many:many ortholog | PHYIT16453 | PITG_21248T0\n",
        "many:many ortholog | POSPM06991 | 43190\n",
        "many:many ortholog | POSPM07150 | 43189\n",
        "many:many ortholog | CONPW07115 | 125484\n",
        "many:many ortholog | CONPW09904 | 139092\n",
        "many:many ortholog | CONPW09907 | 146090\n",
        "many:many ortholog | CONPW09909 | 157198\n",
        "many:many ortholog | GLOTR04424 | 120615\n",
        "many:many ortholog | GLOTR04425 | 110574\n",
        "many:many ortholog | STEHR05676 | 130790\n",
        "many:many ortholog | STEHR11691 | 86263\n",
        "many:many ortholog | STEHR12301 | 125789\n",
        "many:many ortholog | TRAVS09619 | 171861\n",
        "many:many ortholog | TRAVS11692 | 52416\n",
        "many:many ortholog | FOMPI02181 | 87728\n",
        "many:many ortholog | FOMPI03224 | 159821\n",
        "many:many ortholog | FOMPI03225 | 281608\n",
        "many:many ortholog | FOMPI11358 | 1169252\n",
        "many:many ortholog | FOMME05605 | 86090\n",
        "many:many ortholog | FOMME05607 | 28644\n",
        "many:many ortholog | WOLCO00793 | 94031\n",
        "many:many ortholog | WOLCO10423 | 92023\n",
        "many:many ortholog | PUNST01566 | 57744\n",
        "many:many ortholog | PUNST11075 | 123222\n",
        "many:many ortholog | PHLGI02064 | 28251\n",
        "many:many ortholog | PHLGI05163 | 70503\n",
        "many:many ortholog | PHLGI07280 | 36341\n",
        "many:many ortholog | HETAN11073 | 118397\n",
        "many:many ortholog | HETAN11074 | 152014\n",
        "many:many ortholog | PHYBL00365 | 76792\n",
        "many:many ortholog | PHYBL09136 | 40742\n",
        "many:many ortholog | SOLLC12468 | Solyc04g015530.1.1\n",
        "many:many ortholog | SOLLC26117 | Solyc12g019130.1.1\n",
        "many:many ortholog | SOLLC26118 | Solyc12g019140.1.1\n",
        "many:many ortholog | MEDTR09922 | AES59077\n",
        "many:many ortholog | MEDTR15136 | AES64731\n",
        "many:many ortholog | MEDTR34597 | AES71940\n",
        "many:many ortholog | MEDTR40424 | AES90082\n",
        "many:1 ortholog | MAGGR02957 | MGT_00881\n",
        "many:1 ortholog | USTMA02505 | UM02510.1\n",
        "many:1 ortholog | VITVI03773 | GSVIVT01017304001\n",
        "many:1 ortholog | AGABI10009 | 229720\n",
        "many:1 ortholog | NEUT906325 | 47718\n",
        "many:1 ortholog | VERDA10215 | 10221\n",
        "many:1 ortholog | AURDE01032 | 51288\n",
        "many:1 ortholog | PHACH02611 | 3805\n",
        "close paralog | ASPOR00397 | 397\n",
        "close paralog | ASPOR01861 | 1863\n",
        "close paralog | ASPOR04193 | 4196 | PGLRB_ASPOR\n",
        "close paralog | ASPOR08670 | 8681\n"
       ]
      }
     ],
     "prompt_number": 6
    },
    {
     "cell_type": "code",
     "collapsed": false,
     "input": [
      "ut.web(\"http://xkcd.com/208/\")"
     ],
     "language": "python",
     "metadata": {
      "slideshow": {
       "slide_type": "slide"
      }
     },
     "outputs": [
      {
       "html": [
        "<iframe src=\"http://xkcd.com/208/\"  width=100% height=500></iframe>"
       ],
       "metadata": {},
       "output_type": "pyout",
       "prompt_number": 7,
       "text": [
        "<IPython.core.display.HTML at 0x7f20c2868cd0>"
       ]
      }
     ],
     "prompt_number": 7
    },
    {
     "cell_type": "markdown",
     "metadata": {
      "slideshow": {
       "slide_type": "slide"
      }
     },
     "source": [
      "En Python las expresiones regulares se obtienen a trav\u00e9s del [m\u00f3dulo re](https://docs.python.org/2/library/re.html)."
     ]
    },
    {
     "cell_type": "code",
     "collapsed": false,
     "input": [
      "import re\n",
      "buscar = re.compile(\"^1:1 ortholog \\||^self \\|\")"
     ],
     "language": "python",
     "metadata": {
      "slideshow": {
       "slide_type": "fragment"
      }
     },
     "outputs": [],
     "prompt_number": 8
    },
    {
     "cell_type": "code",
     "collapsed": false,
     "input": [
      "ut.web(\"http://regex101.com\", alto=500)"
     ],
     "language": "python",
     "metadata": {
      "slideshow": {
       "slide_type": "fragment"
      }
     },
     "outputs": [
      {
       "html": [
        "<iframe src=\"http://regex101.com\"  width=100% height=500></iframe>"
       ],
       "metadata": {},
       "output_type": "pyout",
       "prompt_number": 9,
       "text": [
        "<IPython.core.display.HTML at 0x7f20c0136990>"
       ]
      }
     ],
     "prompt_number": 9
    },
    {
     "cell_type": "code",
     "collapsed": false,
     "input": [
      "ortholog = {}\n",
      "sequencias = SeqIO.parse(\"oma_prot.fasta\",\"fasta\")\n",
      "for record in sequencias:\n",
      "    if buscar.search(record.description):\n",
      "        ortholog[record.description] = record.seq\n",
      "ortholog"
     ],
     "language": "python",
     "metadata": {
      "slideshow": {
       "slide_type": "slide"
      }
     },
     "outputs": [
      {
       "metadata": {},
       "output_type": "pyout",
       "prompt_number": 10,
       "text": [
        "{'1:1 ortholog | ASHGO01704 | AAS52247.1': Seq('MSCLFPLKASDIQMLFSTLVSTAALIGGATAATVNGACVLTGKDLNKVAEVKKC...IKC', SingleLetterAlphabet()),\n",
        " '1:1 ortholog | ASPAC03769 | 51257': Seq('MHSFQLLGLAAVGSVVSAAPTASRVSDLVKKSSSTCTFTSASEASESISSCSNV...ASC', SingleLetterAlphabet()),\n",
        " '1:1 ortholog | ASPCL04100 | CADACLAP00004327 | PGLR1_ASPCL': Seq('MRSVEILGLAALGSLVAAAPSPSRVSNSAKKASSCTFTSAAQASKSASGCSEIT...ASC', SingleLetterAlphabet()),\n",
        " '1:1 ortholog | ASPFN08740 | CADAFLAP00004552 | PGLR1_ASPFN': Seq('MHFQLLGLAALGSLAAAAPAPSRTSELVERGSSCTFTSAAQASASAKSCSNIVL...ASC', SingleLetterAlphabet()),\n",
        " '1:1 ortholog | ASPFU06544 | EAL89402.1 | PGLRA_ASPFU': Seq('MRSVKLFGLAALGSLGAAAPAPSRVSDLTKRSSTCTFTAASQATESASGCSEIV...ASC', SingleLetterAlphabet()),\n",
        " '1:1 ortholog | HORVD05781 | MLOC_51158.2': Seq('MEVWPPLLVVILTLGVVSLCGGLEAVAENMTVAQLLPMSSYHRGLATYNAKNFG...PCA', SingleLetterAlphabet()),\n",
        " '1:1 ortholog | MUSAC06263 | GSMUA_Achr1P12720_001': Seq('MPHSKKFNILFFGATGDGVADDSKAFKAAWKAACLVPRATIELPSEFKFLVRPI...QCQ', SingleLetterAlphabet()),\n",
        " '1:1 ortholog | NEOFI00364 | 365 | PGLRA_NEOFI': Seq('MRSVELLSLAALGSLVAAAPAPSRVSDLTKRSSTCTFTAASQATESASGCSEIV...ASC', SingleLetterAlphabet()),\n",
        " '1:1 ortholog | PENCH04510 | 34016': Seq('MRTSFLSMLALGAAAVSAAPAPSRASELVERGSSTCTFTSAASASASKKACSTI...ASC', SingleLetterAlphabet()),\n",
        " '1:1 ortholog | PENCW11731 | XP_002565929.1': Seq('MRTSFLSMLALGAAAVSAAPAPSRASELVERGSSTCTFTSAASASASKKACSTI...ASC', SingleLetterAlphabet()),\n",
        " 'self | ASPOR04405 | 4410 | PGLR1_ASPOR': Seq('MHFQLLGLAALGSLAAAAPAPSRTSELVERGSSCTFTSAAQASASAKSCSNIVL...ASC', SingleLetterAlphabet())}"
       ]
      }
     ],
     "prompt_number": 10
    },
    {
     "cell_type": "code",
     "collapsed": false,
     "input": [
      "with open(\"ortologos.fasta\",\"w\") as fh:\n",
      "    for desc, seq in ortholog.iteritems():\n",
      "        ident = desc.split(\"|\")[1].replace(\" \",\"\")\n",
      "        fh.write(\">%s\\n%s\\n\"%(ident,seq))"
     ],
     "language": "python",
     "metadata": {
      "slideshow": {
       "slide_type": "slide"
      }
     },
     "outputs": [],
     "prompt_number": 11
    },
    {
     "cell_type": "code",
     "collapsed": false,
     "input": [
      "! head -4 ortologos.fasta"
     ],
     "language": "python",
     "metadata": {
      "slideshow": {
       "slide_type": "fragment"
      }
     },
     "outputs": [
      {
       "output_type": "stream",
       "stream": "stdout",
       "text": [
        ">ASPAC03769\r\n",
        "MHSFQLLGLAAVGSVVSAAPTASRVSDLVKKSSSTCTFTSASEASESISSCSNVVLSNIEVPAGETLDLSDAADGATITFEGTTSFGYEEWDGPLIRFGGKQLTITQSDGAVIDGDGSRWWDSEGTNGGKTKPKFMYVHDVEDSTIKGLQIKNTPVQAISVQATNVYLTDITIDNSDGDDNGGHNTDGFDISESTGVYISGATVKNQDDCIAINSGENILFTGGTCSGGHGLSIGSVGGRDDNTVKNVTISDSTVTDSANGVRIKTIYGDTGDVSEITYSNIQLSGITDYGIVIEQDYENGSPTGTPSTGVPITDVTVDGITGSIEDDAVQVYILCGDGSCSDWTWSGVDITGGETSSDCENVPSGASC\r\n",
        ">ASPFN08740\r\n",
        "MHFQLLGLAALGSLAAAAPAPSRTSELVERGSSCTFTSAAQASASAKSCSNIVLKNIAVPAGETLDLSKAKDGATITFEGTTTFGYKEWKGPLIRFGGNKITVTQAAGAVIDGQGSRWWDGKGTNGGKTKPKFIYAHKLQSSTIKGLHVKNSPVQVFSVQGNDVHLTDITIDNSDGDNNGGHNTDAFDVSESNGVYITGANVKNQDDCLAINSGENIEFTGATCSGGHGISIGSIGNRDSNTVKNVKVADSTVVDSDNGIRIKTISGATGSVSGVTYENITLKNIKKNGIVIEQDYKNGGPTGKPTTGVPITDLTVNGVTGSVASKATPVYILCGKGSCSDWTWKGVSISGGKKSDKCQNIPSGASC\r\n"
       ]
      }
     ],
     "prompt_number": 12
    },
    {
     "cell_type": "code",
     "collapsed": false,
     "input": [
      "!t_coffee ortologos.fasta"
     ],
     "language": "python",
     "metadata": {
      "slideshow": {
       "slide_type": "slide"
      }
     },
     "outputs": [
      {
       "output_type": "stream",
       "stream": "stdout",
       "text": [
        "\r\n",
        "PROGRAM: T-COFFEE Version_10.00.r1613 (2013-10-22 15:49:04 - Revision 1613 - Build 427)\r\n",
        "-full_log      \tS\t[0] \r\n",
        "-genepred_score\tS\t[0] \tnsd\r\n",
        "-run_name      \tS\t[0] \r\n",
        "-mem_mode      \tS\t[0] \tmem\r\n",
        "-extend        \tD\t[1] \t1 \r\n",
        "-extend_mode   \tS\t[0] \tvery_fast_triplet\r\n",
        "-max_n_pair    \tD\t[0] \t10 \r\n",
        "-seq_name_for_quadruplet\tS\t[0] \tall\r\n",
        "-compact       \tS\t[0] \tdefault\r\n",
        "-clean         \tS\t[0] \tno\r\n",
        "-do_self       \tFL\t[0] \t0\r\n",
        "-do_normalise  \tD\t[0] \t1000 \r\n",
        "-template_file \tS\t[0] \r\n",
        "-setenv        \tS\t[0] \t0\r\n",
        "-template_mode \tS\t[0] \r\n",
        "-flip          \tD\t[0] \t0 \r\n",
        "-remove_template_file\tD\t[0] \t0 \r\n",
        "-profile_template_file\tS\t[0] \r\n",
        "-in            \tS\t[0] \r\n",
        "-seq           \tS\t[1] \tortologos.fasta\r\n",
        "-aln           \tS\t[0] \r\n",
        "-method_limits \tS\t[0] \r\n",
        "-method        \tS\t[0] \r\n",
        "-lib           \tS\t[0] \r\n",
        "-profile       \tS\t[0] \r\n",
        "-profile1      \tS\t[0] \r\n",
        "-profile2      \tS\t[0] \r\n",
        "-pdb           \tS\t[0] \r\n",
        "-relax_lib     \tD\t[0] \t1 \r\n",
        "-filter_lib    \tD\t[0] \t0 \r\n",
        "-shrink_lib    \tD\t[0] \t0 \r\n",
        "-out_lib       \tW_F\t[0] \tno\r\n",
        "-out_lib_mode  \tS\t[0] \tprimary\r\n",
        "-lib_only      \tD\t[0] \t0 \r\n",
        "-outseqweight  \tW_F\t[0] \tno\r\n",
        "-dpa           \tFL\t[0] \t0\r\n",
        "-seq_source    \tS\t[0] \tANY\r\n",
        "-cosmetic_penalty\tD\t[0] \t0 \r\n",
        "-gapopen       \tD\t[0] \t0 \r\n",
        "-gapext        \tD\t[0] \t0 \r\n",
        "-fgapopen      \tD\t[0] \t0 \r\n",
        "-fgapext       \tD\t[0] \t0 \r\n",
        "-nomatch       \tD\t[0] \t0 \r\n",
        "-newtree       \tW_F\t[0] \tdefault\r\n",
        "-tree          \tW_F\t[0] \tNO\r\n",
        "-usetree       \tR_F\t[0] \r\n",
        "-tree_mode     \tS\t[0] \tnj\r\n",
        "-distance_matrix_mode\tS\t[0] \tktup\r\n",
        "-distance_matrix_sim_mode\tS\t[0] \tidmat_sim1\r\n",
        "-quicktree     \tFL\t[0] \t0\r\n",
        "-outfile       \tW_F\t[0] \tdefault\r\n",
        "-maximise      \tFL\t[1] \t1\r\n",
        "-output        \tS\t[0] \taln\thtml\r\n",
        "-len           \tD\t[0] \t0 \r\n",
        "-infile        \tR_F\t[0] \r\n",
        "-matrix        \tS\t[0] \tdefault\r\n",
        "-tg_mode       \tD\t[0] \t1 \r\n",
        "-profile_mode  \tS\t[0] \tcw_profile_profile\r\n",
        "-profile_comparison\tS\t[0] \tprofile\r\n",
        "-dp_mode       \tS\t[0] \tlinked_pair_wise\r\n",
        "-ktuple        \tD\t[0] \t1 \r\n",
        "-ndiag         \tD\t[0] \t0 \r\n",
        "-diag_threshold\tD\t[0] \t0 \r\n",
        "-diag_mode     \tD\t[0] \t0 \r\n",
        "-sim_matrix    \tS\t[0] \tvasiliky\r\n",
        "-transform     \tS\t[0] \r\n",
        "-extend_seq    \tFL\t[0] \t0\r\n",
        "-outorder      \tS\t[0] \tinput\r\n",
        "-inorder       \tS\t[0] \taligned\r\n",
        "-seqnos        \tS\t[0] \toff\r\n",
        "-case          \tS\t[0] \tkeep\r\n",
        "-cpu           \tD\t[0] \t0 \r\n",
        "-maxnseq       \tD\t[0] \t1000 \r\n",
        "-maxlen        \tD\t[0] \t-1 \r\n",
        "-sample_dp     \tD\t[0] \t0 \r\n",
        "-weight        \tS\t[0] \tdefault\r\n",
        "-seq_weight    \tS\t[0] \tno\r\n",
        "-align         \tFL\t[1] \t1\r\n",
        "-mocca         \tFL\t[0] \t0\r\n",
        "-domain        \tFL\t[0] \t0\r\n",
        "-start         \tD\t[0] \t0 \r\n",
        "-len           \tD\t[0] \t0 \r\n",
        "-scale         \tD\t[0] \t0 \r\n",
        "-mocca_interactive\tFL\t[0] \t0\r\n",
        "-method_evaluate_mode\tS\t[0] \tdefault\r\n",
        "-evaluate_mode \tS\t[0] \ttriplet\r\n",
        "-get_type      \tFL\t[0] \t0\r\n",
        "-clean_aln     \tD\t[0] \t0 \r\n",
        "-clean_threshold\tD\t[1] \t1 \r\n",
        "-clean_iteration\tD\t[1] \t1 \r\n",
        "-clean_evaluate_mode\tS\t[0] \tt_coffee_fast\r\n",
        "-extend_matrix \tFL\t[0] \t0\r\n",
        "-prot_min_sim  \tD\t[40] \t40 \r\n",
        "-prot_max_sim  \tD\t[90] \t90 \r\n",
        "-prot_min_cov  \tD\t[40] \t40 \r\n",
        "-pdb_type      \tS\t[0] \td\r\n",
        "-pdb_min_sim   \tD\t[35] \t35 \r\n",
        "-pdb_max_sim   \tD\t[100] \t100 \r\n",
        "-pdb_min_cov   \tD\t[50] \t50 \r\n",
        "-pdb_blast_server\tW_F\t[0] \tEBI\r\n",
        "-blast         \tW_F\t[0] \r\n",
        "-blast_server  \tW_F\t[0] \tEBI\r\n",
        "-pdb_db        \tW_F\t[0] \tpdb\r\n",
        "-protein_db    \tW_F\t[0] \tuniprot\r\n",
        "-method_log    \tW_F\t[0] \tno\r\n",
        "-struc_to_use  \tS\t[0] \r\n",
        "-cache         \tW_F\t[0] \tuse\r\n",
        "-align_pdb_param_file\tW_F\t[0] \tno\r\n",
        "-align_pdb_hasch_mode\tW_F\t[0] \thasch_ca_trace_bubble\r\n",
        "-external_aligner\tS\t[0] \tNO\r\n",
        "-msa_mode      \tS\t[0] \ttree\r\n",
        "-master        \tS\t[0] \tno\r\n",
        "-blast_nseq    \tD\t[0] \t0 \r\n",
        "-lalign_n_top  \tD\t[0] \t10 \r\n",
        "-iterate       \tD\t[0] \t0 \r\n",
        "-trim          \tD\t[0] \t0 \r\n",
        "-split         \tD\t[0] \t0 \r\n",
        "-trimfile      \tS\t[0] \tdefault\r\n",
        "-split         \tD\t[0] \t0 \r\n",
        "-split_nseq_thres\tD\t[0] \t0 \r\n",
        "-split_score_thres\tD\t[0] \t0 \r\n",
        "-check_pdb_status\tD\t[0] \t0 \r\n",
        "-clean_seq_name\tD\t[0] \t0 \r\n",
        "-seq_to_keep   \tS\t[0] \r\n",
        "-dpa_master_aln\tS\t[0] \r\n",
        "-dpa_maxnseq   \tD\t[0] \t0 \r\n",
        "-dpa_min_score1\tD\t[0] \r\n",
        "-dpa_min_score2\tD\t[0] \r\n",
        "-dpa_keep_tmpfile\tFL\t[0] \t0\r\n",
        "-dpa_debug     \tD\t[0] \t0 \r\n",
        "-multi_core    \tS\t[0] \ttemplates_jobs_relax_msa_evaluate\r\n",
        "-n_core        \tD\t[0] \t0 \r\n",
        "-max_n_proc    \tD\t[0] \t0 \r\n",
        "-lib_list      \tS\t[0] \r\n",
        "-prune_lib_mode\tS\t[0] \t5\r\n",
        "-tip           \tS\t[0] \tnone\r\n",
        "-rna_lib       \tS\t[0] \r\n",
        "-no_warning    \tD\t[0] \t0 \r\n",
        "-run_local_script\tD\t[0] \t0 \r\n",
        "-plugins       \tS\t[0] \tdefault\r\n",
        "-proxy         \tS\t[0] \tunset\r\n",
        "-email         \tS\t[0] \r\n",
        "-clean_overaln \tD\t[0] \t0 \r\n",
        "-overaln_param \tS\t[0] \r\n",
        "-overaln_mode  \tS\t[0] \r\n",
        "-overaln_model \tS\t[0] \r\n",
        "-overaln_threshold\tD\t[0] \t0 \r\n",
        "-overaln_target\tD\t[0] \t0 \r\n",
        "-overaln_P1    \tD\t[0] \t0 \r\n",
        "-overaln_P2    \tD\t[0] \t0 \r\n",
        "-overaln_P3    \tD\t[0] \t0 \r\n",
        "-overaln_P4    \tD\t[0] \t0 \r\n",
        "-exon_boundaries\tS\t[0] \r\n",
        "-dump          \tS\t[0] \tno\r\n",
        "-display       \tD\t[0] \t100 \r\n",
        "\r\n",
        "INPUT FILES\r\n",
        "\tInput File (S) ortologos.fasta  Format fasta_seq\r\n",
        "\tInput File (M) proba_pair \r\n",
        "\r\n",
        "Identify Master Sequences [no]:\r\n",
        "\r\n",
        "Master Sequences Identified\r\n",
        "INPUT SEQUENCES: 11 SEQUENCES  [PROTEIN]\r\n",
        "  Input File ortologos.fasta Seq ASHGO01704 Length  368 type PROTEIN Struct Unchecked\r\n",
        "  Input File ortologos.fasta Seq ASPAC03769 Length  369 type PROTEIN Struct Unchecked\r\n",
        "  Input File ortologos.fasta Seq ASPCL04100 Length  368 type PROTEIN Struct Unchecked\r\n",
        "  Input File ortologos.fasta Seq ASPFN08740 Length  367 type PROTEIN Struct Unchecked\r\n",
        "  Input File ortologos.fasta Seq ASPFU06544 Length  368 type PROTEIN Struct Unchecked\r\n",
        "  Input File ortologos.fasta Seq ASPOR04405 Length  367 type PROTEIN Struct Unchecked\r\n",
        "  Input File ortologos.fasta Seq HORVD05781 Length  416 type PROTEIN Struct Unchecked\r\n",
        "  Input File ortologos.fasta Seq MUSAC06263 Length  410 type PROTEIN Struct Unchecked\r\n",
        "  Input File ortologos.fasta Seq NEOFI00364 Length  368 type PROTEIN Struct Unchecked\r\n",
        "  Input File ortologos.fasta Seq PENCH04510 Length  369 type PROTEIN Struct Unchecked\r\n",
        "  Input File ortologos.fasta Seq PENCW11731 Length  369 type PROTEIN Struct Unchecked\r\n",
        "\r\n",
        "\tMulti Core Mode: 8 processors:\r\n",
        "\r\n",
        "\t--- Process Method/Library/Aln Sortologos.fasta\r\n",
        "\t--- Process Method/Library/Aln Mproba_pair\r\n",
        "\txxx Retrieved Sortologos.fasta"
       ]
      },
      {
       "output_type": "stream",
       "stream": "stdout",
       "text": [
        "\r\n",
        "\txxx Retrieved Mproba_pair"
       ]
      },
      {
       "output_type": "stream",
       "stream": "stdout",
       "text": [
        "\r\n",
        "\r\n",
        "\tAll Methods Retrieved\r\n",
        "\r\n",
        "MANUAL PENALTIES: gapopen=0 gapext=0\r\n",
        "\r\n",
        "\tLibrary Total Size: [87368]\r\n",
        "\r\n",
        "Library Relaxation: Multi_proc [8]\r\n",
        " \r\n",
        "\t\t[Relax Library][TOT=    1][100 %][ELAPSED TIME:    0 sec.]"
       ]
      },
      {
       "output_type": "stream",
       "stream": "stdout",
       "text": [
        "\r\n",
        "Relaxation Summary: [87368]--->[65901]\r\n",
        "\r\n",
        "\r\n",
        "\r\n",
        "UN-WEIGHTED MODE: EVERY SEQUENCE WEIGHTS 1\r\n",
        "\r\n",
        "MAKE GUIDE TREE \r\n",
        "\t[MODE=nj][DONE]\r\n",
        "\r\n",
        "PROGRESSIVE_ALIGNMENT [Tree Based]\r\n",
        "Group    1: ASHGO01704\r\n",
        "Group    2: ASPAC03769\r\n",
        "Group    3: ASPCL04100\r\n",
        "Group    4: ASPFN08740\r\n",
        "Group    5: ASPFU06544\r\n",
        "Group    6: ASPOR04405\r\n",
        "Group    7: HORVD05781\r\n",
        "Group    8: MUSAC06263\r\n",
        "Group    9: NEOFI00364\r\n",
        "Group   10: PENCH04510\r\n",
        "Group   11: PENCW11731\r\n",
        "\r\n",
        "\r\n",
        "\tGroup   13: [Group    9 (   1 seq)] with [Group    5 (   1 seq)]-->[Len=  368][PID:11725]\r\n",
        "\tGroup   12: [Group    6 (   1 seq)] with [Group    4 (   1 seq)]-->[Len=  367][PID:11724]\r\n",
        "\tGroup   14: [Group   13 (   2 seq)] with [Group    2 (   1 seq)]-->[Len=  369][PID:11725]"
       ]
      },
      {
       "output_type": "stream",
       "stream": "stdout",
       "text": [
        "\r\n",
        "\tGroup   15: [Group    3 (   1 seq)] with [Group   14 (   3 seq)]-->[Len=  369][PID:11725]\r\n",
        "\tGroup   16: [Group   15 (   4 seq)] with [Group   12 (   2 seq)]-->[Len=  369][PID:11722][Forked]\r\n",
        "\tGroup   18: [Group   17 (   2 seq)] with [Group   16 (   6 seq)]-->[Len=  370][PID:11720][Forked]\r\n",
        "\tGroup   19: [Group   18 (   8 seq)] with [Group    1 (   1 seq)]-->[Len=  375][PID:11720]"
       ]
      },
      {
       "output_type": "stream",
       "stream": "stdout",
       "text": [
        "\r\n",
        "\tGroup   21: [Group   20 (   2 seq)] with [Group   19 (   9 seq)]-->[Len=  475][PID:11697][Forked]\r\n",
        "\r\n",
        "\r\n",
        "\t\t[Final Evaluation][TOT=   59][  0 %][ELAPSED TIME:    0 sec.]\r",
        "\t\t[Final Evaluation][TOT=   59][  3 %][ELAPSED TIME:    0 sec.]\r",
        "\t\t[Final Evaluation][TOT=   59][  5 %][ELAPSED TIME:    0 sec.]\r",
        "\t\t[Final Evaluation][TOT=   59][  6 %][ELAPSED TIME:    0 sec.]\r",
        "\t\t[Final Evaluation][TOT=   59][  8 %][ELAPSED TIME:    0 sec.]\r",
        "\t\t[Final Evaluation][TOT=   59][ 10 %][ELAPSED TIME:    0 sec.]\r",
        "\t\t[Final Evaluation][TOT=   59][ 11 %][ELAPSED TIME:    0 sec.]\r",
        "\t\t[Final Evaluation][TOT=   59][ 13 %][ELAPSED TIME:    0 sec.]\r",
        "\t\t[Final Evaluation][TOT=   59][ 15 %][ELAPSED TIME:    0 sec.]\r",
        "\t\t[Final Evaluation][TOT=   59][ 16 %][ELAPSED TIME:    0 sec.]\r",
        "\t\t[Final Evaluation][TOT=   59][ 18 %][ELAPSED TIME:    0 sec.]\r",
        "\t\t[Final Evaluation][TOT=   59][ 20 %][ELAPSED TIME:    0 sec.]\r",
        "\t\t[Final Evaluation][TOT=   59][ 22 %][ELAPSED TIME:    0 sec.]\r",
        "\t\t[Final Evaluation][TOT=   59][ 23 %][ELAPSED TIME:    0 sec.]\r",
        "\t\t[Final Evaluation][TOT=   59][ 25 %][ELAPSED TIME:    0 sec.]\r",
        "\t\t[Final Evaluation][TOT=   59][ 27 %][ELAPSED TIME:    0 sec.]\r",
        "\t\t[Final Evaluation][TOT=   59][ 28 %][ELAPSED TIME:    0 sec.]\r",
        "\t\t[Final Evaluation][TOT=   59][ 30 %][ELAPSED TIME:    0 sec.]\r",
        "\t\t[Final Evaluation][TOT=   59][ 32 %][ELAPSED TIME:    0 sec.]\r",
        "\t\t[Final Evaluation][TOT=   59][ 33 %][ELAPSED TIME:    0 sec.]\r",
        "\t\t[Final Evaluation][TOT=   59][ 35 %][ELAPSED TIME:    0 sec.]\r",
        "\t\t[Final Evaluation][TOT=   59][ 37 %][ELAPSED TIME:    0 sec.]\r",
        "\t\t[Final Evaluation][TOT=   59][ 38 %][ELAPSED TIME:    0 sec.]\r",
        "\t\t[Final Evaluation][TOT=   59][ 40 %][ELAPSED TIME:    0 sec.]\r",
        "\t\t[Final Evaluation][TOT=   59][ 42 %][ELAPSED TIME:    0 sec.]\r",
        "\t\t[Final Evaluation][TOT=   59][ 44 %][ELAPSED TIME:    0 sec.]\r",
        "\t\t[Final Evaluation][TOT=   59][ 45 %][ELAPSED TIME:    0 sec.]\r",
        "\t\t[Final Evaluation][TOT=   59][ 47 %][ELAPSED TIME:    0 sec.]\r",
        "\t\t[Final Evaluation][TOT=   59][ 49 %][ELAPSED TIME:    0 sec.]\r",
        "\t\t[Final Evaluation][TOT=   59][ 50 %][ELAPSED TIME:    0 sec.]\r",
        "\t\t[Final Evaluation][TOT=   59][ 52 %][ELAPSED TIME:    0 sec.]\r",
        "\t\t[Final Evaluation][TOT=   59][ 54 %][ELAPSED TIME:    0 sec.]\r",
        "\t\t[Final Evaluation][TOT=   59][ 55 %][ELAPSED TIME:    0 sec.]\r",
        "\t\t[Final Evaluation][TOT=   59][ 57 %][ELAPSED TIME:    0 sec.]\r",
        "\t\t[Final Evaluation][TOT=   59][ 59 %][ELAPSED TIME:    0 sec.]\r",
        "\t\t[Final Evaluation][TOT=   59][ 61 %][ELAPSED TIME:    0 sec.]\r",
        "\t\t[Final Evaluation][TOT=   59][ 62 %][ELAPSED TIME:    0 sec.]\r",
        "\t\t[Final Evaluation][TOT=   59][ 64 %][ELAPSED TIME:    0 sec.]\r",
        "\t\t[Final Evaluation][TOT=   59][ 66 %][ELAPSED TIME:    0 sec.]\r",
        "\t\t[Final Evaluation][TOT=   59][ 67 %][ELAPSED TIME:    0 sec.]\r",
        "\t\t[Final Evaluation][TOT=   59][ 69 %][ELAPSED TIME:    0 sec.]\r",
        "\t\t[Final Evaluation][TOT=   59][ 71 %][ELAPSED TIME:    0 sec.]\r",
        "\t\t[Final Evaluation][TOT=   59][ 72 %][ELAPSED TIME:    0 sec.]\r",
        "\t\t[Final Evaluation][TOT=   59][ 74 %][ELAPSED TIME:    0 sec.]\r",
        "\t\t[Final Evaluation][TOT=   59][ 76 %][ELAPSED TIME:    0 sec.]\r",
        "\t\t[Final Evaluation][TOT=   59][ 77 %][ELAPSED TIME:    0 sec.]\r",
        "\t\t[Final Evaluation][TOT=   59][ 79 %][ELAPSED TIME:    0 sec.]\r",
        "\t\t[Final Evaluation][TOT=   59][ 81 %][ELAPSED TIME:    0 sec.]\r",
        "\t\t[Final Evaluation][TOT=   59][ 83 %][ELAPSED TIME:    0 sec.]\r",
        "\t\t[Final Evaluation][TOT=   59][ 84 %][ELAPSED TIME:    0 sec.]\r",
        "\t\t[Final Evaluation][TOT=   59][ 86 %][ELAPSED TIME:    0 sec.]\r",
        "\t\t[Final Evaluation][TOT=   59][ 88 %][ELAPSED TIME:    0 sec.]\r",
        "\t\t[Final Evaluation][TOT=   59][ 89 %][ELAPSED TIME:    0 sec.]\r",
        "\t\t[Final Evaluation][TOT=   59][ 91 %][ELAPSED TIME:    0 sec.]\r",
        "\t\t[Final Evaluation][TOT=   59][ 93 %][ELAPSED TIME:    0 sec.]\r",
        "\t\t[Final Evaluation][TOT=   59][ 94 %][ELAPSED TIME:    0 sec.]\r",
        "\t\t[Final Evaluation][TOT=   59][ 96 %][ELAPSED TIME:    0 sec.]\r",
        "\t\t[Final Evaluation][TOT=   59][ 98 %][ELAPSED TIME:    0 sec.]\r",
        "\t\t[Final Evaluation][TOT=   59][100 %][ELAPSED TIME:    0 sec.]\r\n",
        "CLUSTAL FORMAT for T-COFFEE Version_10.00.r1613 [http://www.tcoffee.org] [MODE:  ], CPU=0.00 sec, SCORE=88, Nseq=11, Len=475 \r\n",
        "\r\n",
        "ASPAC03769      MHSFQL--LGLAAVG---S-V-VS--AAPTASRVSDLVKK----------\r\n",
        "ASPFN08740      MHF-QL--LGLAALG---S-L-AA--AAPAPSRTSELVER----------\r\n",
        "HORVD05781      MEVWPPLLVVILTLGVV-S-LCGGLEAVAENMTVAQLLPMSSYHRGLATY\r\n",
        "MUSAC06263      MPHSKK--FNILFFG---A-T-GD--GVADDSKAFKAAWK-A----ACLV\r\n",
        "ASPOR04405      MHF-QL--LGLAALG---S-L-AA--AAPAPSRTSELVER----------\r\n",
        "ASPCL04100      MRSVEI--LGLAALG---S-L-VA--AAPSPSRVSNSAKK----------\r\n",
        "PENCW11731      MRT-SF--LSMLALG---AAA-VS--AAPAPSRASELVER----------\r\n",
        "NEOFI00364      MRSVEL--LSLAALG---S-L-VA--AAPAPSRVSDLTKR----------\r\n",
        "ASPFU06544      MRSVKL--FGLAALG---S-L-GA--AAPAPSRVSDLTKR----------\r\n",
        "ASHGO01704      MSCLFP--LKASDIQMLFSTL-VS--TAALIGGATAA-TV----------\r\n",
        "PENCH04510      MRT-SF--LSMLALG---AAA-VS--AAPAPSRASELVER----------\r\n",
        "                *       .    .    :        ..    .                \r\n",
        "\r\n",
        "ASPAC03769      --------SSSTCTFTSAS-EASESISSCSNVVLSNIEVPAGETLD----\r\n",
        "ASPFN08740      --------G-SSCTFTSAA-QASASAKSCSNIVLKNIAVPAGETLD----\r\n",
        "HORVD05781      NAKNFGAEGNGTNDDSKQA-LMAAWKAACGASGTVTLLIPPGTYYIGPTQ\r\n",
        "MUSAC06263      PRATIELP-------------------SEFKFLVRPITLQGPCMPH----\r\n",
        "ASPOR04405      --------G-SSCTFTSAA-QASASAKSCSNIVLKNIAVPAGETLD----\r\n",
        "ASPCL04100      --------A-SSCTFTSAA-QASKSASGCSEITLDNIAVPAGETLD----\r\n",
        "PENCW11731      --------GSSTCTFTSAA-SASASKKACSTIVLDNIKVPAGETLD----\r\n",
        "NEOFI00364      --------S-STCTFTAAS-QATESASGCSEIVLDNIEVPAGETLD----\r\n",
        "ASPFU06544      --------S-STCTFTAAS-QATESASGCSEIVLDNIEVPAGETLD----\r\n",
        "ASHGO01704      --------N-GACVLTGKDLNKVAEVKKCTNIVIKDFTVPAGKALD----\r\n",
        "PENCH04510      --------GSSTCTFTSAA-SASASKKACSTIVLDNIKVPAGETLD----\r\n",
        "                                                    : :           \r\n",
        "\r\n",
        "ASPAC03769      LSDAADGA--TITFEGTT--SFGYEEWDGPLIRFGG-KQLTITQSDGAVI\r\n",
        "ASPFN08740      LSKAKDGA--TITFEGTT--TFGYKEWKGPLIRFGG-NKITVTQAAGAVI\r\n",
        "HORVD05781      FHGPCKASAITFLLQGTLKAATDLKRFGNDWIEFGWVKDLTVAGQNDAII\r\n",
        "MUSAC06263      LVLQIDGT--LVAPSSVA--KSNLYQWINIK--W--LHDFTIQ-GSG-TV\r\n",
        "ASPOR04405      LSKAKDGA--TITFEGTT--TFGYKEWKGPLIRFGG-NKITVTQAAGAVI\r\n",
        "ASPCL04100      LSHVDDGT--TIIFEGTT--SFGYKEWKGPLIQFAG-TGITVKQNTGAVI\r\n",
        "PENCW11731      LSKLQDGT--KVIFRGET--TFGYKEWKGPLIRVEG-SNIEVSGEKGHLI\r\n",
        "NEOFI00364      LSDVDDGT--TIVFEGTT--TFGYKEWSGPLIRFGG-KDITVKQNSGAVI\r\n",
        "ASPFU06544      LSDVDDGT--TIVFEGTT--TFGYKEWSGPLIRFGG-KDITIKQNSGAVI\r\n",
        "ASHGO01704      LYGLRDGT--TVTFAGKV--TMDYAKWAGPVFLLGG-KDIHVTGAPGHVL\r\n",
        "PENCH04510      LSKLQDGT--KVIFRGET--TFGYKEWKGPLIRVEG-SNIEVSGEKGHLI\r\n",
        "                :    ..:   .   .      .  .: .          : :    .  :\r\n",
        "\r\n",
        "ASPAC03769      DGDGSRWWDSEGT--------NGGKTKPKFMYVHDVEDSTIKGLQIKNTP\r\n",
        "ASPFN08740      DGQGSRWWDGKGT--------NGGKTKPKFIYAHKLQSSTIKGLHVKNSP\r\n",
        "HORVD05781      NGQGAASWPFNKCP-----IQKDCKVLPTSVLFVHNQNTVVRDITSVNSK\r\n",
        "MUSAC06263      DGQGFVLWNISESHHIEKETKYGSSMRPTVIRLYKCYNVTVRNIRIINSP\r\n",
        "ASPOR04405      DGQGSRWWDGKGT--------NGGKTKPKFIYAHKLQSSTIKGLHVKNSP\r\n",
        "ASPCL04100      DGDGSRWWDGKGT--------NGGKTKPKFMYAHKLRDSTITGLSIKNTP\r\n",
        "PENCW11731      NGDGARWWDTKGT--------NGGKDKPKFFYAHKLKDSSITGLNVKNTP\r\n",
        "NEOFI00364      DGEGSRWWDGEGT--------NGGKTKPKFMYAHSLEDSTITGLSIKNTP\r\n",
        "ASPFU06544      DGEGSRWWDGEGT--------NGGKTKPKFMYAHSLEDSTITGLSIKNTP\r\n",
        "ASHGO01704      EGEGQKWWNGAGD--------P-KNEKPKFMRFKMTGKSVVEKLNVHNTP\r\n",
        "PENCH04510      NGDGARWWDTKGT--------NGGKDKPKFFYAHKLKDSSITGLNVKNTP\r\n",
        "                :*:*   *                .  *. .      .  :  :   *: \r\n",
        "\r\n",
        "ASPAC03769      VQAISV-QA-TNVYLTDITIDNSDGDDNGGHNTDGFDISESTGVYISGAT\r\n",
        "ASPFN08740      VQVFSV-QG-NDVHLTDITIDNSDGDNNGGHNTDAFDVSESNGVYITGAN\r\n",
        "HORVD05781      FFHIAVLQN-KNMKMINIQINAPE----NSPNTDGIHIERSTGVVISDTR\r\n",
        "MUSAC06263      LCHLKFDSS-QGVKVKNITISSPK----DSPNTDGIHLQNTRDVEIKHSD\r\n",
        "ASPOR04405      VQVFSV-QG-NDVHLTDITIDNSDGDNNGGHNTDAFDVSESNGVYITGAN\r\n",
        "ASPCL04100      VQAISV-QA-TNLQLTDITIDNSDGDENGGHNTDAFDIGESNGVYIRGAV\r\n",
        "PENCW11731      VQAFSV-QA-DNLVLDHITIDNSDGDTKGGHNTDAFDVGESTYITISNAN\r\n",
        "NEOFI00364      VQAISV-QA-TNLYLIDITIDNSDGDDNGGHNTDGFDISESTGVYIRGAT\r\n",
        "ASPFU06544      VQAISV-QA-TNLYLIDITIDNSDGDDNGGHNTDGFDISESTGVYIRGAT\r\n",
        "ASHGO01704      KMAFSV-NNCHGLTIRNNVFDNRAGDGK-AKNTDAFDVGSSTNILIHDNK\r\n",
        "PENCH04510      VQAFSV-QA-DNLVLDHITIDNSDGDTKGGHNTDAFDVGESTYITISNAN\r\n",
        "                   : . .   .: : .  :.        . ***.:.:  :  : *    \r\n",
        "\r\n",
        "ASPAC03769      VKNQDDCIAINSG-ENILFTGGTCSGGHGLSIGSVGGRD-DNTVKNVTIS\r\n",
        "ASPFN08740      VKNQDDCLAINSG-ENIEFTGATCSGGHGISIGSIGNRD-SNTVKNVKVA\r\n",
        "HORVD05781      ISTGDDCISIGQGSDNIDIARVHCGPGHGMSVGSLGRYVGEGDVTRVHVR\r\n",
        "MUSAC06263      IGCGDDCVSIQAGCSNVHIHHLRCSPGHGISVGGLGKGSSLACVSNISVN\r\n",
        "ASPOR04405      VKNQDDCLAINSG-ENIEFTGATCSGGHGISIGSIGNRD-SNTVKNVKVA\r\n",
        "ASPCL04100      VKNQDDCIAINSG-ENIEFSGGSCSGGHGLSIGSVGGRD-NNIVKNVTIT\r\n",
        "PENCW11731      IKNQDDCLAVNSG-ENIVFTGGYCSGGHGLSIGSVGLRD-NNIVKNVTIS\r\n",
        "NEOFI00364      VKNQDDCIAINSG-ENIEFSGGTCSGGHGLSIGSVGGRD-DNTVKNVTIT\r\n",
        "ASPFU06544      VKNQDDCIAINSG-ENIEFSGGTCSGGHGLSIGSVGGRD-DNTVKNVTIT\r\n",
        "ASHGO01704      IWNQDDCLAVNSG-DQIRFLHNFCSGGHGISIGSVGHKK-GDSVTNFLAQ\r\n",
        "PENCH04510      IKNQDDCLAVNSG-ENIVFTGGYCSGGHGLSIGSVGLRD-NNIVKNVTIS\r\n",
        "                :   ***:::  * .:: :    *. ***:*:*.:*       *...   \r\n",
        "\r\n",
        "ASPAC03769      DSTVTDSANGVRIKTIYGD-TGD-VSEITYSNIQLSGITDYGIVIEQDYE\r\n",
        "ASPFN08740      DSTVVDSDNGIRIKTISGA-TGS-VSGVTYENITLKNIKKNGIVIEQDYK\r\n",
        "HORVD05781      DMTFEGTMNGVRIKTWENSPTKSLAAHMVFENMIMKDVQ-NPIIIDQRYC\r\n",
        "MUSAC06263      SVTVQNALSGVRIKTWQGG-VGS-VRNVSFSNVQVVDVD-VPIVIDQYYC\r\n",
        "ASPOR04405      DSTVVDSDNGIRIKTISGA-TGS-VSGVTYENITLKNIKKNGIVIEQDYK\r\n",
        "ASPCL04100      DSTISDSDNGVRIKTIYDA-TGS-VGDVTYSNIKLSNIAKYGIVIEQDYE\r\n",
        "PENCW11731      DSTVTNSDNGVRIKTIYKA-TGD-VSDVTFSNIELSNIAKYGIVIEQDYE\r\n",
        "NEOFI00364      DSTVTDSANGVRIKTVYDA-TGS-VSEVTYSNIKLSGITDYGIVIEQDYE\r\n",
        "ASPFU06544      DSTVTDSANGVRIKTVYDA-TGS-VSQVTYSNIKLSGITDYGIVIEQDYE\r\n",
        "ASHGO01704      DNQVVESDNGLRIKTFVGA-IGK-VDNIKFINNKVKNIRKFAIVIQGDYK\r\n",
        "PENCH04510      DSTVTNSDNGIRIKTIYKA-TGD-VSDVTFSNIELSKIAKYGIVIEQDYE\r\n",
        "                .  .  : .*:****       . .  : : *  :  :    *:*:  * \r\n",
        "\r\n",
        "ASPAC03769      NGSP-TGTPSTGVPITDVTVDGITGSIEDDAVQVYILCGDGS-CSDWTWS\r\n",
        "ASPFN08740      NGGP-TGKPTTGVPITDLTVNGVTGSVASKATPVYILCGKGS-CSDWTWK\r\n",
        "HORVD05781      PYYDCEHKHVSGVTLKDITFKNIKGTSS-MPVAVLLRCGV-P-CQGVVLQ\r\n",
        "MUSAC06263      NRRS-CRNRTDAVAISEVTYKKISGTYR--FQPMNLACSDGMPCTGVALR\r\n",
        "ASPOR04405      NGGP-TGKPTTGVPITDLTVNGVTGSVASKATPVYILCGKGS-CSDWTWK\r\n",
        "ASPCL04100      NGSP-TGTPTTGVPITGLTIDGITGSVASNAVQVYILCGDGS-CSDWTWK\r\n",
        "PENCW11731      NGSP-TGTPTTGVPITGLTVEKVTGSVESKATPVFILCGDGS-CSDWTWS\r\n",
        "NEOFI00364      NGSP-TGTPTTGVPITDLTIDGVTGTVESDAVEVYILCGDGS-CSDWTWE\r\n",
        "ASPFU06544      NGSP-TGTPTTGVPITDLTIDGVTGTVESDAVEVYILCGDGS-CSDWTWE\r\n",
        "ASHGO01704      DGTT-TGTPTGGCPITNLEVRGNTGNTVGKGSKLKILVKN---ASKWTFA\r\n",
        "PENCH04510      NGSP-TGTPTTGVPITGLTVEKVTGSVESKATPVFILCGDGS-CSDWTWS\r\n",
        "                       .   . .:. :     .*.       : :       .   .  \r\n",
        "\r\n",
        "ASPAC03769      GVDIT---GGETSSDCENVPSGAS--------------------------\r\n",
        "ASPFN08740      GVSIS---GGKKSDKCQNIPSGAS--------------------------\r\n",
        "HORVD05781      DVDLKYMGEGGSSSKCENAMATYVG---------YQH-------------\r\n",
        "MUSAC06263      DIELS---PANE----TQVPREAFCWKSYGESQGLLHPLSLGCLQRPTRL\r\n",
        "ASPOR04405      GVSIS---GGKKSDKCQNIPSGAS--------------------------\r\n",
        "ASPCL04100      GVDLT---GGKKSSKCENVPSGAS--------------------------\r\n",
        "PENCW11731      GNDIS---GGKASSKCKNVPSVAS--------------------------\r\n",
        "NEOFI00364      GVDIT---GGETSSKCENVPSGAS--------------------------\r\n",
        "ASPFU06544      GVDIT---GGEKSSKCENVPSGAS--------------------------\r\n",
        "ASHGO01704      DNNIL----GKTFPGCSGAPNGIK--------------------------\r\n",
        "PENCH04510      GNDIS---GGKASSKCKNVPSVAS--------------------------\r\n",
        "                . .:     .                                        \r\n",
        "\r\n",
        "ASPAC03769      ------------------------C\r\n",
        "ASPFN08740      ------------------------C\r\n",
        "HORVD05781      -------------------P-EPCA\r\n",
        "MUSAC06263      MKAQMKSHNDTFDHNMTNTTVIQCQ\r\n",
        "ASPOR04405      ------------------------C\r\n",
        "ASPCL04100      ------------------------C\r\n",
        "PENCW11731      ------------------------C\r\n",
        "NEOFI00364      ------------------------C\r\n",
        "ASPFU06544      ------------------------C\r\n",
        "ASHGO01704      ------------------------C\r\n",
        "PENCH04510      ------------------------C\r\n",
        "                                         \r\n",
        "\r\n",
        "\r\n",
        "\r\n",
        "\r\n",
        "\r\n",
        "OUTPUT RESULTS\r\n",
        "\t#### File Type= GUIDE_TREE      Format= newick          Name= ortologos.dnd\r\n",
        "\t#### File Type= MSA             Format= aln             Name= ortologos.aln\r\n",
        "\t#### File Type= MSA             Format= html            Name= ortologos.html\r\n",
        "\r\n",
        "# Command Line: t_coffee ortologos.fasta  [PROGRAM:T-COFFEE]\r\n",
        "# T-COFFEE Memory Usage: Current= 30.944 Mb, Max= 33.573 Mb\r\n",
        "# Results Produced with T-COFFEE Version_10.00.r1613 (2013-10-22 15:49:04 - Revision 1613 - Build 427)\r\n",
        "# T-COFFEE is available from http://www.tcoffee.org\r\n",
        "# Register on: https://groups.google.com/group/tcoffee/\r\n"
       ]
      }
     ],
     "prompt_number": 13
    },
    {
     "cell_type": "code",
     "collapsed": false,
     "input": [
      "ut.web(\"ortologos.html\")"
     ],
     "language": "python",
     "metadata": {
      "slideshow": {
       "slide_type": "slide"
      }
     },
     "outputs": [
      {
       "html": [
        "<iframe src=\"ortologos.html\"  width=100% height=500></iframe>"
       ],
       "metadata": {},
       "output_type": "pyout",
       "prompt_number": 14,
       "text": [
        "<IPython.core.display.HTML at 0x7f20c8e93f50>"
       ]
      }
     ],
     "prompt_number": 14
    },
    {
     "cell_type": "code",
     "collapsed": false,
     "input": [
      "borrar = [\"MUSAC06263\"] # Dejo \"HORVD05781\", una planta, como outgroup. Elimino MUSAC06263\n",
      "with open(\"ortologos_clean.fasta\",\"w\") as fh:\n",
      "    for desc, seq in ortholog.iteritems():\n",
      "        oma = desc.split(\"|\")[1].replace(\" \",\"\")\n",
      "        if oma not in borrar:\n",
      "            fh.write(\">%s\\n%s\\n\"%(oma,seq))"
     ],
     "language": "python",
     "metadata": {
      "slideshow": {
       "slide_type": "slide"
      }
     },
     "outputs": [],
     "prompt_number": 15
    },
    {
     "cell_type": "code",
     "collapsed": false,
     "input": [
      "!t_coffee ortologos_clean.fasta -output=phylip"
     ],
     "language": "python",
     "metadata": {
      "slideshow": {
       "slide_type": "fragment"
      }
     },
     "outputs": [
      {
       "output_type": "stream",
       "stream": "stdout",
       "text": [
        "\r\n",
        "PROGRAM: T-COFFEE Version_10.00.r1613 (2013-10-22 15:49:04 - Revision 1613 - Build 427)\r\n",
        "-full_log      \tS\t[0] \r\n",
        "-genepred_score\tS\t[0] \tnsd\r\n",
        "-run_name      \tS\t[0] \r\n",
        "-mem_mode      \tS\t[0] \tmem\r\n",
        "-extend        \tD\t[1] \t1 \r\n",
        "-extend_mode   \tS\t[0] \tvery_fast_triplet\r\n",
        "-max_n_pair    \tD\t[0] \t10 \r\n",
        "-seq_name_for_quadruplet\tS\t[0] \tall\r\n",
        "-compact       \tS\t[0] \tdefault\r\n",
        "-clean         \tS\t[0] \tno\r\n",
        "-do_self       \tFL\t[0] \t0\r\n",
        "-do_normalise  \tD\t[0] \t1000 \r\n",
        "-template_file \tS\t[0] \r\n",
        "-setenv        \tS\t[0] \t0\r\n",
        "-template_mode \tS\t[0] \r\n",
        "-flip          \tD\t[0] \t0 \r\n",
        "-remove_template_file\tD\t[0] \t0 \r\n",
        "-profile_template_file\tS\t[0] \r\n",
        "-in            \tS\t[0] \r\n",
        "-seq           \tS\t[1] \tortologos_clean.fasta\r\n",
        "-aln           \tS\t[0] \r\n",
        "-method_limits \tS\t[0] \r\n",
        "-method        \tS\t[0] \r\n",
        "-lib           \tS\t[0] \r\n",
        "-profile       \tS\t[0] \r\n",
        "-profile1      \tS\t[0] \r\n",
        "-profile2      \tS\t[0] \r\n",
        "-pdb           \tS\t[0] \r\n",
        "-relax_lib     \tD\t[0] \t1 \r\n",
        "-filter_lib    \tD\t[0] \t0 \r\n",
        "-shrink_lib    \tD\t[0] \t0 \r\n",
        "-out_lib       \tW_F\t[0] \tno\r\n",
        "-out_lib_mode  \tS\t[0] \tprimary\r\n",
        "-lib_only      \tD\t[0] \t0 \r\n",
        "-outseqweight  \tW_F\t[0] \tno\r\n",
        "-dpa           \tFL\t[0] \t0\r\n",
        "-seq_source    \tS\t[0] \tANY\r\n",
        "-cosmetic_penalty\tD\t[0] \t0 \r\n",
        "-gapopen       \tD\t[0] \t0 \r\n",
        "-gapext        \tD\t[0] \t0 \r\n",
        "-fgapopen      \tD\t[0] \t0 \r\n",
        "-fgapext       \tD\t[0] \t0 \r\n",
        "-nomatch       \tD\t[0] \t0 \r\n",
        "-newtree       \tW_F\t[0] \tdefault\r\n",
        "-tree          \tW_F\t[0] \tNO\r\n",
        "-usetree       \tR_F\t[0] \r\n",
        "-tree_mode     \tS\t[0] \tnj\r\n",
        "-distance_matrix_mode\tS\t[0] \tktup\r\n",
        "-distance_matrix_sim_mode\tS\t[0] \tidmat_sim1\r\n",
        "-quicktree     \tFL\t[0] \t0\r\n",
        "-outfile       \tW_F\t[0] \tdefault\r\n",
        "-maximise      \tFL\t[1] \t1\r\n",
        "-output        \tS\t[1] \tphylip\r\n",
        "-len           \tD\t[0] \t0 \r\n",
        "-infile        \tR_F\t[0] \r\n",
        "-matrix        \tS\t[0] \tdefault\r\n",
        "-tg_mode       \tD\t[0] \t1 \r\n",
        "-profile_mode  \tS\t[0] \tcw_profile_profile\r\n",
        "-profile_comparison\tS\t[0] \tprofile\r\n",
        "-dp_mode       \tS\t[0] \tlinked_pair_wise\r\n",
        "-ktuple        \tD\t[0] \t1 \r\n",
        "-ndiag         \tD\t[0] \t0 \r\n",
        "-diag_threshold\tD\t[0] \t0 \r\n",
        "-diag_mode     \tD\t[0] \t0 \r\n",
        "-sim_matrix    \tS\t[0] \tvasiliky\r\n",
        "-transform     \tS\t[0] \r\n",
        "-extend_seq    \tFL\t[0] \t0\r\n",
        "-outorder      \tS\t[0] \tinput\r\n",
        "-inorder       \tS\t[0] \taligned\r\n",
        "-seqnos        \tS\t[0] \toff\r\n",
        "-case          \tS\t[0] \tkeep\r\n",
        "-cpu           \tD\t[0] \t0 \r\n",
        "-maxnseq       \tD\t[0] \t1000 \r\n",
        "-maxlen        \tD\t[0] \t-1 \r\n",
        "-sample_dp     \tD\t[0] \t0 \r\n",
        "-weight        \tS\t[0] \tdefault\r\n",
        "-seq_weight    \tS\t[0] \tno\r\n",
        "-align         \tFL\t[1] \t1\r\n",
        "-mocca         \tFL\t[0] \t0\r\n",
        "-domain        \tFL\t[0] \t0\r\n",
        "-start         \tD\t[0] \t0 \r\n",
        "-len           \tD\t[0] \t0 \r\n",
        "-scale         \tD\t[0] \t0 \r\n",
        "-mocca_interactive\tFL\t[0] \t0\r\n",
        "-method_evaluate_mode\tS\t[0] \tdefault\r\n",
        "-evaluate_mode \tS\t[0] \ttriplet\r\n",
        "-get_type      \tFL\t[0] \t0\r\n",
        "-clean_aln     \tD\t[0] \t0 \r\n",
        "-clean_threshold\tD\t[1] \t1 \r\n",
        "-clean_iteration\tD\t[1] \t1 \r\n",
        "-clean_evaluate_mode\tS\t[0] \tt_coffee_fast\r\n",
        "-extend_matrix \tFL\t[0] \t0\r\n",
        "-prot_min_sim  \tD\t[40] \t40 \r\n",
        "-prot_max_sim  \tD\t[90] \t90 \r\n",
        "-prot_min_cov  \tD\t[40] \t40 \r\n",
        "-pdb_type      \tS\t[0] \td\r\n",
        "-pdb_min_sim   \tD\t[35] \t35 \r\n",
        "-pdb_max_sim   \tD\t[100] \t100 \r\n",
        "-pdb_min_cov   \tD\t[50] \t50 \r\n",
        "-pdb_blast_server\tW_F\t[0] \tEBI\r\n",
        "-blast         \tW_F\t[0] \r\n",
        "-blast_server  \tW_F\t[0] \tEBI\r\n",
        "-pdb_db        \tW_F\t[0] \tpdb\r\n",
        "-protein_db    \tW_F\t[0] \tuniprot\r\n",
        "-method_log    \tW_F\t[0] \tno\r\n",
        "-struc_to_use  \tS\t[0] \r\n",
        "-cache         \tW_F\t[0] \tuse\r\n",
        "-align_pdb_param_file\tW_F\t[0] \tno\r\n",
        "-align_pdb_hasch_mode\tW_F\t[0] \thasch_ca_trace_bubble\r\n",
        "-external_aligner\tS\t[0] \tNO\r\n",
        "-msa_mode      \tS\t[0] \ttree\r\n",
        "-master        \tS\t[0] \tno\r\n",
        "-blast_nseq    \tD\t[0] \t0 \r\n",
        "-lalign_n_top  \tD\t[0] \t10 \r\n",
        "-iterate       \tD\t[0] \t0 \r\n",
        "-trim          \tD\t[0] \t0 \r\n",
        "-split         \tD\t[0] \t0 \r\n",
        "-trimfile      \tS\t[0] \tdefault\r\n",
        "-split         \tD\t[0] \t0 \r\n",
        "-split_nseq_thres\tD\t[0] \t0 \r\n",
        "-split_score_thres\tD\t[0] \t0 \r\n",
        "-check_pdb_status\tD\t[0] \t0 \r\n",
        "-clean_seq_name\tD\t[0] \t0 \r\n",
        "-seq_to_keep   \tS\t[0] \r\n",
        "-dpa_master_aln\tS\t[0] \r\n",
        "-dpa_maxnseq   \tD\t[0] \t0 \r\n",
        "-dpa_min_score1\tD\t[0] \r\n",
        "-dpa_min_score2\tD\t[0] \r\n",
        "-dpa_keep_tmpfile\tFL\t[0] \t0\r\n",
        "-dpa_debug     \tD\t[0] \t0 \r\n",
        "-multi_core    \tS\t[0] \ttemplates_jobs_relax_msa_evaluate\r\n",
        "-n_core        \tD\t[0] \t0 \r\n",
        "-max_n_proc    \tD\t[0] \t0 \r\n",
        "-lib_list      \tS\t[0] \r\n",
        "-prune_lib_mode\tS\t[0] \t5\r\n",
        "-tip           \tS\t[0] \tnone\r\n",
        "-rna_lib       \tS\t[0] \r\n",
        "-no_warning    \tD\t[0] \t0 \r\n",
        "-run_local_script\tD\t[0] \t0 \r\n",
        "-plugins       \tS\t[0] \tdefault\r\n",
        "-proxy         \tS\t[0] \tunset\r\n",
        "-email         \tS\t[0] \r\n",
        "-clean_overaln \tD\t[0] \t0 \r\n",
        "-overaln_param \tS\t[0] \r\n",
        "-overaln_mode  \tS\t[0] \r\n",
        "-overaln_model \tS\t[0] \r\n",
        "-overaln_threshold\tD\t[0] \t0 \r\n",
        "-overaln_target\tD\t[0] \t0 \r\n",
        "-overaln_P1    \tD\t[0] \t0 \r\n",
        "-overaln_P2    \tD\t[0] \t0 \r\n",
        "-overaln_P3    \tD\t[0] \t0 \r\n",
        "-overaln_P4    \tD\t[0] \t0 \r\n",
        "-exon_boundaries\tS\t[0] \r\n",
        "-dump          \tS\t[0] \tno\r\n",
        "-display       \tD\t[0] \t100 \r\n",
        "\r\n",
        "INPUT FILES\r\n",
        "\tInput File (S) ortologos_clean.fasta  Format fasta_seq\r\n",
        "\tInput File (M) proba_pair \r\n",
        "\r\n",
        "Identify Master Sequences [no]:\r\n",
        "\r\n",
        "Master Sequences Identified\r\n",
        "INPUT SEQUENCES: 10 SEQUENCES  [PROTEIN]\r\n",
        "  Input File ortologos_clean.fasta Seq ASHGO01704 Length  368 type PROTEIN Struct Unchecked\r\n",
        "  Input File ortologos_clean.fasta Seq ASPAC03769 Length  369 type PROTEIN Struct Unchecked\r\n",
        "  Input File ortologos_clean.fasta Seq ASPCL04100 Length  368 type PROTEIN Struct Unchecked\r\n",
        "  Input File ortologos_clean.fasta Seq ASPFN08740 Length  367 type PROTEIN Struct Unchecked\r\n",
        "  Input File ortologos_clean.fasta Seq ASPFU06544 Length  368 type PROTEIN Struct Unchecked\r\n",
        "  Input File ortologos_clean.fasta Seq ASPOR04405 Length  367 type PROTEIN Struct Unchecked\r\n",
        "  Input File ortologos_clean.fasta Seq HORVD05781 Length  416 type PROTEIN Struct Unchecked\r\n",
        "  Input File ortologos_clean.fasta Seq NEOFI00364 Length  368 type PROTEIN Struct Unchecked\r\n",
        "  Input File ortologos_clean.fasta Seq PENCH04510 Length  369 type PROTEIN Struct Unchecked\r\n",
        "  Input File ortologos_clean.fasta Seq PENCW11731 Length  369 type PROTEIN Struct Unchecked\r\n",
        "\r\n",
        "\tMulti Core Mode: 8 processors:\r\n",
        "\r\n",
        "\t--- Process Method/Library/Aln Sortologos_clean.fasta\r\n",
        "\t--- Process Method/Library/Aln Mproba_pair\r\n",
        "\txxx Retrieved Sortologos_clean.fasta"
       ]
      },
      {
       "output_type": "stream",
       "stream": "stdout",
       "text": [
        "\r\n",
        "\txxx Retrieved Mproba_pair"
       ]
      },
      {
       "output_type": "stream",
       "stream": "stdout",
       "text": [
        "\r\n",
        "\r\n",
        "\tAll Methods Retrieved\r\n",
        "\r\n",
        "MANUAL PENALTIES: gapopen=0 gapext=0\r\n",
        "\r\n",
        "\tLibrary Total Size: [60580]\r\n",
        "\r\n",
        "Library Relaxation: Multi_proc [8]\r\n",
        " \r\n",
        "\t\t[Relax Library][TOT=    1][100 %][ELAPSED TIME:    0 sec.]\r\n",
        "Relaxation Summary: [60580]--->[50251]\r\n",
        "\r\n",
        "\r\n",
        "\r\n",
        "UN-WEIGHTED MODE: EVERY SEQUENCE WEIGHTS 1\r\n",
        "\r\n",
        "MAKE GUIDE TREE \r\n",
        "\t[MODE=nj][DONE]\r\n",
        "\r\n",
        "PROGRESSIVE_ALIGNMENT [Tree Based]\r\n",
        "Group    1: ASHGO01704\r\n",
        "Group    2: ASPAC03769\r\n",
        "Group    3: ASPCL04100\r\n",
        "Group    4: ASPFN08740\r\n",
        "Group    5: ASPFU06544\r\n",
        "Group    6: ASPOR04405\r\n",
        "Group    7: HORVD05781\r\n",
        "Group    8: NEOFI00364\r\n",
        "Group    9: PENCH04510\r\n",
        "Group   10: PENCW11731\r\n",
        "\r\n",
        "\r\n",
        "\tGroup   11: [Group    6 (   1 seq)] with [Group    4 (   1 seq)]-->[Len=  367][PID:11772]"
       ]
      },
      {
       "output_type": "stream",
       "stream": "stdout",
       "text": [
        "\r\n",
        "\tGroup   12: [Group    8 (   1 seq)] with [Group    5 (   1 seq)]-->[Len=  368][PID:11773]\r\n",
        "\tGroup   13: [Group   12 (   2 seq)] with [Group    2 (   1 seq)]-->[Len=  369][PID:11773]\r\n",
        "\tGroup   14: [Group    3 (   1 seq)] with [Group   13 (   3 seq)]-->[Len=  369][PID:11773]\r\n",
        "\tGroup   15: [Group   14 (   4 seq)] with [Group   11 (   2 seq)]-->[Len=  369][PID:11770][Forked]\r\n",
        "\tGroup   17: [Group   16 (   2 seq)] with [Group   15 (   6 seq)]-->[Len=  370][PID:11747][Forked]\r\n",
        "\tGroup   18: [Group   17 (   8 seq)] with [Group    1 (   1 seq)]-->[Len=  375][PID:11747]"
       ]
      },
      {
       "output_type": "stream",
       "stream": "stdout",
       "text": [
        "\r\n",
        "\tGroup   19: [Group    7 (   1 seq)] with [Group   18 (   9 seq)]-->[Len=  430][PID:11747]\r\n",
        "\r\n",
        "\r\n",
        "\t\t[Final Evaluation][TOT=   53][  0 %][ELAPSED TIME:    0 sec.]\r",
        "\t\t[Final Evaluation][TOT=   53][  3 %][ELAPSED TIME:    0 sec.]\r",
        "\t\t[Final Evaluation][TOT=   53][  5 %][ELAPSED TIME:    0 sec.]\r",
        "\t\t[Final Evaluation][TOT=   53][  7 %][ELAPSED TIME:    0 sec.]\r",
        "\t\t[Final Evaluation][TOT=   53][  9 %][ELAPSED TIME:    0 sec.]\r",
        "\t\t[Final Evaluation][TOT=   53][ 11 %][ELAPSED TIME:    0 sec.]\r",
        "\t\t[Final Evaluation][TOT=   53][ 13 %][ELAPSED TIME:    0 sec.]\r",
        "\t\t[Final Evaluation][TOT=   53][ 15 %][ELAPSED TIME:    0 sec.]\r",
        "\t\t[Final Evaluation][TOT=   53][ 16 %][ELAPSED TIME:    0 sec.]\r",
        "\t\t[Final Evaluation][TOT=   53][ 18 %][ELAPSED TIME:    0 sec.]\r",
        "\t\t[Final Evaluation][TOT=   53][ 20 %][ELAPSED TIME:    0 sec.]\r",
        "\t\t[Final Evaluation][TOT=   53][ 22 %][ELAPSED TIME:    0 sec.]\r",
        "\t\t[Final Evaluation][TOT=   53][ 24 %][ELAPSED TIME:    0 sec.]\r",
        "\t\t[Final Evaluation][TOT=   53][ 26 %][ELAPSED TIME:    0 sec.]\r",
        "\t\t[Final Evaluation][TOT=   53][ 28 %][ELAPSED TIME:    0 sec.]\r",
        "\t\t[Final Evaluation][TOT=   53][ 30 %][ELAPSED TIME:    0 sec.]\r",
        "\t\t[Final Evaluation][TOT=   53][ 32 %][ELAPSED TIME:    0 sec.]\r",
        "\t\t[Final Evaluation][TOT=   53][ 33 %][ELAPSED TIME:    0 sec.]\r",
        "\t\t[Final Evaluation][TOT=   53][ 35 %][ELAPSED TIME:    0 sec.]\r",
        "\t\t[Final Evaluation][TOT=   53][ 37 %][ELAPSED TIME:    0 sec.]\r",
        "\t\t[Final Evaluation][TOT=   53][ 39 %][ELAPSED TIME:    0 sec.]\r",
        "\t\t[Final Evaluation][TOT=   53][ 41 %][ELAPSED TIME:    0 sec.]\r",
        "\t\t[Final Evaluation][TOT=   53][ 43 %][ELAPSED TIME:    0 sec.]\r",
        "\t\t[Final Evaluation][TOT=   53][ 45 %][ELAPSED TIME:    0 sec.]\r",
        "\t\t[Final Evaluation][TOT=   53][ 47 %][ELAPSED TIME:    0 sec.]\r",
        "\t\t[Final Evaluation][TOT=   53][ 49 %][ELAPSED TIME:    0 sec.]\r",
        "\t\t[Final Evaluation][TOT=   53][ 50 %][ELAPSED TIME:    0 sec.]\r",
        "\t\t[Final Evaluation][TOT=   53][ 52 %][ELAPSED TIME:    0 sec.]\r",
        "\t\t[Final Evaluation][TOT=   53][ 54 %][ELAPSED TIME:    0 sec.]\r",
        "\t\t[Final Evaluation][TOT=   53][ 56 %][ELAPSED TIME:    0 sec.]\r",
        "\t\t[Final Evaluation][TOT=   53][ 58 %][ELAPSED TIME:    0 sec.]\r",
        "\t\t[Final Evaluation][TOT=   53][ 60 %][ELAPSED TIME:    0 sec.]\r",
        "\t\t[Final Evaluation][TOT=   53][ 62 %][ELAPSED TIME:    0 sec.]\r",
        "\t\t[Final Evaluation][TOT=   53][ 64 %][ELAPSED TIME:    0 sec.]\r",
        "\t\t[Final Evaluation][TOT=   53][ 66 %][ELAPSED TIME:    0 sec.]\r",
        "\t\t[Final Evaluation][TOT=   53][ 67 %][ELAPSED TIME:    0 sec.]\r",
        "\t\t[Final Evaluation][TOT=   53][ 69 %][ELAPSED TIME:    0 sec.]\r",
        "\t\t[Final Evaluation][TOT=   53][ 71 %][ELAPSED TIME:    0 sec.]\r",
        "\t\t[Final Evaluation][TOT=   53][ 73 %][ELAPSED TIME:    0 sec.]\r",
        "\t\t[Final Evaluation][TOT=   53][ 75 %][ELAPSED TIME:    0 sec.]\r",
        "\t\t[Final Evaluation][TOT=   53][ 77 %][ELAPSED TIME:    0 sec.]\r",
        "\t\t[Final Evaluation][TOT=   53][ 79 %][ELAPSED TIME:    0 sec.]\r",
        "\t\t[Final Evaluation][TOT=   53][ 81 %][ELAPSED TIME:    0 sec.]\r",
        "\t\t[Final Evaluation][TOT=   53][ 83 %][ELAPSED TIME:    0 sec.]\r",
        "\t\t[Final Evaluation][TOT=   53][ 84 %][ELAPSED TIME:    0 sec.]\r",
        "\t\t[Final Evaluation][TOT=   53][ 86 %][ELAPSED TIME:    0 sec.]\r",
        "\t\t[Final Evaluation][TOT=   53][ 88 %][ELAPSED TIME:    0 sec.]\r",
        "\t\t[Final Evaluation][TOT=   53][ 90 %][ELAPSED TIME:    0 sec.]\r",
        "\t\t[Final Evaluation][TOT=   53][ 92 %][ELAPSED TIME:    0 sec.]\r",
        "\t\t[Final Evaluation][TOT=   53][ 94 %][ELAPSED TIME:    0 sec.]\r",
        "\t\t[Final Evaluation][TOT=   53][ 96 %][ELAPSED TIME:    0 sec.]\r",
        "\t\t[Final Evaluation][TOT=   53][ 98 %][ELAPSED TIME:    0 sec.]\r",
        "\t\t[Final Evaluation][TOT=   53][100 %][ELAPSED TIME:    0 sec.]\r\n",
        "CLUSTAL FORMAT for T-COFFEE Version_10.00.r1613 [http://www.tcoffee.org] [MODE:  ], CPU=0.00 sec, SCORE=91, Nseq=10, Len=430 \r\n",
        "\r\n",
        "ASPAC03769      MHSFQL-------LGLAAVG---S-VVSAAPTASRVSDL-----------\r\n",
        "ASPFN08740      MHF-QL-------LGLAALG---S-LAAAAPAPSRTSEL-----------\r\n",
        "HORVD05781      MEVWPPLLVVILTLGVVSLC---GGLEAVAEN-MTVAQLLPMSSYHRGLA\r\n",
        "ASPOR04405      MHF-QL-------LGLAALG---S-LAAAAPAPSRTSEL-----------\r\n",
        "ASPCL04100      MRSVEI-------LGLAALG---S-LVAAAPSPSRVSNS-----------\r\n",
        "PENCW11731      MRT-SF-------LSMLALG---AAAVSAAPAPSRASEL-----------\r\n",
        "NEOFI00364      MRSVEL-------LSLAALG---S-LVAAAPAPSRVSDL-----------\r\n",
        "ASPFU06544      MRSVKL-------FGLAALG---S-LGAAAPAPSRVSDL-----------\r\n",
        "ASHGO01704      MSCLFP-------LKASDIQMLFSTLVSTAALIGGATAA-----------\r\n",
        "PENCH04510      MRT-SF-------LSMLALG---AAAVSAAPAPSRASEL-----------\r\n",
        "                *            :    :    .   :.*     .:             \r\n",
        "\r\n",
        "ASPAC03769      -------VKKSSSTCTFTSAS-EASESISSCSNVVLSNIEVPAGETL---\r\n",
        "ASPFN08740      -------VERG-SSCTFTSAA-QASASAKSCSNIVLKNIAVPAGETL---\r\n",
        "HORVD05781      TYNAKNFGAEGNGTNDDSKQA-LMAAWKAACGASGTVTLLIPPGTYYIGP\r\n",
        "ASPOR04405      -------VERG-SSCTFTSAA-QASASAKSCSNIVLKNIAVPAGETL---\r\n",
        "ASPCL04100      -------AKKA-SSCTFTSAA-QASKSASGCSEITLDNIAVPAGETL---\r\n",
        "PENCW11731      -------VERGSSTCTFTSAA-SASASKKACSTIVLDNIKVPAGETL---\r\n",
        "NEOFI00364      -------TKRS-STCTFTAAS-QATESASGCSEIVLDNIEVPAGETL---\r\n",
        "ASPFU06544      -------TKRS-STCTFTAAS-QATESASGCSEIVLDNIEVPAGETL---\r\n",
        "ASHGO01704      --------TVN-GACVLTGKDLNKVAEVKKCTNIVIKDFTVPAGKAL---\r\n",
        "PENCH04510      -------VERGSSTCTFTSAA-SASASKKACSTIVLDNIKVPAGETL---\r\n",
        "                            .:   :            *       : :*.*      \r\n",
        "\r\n",
        "ASPAC03769      -DLSDAADGATI--TFEGTTS--FGYEEWDGPLIRFGG-KQLTITQSDGA\r\n",
        "ASPFN08740      -DLSKAKDGATI--TFEGTTT--FGYKEWKGPLIRFGG-NKITVTQAAGA\r\n",
        "HORVD05781      TQFHGPCKASAITFLLQGTLKAATDLKRFGNDWIEFGWVKDLTVAGQNDA\r\n",
        "ASPOR04405      -DLSKAKDGATI--TFEGTTT--FGYKEWKGPLIRFGG-NKITVTQAAGA\r\n",
        "ASPCL04100      -DLSHVDDGTTI--IFEGTTS--FGYKEWKGPLIQFAG-TGITVKQNTGA\r\n",
        "PENCW11731      -DLSKLQDGTKV--IFRGETT--FGYKEWKGPLIRVEG-SNIEVSGEKGH\r\n",
        "NEOFI00364      -DLSDVDDGTTI--VFEGTTT--FGYKEWSGPLIRFGG-KDITVKQNSGA\r\n",
        "ASPFU06544      -DLSDVDDGTTI--VFEGTTT--FGYKEWSGPLIRFGG-KDITIKQNSGA\r\n",
        "ASHGO01704      -DLYGLRDGTTV--TFAGKVT--MDYAKWAGPVFLLGG-KDIHVTGAPGH\r\n",
        "PENCH04510      -DLSKLQDGTKV--IFRGETT--FGYKEWKGPLIRVEG-SNIEVSGEKGH\r\n",
        "                 ::    ..: :   : *  .   .  .: .  : .   . : :    . \r\n",
        "\r\n",
        "ASPAC03769      VIDGDGSRWWDSEGTNG---GKTKPK-FMYVHDVEDSTIKGLQIKNTPVQ\r\n",
        "ASPFN08740      VIDGQGSRWWDGKGTNG---GKTKPK-FIYAHKLQSSTIKGLHVKNSPVQ\r\n",
        "HORVD05781      IINGQGAASWPFNKCPIQKDCKVLPTSVLFVHN-QNTVVRDITSVNSKFF\r\n",
        "ASPOR04405      VIDGQGSRWWDGKGTNG---GKTKPK-FIYAHKLQSSTIKGLHVKNSPVQ\r\n",
        "ASPCL04100      VIDGDGSRWWDGKGTNG---GKTKPK-FMYAHKLRDSTITGLSIKNTPVQ\r\n",
        "PENCW11731      LINGDGARWWDTKGTNG---GKDKPK-FFYAHKLKDSSITGLNVKNTPVQ\r\n",
        "NEOFI00364      VIDGEGSRWWDGEGTNG---GKTKPK-FMYAHSLEDSTITGLSIKNTPVQ\r\n",
        "ASPFU06544      VIDGEGSRWWDGEGTNG---GKTKPK-FMYAHSLEDSTITGLSIKNTPVQ\r\n",
        "ASHGO01704      VLEGEGQKWWNGAGDP----KNEKPK-FMRFKMTGKSVVEKLNVHNTPKM\r\n",
        "PENCH04510      LINGDGARWWDTKGTNG---GKDKPK-FFYAHKLKDSSITGLNVKNTPVQ\r\n",
        "                :::*:*   *           :  *. .:  :   .: :  :   *:   \r\n",
        "\r\n",
        "ASPAC03769      AIS-VQA-TNVYLTDITIDNSDGDDNGGHNTDGFDISESTGVYISGATVK\r\n",
        "ASPFN08740      VFS-VQG-NDVHLTDITIDNSDGDNNGGHNTDAFDVSESNGVYITGANVK\r\n",
        "HORVD05781      HIAVLQN-KNMKMINIQINAPEN----SPNTDGIHIERSTGVVISDTRIS\r\n",
        "ASPOR04405      VFS-VQG-NDVHLTDITIDNSDGDNNGGHNTDAFDVSESNGVYITGANVK\r\n",
        "ASPCL04100      AIS-VQA-TNLQLTDITIDNSDGDENGGHNTDAFDIGESNGVYIRGAVVK\r\n",
        "PENCW11731      AFS-VQA-DNLVLDHITIDNSDGDTKGGHNTDAFDVGESTYITISNANIK\r\n",
        "NEOFI00364      AIS-VQA-TNLYLIDITIDNSDGDDNGGHNTDGFDISESTGVYIRGATVK\r\n",
        "ASPFU06544      AIS-VQA-TNLYLIDITIDNSDGDDNGGHNTDGFDISESTGVYIRGATVK\r\n",
        "ASHGO01704      AFS-VNNCHGLTIRNNVFDNRAGDGK-AKNTDAFDVGSSTNILIHDNKIW\r\n",
        "PENCH04510      AFS-VQA-DNLVLDHITIDNSDGDTKGGHNTDAFDVGESTYITISNANIK\r\n",
        "                 :: ::   .: : .  ::   .    . ***.:.:  *. : * .  : \r\n",
        "\r\n",
        "ASPAC03769      NQDDCIAINSG-ENILFTGGTCSGGHGLSIGSVGGRD-DNTVKNVTISDS\r\n",
        "ASPFN08740      NQDDCLAINSG-ENIEFTGATCSGGHGISIGSIGNRD-SNTVKNVKVADS\r\n",
        "HORVD05781      TGDDCISIGQGSDNIDIARVHCGPGHGMSVGSLGRYVGEGDVTRVHVRDM\r\n",
        "ASPOR04405      NQDDCLAINSG-ENIEFTGATCSGGHGISIGSIGNRD-SNTVKNVKVADS\r\n",
        "ASPCL04100      NQDDCIAINSG-ENIEFSGGSCSGGHGLSIGSVGGRD-NNIVKNVTITDS\r\n",
        "PENCW11731      NQDDCLAVNSG-ENIVFTGGYCSGGHGLSIGSVGLRD-NNIVKNVTISDS\r\n",
        "NEOFI00364      NQDDCIAINSG-ENIEFSGGTCSGGHGLSIGSVGGRD-DNTVKNVTITDS\r\n",
        "ASPFU06544      NQDDCIAINSG-ENIEFSGGTCSGGHGLSIGSVGGRD-DNTVKNVTITDS\r\n",
        "ASHGO01704      NQDDCLAVNSG-DQIRFLHNFCSGGHGISIGSVGHKK-GDSVTNFLAQDN\r\n",
        "PENCH04510      NQDDCLAVNSG-ENIVFTGGYCSGGHGLSIGSVGLRD-NNIVKNVTISDS\r\n",
        "                . ***:::..* ::* :    *. ***:*:**:*     . *...   * \r\n",
        "\r\n",
        "ASPAC03769      TVTDSANGVRIKTIYGD-TGD-VSEITYSNIQLSGITDYGIVIEQDYENG\r\n",
        "ASPFN08740      TVVDSDNGIRIKTISGA-TGS-VSGVTYENITLKNIKKNGIVIEQDYKNG\r\n",
        "HORVD05781      TFEGTMNGVRIKTWENSPTKSLAAHMVFENMIMKDVQ-NPIIIDQRYCPY\r\n",
        "ASPOR04405      TVVDSDNGIRIKTISGA-TGS-VSGVTYENITLKNIKKNGIVIEQDYKNG\r\n",
        "ASPCL04100      TISDSDNGVRIKTIYDA-TGS-VGDVTYSNIKLSNIAKYGIVIEQDYENG\r\n",
        "PENCW11731      TVTNSDNGVRIKTIYKA-TGD-VSDVTFSNIELSNIAKYGIVIEQDYENG\r\n",
        "NEOFI00364      TVTDSANGVRIKTVYDA-TGS-VSEVTYSNIKLSGITDYGIVIEQDYENG\r\n",
        "ASPFU06544      TVTDSANGVRIKTVYDA-TGS-VSQVTYSNIKLSGITDYGIVIEQDYENG\r\n",
        "ASHGO01704      QVVESDNGLRIKTFVGA-IGK-VDNIKFINNKVKNIRKFAIVIQGDYKDG\r\n",
        "PENCH04510      TVTNSDNGIRIKTIYKA-TGD-VSDVTFSNIELSKIAKYGIVIEQDYENG\r\n",
        "                 .  : **:****       . .  : : *  :. :    *:*:  *   \r\n",
        "\r\n",
        "ASPAC03769      S-PTGTPSTGVPITDVTVDGITGSIEDDAVQVYILCGDGSCSDWTWSGVD\r\n",
        "ASPFN08740      G-PTGKPTTGVPITDLTVNGVTGSVASKATPVYILCGKGSCSDWTWKGVS\r\n",
        "HORVD05781      YDCEHKHVSGVTLKDITFKNIKGT-SSMPVAVLLRCGV-PCQGVVLQDVD\r\n",
        "ASPOR04405      G-PTGKPTTGVPITDLTVNGVTGSVASKATPVYILCGKGSCSDWTWKGVS\r\n",
        "ASPCL04100      S-PTGTPTTGVPITGLTIDGITGSVASNAVQVYILCGDGSCSDWTWKGVD\r\n",
        "PENCW11731      S-PTGTPTTGVPITGLTVEKVTGSVESKATPVFILCGDGSCSDWTWSGND\r\n",
        "NEOFI00364      S-PTGTPTTGVPITDLTIDGVTGTVESDAVEVYILCGDGSCSDWTWEGVD\r\n",
        "ASPFU06544      S-PTGTPTTGVPITDLTIDGVTGTVESDAVEVYILCGDGSCSDWTWEGVD\r\n",
        "ASHGO01704      T-TTGTPTGGCPITNLEVRGNTGNTVGKGSKLKILVKN--ASKWTFADNN\r\n",
        "PENCH04510      S-PTGTPTTGVPITGLTVEKVTGSVESKATPVFILCGDGSCSDWTWSGND\r\n",
        "                     .   * .:..: .   .*.  .    : :      ..  .  . .\r\n",
        "\r\n",
        "ASPAC03769      IT---GGETSSDCENVPSG--------ASC\r\n",
        "ASPFN08740      IS---GGKKSDKCQNIPSG--------ASC\r\n",
        "HORVD05781      LKYMGEGGSSSKCENAMATYVGYQHPEPCA\r\n",
        "ASPOR04405      IS---GGKKSDKCQNIPSG--------ASC\r\n",
        "ASPCL04100      LT---GGKKSSKCENVPSG--------ASC\r\n",
        "PENCW11731      IS---GGKASSKCKNVPSV--------ASC\r\n",
        "NEOFI00364      IT---GGETSSKCENVPSG--------ASC\r\n",
        "ASPFU06544      IT---GGEKSSKCENVPSG--------ASC\r\n",
        "ASHGO01704      IL----GKTFPGCSGAPNG--------IKC\r\n",
        "PENCH04510      IS---GGKASSKCKNVPSV--------ASC\r\n",
        "                :     *     *..              .\r\n",
        "\r\n",
        "\r\n",
        "\r\n",
        "\r\n",
        "\r\n",
        "OUTPUT RESULTS\r\n",
        "\t#### File Type= GUIDE_TREE      Format= newick          Name= ortologos_clean.dnd\r\n",
        "\t#### File Type= MSA             Format= phylip          Name= ortologos_clean.phylip\r\n",
        "\r\n",
        "# Command Line: t_coffee ortologos_clean.fasta -output phylip  [PROGRAM:T-COFFEE]\r\n",
        "# T-COFFEE Memory Usage: Current= 30.572 Mb, Max= 32.850 Mb\r\n",
        "# Results Produced with T-COFFEE Version_10.00.r1613 (2013-10-22 15:49:04 - Revision 1613 - Build 427)\r\n",
        "# T-COFFEE is available from http://www.tcoffee.org\r\n",
        "# Register on: https://groups.google.com/group/tcoffee/\r\n"
       ]
      }
     ],
     "prompt_number": 16
    },
    {
     "cell_type": "code",
     "collapsed": false,
     "input": [
      "! head -30 ortologos_clean.phylip"
     ],
     "language": "python",
     "metadata": {
      "slideshow": {
       "slide_type": "slide"
      }
     },
     "outputs": [
      {
       "output_type": "stream",
       "stream": "stdout",
       "text": [
        " 10 430\r\n",
        "ASPAC03769  MHSFQL---- ---LGLAAVG ---S-VVSAA PTASRVSDL- ----------\r\n",
        "ASPFN08740  MHF-QL---- ---LGLAALG ---S-LAAAA PAPSRTSEL- ----------\r\n",
        "HORVD05781  MEVWPPLLVV ILTLGVVSLC ---GGLEAVA EN-MTVAQLL PMSSYHRGLA\r\n",
        "ASPOR04405  MHF-QL---- ---LGLAALG ---S-LAAAA PAPSRTSEL- ----------\r\n",
        "ASPCL04100  MRSVEI---- ---LGLAALG ---S-LVAAA PSPSRVSNS- ----------\r\n",
        "PENCW11731  MRT-SF---- ---LSMLALG ---AAAVSAA PAPSRASEL- ----------\r\n",
        "NEOFI00364  MRSVEL---- ---LSLAALG ---S-LVAAA PAPSRVSDL- ----------\r\n",
        "ASPFU06544  MRSVKL---- ---FGLAALG ---S-LGAAA PAPSRVSDL- ----------\r\n",
        "ASHGO01704  MSCLFP---- ---LKASDIQ MLFSTLVSTA ALIGGATAA- ----------\r\n",
        "PENCH04510  MRT-SF---- ---LSMLALG ---AAAVSAA PAPSRASEL- ----------\r\n",
        "\r\n",
        "           -------VKK SSSTCTFTSA S-EASESISS CSNVVLSNIE VPAGETL---\r\n",
        "           -------VER G-SSCTFTSA A-QASASAKS CSNIVLKNIA VPAGETL---\r\n",
        "           TYNAKNFGAE GNGTNDDSKQ A-LMAAWKAA CGASGTVTLL IPPGTYYIGP\r\n",
        "           -------VER G-SSCTFTSA A-QASASAKS CSNIVLKNIA VPAGETL---\r\n",
        "           -------AKK A-SSCTFTSA A-QASKSASG CSEITLDNIA VPAGETL---\r\n",
        "           -------VER GSSTCTFTSA A-SASASKKA CSTIVLDNIK VPAGETL---\r\n",
        "           -------TKR S-STCTFTAA S-QATESASG CSEIVLDNIE VPAGETL---\r\n",
        "           -------TKR S-STCTFTAA S-QATESASG CSEIVLDNIE VPAGETL---\r\n",
        "           --------TV N-GACVLTGK DLNKVAEVKK CTNIVIKDFT VPAGKAL---\r\n",
        "           -------VER GSSTCTFTSA A-SASASKKA CSTIVLDNIK VPAGETL---\r\n",
        "\r\n",
        "           -DLSDAADGA TI--TFEGTT S--FGYEEWD GPLIRFGG-K QLTITQSDGA\r\n",
        "           -DLSKAKDGA TI--TFEGTT T--FGYKEWK GPLIRFGG-N KITVTQAAGA\r\n",
        "           TQFHGPCKAS AITFLLQGTL KAATDLKRFG NDWIEFGWVK DLTVAGQNDA\r\n",
        "           -DLSKAKDGA TI--TFEGTT T--FGYKEWK GPLIRFGG-N KITVTQAAGA\r\n",
        "           -DLSHVDDGT TI--IFEGTT S--FGYKEWK GPLIQFAG-T GITVKQNTGA\r\n",
        "           -DLSKLQDGT KV--IFRGET T--FGYKEWK GPLIRVEG-S NIEVSGEKGH\r\n",
        "           -DLSDVDDGT TI--VFEGTT T--FGYKEWS GPLIRFGG-K DITVKQNSGA\r\n"
       ]
      }
     ],
     "prompt_number": 17
    },
    {
     "cell_type": "heading",
     "level": 1,
     "metadata": {
      "slideshow": {
       "slide_type": "slide"
      }
     },
     "source": [
      "Distancia & Clustering"
     ]
    },
    {
     "cell_type": "markdown",
     "metadata": {
      "slideshow": {
       "slide_type": "fragment"
      }
     },
     "source": [
      "Usaremos [PHYLIPNEW](http://emboss.sourceforge.net/apps/release/6.2/embassy/phylipnew/) una modificaci\u00f3n de EMBOSS para el clasico [PHYLIP: Phylogeny Inference Package\n",
      "](http://cmgm.stanford.edu/phylip/)  \n",
      "  \n",
      "```sudo apt-get install embassy-phylip```  \n",
      "  "
     ]
    },
    {
     "cell_type": "code",
     "collapsed": false,
     "input": [
      "!fprotdist -h"
     ],
     "language": "python",
     "metadata": {
      "slideshow": {
       "slide_type": "slide"
      }
     },
     "outputs": [
      {
       "output_type": "stream",
       "stream": "stdout",
       "text": [
        "Protein distance algorithm\r\n",
        "Version: EMBOSS:6.6.0.0 PHYLIPNEW:3.69.650\r\n",
        "\r\n",
        "   Standard (Mandatory) qualifiers:\r\n",
        "  [-sequence]          seqsetall  File containing one or more sequence\r\n",
        "                                  alignments\r\n",
        "  [-outfile]           outfile    [*.fprotdist] Phylip distance matrix output\r\n",
        "                                  file\r\n",
        "\r\n",
        "   Additional (Optional) qualifiers (* if not always prompted):\r\n",
        "   -ncategories        integer    [1] Number of substitution rate categories\r\n",
        "                                  (Integer from 1 to 9)\r\n",
        "*  -rate               array      Rate for each category\r\n",
        "*  -categories         properties File of substitution rate categories\r\n",
        "   -weights            properties Weights file\r\n",
        "   -method             menu       [j] Choose the method to use (Values: j\r\n",
        "                                  (Jones-Taylor-Thornton matrix); h\r\n",
        "                                  (Henikoff/Tiller PMB matrix); d (Dayhoff PAM\r\n",
        "                                  matrix); k (Kimura formula); s (Similarity\r\n",
        "                                  table); c (Categories model))\r\n",
        "*  -gammatype          menu       [c] Rate variation among sites (Values: g\r\n",
        "                                  (Gamma distributed rates); i\r\n",
        "                                  (Gamma+invariant sites); c (Constant rate))\r\n",
        "*  -gammacoefficient   float      [1] Coefficient of variation of substitution\r\n",
        "                                  rate among sites (Number 0.001 or more)\r\n",
        "*  -invarcoefficient   float      [1] Coefficient of variation of substitution\r\n",
        "                                  rate among sites (Number 0.001 or more)\r\n",
        "*  -aacateg            menu       [G] Choose the category to use (Values: G\r\n",
        "                                  (George/Hunt/Barker (Cys), (Met Val Leu\r\n",
        "                                  Ileu), (Gly Ala Ser Thr Pro)); C (Chemical\r\n",
        "                                  (Cys Met), (Val Leu Ileu Gly Ala Ser Thr),\r\n",
        "                                  (Pro)); H (Hall (Cys), (Met Val Leu Ileu),\r\n",
        "                                  (Gly Ala Ser Thr),(Pro)))\r\n",
        "*  -whichcode          menu       [u] Which genetic code (Values: u\r\n",
        "                                  (Universal); c (Ciliate); m (Universal\r\n",
        "                                  mitochondrial); v (Vertebrate\r\n",
        "                                  mitochondrial); f (Fly mitochondrial); y\r\n",
        "                                  (Yeast mitochondrial))\r\n",
        "*  -ease               float      [0.457] Prob change category (1.0=easy)\r\n",
        "                                  (Number from 0.000 to 1.000)\r\n",
        "*  -ttratio            float      [2.0] Transition/transversion ratio (Number\r\n",
        "                                  0.000 or more)\r\n",
        "*  -basefreq           array      [0.25 0.25 0.25 0.25] Base frequencies for A\r\n",
        "                                  C G T/U (use blanks to separate)\r\n",
        "   -printdata          boolean    [N] Print data at start of run\r\n",
        "   -[no]progress       boolean    [Y] Print indications of progress of run\r\n",
        "\r\n",
        "   Advanced (Unprompted) qualifiers: (none)\r\n",
        "   General qualifiers:\r\n",
        "   -help               boolean    Report command line options and exit. More\r\n",
        "                                  information on associated and general\r\n",
        "                                  qualifiers can be found with -help -verbose\r\n",
        "\r\n"
       ]
      }
     ],
     "prompt_number": 18
    },
    {
     "cell_type": "code",
     "collapsed": false,
     "input": [
      "! fprotdist -sequence ortologos_clean.phylip -outfile ortologos_dist -method j"
     ],
     "language": "python",
     "metadata": {
      "slideshow": {
       "slide_type": "slide"
      }
     },
     "outputs": [
      {
       "output_type": "stream",
       "stream": "stdout",
       "text": [
        "Protein distance algorithm\r\n",
        "\r\n",
        "Computing distances:\r\n",
        "  ASPAC03769   \r\n",
        "  ASPFN08740   .\r\n",
        "  HORVD05781   ..\r\n",
        "  ASPOR04405   ...\r\n",
        "  ASPCL04100   ....\r\n",
        "  PENCW11731   ."
       ]
      },
      {
       "output_type": "stream",
       "stream": "stdout",
       "text": [
        "....\r\n",
        "  NEOFI00364   ......\r\n",
        "  ASPFU06544   ......"
       ]
      },
      {
       "output_type": "stream",
       "stream": "stdout",
       "text": [
        ".\r\n",
        "  ASHGO01704   ........\r\n",
        "  PENCH04510   ......"
       ]
      },
      {
       "output_type": "stream",
       "stream": "stdout",
       "text": [
        "...\r\n",
        "\r\n",
        "Output written to file \"ortologos_dist\"\r\n",
        "\r\n",
        "Done.\r\n",
        "\r\n"
       ]
      }
     ],
     "prompt_number": 19
    },
    {
     "cell_type": "code",
     "collapsed": false,
     "input": [
      "! cat ortologos_dist"
     ],
     "language": "python",
     "metadata": {
      "slideshow": {
       "slide_type": "slide"
      }
     },
     "outputs": [
      {
       "output_type": "stream",
       "stream": "stdout",
       "text": [
        "   10\r\n",
        "ASPAC03769  0.000000  0.338914  1.721376  0.338914  0.272933  0.413172\r\n",
        "  0.178818  0.185961  1.229074  0.417539\r\n",
        "ASPFN08740  0.338914  0.000000  1.655409  0.000010  0.297693  0.381497\r\n",
        "  0.318089  0.319384  1.096937  0.382014\r\n",
        "HORVD05781  1.721376  1.655409  0.000000  1.655409  1.723934  1.833095\r\n",
        "  1.632452  1.633441  2.479143  1.849603\r\n",
        "ASPOR04405  0.338914  0.000010  1.655409  0.000000  0.297693  0.381497\r\n",
        "  0.318089  0.319384  1.096937  0.382014\r\n",
        "ASPCL04100  0.272933  0.297693  1.723934  0.297693  0.000000  0.346382\r\n",
        "  0.161980  0.169125  1.226549  0.353927\r\n",
        "PENCW11731  0.413172  0.381497  1.833095  0.381497  0.346382  0.000000\r\n",
        "  0.372404  0.391820  1.108786  0.005164\r\n",
        "NEOFI00364  0.178818  0.318089  1.632452  0.318089  0.161980  0.372404\r\n",
        "  0.000000  0.018244  1.200181  0.376702\r\n",
        "ASPFU06544  0.185961  0.319384  1.633441  0.319384  0.169125  0.391820\r\n",
        "  0.018244  0.000000  1.237283  0.396202\r\n",
        "ASHGO01704  1.229074  1.096937  2.479143  1.096937  1.226549  1.108786\r\n",
        "  1.200181  1.237283  0.000000  1.117471\r\n",
        "PENCH04510  0.417539  0.382014  1.849603  0.382014  0.353927  0.005164\r\n",
        "  0.376702  0.396202  1.117471  0.000000\r\n"
       ]
      }
     ],
     "prompt_number": 20
    },
    {
     "cell_type": "code",
     "collapsed": false,
     "input": [
      "! fneighbor -h"
     ],
     "language": "python",
     "metadata": {
      "slideshow": {
       "slide_type": "slide"
      }
     },
     "outputs": [
      {
       "output_type": "stream",
       "stream": "stdout",
       "text": [
        "\r\n",
        "Phylogenies from distance matrix by N-J or UPGMA method\r\n",
        "Version: EMBOSS:6.6.0.0 PHYLIPNEW:3.69.650\r\n",
        "\r\n",
        "   Standard (Mandatory) qualifiers:\r\n",
        "  [-datafile]          distances  Phylip distance matrix file\r\n",
        "  [-outfile]           outfile    [*.fneighbor] Phylip neighbor program output\r\n",
        "                                  file\r\n",
        "\r\n",
        "   Additional (Optional) qualifiers (* if not always prompted):\r\n",
        "   -matrixtype         menu       [s] Type of data matrix (Values: s (Square);\r\n",
        "                                  u (Upper triangular); l (Lower triangular))\r\n",
        "   -treetype           menu       [n] Neighbor-joining or UPGMA tree (Values:\r\n",
        "                                  n (Neighbor-joining); u (UPGMA))\r\n",
        "*  -outgrno            integer    [0] Species number to use as outgroup\r\n",
        "                                  (Integer 0 or more)\r\n",
        "   -jumble             toggle     [N] Randomise input order of species\r\n",
        "*  -seed               integer    [1] Random number seed between 1 and 32767\r\n",
        "                                  (must be odd) (Integer from 1 to 32767)\r\n",
        "   -replicates         boolean    [N] Subreplicates\r\n",
        "   -[no]trout          toggle     [Y] Write out trees to tree file\r\n",
        "*  -outtreefile        outfile    [*.fneighbor] Phylip tree output file\r\n",
        "                                  (optional)\r\n",
        "   -printdata          boolean    [N] Print data at start of run\r\n",
        "   -[no]progress       boolean    [Y] Print indications of progress of run\r\n",
        "   -[no]treeprint      boolean    [Y] Print out tree\r\n",
        "\r\n",
        "   Advanced (Unprompted) qualifiers: (none)\r\n",
        "   General qualifiers:\r\n",
        "   -help               boolean    Report command line options and exit. More\r\n",
        "                                  information on associated and general\r\n",
        "                                  qualifiers can be found with -help -verbose\r\n",
        "\r\n"
       ]
      }
     ],
     "prompt_number": 21
    },
    {
     "cell_type": "code",
     "collapsed": false,
     "input": [
      "! fneighbor -datafile ortologos_dist -outfile ortologos_nei -outtreefile ortologos_tree -outgrno 3"
     ],
     "language": "python",
     "metadata": {
      "slideshow": {
       "slide_type": "slide"
      }
     },
     "outputs": [
      {
       "output_type": "stream",
       "stream": "stdout",
       "text": [
        "\r\n",
        "Phylogenies from distance matrix by N-J or UPGMA method\r\n",
        "\r\n",
        "Cycle   7: species 6 (  -0.00034) joins species 10 (   0.00551)\r\n",
        "Cycle   6: species 2 (   0.00000) joins species 4 (   0.00000)\r\n",
        "Cycle   5: node 6 (   0.16132) joins species 9 (   0.94923)\r\n",
        "Cycle   4: species 7 (   0.00464) joins species 8 (   0.01361)\r\n",
        "Cycle   3: species 1 (   0.12078) joins node 7 (   0.05249)\r\n",
        "Cycle   2: node 1 (   0.01974) joins species 5 (   0.10831)\r\n",
        "Cycle   1: node 1 (   0.06508) joins species 3 (   1.52585)\r\n",
        "last cycle:\r\n",
        " node 1  (   0.01231) joins node 2  (   0.12175) joins node 6  (   0.06103)\r\n",
        "\r\n",
        "Output written on file \"ortologos_nei\"\r\n",
        "\r\n",
        "Tree written on file \"ortologos_tree\"\r\n",
        "\r\n",
        "Done.\r\n",
        "\r\n"
       ]
      }
     ],
     "prompt_number": 22
    },
    {
     "cell_type": "code",
     "collapsed": false,
     "input": [
      "! cat ortologos_tree"
     ],
     "language": "python",
     "metadata": {
      "slideshow": {
       "slide_type": "fragment"
      }
     },
     "outputs": [
      {
       "output_type": "stream",
       "stream": "stdout",
       "text": [
        "(((ASPFN08740:0.00000,ASPOR04405:0.00000):0.12175,((PENCW11731:-0.00034,\r\n",
        "PENCH04510:0.00551):0.16132,ASHGO01704:0.94923):0.06103):0.01231,\r\n",
        "((ASPAC03769:0.12078,(NEOFI00364:0.00464,ASPFU06544:0.01361):0.05249):0.01974,\r\n",
        "ASPCL04100:0.10831):0.06508,HORVD05781:1.52585);\r\n"
       ]
      }
     ],
     "prompt_number": 23
    },
    {
     "cell_type": "code",
     "collapsed": false,
     "input": [
      "! cat ortologos_nei"
     ],
     "language": "python",
     "metadata": {
      "slideshow": {
       "slide_type": "slide"
      }
     },
     "outputs": [
      {
       "output_type": "stream",
       "stream": "stdout",
       "text": [
        "\r\n",
        "Neighbor-Joining/UPGMA method version 3.69.650\r\n",
        "\r\n",
        "\r\n",
        "  10 Populations\r\n",
        "\r\n",
        " Neighbor-joining method\r\n",
        "\r\n",
        " Negative branch lengths allowed\r\n",
        "\r\n",
        "\r\n",
        "        +ASPFN08740\r\n",
        "    +---2 \r\n",
        "    !   +ASPOR04405\r\n",
        "  +-8 \r\n",
        "  ! !      +PENCW11731\r\n",
        "  ! ! +----1 \r\n",
        "  ! +-3    +PENCH04510\r\n",
        "  !   ! \r\n",
        "  !   +----------------------------ASHGO01704\r\n",
        "  ! \r\n",
        "  !   +---ASPAC03769\r\n",
        "  ! +-5 \r\n",
        "  ! ! ! +NEOFI00364\r\n",
        "  7-6 +-4 \r\n",
        "  ! !   +ASPFU06544\r\n",
        "  ! ! \r\n",
        "  ! +--ASPCL04100\r\n",
        "  ! \r\n",
        "  +---------------------------------------------HORVD05781\r\n",
        "\r\n",
        "\r\n",
        "remember: (although rooted by outgroup) this is an unrooted tree!\r\n",
        "\r\n",
        "Between        And            Length\r\n",
        "-------        ---            ------\r\n",
        "   7             8            0.01231\r\n",
        "   8             2            0.12175\r\n",
        "   2          ASPFN08740      0.00000\r\n",
        "   2          ASPOR04405      0.00000\r\n",
        "   8             3            0.06103\r\n",
        "   3             1            0.16132\r\n",
        "   1          PENCW11731     -0.00034\r\n",
        "   1          PENCH04510      0.00551\r\n",
        "   3          ASHGO01704      0.94923\r\n",
        "   7             6            0.06508\r\n",
        "   6             5            0.01974\r\n",
        "   5          ASPAC03769      0.12078\r\n",
        "   5             4            0.05249\r\n",
        "   4          NEOFI00364      0.00464\r\n",
        "   4          ASPFU06544      0.01361\r\n",
        "   6          ASPCL04100      0.10831\r\n",
        "   7          HORVD05781      1.52585\r\n",
        "\r\n",
        "\r\n"
       ]
      }
     ],
     "prompt_number": 24
    },
    {
     "cell_type": "heading",
     "level": 2,
     "metadata": {
      "slideshow": {
       "slide_type": "slide"
      }
     },
     "source": [
      "bootstraping"
     ]
    },
    {
     "cell_type": "code",
     "collapsed": false,
     "input": [
      "! fseqboot -h"
     ],
     "language": "python",
     "metadata": {
      "slideshow": {
       "slide_type": "slide"
      }
     },
     "outputs": [
      {
       "output_type": "stream",
       "stream": "stdout",
       "text": [
        "Bootstrapped sequences algorithm\r\n",
        "Version: EMBOSS:6.6.0.0 PHYLIPNEW:3.69.650\r\n",
        "\r\n",
        "   Standard (Mandatory) qualifiers:\r\n",
        "  [-sequence]          seqset     (Aligned) sequence set filename and optional\r\n",
        "                                  format, or reference (input USA)\r\n",
        "  [-outfile]           outfile    [*.fseqboot] Phylip seqboot_seq program\r\n",
        "                                  output file\r\n",
        "\r\n",
        "   Additional (Optional) qualifiers (* if not always prompted):\r\n",
        "   -categories         properties File of input categories\r\n",
        "   -weights            properties Weights file\r\n",
        "   -test               menu       [b] Choose test (Values: b (Bootstrap); j\r\n",
        "                                  (Jackknife); c (Permute species for each\r\n",
        "                                  character); o (Permute character order); s\r\n",
        "                                  (Permute within species); r (Rewrite data))\r\n",
        "*  -regular            toggle     [N] Altered sampling fraction\r\n",
        "*  -fracsample         float      [100.0] Samples as percentage of sites\r\n",
        "                                  (Number from 0.100 to 100.000)\r\n",
        "*  -rewriteformat      menu       [p] Output format (Values: p (PHYLIP); n\r\n",
        "                                  (NEXUS); x (XML))\r\n",
        "*  -seqtype            menu       [d] Output format (Values: d (dna); p\r\n",
        "                                  (protein); r (rna))\r\n",
        "*  -blocksize          integer    [1] Block size for bootstraping (Integer 1\r\n",
        "                                  or more)\r\n",
        "*  -reps               integer    [100] How many replicates (Integer 1 or\r\n",
        "                                  more)\r\n",
        "*  -justweights        menu       [d] Write out datasets or just weights\r\n",
        "                                  (Values: d (Datasets); w (Weights))\r\n",
        "*  -seed               integer    [1] Random number seed between 1 and 32767\r\n",
        "                                  (must be odd) (Integer from 1 to 32767)\r\n",
        "   -printdata          boolean    [N] Print out the data at start of run\r\n",
        "*  -[no]dotdiff        boolean    [Y] Use dot-differencing\r\n",
        "   -[no]progress       boolean    [Y] Print indications of progress of run\r\n",
        "\r\n",
        "   Advanced (Unprompted) qualifiers: (none)\r\n",
        "   General qualifiers:\r\n",
        "   -help               boolean    Report command line options and exit. More\r\n",
        "                                  information on associated and general\r\n",
        "                                  qualifiers can be found with -help -verbose\r\n",
        "\r\n"
       ]
      }
     ],
     "prompt_number": 25
    },
    {
     "cell_type": "code",
     "collapsed": false,
     "input": [
      "! fseqboot -sequence ortologos.fasta -outfile ortologos_boot -seqtype p"
     ],
     "language": "python",
     "metadata": {
      "slideshow": {
       "slide_type": "slide"
      }
     },
     "outputs": [
      {
       "output_type": "stream",
       "stream": "stdout",
       "text": [
        "Bootstrapped sequences algorithm\r\n",
        "\r\n",
        "completed replicate number   10\r\n",
        "completed replicate number   20\r\n",
        "completed replicate number   30\r\n",
        "completed replicate number   40\r\n",
        "completed replicate number   50\r\n",
        "completed replicate number   60\r\n",
        "completed replicate number   70\r\n",
        "completed replicate number   80\r\n",
        "completed replicate number   90\r\n",
        "completed replicate number  100\r\n",
        "\r\n",
        "Output written to file \"ortologos_boot\"\r\n",
        "\r\n",
        "Done.\r\n",
        "\r\n"
       ]
      }
     ],
     "prompt_number": 26
    },
    {
     "cell_type": "code",
     "collapsed": false,
     "input": [
      "! head -12 ortologos_boot"
     ],
     "language": "python",
     "metadata": {
      "slideshow": {
       "slide_type": "fragment"
      }
     },
     "outputs": [
      {
       "output_type": "stream",
       "stream": "stdout",
       "text": [
        "   11   416\r\n",
        "ASPAC03769 MFFQLGGAVG GGSSSVVVVS AAPTTTASRV SSSDLKKKSS SCCCTFAASC CCSNNVLSNE\r\n",
        "ASPFN08740 MQQLGLLLGS SSLLLAAAAA PPAPPPSRTS EEELVRRGSC CFFFTSAACN NNIVVLNIAP\r\n",
        "HORVD05781 MWWPLLLILT TTLLLGGGVV LLCGGGGLEA VVVAEMMTAQ QLLLPMGGNK KKNFFGEGNT\r\n",
        "MUSAC06263 MSSKFNNFFG GGAAATTTGD VVADDDDSKA FFFKAWWKAC CVVVPRPPFV VVRPPILQGC\r\n",
        "ASPOR04405 MQQLGLLLGS SSLLLAAAAA PPAPPPSRTS EEELVRRGSC CFFFTSAACN NNIVVLNIAP\r\n",
        "ASPCL04100 MVVELGGALG GGSSSLLLVA AAPSSSPSRV SSSNSKKKSS STTTFTSSGS SSEIITDNIV\r\n",
        "PENCW11731 MSSFSMMLGA AAAAAAAAVS AAPAAAPSRA SSSELEERSS SCCCTFAAKC CCSTTILDNK\r\n",
        "NEOFI00364 MVVELSSALG GGSSSLLLVA AAPAAAPSRV SSSDLKKRST TTTTFTTTGS SSEIIVDNIV\r\n",
        "ASPFU06544 MVVKFGGALG GGSSSLLLGA AAPAAAPSRV SSSDLKKRST TTTTFTTTGS SSEIIVDNIV\r\n",
        "ASHGO01704 MLLFLKKDIQ QQMMMLLLFS LLVSSSTAAL IIIGGTTATV VGGGACDDAV VVKKKCNIVK\r\n",
        "PENCH04510 MSSFSMMLGA AAAAAAAAVS AAPAAAPSRA SSSELEERSS SCCCTFAAKC CCSTTILDNK\r\n"
       ]
      }
     ],
     "prompt_number": 27
    },
    {
     "cell_type": "code",
     "collapsed": false,
     "input": [
      "! fprotdist -sequence ortologos_boot -outfile ortologos_boot_dist -method j -noprogress"
     ],
     "language": "python",
     "metadata": {
      "slideshow": {
       "slide_type": "slide"
      }
     },
     "outputs": [
      {
       "output_type": "stream",
       "stream": "stdout",
       "text": [
        "Protein distance algorithm\r\n"
       ]
      },
      {
       "output_type": "stream",
       "stream": "stdout",
       "text": [
        "Done.\r\n",
        "\r\n"
       ]
      }
     ],
     "prompt_number": 28
    },
    {
     "cell_type": "code",
     "collapsed": false,
     "input": [
      "! head -30 ortologos_boot_dist"
     ],
     "language": "python",
     "metadata": {
      "slideshow": {
       "slide_type": "fragment"
      }
     },
     "outputs": [
      {
       "output_type": "stream",
       "stream": "stdout",
       "text": [
        "   11\r\n",
        "ASPAC03769  0.000000  5.071372 36.567537  5.738193  5.071372  5.370365\r\n",
        "  0.436987  5.278370  5.191501  5.767827  0.441469\r\n",
        "ASPFN08740  5.071372  0.000000 10.870795 34.994683  0.000010 12.615528\r\n",
        "  4.915541 11.646319 11.884232 11.161791  4.844386\r\n",
        "HORVD05781 36.567537 10.870795  0.000000  9.810172 10.870795 38.079117\r\n",
        " 38.000426 37.280372 37.366603  6.394174 38.028506\r\n",
        "MUSAC06263  5.738193 34.994683  9.810172  0.000000 34.994683  7.948741\r\n",
        "  5.341842 36.625547  8.706898  8.716869  5.369951\r\n",
        "ASPOR04405  5.071372  0.000010 10.870795 34.994683  0.000000 12.615528\r\n",
        "  4.915541 11.646319 11.884232 11.161791  4.844386\r\n",
        "ASPCL04100  5.370365 12.615528 38.079117  7.948741 12.615528  0.000000\r\n",
        "  6.704443  0.151786  0.159198 38.083016  6.745886\r\n",
        "PENCW11731  0.436987  4.915541 38.000426  5.341842  4.915541  6.704443\r\n",
        "  0.000000  5.875512  6.098837  5.638752  0.005229\r\n",
        "NEOFI00364  5.278370 11.646319 37.280372 36.625547 11.646319  0.151786\r\n",
        "  5.875512  0.000000  0.018528  9.249254  5.904994\r\n",
        "ASPFU06544  5.191501 11.884232 37.366603  8.706898 11.884232  0.159198\r\n",
        "  6.098837  0.018528  0.000000 10.354622  6.130451\r\n",
        "ASHGO01704  5.767827 11.161791  6.394174  8.716869 11.161791 38.083016\r\n",
        "  5.638752  9.249254 10.354622  0.000000  5.665565\r\n",
        "PENCH04510  0.441469  4.844386 38.028506  5.369951  4.844386  6.745886\r\n",
        "  0.005229  5.904994  6.130451  5.665565  0.000000\r\n",
        "   11\r\n",
        "ASPAC03769  0.000000  5.053103 29.069170  8.054907  5.053103  6.398247\r\n",
        "  0.390325  5.423318  5.478299  6.077007  0.390325\r\n",
        "ASPFN08740  5.053103  0.000000  7.117348  7.843909  0.000010 35.663799\r\n",
        "  4.697093 36.958007 37.106960 15.542166  4.697093\r\n",
        "HORVD05781 29.069170  7.117348  0.000000 10.329304  7.117348 35.855239\r\n",
        " 34.651441 34.627761 34.826909  7.321851 34.651441\r\n"
       ]
      }
     ],
     "prompt_number": 29
    },
    {
     "cell_type": "code",
     "collapsed": false,
     "input": [
      "! fneighbor -datafile ortologos_boot_dist -outfile ortologos_boot_nei -outtreefile ortologos_boot_tree -outgrno 3  -noprogress"
     ],
     "language": "python",
     "metadata": {
      "slideshow": {
       "slide_type": "slide"
      }
     },
     "outputs": [
      {
       "output_type": "stream",
       "stream": "stdout",
       "text": [
        "\r\n",
        "Phylogenies from distance matrix by N-J or UPGMA method\r\n",
        "Done.\r\n",
        "\r\n"
       ]
      }
     ],
     "prompt_number": 30
    },
    {
     "cell_type": "code",
     "collapsed": false,
     "input": [
      "! head -8 ortologos_boot_tree"
     ],
     "language": "python",
     "metadata": {
      "slideshow": {
       "slide_type": "fragment"
      }
     },
     "outputs": [
      {
       "output_type": "stream",
       "stream": "stdout",
       "text": [
        "(MUSAC06263:-0.92941,(ASHGO01704:-2.24160,((PENCH04510:-0.12335,\r\n",
        "((ASPAC03769:-0.56469,((ASPCL04100:0.88220,NEOFI00364:-0.73041):0.89700,\r\n",
        "ASPFU06544:-0.88403):5.77819):0.80866,PENCW11731:-0.12193):0.13547):0.86311,\r\n",
        "(ASPFN08740:0.00000,ASPOR04405:0.00000):4.05875):9.21075):4.89203,HORVD05781:10.73958);\r\n",
        "(ASHGO01704:-0.88873,(MUSAC06263:-1.17175,((PENCH04510:-0.57150,\r\n",
        "((ASPAC03769:-6.63875,((ASPCL04100:3.28744,ASPFU06544:-3.12805):1.82147,\r\n",
        "NEOFI00364:-1.81915):12.27854):5.59045,PENCW11731:-0.57150):0.57151):5.05047,\r\n",
        "(ASPFN08740:0.00000,ASPOR04405:0.00000):2.22476):3.32206):5.59083,HORVD05781:8.21058);\r\n"
       ]
      }
     ],
     "prompt_number": 31
    },
    {
     "cell_type": "code",
     "collapsed": false,
     "input": [
      "! fconsense -h"
     ],
     "language": "python",
     "metadata": {
      "slideshow": {
       "slide_type": "slide"
      }
     },
     "outputs": [
      {
       "output_type": "stream",
       "stream": "stdout",
       "text": [
        "Majority-rule and strict consensus tree\r\n",
        "Version: EMBOSS:6.6.0.0 PHYLIPNEW:3.69.650\r\n",
        "\r\n",
        "   Standard (Mandatory) qualifiers:\r\n",
        "  [-intreefile]        tree       Phylip tree file\r\n",
        "  [-outfile]           outfile    [*.fconsense] Phylip consense program output\r\n",
        "                                  file\r\n",
        "\r\n",
        "   Additional (Optional) qualifiers (* if not always prompted):\r\n",
        "   -method             menu       [mre] Consensus method (Values: s (strict\r\n",
        "                                  consensus tree); mr (Majority Rule); mre\r\n",
        "                                  (Majority Rule (extended)); ml (Minimum\r\n",
        "                                  fraction (0.5 to 1.0)))\r\n",
        "*  -mlfrac             float      [0.5] Fraction (l) of times a branch must\r\n",
        "                                  appear (Number from 0.500 to 1.000)\r\n",
        "   -root               toggle     [N] Trees to be treated as Rooted\r\n",
        "   -outgrno            integer    [0] Species number to use as outgroup\r\n",
        "                                  (Integer 0 or more)\r\n",
        "   -[no]trout          toggle     [Y] Write out trees to tree file\r\n",
        "*  -outtreefile        outfile    [*.fconsense] Phylip tree output file\r\n",
        "                                  (optional)\r\n",
        "   -[no]progress       boolean    [Y] Print indications of progress of run\r\n",
        "   -[no]treeprint      boolean    [Y] Print out tree\r\n",
        "   -[no]prntsets       boolean    [Y] Print out the sets of species\r\n",
        "\r\n",
        "   Advanced (Unprompted) qualifiers: (none)\r\n",
        "   General qualifiers:\r\n",
        "   -help               boolean    Report command line options and exit. More\r\n",
        "                                  information on associated and general\r\n",
        "                                  qualifiers can be found with -help -verbose\r\n",
        "\r\n"
       ]
      }
     ],
     "prompt_number": 32
    },
    {
     "cell_type": "code",
     "collapsed": false,
     "input": [
      "! fconsense -intreefile ortologos_boot_tree -outfile ortologos_consense_tree -outgrno 11"
     ],
     "language": "python",
     "metadata": {
      "slideshow": {
       "slide_type": "slide"
      }
     },
     "outputs": [
      {
       "output_type": "stream",
       "stream": "stdout",
       "text": [
        "Majority-rule and strict consensus tree\r\n",
        "\r\n",
        "Consensus tree written to file \"ortologos_boot_tree.treefile\"\r\n",
        "\r\n",
        "Output written to file \"ortologos_consense_tree\"\r\n",
        "\r\n",
        "Done.\r\n",
        "\r\n"
       ]
      }
     ],
     "prompt_number": 33
    },
    {
     "cell_type": "code",
     "collapsed": false,
     "input": [
      "! cat ortologos_consense_tree"
     ],
     "language": "python",
     "metadata": {
      "slideshow": {
       "slide_type": "fragment"
      }
     },
     "outputs": [
      {
       "output_type": "stream",
       "stream": "stdout",
       "text": [
        "\r\n",
        "Consensus tree program, version 3.69.650\r\n",
        "\r\n",
        "Species in order: \r\n",
        "\r\n",
        "  1. MUSAC06263\r\n",
        "  2. ASHGO01704\r\n",
        "  3. PENCH04510\r\n",
        "  4. ASPAC03769\r\n",
        "  5. ASPCL04100\r\n",
        "  6. NEOFI00364\r\n",
        "  7. ASPFU06544\r\n",
        "  8. PENCW11731\r\n",
        "  9. ASPFN08740\r\n",
        "  10. ASPOR04405\r\n",
        "\r\n",
        "  11. HORVD05781\r\n",
        "\r\n",
        "\r\n",
        "Sets included in the consensus tree\r\n",
        "\r\n",
        "Set (species in order)     How many times out of  100.00\r\n",
        "\r\n",
        "....***... .                93.00\r\n",
        "........** .                72.00\r\n",
        "*.******** .                46.00\r\n",
        "..******** .                40.00\r\n",
        "....**.... .                34.00\r\n",
        "..******.. .                27.00\r\n",
        "...****... .                22.00\r\n",
        "..*....*.. .                22.00\r\n",
        "\r\n",
        "\r\n",
        "Sets NOT included in consensus tree:\r\n",
        "\r\n",
        "Set (species in order)     How many times out of  100.00\r\n",
        "\r\n",
        "....*.*... .                31.00\r\n",
        ".********* .                30.00\r\n",
        ".....**... .                30.00\r\n",
        "....***.** .                18.00\r\n",
        ".*******.. .                16.00\r\n",
        "...*****.. .                14.00\r\n",
        "..**...*.. .                14.00\r\n",
        ".***...*.. .                10.00\r\n",
        "..*.****** .                10.00\r\n",
        "...****.** .                 9.00\r\n",
        "..*.****.. .                 9.00\r\n",
        ".*******.* .                 9.00\r\n",
        "*.......** .                 9.00\r\n",
        "..*.***.** .                 9.00\r\n",
        "********.. .                 8.00\r\n",
        "..*****.** .                 8.00\r\n",
        "..**...*** .                 8.00\r\n",
        "....****.. .                 8.00\r\n",
        "*.******.. .                 8.00\r\n",
        "*...***... .                 8.00\r\n",
        ".***...*** .                 7.00\r\n",
        ".*..***... .                 7.00\r\n",
        "*...***.** .                 6.00\r\n",
        ".**....*.. .                 6.00\r\n",
        "**........ .                 6.00\r\n",
        "*.*.****** .                 6.00\r\n",
        ".*.....*.. .                 6.00\r\n",
        "*.**...*** .                 6.00\r\n",
        "****...*** .                 5.00\r\n",
        ".*.*...... .                 5.00\r\n",
        "*.*....*** .                 5.00\r\n",
        "..******.* .                 5.00\r\n",
        "*.*.....** .                 5.00\r\n",
        "...*....** .                 4.00\r\n",
        ".*.*...*.. .                 4.00\r\n",
        "..*.....** .                 4.00\r\n",
        ".*.****... .                 4.00\r\n",
        "....***.*. .                 3.00\r\n",
        "..*****... .                 3.00\r\n",
        "..**....** .                 3.00\r\n",
        "*.*....*.. .                 3.00\r\n",
        "**.....*.. .                 3.00\r\n",
        "*.*.***.** .                 3.00\r\n",
        "***.****.. .                 2.00\r\n",
        "**..***... .                 2.00\r\n",
        ".*.*....** .                 2.00\r\n",
        ".*..*..... .                 2.00\r\n",
        ".******... .                 2.00\r\n",
        "*.******.* .                 2.00\r\n",
        "..*.***... .                 2.00\r\n",
        "..**...... .                 2.00\r\n",
        "********.* .                 2.00\r\n",
        "*.**...*.. .                 2.00\r\n",
        "*.......*. .                 2.00\r\n",
        ".*.*****.. .                 2.00\r\n",
        "***....*.. .                 2.00\r\n",
        ".**....*** .                 2.00\r\n",
        "..***..*** .                 2.00\r\n",
        ".*......** .                 2.00\r\n",
        "*.*....**. .                 1.00\r\n",
        "..***.**** .                 1.00\r\n",
        "*........* .                 1.00\r\n",
        "**.*****.. .                 1.00\r\n",
        "**......** .                 1.00\r\n",
        "*.*....... .                 1.00\r\n",
        ".*****.*** .                 1.00\r\n",
        "*.*.****.. .                 1.00\r\n",
        ".***...*.* .                 1.00\r\n",
        "*......*.. .                 1.00\r\n",
        "*.***.**** .                 1.00\r\n",
        "****..**** .                 1.00\r\n",
        "*...***..* .                 1.00\r\n",
        ".********. .                 1.00\r\n",
        ".**.****.. .                 1.00\r\n",
        ".****..*.. .                 1.00\r\n",
        ".****..*** .                 1.00\r\n",
        ".*.**..... .                 1.00\r\n",
        "***.****** .                 1.00\r\n",
        "***.***... .                 1.00\r\n",
        ".***....** .                 1.00\r\n",
        "*.**...*.* .                 1.00\r\n",
        "...*...*** .                 1.00\r\n",
        "*.**...**. .                 1.00\r\n",
        ".*.******* .                 1.00\r\n",
        "*......*** .                 1.00\r\n",
        "****...*.. .                 1.00\r\n",
        "*.***..*** .                 1.00\r\n",
        ".*.**..*.. .                 1.00\r\n",
        ".*..**.... .                 1.00\r\n",
        "*.*****.** .                 1.00\r\n",
        ".**.***... .                 1.00\r\n",
        "....***..* .                 1.00\r\n",
        "*...****.. .                 1.00\r\n",
        ".*****.*.. .                 1.00\r\n",
        "*..****.** .                 1.00\r\n",
        "..*....*** .                 1.00\r\n",
        "\r\n",
        "\r\n",
        "Extended majority rule consensus tree\r\n",
        "\r\n",
        "CONSENSUS TREE:\r\n",
        "the numbers on the branches indicate the number\r\n",
        "of times the partition of the species into the two sets\r\n",
        "which are separated by that branch occurred\r\n",
        "among the trees, out of 100.00 trees\r\n",
        "\r\n",
        "                                                          +-------ASPOR04405\r\n",
        "                          +--------------------------72.0-|\r\n",
        "                          |                               +-------ASPFN08740\r\n",
        "                          |\r\n",
        "                          |               +-----------------------ASPAC03769\r\n",
        "                  +--40.0-|       +--22.0-|\r\n",
        "                  |       |       |       |       +---------------ASPFU06544\r\n",
        "                  |       |       |       +--93.0-|\r\n",
        "                  |       |       |               |       +-------NEOFI00364\r\n",
        "                  |       +--27.0-|               +--34.0-|\r\n",
        "          +--46.0-|               |                       +-------ASPCL04100\r\n",
        "          |       |               |\r\n",
        "          |       |               |                       +-------PENCH04510\r\n",
        "          |       |               +------------------22.0-|\r\n",
        "  +-------|       |                                       +-------PENCW11731\r\n",
        "  |       |       |\r\n",
        "  |       |       +-----------------------------------------------MUSAC06263\r\n",
        "  |       |\r\n",
        "  |       +-------------------------------------------------------ASHGO01704\r\n",
        "  |\r\n",
        "  +---------------------------------------------------------------HORVD05781\r\n",
        "\r\n",
        "\r\n",
        "  remember: (though rerooted by outgroup) this is an unrooted tree!\r\n",
        "\r\n"
       ]
      }
     ],
     "prompt_number": 34
    },
    {
     "cell_type": "code",
     "collapsed": false,
     "input": [],
     "language": "python",
     "metadata": {
      "slideshow": {
       "slide_type": "skip"
      }
     },
     "outputs": [],
     "prompt_number": 34
    }
   ],
   "metadata": {}
  }
 ]
}