{
 "metadata": {
  "name": "",
  "signature": "sha256:1f365ef4cdc01788efebd068d7f9ecacb7abf6a6b2e7883e71ac0c73a7067f07"
 },
 "nbformat": 3,
 "nbformat_minor": 0,
 "worksheets": [
  {
   "cells": [
    {
     "cell_type": "code",
     "collapsed": false,
     "input": [
      "import utils_notebook"
     ],
     "language": "python",
     "metadata": {},
     "outputs": [],
     "prompt_number": 17
    },
    {
     "cell_type": "code",
     "collapsed": false,
     "input": [
      "utils_notebook.web(\"http://www.yeastgenome.org/cgi-bin/locus.fpl?locus=YPR192W\")"
     ],
     "language": "python",
     "metadata": {},
     "outputs": [
      {
       "html": [
        "<iframe src=\"http://www.yeastgenome.org/cgi-bin/locus.fpl?locus=YPR192W\"  width=100% height=500></iframe>"
       ],
       "metadata": {},
       "output_type": "pyout",
       "prompt_number": 2,
       "text": [
        "<IPython.core.display.HTML at 0x7f8516fbdf90>"
       ]
      }
     ],
     "prompt_number": 2
    },
    {
     "cell_type": "code",
     "collapsed": false,
     "input": [
      "utils_notebook.web(\"http://www.yeastgenome.org/cache/fungi/YPR192W.html\")"
     ],
     "language": "python",
     "metadata": {},
     "outputs": [
      {
       "html": [
        "<iframe src=\"http://www.yeastgenome.org/cache/fungi/YPR192W.html\"  width=100% height=500></iframe>"
       ],
       "metadata": {},
       "output_type": "pyout",
       "prompt_number": 3,
       "text": [
        "<IPython.core.display.HTML at 0x7f8516fb44d0>"
       ]
      }
     ],
     "prompt_number": 3
    },
    {
     "cell_type": "markdown",
     "metadata": {},
     "source": [
      "> ```((S. paradoxus, S. cerevisiae), S. mikatae, S. bayanus)```  "
     ]
    },
    {
     "cell_type": "code",
     "collapsed": false,
     "input": [
      "! clustalo --help"
     ],
     "language": "python",
     "metadata": {},
     "outputs": [
      {
       "output_type": "stream",
       "stream": "stdout",
       "text": [
        "Clustal Omega - 1.2.1 (AndreaGiacomo)\r\n",
        "\r\n",
        "If you like Clustal-Omega please cite:\r\n",
        " Sievers F, Wilm A, Dineen D, Gibson TJ, Karplus K, Li W, Lopez R, McWilliam H, Remmert M, S\u00f6ding J, Thompson JD, Higgins DG.\r\n",
        " Fast, scalable generation of high-quality protein multiple sequence alignments using Clustal Omega.\r\n",
        " Mol Syst Biol. 2011 Oct 11;7:539. doi: 10.1038/msb.2011.75. PMID: 21988835.\r\n",
        "If you don't like Clustal-Omega, please let us know why (and cite us anyway).\r\n",
        "\r\n",
        "Check http://www.clustal.org for more information and updates.\r\n",
        "\r\n",
        "Usage: clustalo [-hv] [-i {<file>,-}] [--hmm-in=<file>]... [--dealign] [--profile1=<file>] [--profile2=<file>] [--is-profile] [-t {Protein, RNA, DNA}] [--infmt={a2m=fa[sta],clu[stal],msf,phy[lip],selex,st[ockholm],vie[nna]}] [--distmat-in=<file>] [--distmat-out=<file>] [--guidetree-in=<file>] [--guidetree-out=<file>] [--pileup] [--full] [--full-iter] [--cluster-size=<n>] [--clustering-out=<file>] [--trans=<n>] [--posterior-out=<file>] [--use-kimura] [--percent-id] [-o {file,-}] [--outfmt={a2m=fa[sta],clu[stal],msf,phy[lip],selex,st[ockholm],vie[nna]}] [--residuenumber] [--wrap=<n>] [--output-order={input-order,tree-order}] [--iterations=<n>] [--max-guidetree-iterations=<n>] [--max-hmm-iterations=<n>] [--maxnumseq=<n>] [--maxseqlen=<l>] [--auto] [--threads=<n>] [--pseudo=<file>] [-l <file>] [--version] [--long-version] [--force] [--MAC-RAM=<n>]\r\n",
        "\r\n",
        "A typical invocation would be: clustalo -i my-in-seqs.fa -o my-out-seqs.fa -v\r\n",
        "See below for a list of all options.\r\n",
        "                            \r\n",
        "Sequence Input:\r\n",
        "  -i, --in, --infile={<file>,-} Multiple sequence input file (- for stdin)\r\n",
        "  --hmm-in=<file>           HMM input files\r\n",
        "  --dealign                 Dealign input sequences\r\n",
        "  --profile1, --p1=<file>   Pre-aligned multiple sequence file (aligned columns will be kept fix)\r\n",
        "  --profile2, --p2=<file>   Pre-aligned multiple sequence file (aligned columns will be kept fix)\r\n",
        "  --is-profile              disable check if profile, force profile (default no)\r\n",
        "  -t, --seqtype={Protein, RNA, DNA} Force a sequence type (default: auto)\r\n",
        "  --infmt={a2m=fa[sta],clu[stal],msf,phy[lip],selex,st[ockholm],vie[nna]} Forced sequence input file format (default: auto)\r\n",
        "                            \r\n",
        "Clustering:\r\n",
        "  --distmat-in=<file>       Pairwise distance matrix input file (skips distance computation)\r\n",
        "  --distmat-out=<file>      Pairwise distance matrix output file\r\n",
        "  --guidetree-in=<file>     Guide tree input file (skips distance computation and guide-tree clustering step)\r\n",
        "  --guidetree-out=<file>    Guide tree output file\r\n",
        "  --pileup                  Sequentially align sequences\r\n",
        "  --full                    Use full distance matrix for guide-tree calculation (might be slow; mBed is default)\r\n",
        "  --full-iter               Use full distance matrix for guide-tree calculation during iteration (might be slowish; mBed is default)\r\n",
        "  --cluster-size=<n>        soft maximum of sequences in sub-clusters\r\n",
        "  --clustering-out=<file>   Clustering output file\r\n",
        "  --trans=<n>               use transitivity (default: 0)\r\n",
        "  --posterior-out=<file>    Posterior probability output file\r\n",
        "  --use-kimura              use Kimura distance correction for aligned sequences (default no)\r\n",
        "  --percent-id              convert distances into percent identities (default no)\r\n",
        "                            \r\n",
        "Alignment Output:\r\n",
        "  -o, --out, --outfile={file,-} Multiple sequence alignment output file (default: stdout)\r\n",
        "  --outfmt={a2m=fa[sta],clu[stal],msf,phy[lip],selex,st[ockholm],vie[nna]} MSA output file format (default: fasta)\r\n",
        "  --residuenumber, --resno  in Clustal format print residue numbers (default no)\r\n",
        "  --wrap=<n>                number of residues before line-wrap in output\r\n",
        "  --output-order={input-order,tree-order} MSA output order like in input/guide-tree\r\n",
        "                            \r\n",
        "Iteration:\r\n",
        "  --iterations, --iter=<n>  Number of (combined guide-tree/HMM) iterations\r\n",
        "  --max-guidetree-iterations=<n> Maximum number of guidetree iterations\r\n",
        "  --max-hmm-iterations=<n>  Maximum number of HMM iterations\r\n",
        "                            \r\n",
        "Limits (will exit early, if exceeded):\r\n",
        "  --maxnumseq=<n>           Maximum allowed number of sequences\r\n",
        "  --maxseqlen=<l>           Maximum allowed sequence length\r\n",
        "                            \r\n",
        "Miscellaneous:\r\n",
        "  --auto                    Set options automatically (might overwrite some of your options)\r\n",
        "  --threads=<n>             Number of processors to use\r\n",
        "  --pseudo=<file>           Input file for pseudo-count parameters\r\n",
        "  -l, --log=<file>          Log all non-essential output to this file\r\n",
        "  -h, --help                Print this help and exit\r\n",
        "  -v, --verbose             Verbose output (increases if given multiple times)\r\n",
        "  --version                 Print version information and exit\r\n",
        "  --long-version            Print long version information and exit\r\n",
        "  --force                   Force file overwriting\r\n"
       ]
      }
     ],
     "prompt_number": 4
    },
    {
     "cell_type": "code",
     "collapsed": false,
     "input": [
      "! clustalo -i Yeast/orf_prot.fasta -o ./Yeast/orf_aln --output-order=input-order"
     ],
     "language": "python",
     "metadata": {},
     "outputs": [
      {
       "output_type": "stream",
       "stream": "stdout",
       "text": [
        "FATAL: Cowardly refusing to overwrite already existing file './Yeast/orf_aln'. Use --force to force overwriting.\r\n"
       ]
      }
     ],
     "prompt_number": 5
    },
    {
     "cell_type": "code",
     "collapsed": false,
     "input": [
      "! cat Yeast/orf_aln"
     ],
     "language": "python",
     "metadata": {},
     "outputs": [
      {
       "output_type": "stream",
       "stream": "stdout",
       "text": [
        ">SGD_Scer_AQY1/YPR192W\r\n",
        "MSSNDSNDTDKQHTRLDPTGVDDAYIPPEQPETKHHRFKISRDTLRDHFIAAVGEFCGTF\r\n",
        "MFLWCAYVICNVANHDVALVAAPDGSHPGQLIMIAIGFGFSVMFSIWCFAGVSGGALNPA\r\n",
        "MSLSLCLARAVSPTRCVVMWVSQIVAGMAAGGAASAMTPGEVLFANSLGLGCSRTRGLFL\r\n",
        "EMFGTAILCLTVLMTAVEKRETNFMAALPIGISLFIAHVALTAYTGTGVNPARSLGAAVA\r\n",
        "ARYFPHYHWIYWIGTLLGSILAWSVWQLLQILDYTTYVTAEKAASTKEKAQKKGETSSSS\r\n",
        "AVAEV*\r\n",
        ">MIT_Sbay_c606_26152\r\n",
        "------------------------------------------------------------\r\n",
        "MFLWCAYVICNVANHDVALTAQPDGSHPGQLIMIAIGFGFSLMFAVWCFAGVSGGALNPA\r\n",
        "VSLSLCLARAITPTRCLVMWFSQIIAGMAAGGAASAMTPGKVLFANALGLGCSRSRGLFL\r\n",
        "EMFGTSILCLTVLMTAVEKRETNFMAALPIGISLFIAHVALTAYTGTGVNPARSLGAAVA\r\n",
        "ARYFPHYHWIYWVGPILGATLAWSIWQLLQILDYTTYVDAEKAASTKAKAQPRASTTAAP\r\n",
        "AGAEV*\r\n",
        ">MIT_Smik_c259_22968\r\n",
        "MSSNDSNDTEKQHTRLDPTGVDDAYIPPEQPETKHHRFRISRDTLRNHFIAAVGEFCGTF\r\n",
        "MFLWCAYVICNVANHDVALVAAPDGSHPGQLIMIAIGFGFSVMFSIWCFAGVSGGALNPA\r\n",
        "VSLSLCLARAVSPTRCAVMWISQIVAGMAAGGAASAMTPGEVLFANSLGLGCSRTRGLFL\r\n",
        "EMFGTAILCLTVLMTAVEKRETNFMAALPIGISLFIAHVALTAYTGTGVNPARSLGAAVA\r\n",
        "ARYFPHYHWIYWIGPLLGSILAWSVWQLLQILDYTTYVTAEKAASTKEKAQKKDQTSNSS\r\n",
        "VATEV*\r\n",
        ">MIT_Spar_c565_22711\r\n",
        "MSSNDSNDTEKQHTRLDPTGVDDAYIPPEQPETKHHRFKISRDTLRNHFIAAVGEFCGTF\r\n",
        "MFLWCAYVICNVANHDVALVAAPDGSHPGQLIMIAIGFGFSVMFSIWCFAGVSGGALNPA\r\n",
        "VSLSLCLARAISPTRCFVMWISQIVAGMAAGGAASAMTPGKVLFANSLGLGCSRTRGLFL\r\n",
        "EMFGTAILCLTVLMTAVEKRETNFMAALPIGISLFIAHVALTAYTGTGVNPARSLGAAVA\r\n",
        "ARYFPHYHWIYWIGPLLGSILAWSVWQLLQILDYTTYVTAEKAASTKEKAQKKDPTSNSS\r\n",
        "PTNEV*\r\n"
       ]
      }
     ],
     "prompt_number": 6
    },
    {
     "cell_type": "code",
     "collapsed": false,
     "input": [
      "! Yeast/pal2nal.v14/pal2nal.pl -h"
     ],
     "language": "python",
     "metadata": {},
     "outputs": [
      {
       "output_type": "stream",
       "stream": "stdout",
       "text": [
        "\r\n",
        "pal2nal.pl  (v14)\r\n",
        "\r\n",
        "Usage:  pal2nal.pl  pep.aln  nuc.fasta  [nuc.fasta...]  [options]\r\n",
        "\r\n",
        "\r\n",
        "    pep.aln:    protein alignment either in CLUSTAL or FASTA format\r\n",
        "\r\n",
        "    nuc.fasta:  DNA sequences (single multi-fasta or separated files)\r\n",
        "\r\n",
        "    Options:  -h            Show help \r\n",
        "\r\n",
        "              -output (clustal|paml|fasta|codon)\r\n",
        "                            Output format; default = clustal\r\n",
        "\r\n",
        "              -blockonly    Show only user specified blocks\r\n",
        "                            '#' under CLUSTAL alignment (see example)\r\n",
        "\r\n",
        "              -nogap        remove columns with gaps and inframe stop codons\r\n",
        "\r\n",
        "              -nomismatch   remove mismatched codons (mismatch between\r\n",
        "                            pep and cDNA) from the output\r\n",
        "\r\n",
        "              -codontable  N\r\n",
        "                    1  Universal code (default)\r\n",
        "                    2  Vertebrate mitochondrial code\r\n",
        "                    3  Yeast mitochondrial code\r\n",
        "                    4  Mold, Protozoan, and Coelenterate Mitochondrial code\r\n",
        "                       and Mycoplasma/Spiroplasma code\r\n",
        "                    5  Invertebrate mitochondrial\r\n",
        "                    6  Ciliate, Dasycladacean and Hexamita nuclear code\r\n",
        "                    9  Echinoderm and Flatworm mitochondrial code\r\n",
        "                   10  Euplotid nuclear code\r\n",
        "                   11  Bacterial, archaeal and plant plastid code\r\n",
        "                   12  Alternative yeast nuclear code\r\n",
        "                   13  Ascidian mitochondrial code\r\n",
        "                   14  Alternative flatworm mitochondrial code\r\n",
        "                   15  Blepharisma nuclear code\r\n",
        "                   16  Chlorophycean mitochondrial code\r\n",
        "                   21  Trematode mitochondrial code\r\n",
        "                   22  Scenedesmus obliquus mitochondrial code\r\n",
        "                   23  Thraustochytrium mitochondrial code\r\n",
        "\r\n",
        "\r\n",
        "              -html         HTML output (only for the web server)\r\n",
        "\r\n",
        "              -nostderr     No STDERR messages (only for the web server)\r\n",
        "\r\n",
        "\r\n",
        "    - sequence order in pep.aln and nuc.fasta should be the same.\r\n",
        "\r\n",
        "    - IDs in pep.aln are used in the output.\r\n",
        "\r\n"
       ]
      }
     ],
     "prompt_number": 7
    },
    {
     "cell_type": "code",
     "collapsed": false,
     "input": [
      "! ./Yeast/pal2nal.v14/pal2nal.pl ./Yeast/orf_aln ./Yeast/orf_dna.fasta -output paml -nogap -codontable 1 > codon_aln.paml"
     ],
     "language": "python",
     "metadata": {},
     "outputs": [],
     "prompt_number": 8
    },
    {
     "cell_type": "code",
     "collapsed": false,
     "input": [
      "! cat codon_aln.paml"
     ],
     "language": "python",
     "metadata": {},
     "outputs": [
      {
       "output_type": "stream",
       "stream": "stdout",
       "text": [
        "   4    735\r\n",
        "SGD_Scer_AQY1/YPR192W\r\n",
        "ATGTTTTTATGGTGCGCTTACGTTATCTGCAATGTCGCTAACCATGATGTCGCACTCGTT\r\n",
        "GCAGCGCCTGACGGTTCCCATCCGGGTCAATTGATTATGATTGCCATCGGTTTCGGATTT\r\n",
        "TCCGTCATGTTTTCTATCTGGTGTTTTGCCGGTGTCTCTGGTGGGGCTTTGAATCCTGCT\r\n",
        "ATGTCGCTTTCGCTGTGCTTGGCGAGAGCCGTCTCTCCTACAAGATGTGTCGTTATGTGG\r\n",
        "GTTTCGCAGATTGTTGCTGGAATGGCCGCTGGAGGCGCTGCAAGCGCCATGACACCTGGT\r\n",
        "GAAGTCCTCTTTGCCAATTCTTTGGGCCTGGGCTGCTCTAGGACGAGGGGTCTGTTCCTG\r\n",
        "GAGATGTTCGGCACCGCTATCCTATGTTTAACAGTCTTAATGACGGCTGTGGAGAAGCGT\r\n",
        "GAAACCAACTTTATGGCTGCGCTGCCCATCGGCATCTCCCTGTTTATCGCACACGTCGCT\r\n",
        "TTGACTGCATACACAGGCACAGGTGTCAACCCTGCGAGGTCCTTGGGTGCTGCTGTCGCA\r\n",
        "GCCAGATACTTCCCTCATTACCACTGGATTTATTGGATTGGCACGCTGTTAGGATCCATT\r\n",
        "TTAGCATGGTCTGTATGGCAATTATTGCAAATCTTAGACTACACAACCTACGTTACCGCT\r\n",
        "GAAAAGGCTGCCAGCACCAAGGAAAAAGCTCAAAAAAAAGGTGAAACCAGCAGTTCCTCT\r\n",
        "GCTGTGGCTGAAGTC\r\n",
        "MIT_Sbay_c606_26152\r\n",
        "ATGTTTTTATGGTGCGCTTACGTTATCTGTAACGTCGCCAACCATGATGTCGCACTGACT\r\n",
        "GCGCAGCCTGACGGTTCCCACCCGGGCCAATTGATCATGATCGCTATCGGTTTCGGGTTC\r\n",
        "TCCCTCATGTTTGCCGTCTGGTGCTTCGCTGGTGTTTCCGGTGGTGCTTTGAATCCTGCC\r\n",
        "GTCTCGCTTTCCCTGTGTCTGGCAAGAGCCATCACTCCAACAAGATGTCTTGTGATGTGG\r\n",
        "TTCTCCCAGATCATAGCCGGGATGGCCGCAGGTGGTGCGGCTAGTGCTATGACTCCCGGT\r\n",
        "AAGGTTCTTTTCGCCAACGCCCTGGGCCTGGGGTGCTCTAGATCAAGAGGCCTGTTCCTG\r\n",
        "GAAATGTTCGGCACTTCCATCTTGTGTTTGACCGTTTTGATGACTGCTGTCGAGAAGCGT\r\n",
        "GAAACCAATTTCATGGCCGCTCTTCCCATCGGCATCTCTCTGTTCATCGCACATGTCGCC\r\n",
        "TTGACGGCGTACACAGGCACAGGTGTCAACCCGGCAAGATCCCTGGGCGCTGCCGTTGCA\r\n",
        "GCGAGATATTTCCCCCACTACCACTGGATCTACTGGGTCGGTCCGATATTGGGGGCTACC\r\n",
        "TTGGCGTGGTCCATCTGGCAACTACTGCAGATCCTGGACTACACCACCTACGTCGATGCT\r\n",
        "GAAAAGGCCGCAAGCACCAAAGCGAAAGCCCAACCAAGAGCAAGCACTACTGCCGCTCCT\r\n",
        "GCTGGCGCTGAAGTT\r\n",
        "MIT_Smik_c259_22968\r\n",
        "ATGTTTTTATGGTGCGCTTACGTTATCTGCAATGTTGCTAACCATGATGTGGCACTCGTT\r\n",
        "GCAGCACCTGACGGCTCCCACCCGGGCCAATTGATCATGATTGCGATTGGTTTCGGGTTT\r\n",
        "TCCGTCATGTTTTCCATCTGGTGCTTTGCTGGTGTCTCTGGTGGTGCTTTGAATCCCGCC\r\n",
        "GTTTCGCTTTCCTTGTGTTTGGCAAGGGCCGTCTCTCCAACAAGATGTGCTGTTATGTGG\r\n",
        "ATTTCGCAAATTGTTGCGGGAATGGCCGCTGGAGGTGCTGCAAGCGCTATGACCCCAGGT\r\n",
        "GAAGTCCTCTTTGCCAATTCTTTGGGGCTGGGCTGCTCCAGGACTAGAGGCCTGTTCCTG\r\n",
        "GAAATGTTCGGCACTGCTATTCTCTGCTTGACAGTTTTAATGACTGCTGTTGAAAAGCGT\r\n",
        "GAAACTAACTTTATGGCCGCGCTGCCCATCGGTATCTCCCTGTTTATTGCCCATGTCGCT\r\n",
        "TTGACTGCCTACACAGGCACAGGTGTCAACCCAGCAAGGTCTTTGGGAGCTGCTGTCGCA\r\n",
        "GCTAGATATTTCCCTCACTACCACTGGATTTACTGGATCGGCCCCTTATTAGGGTCTATT\r\n",
        "TTAGCATGGTCTGTGTGGCAATTATTACAAATCTTAGATTACACTACCTATGTTACTGCT\r\n",
        "GAGAAGGCTGCCAGCACCAAGGAAAAGGCTCAAAAAAAAGATCAAACTAGCAATTCCTCT\r\n",
        "GTTGCGACTGAAGTT\r\n",
        "MIT_Spar_c565_22711\r\n",
        "ATGTTTTTATGGTGCGCTTACGTTATCTGCAATGTCGCCAACCATGATGTCGCACTCGTT\r\n",
        "GCAGCGCCCGACGGTTCCCATCCGGGTCAATTGATTATGATTGCCATCGGTTTCGGGTTT\r\n",
        "TCCGTCATGTTTTCCATCTGGTGCTTTGCCGGTGTCTCTGGTGGGGCTTTGAATCCTGCT\r\n",
        "GTTTCGCTTTCTTTATGCTTGGCAAGAGCCATCTCTCCAACAAGATGCTTTGTTATGTGG\r\n",
        "ATTTCGCAGATTGTTGCTGGAATGGCCGCCGGAGGCGCTGCAAGCGCTATGACACCTGGT\r\n",
        "AAAGTTCTTTTTGCCAATTCTTTGGGACTGGGCTGCTCCAGAACGAGGGGCCTGTTCCTG\r\n",
        "GAAATGTTCGGCACCGCTATCTTATGCTTAACGGTTTTGATGACGGCTGTGGAGAAGCGT\r\n",
        "GAAACTAACTTTATGGCCGCACTGCCCATCGGCATCTCCCTGTTTATCGCCCATGTCGCT\r\n",
        "TTGACTGCGTACACAGGCACAGGTGTCAATCCTGCAAGGTCTTTGGGTGCTGCTGTCGCA\r\n",
        "GCCAGATACTTCCCTCATTACCACTGGATTTACTGGATTGGCCCCCTATTAGGATCCATT\r\n",
        "CTGGCATGGTCTGTGTGGCAATTATTGCAAATTCTAGATTATACAACCTATGTTACCGCT\r\n",
        "GAAAAGGCTGCCAGCACCAAGGAAAAGGCCCAGAAAAAAGATCCAACTAGCAACTCCTCC\r\n",
        "CCTACGAATGAAGTC\r\n"
       ]
      }
     ],
     "prompt_number": 9
    },
    {
     "cell_type": "code",
     "collapsed": false,
     "input": [
      "fh = open(\"tree\",\"w\")\n",
      "# ((S. paradoxus, S. cerevisiae), S. mikatae, S. bayanus);\n",
      "fh.write(\"((4,1),3,2);\")\n",
      "fh.close()"
     ],
     "language": "python",
     "metadata": {},
     "outputs": [],
     "prompt_number": 10
    },
    {
     "cell_type": "code",
     "collapsed": false,
     "input": [
      "! cat tree"
     ],
     "language": "python",
     "metadata": {},
     "outputs": [
      {
       "output_type": "stream",
       "stream": "stdout",
       "text": [
        "((4,1),3,2);"
       ]
      }
     ],
     "prompt_number": 11
    },
    {
     "cell_type": "code",
     "collapsed": false,
     "input": [
      "! cat ./Yeast/pal2nal.v14/for_paml/test.cnt"
     ],
     "language": "python",
     "metadata": {},
     "outputs": [
      {
       "output_type": "stream",
       "stream": "stdout",
       "text": [
        "      seqfile = test.codon\r\n",
        "     treefile = test.tree\r\n",
        "      outfile = test.codeml\r\n",
        "\r\n",
        "        noisy = 0   * 0,1,2,3,9: how much rubbish on the screen\r\n",
        "      verbose = 0   * 1: detailed output, 0: concise output\r\n",
        "      runmode = -2  * 0: user tree;  1: semi-automatic;  2: automatic\r\n",
        "                    * 3: StepwiseAddition; (4,5):PerturbationNNI; -2: pairwise\r\n",
        "\r\n",
        "    cleandata = 1   * \"I added on 07/07/2004\" Mikita Suyama\r\n",
        "\r\n",
        "      seqtype = 1   * 1:codons; 2:AAs; 3:codons-->AAs\r\n",
        "    CodonFreq = 2   * 0:1/61 each, 1:F1X4, 2:F3X4, 3:codon table\r\n",
        "        model = 2\r\n",
        "                    * models for codons:\r\n",
        "                        * 0:one, 1:b, 2:2 or more dN/dS ratios for branches\r\n",
        "\r\n",
        "      NSsites = 0   * dN/dS among sites. 0:no variation, 1:neutral, 2:positive\r\n",
        "        icode = 0   * 0:standard genetic code; 1:mammalian mt; 2-10:see below\r\n",
        "        Mgene = 0   * 0:rates, 1:separate; 2:pi, 3:kappa, 4:all\r\n",
        "\r\n",
        "    fix_kappa = 0   * 1: kappa fixed, 0: kappa to be estimated\r\n",
        "        kappa = 2   * initial or fixed kappa\r\n",
        "    fix_omega = 0   * 1: omega or omega_1 fixed, 0: estimate\r\n",
        "        omega = 1   * initial or fixed omega, for codons or codon-transltd AAs\r\n",
        "\r\n",
        "    fix_alpha = 1   * 0: estimate gamma shape parameter; 1: fix it at alpha\r\n",
        "        alpha = .0  * initial or fixed alpha, 0:infinity (constant rate)\r\n",
        "       Malpha = 0   * different alphas for genes\r\n",
        "        ncatG = 4   * # of categories in the dG or AdG models of rates\r\n",
        "\r\n",
        "        clock = 0   * 0: no clock, unrooted tree, 1: clock, rooted tree\r\n",
        "        getSE = 0   * 0: don't want them, 1: want S.E.s of estimates\r\n",
        " RateAncestor = 0   * (1/0): rates (alpha>0) or ancestral states (alpha=0)\r\n",
        "       method = 0   * 0: simultaneous; 1: one branch at a time\r\n"
       ]
      }
     ],
     "prompt_number": 12
    },
    {
     "cell_type": "markdown",
     "metadata": {},
     "source": [
      "> *\"PHYLIP's dnaml (23) was used to construct a maximum-likelihood tree for each of the remaining alignments. Ortholog sets that did not exhibit the consensus phylogeny ((S. paradoxus, S. cerevisiae), S. mikatae, and S. bayanus) were dropped. PAML's codeml was then used to estimate the dN, synonymous substitutions per synonymous site (synonymous divergence, dS), and their ratio (dN/dS). Two models of protein evolution were used: codeml model 0 allows for a single dN/dS value throughout the genealogy, whereas codeml model 1 allows for a different dN/dS value for each branch. The results presented below did not differ between the two models, so only model 0 results will be presented.\" [paper](http://www.pnas.org/content/102/15/5483.full)*  \n",
      "  \n",
      "```\n",
      "YPR192W   \n",
      "dS 1.6568  \n",
      "dN 0.108100298\n",
      "```  "
     ]
    },
    {
     "cell_type": "code",
     "collapsed": false,
     "input": [
      "from Bio.Phylo.PAML import codeml\n",
      "cml = codeml.Codeml()\n",
      "cml.alignment = \"codon_aln.paml\"\n",
      "cml.tree = \"tree\"\n",
      "cml.out_file = \"results.out\"\n",
      "cml.set_options(seqtype=1,\n",
      "    runmode=0,\n",
      "    model=0,\n",
      "    CodonFreq=3,\n",
      "    cleandata=1)\n",
      "results = cml.run()\n",
      "results"
     ],
     "language": "python",
     "metadata": {},
     "outputs": [
      {
       "metadata": {},
       "output_type": "pyout",
       "prompt_number": 13,
       "text": [
        "{'NSsites': {0: {'description': 'one-ratio',\n",
        "   'lnL': -1787.335891,\n",
        "   'parameters': {'branches': {'5..2': {'N': 488.7,\n",
        "      'N*dN': 39.3,\n",
        "      'S': 246.3,\n",
        "      'S*dS': 288.9,\n",
        "      'dN': 0.0805,\n",
        "      'dS': 1.1731,\n",
        "      'omega': 0.0686,\n",
        "      't': 1.34},\n",
        "     '5..3': {'N': 488.7,\n",
        "      'N*dN': 5.6,\n",
        "      'S': 246.3,\n",
        "      'S*dS': 41.1,\n",
        "      'dN': 0.0114,\n",
        "      'dS': 0.1668,\n",
        "      'omega': 0.0686,\n",
        "      't': 0.191},\n",
        "     '5..6': {'N': 488.7,\n",
        "      'N*dN': 3.2,\n",
        "      'S': 246.3,\n",
        "      'S*dS': 23.5,\n",
        "      'dN': 0.0066,\n",
        "      'dS': 0.0955,\n",
        "      'omega': 0.0686,\n",
        "      't': 0.109},\n",
        "     '6..1': {'N': 488.7,\n",
        "      'N*dN': 6.4,\n",
        "      'S': 246.3,\n",
        "      'S*dS': 47.3,\n",
        "      'dN': 0.0132,\n",
        "      'dS': 0.1919,\n",
        "      'omega': 0.0686,\n",
        "      't': 0.219},\n",
        "     '6..4': {'N': 488.7,\n",
        "      'N*dN': 4.5,\n",
        "      'S': 246.3,\n",
        "      'S*dS': 33.3,\n",
        "      'dN': 0.0093,\n",
        "      'dS': 0.1351,\n",
        "      'omega': 0.0686,\n",
        "      't': 0.154}},\n",
        "    'dN': 0.1209,\n",
        "    'dS': 1.7624,\n",
        "    'kappa': 3.72792,\n",
        "    'omega': 0.06858,\n",
        "    'parameter list': '0.109099 0.154329 0.219170 0.190503 1.339776 3.727921 0.068584'},\n",
        "   'tree': '((MIT_Spar_c565_22711: 0.15433, SGD_Scer_AQY1/YPR192W: 0.21917): 0.10910, MIT_Smik_c259_22968: 0.19050, MIT_Sbay_c606_26152: 1.33978);',\n",
        "   'tree length': 2.01288}},\n",
        " 'codon model': 'Fcodon',\n",
        " 'model': 'One dN/dS ratio for branches, ',\n",
        " 'version': '4.7'}"
       ]
      }
     ],
     "prompt_number": 13
    },
    {
     "cell_type": "code",
     "collapsed": false,
     "input": [
      "# dN/dS 0.065246438\n",
      "\n",
      "0.1209/1.7624"
     ],
     "language": "python",
     "metadata": {},
     "outputs": [
      {
       "metadata": {},
       "output_type": "pyout",
       "prompt_number": 14,
       "text": [
        "0.06859963685882886"
       ]
      }
     ],
     "prompt_number": 14
    }
   ],
   "metadata": {}
  }
 ]
}