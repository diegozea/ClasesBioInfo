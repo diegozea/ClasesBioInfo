{
 "metadata": {
  "name": ""
 },
 "nbformat": 3,
 "nbformat_minor": 0,
 "worksheets": [
  {
   "cells": [
    {
     "cell_type": "heading",
     "level": 1,
     "metadata": {},
     "source": [
      "Letras del alfabeto IUPAC"
     ]
    },
    {
     "cell_type": "markdown",
     "metadata": {},
     "source": [
      "En [BioPython](http://biopython.org/wiki/Main_Page) las secuencias pueden representarse objetos de la clase [Seq](http://biopython.org/wiki/Seq). Los objetos de la clase *Seq* contienen un string que representa la cadena, con un objeto de clase [Alphabet](http://biopython.org/DIST/docs/api/Bio.Alphabet.Alphabet-class.html) que lo identifica. Los objetos *Alphabet* tienen el atributo letters que muestra las letras permitidas:"
     ]
    },
    {
     "cell_type": "code",
     "collapsed": false,
     "input": [
      "from Bio.Alphabet import IUPAC"
     ],
     "language": "python",
     "metadata": {},
     "outputs": [],
     "prompt_number": 1
    },
    {
     "cell_type": "code",
     "collapsed": false,
     "input": [
      "IUPAC.protein.letters"
     ],
     "language": "python",
     "metadata": {},
     "outputs": [
      {
       "metadata": {},
       "output_type": "pyout",
       "prompt_number": 2,
       "text": [
        "'ACDEFGHIKLMNPQRSTVWY'"
       ]
      }
     ],
     "prompt_number": 2
    },
    {
     "cell_type": "heading",
     "level": 1,
     "metadata": {},
     "source": [
      "Tabla de Codones"
     ]
    },
    {
     "cell_type": "markdown",
     "metadata": {},
     "source": [
      "El m\u00f3dulo *CodonTable* contiene todas las tablas de codones disponibles en *NCBI*. Es posible acceder a tablas especiales por *ID* de *NCBI* (c\u00f3digo num\u00e9rico) usando alguno de sus atributos (son diccionarios de Python) que terminan en *_by_id*."
     ]
    },
    {
     "cell_type": "code",
     "collapsed": false,
     "input": [
      "from Bio.Data import CodonTable\n",
      "ct = CodonTable.unambiguous_dna_by_id[2]\n",
      "print( ct )"
     ],
     "language": "python",
     "metadata": {},
     "outputs": [
      {
       "output_type": "stream",
       "stream": "stdout",
       "text": [
        "Table 2 Vertebrate Mitochondrial, SGC1\n",
        "\n",
        "  |  T      |  C      |  A      |  G      |\n",
        "--+---------+---------+---------+---------+--\n",
        "T | TTT F   | TCT S   | TAT Y   | TGT C   | T\n",
        "T | TTC F   | TCC S   | TAC Y   | TGC C   | C\n",
        "T | TTA L   | TCA S   | TAA Stop| TGA W   | A\n",
        "T | TTG L   | TCG S   | TAG Stop| TGG W   | G\n",
        "--+---------+---------+---------+---------+--\n",
        "C | CTT L   | CCT P   | CAT H   | CGT R   | T\n",
        "C | CTC L   | CCC P   | CAC H   | CGC R   | C\n",
        "C | CTA L   | CCA P   | CAA Q   | CGA R   | A\n",
        "C | CTG L   | CCG P   | CAG Q   | CGG R   | G\n",
        "--+---------+---------+---------+---------+--\n",
        "A | ATT I(s)| ACT T   | AAT N   | AGT S   | T\n",
        "A | ATC I(s)| ACC T   | AAC N   | AGC S   | C\n",
        "A | ATA M(s)| ACA T   | AAA K   | AGA Stop| A\n",
        "A | ATG M(s)| ACG T   | AAG K   | AGG Stop| G\n",
        "--+---------+---------+---------+---------+--\n",
        "G | GTT V   | GCT A   | GAT D   | GGT G   | T\n",
        "G | GTC V   | GCC A   | GAC D   | GGC G   | C\n",
        "G | GTA V   | GCA A   | GAA E   | GGA G   | A\n",
        "G | GTG V(s)| GCG A   | GAG E   | GGG G   | G\n",
        "--+---------+---------+---------+---------+--\n"
       ]
      }
     ],
     "prompt_number": 3
    },
    {
     "cell_type": "markdown",
     "metadata": {},
     "source": [
      "El diccionario almacena en sus valores las tablas de codones, esta por ejemplo es de la clase [NCBICodonTableDNA](http://biopython.org/DIST/docs/api/Bio.Data.CodonTable.NCBICodonTableDNA-class.html) que hereda de la clase [CodonTable](http://biopython.org/DIST/docs/api/Bio.Data.CodonTable.CodonTable-class.html) los atributos *start_codons* y *start_codons* que poseen una lista de codones de *start* y *stop* respectivamente."
     ]
    },
    {
     "cell_type": "code",
     "collapsed": false,
     "input": [
      "type( ct )"
     ],
     "language": "python",
     "metadata": {},
     "outputs": [
      {
       "metadata": {},
       "output_type": "pyout",
       "prompt_number": 4,
       "text": [
        "Bio.Data.CodonTable.NCBICodonTableDNA"
       ]
      }
     ],
     "prompt_number": 4
    },
    {
     "cell_type": "code",
     "collapsed": false,
     "input": [
      "ct.start_codons"
     ],
     "language": "python",
     "metadata": {},
     "outputs": [
      {
       "metadata": {},
       "output_type": "pyout",
       "prompt_number": 5,
       "text": [
        "['ATT', 'ATC', 'ATA', 'ATG', 'GTG']"
       ]
      }
     ],
     "prompt_number": 5
    },
    {
     "cell_type": "code",
     "collapsed": false,
     "input": [
      "ct.stop_codons"
     ],
     "language": "python",
     "metadata": {},
     "outputs": [
      {
       "metadata": {},
       "output_type": "pyout",
       "prompt_number": 6,
       "text": [
        "['TAA', 'TAG', 'AGA', 'AGG']"
       ]
      }
     ],
     "prompt_number": 6
    },
    {
     "cell_type": "heading",
     "level": 1,
     "metadata": {},
     "source": [
      "GeneBank"
     ]
    },
    {
     "cell_type": "code",
     "collapsed": false,
     "input": [
      "# Estas l\u00edneas permiten mostrar una p\u00e1gina web dentro de IPython\n",
      "from IPython.display import HTML\n",
      "HTML('<iframe src=http://www.ncbi.nlm.nih.gov/genome/?term=methanococcus+jannaschii width=700 height=350></iframe>')"
     ],
     "language": "python",
     "metadata": {},
     "outputs": [
      {
       "html": [
        "<iframe src=http://www.ncbi.nlm.nih.gov/genome/?term=methanococcus+jannaschii width=700 height=350></iframe>"
       ],
       "metadata": {},
       "output_type": "pyout",
       "prompt_number": 7,
       "text": [
        "<IPython.core.display.HTML at 0x7fd71cb786d0>"
       ]
      }
     ],
     "prompt_number": 7
    },
    {
     "cell_type": "markdown",
     "metadata": {},
     "source": [
      "Es posible usar el m\u00f3dulo *SeqIO* de *BioPython* para leer archivos [FASTA](http://es.wikipedia.org/wiki/Formato_FASTA), como el que podemos descargar de *GenBank*. Es com\u00fan en genomas como este, que el archivo *FASTA* tenga una sola secuencia o **record** (en esta caso tiene el genoma completo del arquea). En estos casos podr\u00edamos usar *read* en lugar de *parse* (ver [Input - Single Records](http://biopython.org/DIST/docs/api/Bio.SeqIO-module.html)).\n",
      "Aca usamos *parse*, que permite ir iterando las secuencias/*records* del archivo. Al haber uno s\u00f3lo, *seqrec* contendr\u00e1 el \u00faltimo (y en este caso \u00fanico) *record* al salir del *loop*.\n"
     ]
    },
    {
     "cell_type": "code",
     "collapsed": false,
     "input": [
      "from Bio import SeqIO\n",
      "arquea = SeqIO.parse(\"sequence.fasta\",\"fasta\")\n",
      "for seqrec in arquea:\n",
      "    print( seqrec.id )"
     ],
     "language": "python",
     "metadata": {},
     "outputs": [
      {
       "output_type": "stream",
       "stream": "stdout",
       "text": [
        "gi|15668172|ref|NC_000909.1|\n"
       ]
      }
     ],
     "prompt_number": 8
    },
    {
     "cell_type": "markdown",
     "metadata": {},
     "source": [
      "El objeto retornado es de la clase [SeqRecord](http://biopython.org/DIST/docs/api/Bio.SeqRecord.SeqRecord-class.html), cada objeto de este tipo contiene un atributo *seq* que contiene la secuencias, como un objeto de clase *Seq*, al que podemos acceder:"
     ]
    },
    {
     "cell_type": "code",
     "collapsed": false,
     "input": [
      "type( seqrec )"
     ],
     "language": "python",
     "metadata": {},
     "outputs": [
      {
       "metadata": {},
       "output_type": "pyout",
       "prompt_number": 9,
       "text": [
        "Bio.SeqRecord.SeqRecord"
       ]
      }
     ],
     "prompt_number": 9
    },
    {
     "cell_type": "code",
     "collapsed": false,
     "input": [
      "seqrec.seq"
     ],
     "language": "python",
     "metadata": {},
     "outputs": [
      {
       "metadata": {},
       "output_type": "pyout",
       "prompt_number": 10,
       "text": [
        "Seq('TACATTAGTGTTTATTACATTGAGAAACTTTATAATTAAAAAAGATTCATGTAA...AGC', SingleLetterAlphabet())"
       ]
      }
     ],
     "prompt_number": 10
    }
   ],
   "metadata": {}
  }
 ]
}