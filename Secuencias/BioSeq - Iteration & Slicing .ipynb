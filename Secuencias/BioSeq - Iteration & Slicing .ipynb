{
 "metadata": {
  "name": ""
 },
 "nbformat": 3,
 "nbformat_minor": 0,
 "worksheets": [
  {
   "cells": [
    {
     "cell_type": "markdown",
     "metadata": {},
     "source": [
      "Uno puede usar *slicing* para obtener porciones de un objeto de tipo *Seq*, del mismo modo que se puede hacer *slicing* de otros objetos de *Python* (vean la p\u00e1gina 25 de este [manual de Python en espa\u00f1ol](https://launchpadlibrarian.net/18980633/Python%20para%20todos.pdf)). Esto puede ser \u00fatil a la hora de obtener los codones de una secuencia, por ejemplo. Eso es lo que vamos a hacer ac\u00e1 ;)"
     ]
    },
    {
     "cell_type": "code",
     "collapsed": false,
     "input": [
      "from Bio.Seq import Seq\n",
      "from Bio.Alphabet import IUPAC"
     ],
     "language": "python",
     "metadata": {},
     "outputs": [],
     "prompt_number": 5
    },
    {
     "cell_type": "markdown",
     "metadata": {},
     "source": [
      "Para poder testar que nuestra implementaci\u00f3n sea correcta, siempre es \u00fatil tener presente una serie de casos que testean nuestro c\u00f3digo. En este caso ser\u00e1n una serie de objetos de la clase *Seq* que tiene un n\u00famero de codones que conocemos.\n"
     ]
    },
    {
     "cell_type": "code",
     "collapsed": false,
     "input": [
      "test = [Seq(\"AAA\", IUPAC.unambiguous_dna ), Seq(\"AAAT\", IUPAC.unambiguous_dna ), \n",
      "        Seq(\"AAATT\", IUPAC.unambiguous_dna ), Seq(\"AAATTT\", IUPAC.unambiguous_dna ),\n",
      "        Seq(\"AAATTTA\", IUPAC.unambiguous_dna )]"
     ],
     "language": "python",
     "metadata": {},
     "outputs": [],
     "prompt_number": 20
    },
    {
     "cell_type": "markdown",
     "metadata": {},
     "source": [
      "Cuando se va modificando el c\u00f3digo, es \u00fatil ir testeando los ejemplos. En este caso pruebo mi implementaci\u00f3n dentro de un *loop* sobre los casos de ejemplo. Ustedes pueden usar la manera que les quede m\u00e1s c\u00f3moda, por ejemplo; generando una  funci\u00f3n y cambiando a mano los casos de ejemplo al llamarla.\n",
      "Es \u00fatil tambi\u00e9n ir imprimiendo los valores que contienen las variables a medida que se ejecuta el c\u00f3digo. Los va a ayudar a entender que esta pasando y a ver posibles errores."
     ]
    },
    {
     "cell_type": "code",
     "collapsed": false,
     "input": [
      "for dna in test:\n",
      "    print( \"-------\" )\n",
      "    print( \"dna: \" + str(dna) )\n",
      "    print( \"len(dna): \" + str(len(dna)) )\n",
      "    for n in range(0, len(dna)-2, 3):\n",
      "        print( \"n: \" + str(n) )\n",
      "        print( \"n+3: \" + str(n+3) )\n",
      "        print( dna[n:(n+3)] )"
     ],
     "language": "python",
     "metadata": {},
     "outputs": [
      {
       "output_type": "stream",
       "stream": "stdout",
       "text": [
        "-------\n",
        "dna: AAA\n",
        "len(dna): 3\n",
        "n: 0\n",
        "n+3: 3\n",
        "AAA\n",
        "-------\n",
        "dna: AAAT\n",
        "len(dna): 4\n",
        "n: 0\n",
        "n+3: 3\n",
        "AAA\n",
        "-------\n",
        "dna: AAATT\n",
        "len(dna): 5\n",
        "n: 0\n",
        "n+3: 3\n",
        "AAA\n",
        "-------\n",
        "dna: AAATTT\n",
        "len(dna): 6\n",
        "n: 0\n",
        "n+3: 3\n",
        "AAA\n",
        "n: 3\n",
        "n+3: 6\n",
        "TTT\n",
        "-------\n",
        "dna: AAATTTA\n",
        "len(dna): 7\n",
        "n: 0\n",
        "n+3: 3\n",
        "AAA\n",
        "n: 3\n",
        "n+3: 6\n",
        "TTT\n"
       ]
      }
     ],
     "prompt_number": 32
    },
    {
     "cell_type": "markdown",
     "metadata": {},
     "source": [
      "Una vez que la implementaci\u00f3n es correcta, podemos definir nuestra funci\u00f3n y usarla:"
     ]
    },
    {
     "cell_type": "code",
     "collapsed": false,
     "input": [
      "def mostrarcodones(dna):\n",
      "        for n in range(0, len(dna)-2, 3):\n",
      "            print( dna[n:(n+3)] )"
     ],
     "language": "python",
     "metadata": {},
     "outputs": [],
     "prompt_number": 28
    },
    {
     "cell_type": "code",
     "collapsed": false,
     "input": [
      "mostrarcodones( test[-1] )"
     ],
     "language": "python",
     "metadata": {},
     "outputs": [
      {
       "output_type": "stream",
       "stream": "stdout",
       "text": [
        "AAA\n",
        "TTT\n"
       ]
      }
     ],
     "prompt_number": 29
    }
   ],
   "metadata": {}
  }
 ]
}