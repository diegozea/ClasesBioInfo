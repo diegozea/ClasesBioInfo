{
 "metadata": {
  "celltoolbar": "Slideshow",
  "name": "",
  "signature": "sha256:fc21caeb65757b015ccf0e57497b0aab3cafa99a851d3b4cc4939994fbe75df7"
 },
 "nbformat": 3,
 "nbformat_minor": 0,
 "worksheets": [
  {
   "cells": [
    {
     "cell_type": "code",
     "collapsed": false,
     "input": [
      "from IPython.display import HTML\n",
      "\n",
      "def web(direccion, alto=700):\n",
      "    code = '<iframe src=\"' + direccion +  '\"  width=100% height=' + str(alto) + '></iframe>'\n",
      "    return( HTML(code) )\n",
      "\n",
      "def wiki(art, idioma=\"es\", alto=700):\n",
      "    direc = 'http://' + idioma + '.wikipedia.org/w/index.php?title=' + art + '&printable=yes'\n",
      "    return( web(direc, alto=alto) )"
     ],
     "language": "python",
     "metadata": {
      "slideshow": {
       "slide_type": "skip"
      }
     },
     "outputs": [],
     "prompt_number": 1
    },
    {
     "cell_type": "heading",
     "level": 1,
     "metadata": {
      "slideshow": {
       "slide_type": "slide"
      }
     },
     "source": [
      "GO (Gene Ontology)"
     ]
    },
    {
     "cell_type": "markdown",
     "metadata": {
      "slideshow": {
       "slide_type": "fragment"
      }
     },
     "source": [
      "- *Cellular Component*: Localizaci\u00f3n celular o extracelular \n",
      "- *Molecular Function*: Actividad a nivel molecular\n",
      "- *Biological Process*: Participaci\u00f3n en eventos celulares"
     ]
    },
    {
     "cell_type": "markdown",
     "metadata": {
      "slideshow": {
       "slide_type": "fragment"
      }
     },
     "source": [
      "<br>  \n",
      "<br>\n",
      "<br>\n",
      "  \n",
      "> id:         GO:0000016  \n",
      "> name:       lactase activity  \n",
      "> namespace:  molecular_function  \n",
      "> def:        \"Catalysis of the reaction: lactose + H2O = D-glucose + D-galactose.\" [EC:3.2.1.108]  \n",
      "> synonym:    \"lactase-phlorizin hydrolase activity\" BROAD [EC:3.2.1.108]  \n",
      "> synonym:    \"lactose galactohydrolase activity\" EXACT [EC:3.2.1.108]  \n",
      "> xref:       EC:3.2.1.108  \n",
      "> xref:       MetaCyc:LACTASE-RXN  \n",
      "> xref:       Reactome:20536  \n",
      "> is_a:       GO:0004553 ! hydrolase activity, hydrolyzing O-glycosyl compounds  "
     ]
    },
    {
     "cell_type": "code",
     "collapsed": false,
     "input": [
      "web(\"http://geneontology.org/\")"
     ],
     "language": "python",
     "metadata": {
      "slideshow": {
       "slide_type": "slide"
      }
     },
     "outputs": [
      {
       "html": [
        "<iframe src=\"http://geneontology.org/\"  width=100% height=700></iframe>"
       ],
       "metadata": {},
       "output_type": "pyout",
       "prompt_number": 2,
       "text": [
        "<IPython.core.display.HTML at 0x7fd4d13dedd0>"
       ]
      }
     ],
     "prompt_number": 2
    },
    {
     "cell_type": "code",
     "collapsed": false,
     "input": [
      "web(\"https://s3.amazonaws.com/go-public/static/ann-land.png\")"
     ],
     "language": "python",
     "metadata": {
      "slideshow": {
       "slide_type": "slide"
      }
     },
     "outputs": [
      {
       "html": [
        "<iframe src=\"https://s3.amazonaws.com/go-public/static/ann-land.png\"  width=100% height=700></iframe>"
       ],
       "metadata": {},
       "output_type": "pyout",
       "prompt_number": 3,
       "text": [
        "<IPython.core.display.HTML at 0x7fd4d13de110>"
       ]
      }
     ],
     "prompt_number": 3
    },
    {
     "cell_type": "code",
     "collapsed": false,
     "input": [
      "web(\"http://cbl-gorilla.cs.technion.ac.il/\",250)"
     ],
     "language": "python",
     "metadata": {
      "slideshow": {
       "slide_type": "slide"
      }
     },
     "outputs": [
      {
       "html": [
        "<iframe src=\"http://cbl-gorilla.cs.technion.ac.il/\"  width=100% height=250></iframe>"
       ],
       "metadata": {},
       "output_type": "pyout",
       "prompt_number": 4,
       "text": [
        "<IPython.core.display.HTML at 0x7fd4d13de290>"
       ]
      }
     ],
     "prompt_number": 4
    },
    {
     "cell_type": "code",
     "collapsed": false,
     "input": [
      "web(\"http://cbl-gorilla.cs.technion.ac.il/pics/tree_example.png\",450)"
     ],
     "language": "python",
     "metadata": {
      "slideshow": {
       "slide_type": "fragment"
      }
     },
     "outputs": [
      {
       "html": [
        "<iframe src=\"http://cbl-gorilla.cs.technion.ac.il/pics/tree_example.png\"  width=100% height=450></iframe>"
       ],
       "metadata": {},
       "output_type": "pyout",
       "prompt_number": 5,
       "text": [
        "<IPython.core.display.HTML at 0x7fd4d13deed0>"
       ]
      }
     ],
     "prompt_number": 5
    },
    {
     "cell_type": "code",
     "collapsed": false,
     "input": [
      "web(\"http://revigo.irb.hr/\",300)"
     ],
     "language": "python",
     "metadata": {
      "slideshow": {
       "slide_type": "slide"
      }
     },
     "outputs": [
      {
       "html": [
        "<iframe src=\"http://revigo.irb.hr/\"  width=100% height=300></iframe>"
       ],
       "metadata": {},
       "output_type": "pyout",
       "prompt_number": 6,
       "text": [
        "<IPython.core.display.HTML at 0x7fd4d13def10>"
       ]
      }
     ],
     "prompt_number": 6
    },
    {
     "cell_type": "code",
     "collapsed": false,
     "input": [
      "web(\"http://bioinfo.cau.edu.cn/agriGO/\",350)"
     ],
     "language": "python",
     "metadata": {
      "slideshow": {
       "slide_type": "fragment"
      }
     },
     "outputs": [
      {
       "html": [
        "<iframe src=\"http://bioinfo.cau.edu.cn/agriGO/\"  width=100% height=350></iframe>"
       ],
       "metadata": {},
       "output_type": "pyout",
       "prompt_number": 7,
       "text": [
        "<IPython.core.display.HTML at 0x7fd4d13de1d0>"
       ]
      }
     ],
     "prompt_number": 7
    }
   ],
   "metadata": {}
  }
 ]
}