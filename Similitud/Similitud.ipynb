{
 "metadata": {
  "celltoolbar": "Slideshow",
  "name": "",
  "signature": "sha256:c5e3c09e62a307741f80273b4760350f8c90cc44f8d8eba8971cb5b25a5da8d3"
 },
 "nbformat": 3,
 "nbformat_minor": 0,
 "worksheets": [
  {
   "cells": [
    {
     "cell_type": "code",
     "collapsed": false,
     "input": [
      "from IPython.display import HTML\n",
      "\n",
      "def web(direccion, alto=500):\n",
      "    code = '<iframe src=\"' + direccion +  '\"  width=100% height=' + str(alto) + '></iframe>'\n",
      "    return( HTML(code) )\n",
      "\n",
      "def wiki(art, idioma=\"es\", alto=500):\n",
      "    direc = 'http://' + idioma + '.wikipedia.org/w/index.php?title=' + art + '&printable=yes'\n",
      "    return( web(direc, alto=alto) )"
     ],
     "language": "python",
     "metadata": {
      "slideshow": {
       "slide_type": "skip"
      }
     },
     "outputs": [],
     "prompt_number": 1
    },
    {
     "cell_type": "heading",
     "level": 2,
     "metadata": {
      "slideshow": {
       "slide_type": "slide"
      }
     },
     "source": [
      "Comparaci\u00f3n de secuencias"
     ]
    },
    {
     "cell_type": "markdown",
     "metadata": {
      "slideshow": {
       "slide_type": "fragment"
      }
     },
     "source": [
      "Es necesario **cuantificar las similitudes y diferencias** (*scoring*) entre un grupo relacionado de entidades.  \n",
      "\n",
      "<img src=\"imagen_compara.gif\" align=\"center\" alt=\"http://163.16.28.248/bio/activelearner/17/ch17c3.html\" \\>\n",
      "\n",
      "Es necesario **alinear**, para determinar que cosas (posiciones) se comparan entre s\u00ed.  \n",
      "\n",
      "<img src=\"imagen_aln.png\" align=\"center\" alt=\"http://es.wikipedia.org/wiki/Alineamiento_de_secuencias\" \\>\n",
      "\n",
      "Un **alineamiento** implica una **hip\u00f3tesis de evoluci\u00f3n**.  "
     ]
    },
    {
     "cell_type": "markdown",
     "metadata": {
      "slideshow": {
       "slide_type": "slide"
      }
     },
     "source": [
      "<img src=\"imagen_duplication.png\" align=\"center\" \\>"
     ]
    },
    {
     "cell_type": "markdown",
     "metadata": {
      "slideshow": {
       "slide_type": "slide"
      }
     },
     "source": [
      "<img src=\"imagen_paralogos.png\" align=\"center\" \\>"
     ]
    },
    {
     "cell_type": "heading",
     "level": 1,
     "metadata": {
      "slideshow": {
       "slide_type": "slide"
      }
     },
     "source": [
      "Homolog\u00eda"
     ]
    },
    {
     "cell_type": "markdown",
     "metadata": {
      "slideshow": {
       "slide_type": "fragment"
      }
     },
     "source": [
      "**Dos secuencias son homologas si tienen el mismo origen evolutivo.**\n",
      "\n",
      "Un par de secuencias son homol\u00f3gas o no los son. La homolog\u00eda no se puede \u201ccuantificar\u201d:  \n",
      "Frases como *\u201cson muy hom\u00f3logas\u201d*, *\u201cson 34% hom\u00f3logas\u201d* son incorrectas.  "
     ]
    },
    {
     "cell_type": "code",
     "collapsed": false,
     "input": [
      "wiki(\"Homolog%C3%ADa_(biolog%C3%ADa)\")"
     ],
     "language": "python",
     "metadata": {
      "slideshow": {
       "slide_type": "fragment"
      }
     },
     "outputs": [
      {
       "html": [
        "<iframe src=\"http://es.wikipedia.org/w/index.php?title=Homolog%C3%ADa_(biolog%C3%ADa)&printable=yes\"  width=100% height=500></iframe>"
       ],
       "metadata": {},
       "output_type": "pyout",
       "prompt_number": 2,
       "text": [
        "<IPython.core.display.HTML at 0x7f73d7740dd0>"
       ]
      }
     ],
     "prompt_number": 2
    },
    {
     "cell_type": "markdown",
     "metadata": {
      "slideshow": {
       "slide_type": "slide"
      }
     },
     "source": [
      "<img align=\"center\" src=\"imagen_evol.gif\" alt=\"http://biology.kenyon.edu/courses/biol114/Chap09/Chap09.html\" \\>"
     ]
    },
    {
     "cell_type": "code",
     "collapsed": false,
     "input": [
      "! cat ejemplo.aln"
     ],
     "language": "python",
     "metadata": {
      "slideshow": {
       "slide_type": "fragment"
      }
     },
     "outputs": [
      {
       "output_type": "stream",
       "stream": "stdout",
       "text": [
        "CLUSTAL 2.1 multiple sequence alignment\r\n",
        "\r\n",
        "\r\n",
        "seq_3           ACGTTCTAGCAT\r\n",
        "seq_4           ATGTTCTAGCGG\r\n",
        "seq_1           ATATCCTTGCAT\r\n",
        "seq_2           ATGTCCTTATAT\r\n",
        "                *  * **     \r\n"
       ]
      }
     ],
     "prompt_number": 3
    },
    {
     "cell_type": "heading",
     "level": 1,
     "metadata": {
      "slideshow": {
       "slide_type": "slide"
      }
     },
     "source": [
      "Indel"
     ]
    },
    {
     "cell_type": "markdown",
     "metadata": {
      "slideshow": {
       "slide_type": "fragment"
      }
     },
     "source": [
      "Las **inserciones** y **deleciones** (as\u00ed como las partes no alineadas en los extremos por falta de secuencia) se suele representar con **gaps** en un alineamiento. Generalmente se usa un gui\u00f3n (**```-```**) para representarlos.  \n",
      "\n",
      "<img align=\"center\" src=\"imagen_indel_2.png\" alt=\"http://www.uncommondescent.com/genetics/icc-2013-geneticist-jeff-tomkins-vs-evolutionary-biologist-who-got-laughed-off-stage/\" \\>  "
     ]
    },
    {
     "cell_type": "markdown",
     "metadata": {
      "slideshow": {
       "slide_type": "fragment"
      }
     },
     "source": [
      "<img align=\"center\" src=\"imagen_indel.png\" alt=\"http://en.wikipedia.org/wiki/Conserved_signature_indels\" \\>  "
     ]
    },
    {
     "cell_type": "heading",
     "level": 1,
     "metadata": {
      "slideshow": {
       "slide_type": "slide"
      }
     },
     "source": [
      "Dot Plot"
     ]
    },
    {
     "cell_type": "code",
     "collapsed": false,
     "input": [
      "wiki(\"Dot_plot_(bioinformatics)\",\"en\")"
     ],
     "language": "python",
     "metadata": {
      "slideshow": {
       "slide_type": "fragment"
      }
     },
     "outputs": [
      {
       "html": [
        "<iframe src=\"http://en.wikipedia.org/w/index.php?title=Dot_plot_(bioinformatics)&printable=yes\"  width=100% height=500></iframe>"
       ],
       "metadata": {},
       "output_type": "pyout",
       "prompt_number": 4,
       "text": [
        "<IPython.core.display.HTML at 0x7f73d7737fd0>"
       ]
      }
     ],
     "prompt_number": 4
    },
    {
     "cell_type": "markdown",
     "metadata": {},
     "source": [
      "[Dot Plot con BioPython](http://biopython.org/DIST/docs/tutorial/Tutorial.html#sec356)  \n",
      "[Dot Plot con Python](http://fantascienza.net/leonardo/so/dotplot/dotplot.html)  "
     ]
    },
    {
     "cell_type": "markdown",
     "metadata": {
      "slideshow": {
       "slide_type": "slide"
      }
     },
     "source": [
      "<img src=\"imagen_dotplot.png\" align=\"center\" alt=\"http://www.pnas.org/content/103/52/19824.abstract\" \\>"
     ]
    },
    {
     "cell_type": "markdown",
     "metadata": {
      "slideshow": {
       "slide_type": "slide"
      }
     },
     "source": [
      "<img align=\"center\" src=\"imagen_code.png\" \\>"
     ]
    },
    {
     "cell_type": "markdown",
     "metadata": {
      "slideshow": {
       "slide_type": "slide"
      }
     },
     "source": [
      "Usaremos las siguientes secuencias:  \n",
      "    \n",
      "#PLAT  \n",
      "\n",
      "### *H. sapiens*\n",
      "[Gene](http://www.ncbi.nlm.nih.gov/gene/5327)   \n",
      "[Uniprot](http://www.uniprot.org/uniprot/P00750)    \n",
      "    \n",
      "### *M. musculus*\n",
      "[Gene](http://www.ncbi.nlm.nih.gov/gene/18791)  \n",
      "[Uniprot](http://www.uniprot.org/uniprot/P11214)  \n",
      "    \n",
      "#F12\n",
      "\n",
      "### *H. sapiens*\n",
      "[Gene](http://www.ncbi.nlm.nih.gov/gene/2161)  \n",
      "[Uniprot](http://www.uniprot.org/uniprot/P00748)  \n",
      "    \n",
      "### *M. musculus*\n",
      "[Gene](http://www.ncbi.nlm.nih.gov/gene/58992)  \n",
      "[Uniprot](http://www.uniprot.org/uniprot/Q80YC5)  \n"
     ]
    }
   ],
   "metadata": {}
  }
 ]
}