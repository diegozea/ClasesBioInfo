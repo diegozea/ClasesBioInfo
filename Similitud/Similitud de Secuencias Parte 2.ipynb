{
 "metadata": {
  "celltoolbar": "Slideshow",
  "name": "",
  "signature": "sha256:4c9c8efa61e263698890cea836337e24a6eb5ae1c9f6d558b33d2ac0fce378ae"
 },
 "nbformat": 3,
 "nbformat_minor": 0,
 "worksheets": [
  {
   "cells": [
    {
     "cell_type": "heading",
     "level": 2,
     "metadata": {
      "slideshow": {
       "slide_type": "slide"
      }
     },
     "source": [
      "DotPlot"
     ]
    },
    {
     "cell_type": "heading",
     "level": 2,
     "metadata": {
      "slideshow": {
       "slide_type": "fragment"
      }
     },
     "source": [
      "Sliding-Window"
     ]
    },
    {
     "cell_type": "heading",
     "level": 1,
     "metadata": {
      "slideshow": {
       "slide_type": "slide"
      }
     },
     "source": [
      "Sliding Window Analysis"
     ]
    },
    {
     "cell_type": "markdown",
     "metadata": {
      "slideshow": {
       "slide_type": "fragment"
      }
     },
     "source": [
      "|  | *Example* |  \n",
      "|--|--|  \n",
      "| **Window size** | 4 |  \n",
      "| **Step size** | 2 |  \n",
      "| **Function** | *mean* |  "
     ]
    },
    {
     "cell_type": "markdown",
     "metadata": {
      "slideshow": {
       "slide_type": "fragment"
      }
     },
     "source": [
      "<div align=\"center\"><img src=\"image_sw.png\"\\></div>\n",
      "\n",
      "[img](http://coleoguy.blogspot.com.ar/2014/04/sliding-window-analysis.html)"
     ]
    },
    {
     "cell_type": "heading",
     "level": 1,
     "metadata": {
      "slideshow": {
       "slide_type": "slide"
      }
     },
     "source": [
      "Identity"
     ]
    },
    {
     "cell_type": "markdown",
     "metadata": {
      "slideshow": {
       "slide_type": "fragment"
      }
     },
     "source": [
      "Dado dos secuencias alineadas, el porcentaje de identidad es el n\u00famero de coincidencias entre las posiciones equivalentes de ambas secuencias, sobre la cantidad de posiciones consideradas."
     ]
    },
    {
     "cell_type": "markdown",
     "metadata": {
      "slideshow": {
       "slide_type": "fragment"
      }
     },
     "source": [
      "| 0 | 1 | 2 | 3 | 4 |  \n",
      "|---|---|---|---|---|  \n",
      "| **A** | **C** | **C** | **A** | **T** |  \n",
      "| **A** | **C** | **C** | **A** | **G** |\n",
      "| 1 | 1 | 1 | 1 | 0 |  "
     ]
    },
    {
     "cell_type": "code",
     "collapsed": false,
     "input": [
      "def identity(seqa, seqb):\n",
      "    \"\"\"Retorna la identidad entre dos secuencias de igual longitud\"\"\"\n",
      "    \n",
      "    l = len(seqa)\n",
      "    if l != len(seqb):\n",
      "        raise Exception(\"Sequences of different lengths\")\n",
      "        \n",
      "    counter = 0.0\n",
      "    for i in range(0,l):\n",
      "        if seqa[i] == seqb[i]:\n",
      "            counter += 1.0\n",
      "            \n",
      "    return(counter/l)"
     ],
     "language": "python",
     "metadata": {
      "slideshow": {
       "slide_type": "fragment"
      }
     },
     "outputs": [],
     "prompt_number": 1
    },
    {
     "cell_type": "code",
     "collapsed": false,
     "input": [
      "identity(\"ACCAT\",\"ACCAG\")"
     ],
     "language": "python",
     "metadata": {
      "slideshow": {
       "slide_type": "fragment"
      }
     },
     "outputs": [
      {
       "metadata": {},
       "output_type": "pyout",
       "prompt_number": 2,
       "text": [
        "0.8"
       ]
      }
     ],
     "prompt_number": 2
    },
    {
     "cell_type": "markdown",
     "metadata": {
      "slideshow": {
       "slide_type": "fragment"
      }
     },
     "source": [
      "$4/5 = 0.8$  \n",
      "$0.8 \\times 100 = 80$  \n",
      "Las secuencias son 80% id\u00e9nticas  "
     ]
    },
    {
     "cell_type": "heading",
     "level": 1,
     "metadata": {
      "slideshow": {
       "slide_type": "slide"
      }
     },
     "source": [
      "Dot Matrix"
     ]
    },
    {
     "cell_type": "code",
     "collapsed": false,
     "input": [
      "import math\n",
      "import numpy as np\n",
      "\n",
      "def dotmatrix(seqa, seqb, window_size=1, threshold=1):\n",
      "    \"\"\"Retorna una Dot Matrix (numpy array)\n",
      "    seqa en las filas, de arriba a abajo\n",
      "    seqb en las columnas, de izquierda a derecha\n",
      "    Las secuencias se recorren por ventanas de longitud window_size\n",
      "    Step size: 1 \n",
      "    Para cada par de ventanas, se compara la identidad contra un valor threshold. \n",
      "    Si la identidad es igual o superior:\n",
      "    Se coloca un 1 en el centro del cuadrado definido por las ventanas, si la longitud es impar.\"\"\"\n",
      "    la = len(seqa)\n",
      "    lb = len(seqb)\n",
      "    \n",
      "    if window_size > la or window_size > lb:\n",
      "        raise Exception(\"Window size needs to be less than sequence lengths\")\n",
      "        \n",
      "    center_window = int( math.ceil(window_size/2.0) ) - 1\n",
      "    \n",
      "    mat = np.zeros((la,lb))\n",
      "    \n",
      "    for i in range(0, la-window_size+1):\n",
      "        \n",
      "        subseqa = seqa[i:i+window_size]\n",
      "        mati = i + center_window\n",
      "        \n",
      "        for j in range(0, lb-window_size+1):\n",
      "            \n",
      "            if identity(subseqa, seqb[j:j+window_size]) >= threshold:\n",
      "                mat[mati, j + center_window ] = 1\n",
      "                \n",
      "    return(mat)"
     ],
     "language": "python",
     "metadata": {
      "slideshow": {
       "slide_type": "fragment"
      }
     },
     "outputs": [],
     "prompt_number": 3
    },
    {
     "cell_type": "code",
     "collapsed": false,
     "input": [
      "dotmatrix(\"GGTACCAGC\", \"TGACCATGG\")"
     ],
     "language": "python",
     "metadata": {
      "slideshow": {
       "slide_type": "slide"
      }
     },
     "outputs": [
      {
       "metadata": {},
       "output_type": "pyout",
       "prompt_number": 4,
       "text": [
        "array([[ 0.,  1.,  0.,  0.,  0.,  0.,  0.,  1.,  1.],\n",
        "       [ 0.,  1.,  0.,  0.,  0.,  0.,  0.,  1.,  1.],\n",
        "       [ 1.,  0.,  0.,  0.,  0.,  0.,  1.,  0.,  0.],\n",
        "       [ 0.,  0.,  1.,  0.,  0.,  1.,  0.,  0.,  0.],\n",
        "       [ 0.,  0.,  0.,  1.,  1.,  0.,  0.,  0.,  0.],\n",
        "       [ 0.,  0.,  0.,  1.,  1.,  0.,  0.,  0.,  0.],\n",
        "       [ 0.,  0.,  1.,  0.,  0.,  1.,  0.,  0.,  0.],\n",
        "       [ 0.,  1.,  0.,  0.,  0.,  0.,  0.,  1.,  1.],\n",
        "       [ 0.,  0.,  0.,  1.,  1.,  0.,  0.,  0.,  0.]])"
       ]
      }
     ],
     "prompt_number": 4
    },
    {
     "cell_type": "code",
     "collapsed": false,
     "input": [
      "dotmatrix(\"GGTACCAGC\", \"TGACCATGG\", window_size=5, threshold=0.6)"
     ],
     "language": "python",
     "metadata": {
      "slideshow": {
       "slide_type": "fragment"
      }
     },
     "outputs": [
      {
       "metadata": {},
       "output_type": "pyout",
       "prompt_number": 5,
       "text": [
        "array([[ 0.,  0.,  0.,  0.,  0.,  0.,  0.,  0.,  0.],\n",
        "       [ 0.,  0.,  0.,  0.,  0.,  0.,  0.,  0.,  0.],\n",
        "       [ 0.,  0.,  0.,  0.,  0.,  0.,  0.,  0.,  0.],\n",
        "       [ 0.,  0.,  1.,  0.,  0.,  0.,  0.,  0.,  0.],\n",
        "       [ 0.,  0.,  0.,  1.,  0.,  0.,  0.,  0.,  0.],\n",
        "       [ 0.,  0.,  0.,  0.,  1.,  0.,  0.,  0.,  0.],\n",
        "       [ 0.,  0.,  0.,  0.,  0.,  1.,  0.,  0.,  0.],\n",
        "       [ 0.,  0.,  0.,  0.,  0.,  0.,  0.,  0.,  0.],\n",
        "       [ 0.,  0.,  0.,  0.,  0.,  0.,  0.,  0.,  0.]])"
       ]
      }
     ],
     "prompt_number": 5
    },
    {
     "cell_type": "heading",
     "level": 1,
     "metadata": {
      "slideshow": {
       "slide_type": "slide"
      }
     },
     "source": [
      "Dot Plot"
     ]
    },
    {
     "cell_type": "code",
     "collapsed": false,
     "input": [
      "import matplotlib.pyplot as plt\n",
      "%matplotlib inline\n",
      "\n",
      "def dotplot(seqa, seqb, window_size=1, threshold=1):\n",
      "    \"\"\"DotPlot usando dotmatrix()\n",
      "    seqa en x\n",
      "    seqb en y\"\"\"\n",
      "    cm = dotmatrix(seqb, seqa, window_size, threshold)\n",
      "    return( plt.pcolormesh( cm , cmap=plt.cm.gray_r ) )\n",
      "\n",
      "dotplot(\"GGTACCAGC\", \"TGACCATGG\");"
     ],
     "language": "python",
     "metadata": {
      "slideshow": {
       "slide_type": "fragment"
      }
     },
     "outputs": [
      {
       "metadata": {},
       "output_type": "display_data",
       "png": "[encoded data removed]",
       "text": [
        "<matplotlib.figure.Figure at 0xb116f44c>"
       ]
      }
     ],
     "prompt_number": 6
    },
    {
     "cell_type": "code",
     "collapsed": false,
     "input": [
      "dotplot(\"GGTACCAGC\", \"TGACCATGG\", window_size=5, threshold=0.6);"
     ],
     "language": "python",
     "metadata": {
      "slideshow": {
       "slide_type": "fragment"
      }
     },
     "outputs": [
      {
       "metadata": {},
       "output_type": "display_data",
       "png": "[encoded data removed]",
       "text": [
        "<matplotlib.figure.Figure at 0xb124f16c>"
       ]
      }
     ],
     "prompt_number": 7
    },
    {
     "cell_type": "markdown",
     "metadata": {
      "slideshow": {
       "slide_type": "slide"
      }
     },
     "source": [
      "**\u00bfQu\u00e9 tan sencillo es encontrar una identidad *threshold* en una ventana de longitud *k* por azar?**  \n",
      "  \n",
      "Considerando:  \n",
      "  \n",
      "- Todos los nucle\u00f3tidos son igual de probables: $p = 1/4$  \n",
      "- La probabilidad de observar un nucle\u00f3tido en una secuencia no depende de haber observado un nucle\u00f3tido en la otra: $ p( seq_a[i] |  seq_b[i] ) = p(seq_a[i]).p(seq_b[i]) $  \n",
      "- Suponemos que cada posici\u00f3n en la secuencia es independiente: $ p( seq[i+1] |  seq[i] ) = p(seq[i+1]).p(seq[i]) $"
     ]
    },
    {
     "cell_type": "code",
     "collapsed": false,
     "input": [
      "def randseq(k = 5, letters=\"ACTG\"):\n",
      "    \n",
      "    rand = np.array([c for c in letters])[np.random.randint(0, len(letters), k)]\n",
      "    return( \"\".join(rand) )\n",
      "    "
     ],
     "language": "python",
     "metadata": {
      "slideshow": {
       "slide_type": "fragment"
      }
     },
     "outputs": [],
     "prompt_number": 8
    },
    {
     "cell_type": "code",
     "collapsed": false,
     "input": [
      "identity_random = [ identity(randseq(), randseq()) for nsamples in range(0,1000) ]\n",
      "plt.hist( identity_random, alpha=0.3 ,color=\"green\");"
     ],
     "language": "python",
     "metadata": {
      "slideshow": {
       "slide_type": "fragment"
      }
     },
     "outputs": [
      {
       "metadata": {},
       "output_type": "display_data",
       "png": "[encoded data removed]",
       "text": [
        "<matplotlib.figure.Figure at 0xb137c64c>"
       ]
      }
     ],
     "prompt_number": 9
    },
    {
     "cell_type": "code",
     "collapsed": false,
     "input": [
      "k = 5\n",
      "[ np.mean( np.array(identity_random) == n/float(k) ) for n in range(0,k+1) ]"
     ],
     "language": "python",
     "metadata": {
      "slideshow": {
       "slide_type": "slide"
      }
     },
     "outputs": [
      {
       "metadata": {},
       "output_type": "pyout",
       "prompt_number": 10,
       "text": [
        "[0.23999999999999999,\n",
        " 0.40699999999999997,\n",
        " 0.24399999999999999,\n",
        " 0.096000000000000002,\n",
        " 0.012999999999999999,\n",
        " 0.0]"
       ]
      }
     ],
     "prompt_number": 10
    },
    {
     "cell_type": "markdown",
     "metadata": {
      "slideshow": {
       "slide_type": "fragment"
      }
     },
     "source": [
      "Es posible usar la [distribuci\u00f3n binomial](http://es.wikipedia.org/wiki/Distribuci%C3%B3n_binomial) para estimar la probabilidad de $n$ coincidencias en $k$ comparaciones independientes entre s\u00ed, si se conoce la probabilidad de coincidencias.  \n",
      "Notar que la identidad es simplemente $n/k$   \n",
      "  \n",
      "$p = p(A|A) + p(C|C) + p(T|T) + p(G|G)$  \n",
      "$p = p(A).p(A) + p(C).p(C) + p(T).p(T) + p(G).p(G)$  \n",
      "$p = 4.(0.25^2) = 0.25$"
     ]
    },
    {
     "cell_type": "code",
     "collapsed": false,
     "input": [
      "from scipy.misc import comb\n",
      "def prob_binomial(p=0.25, k=5):\n",
      "    P = [ comb(k,n) * p**n * (1-p)**(k-n) for n in range(0,6) ]\n",
      "    return( P )"
     ],
     "language": "python",
     "metadata": {
      "slideshow": {
       "slide_type": "fragment"
      }
     },
     "outputs": [],
     "prompt_number": 11
    },
    {
     "cell_type": "code",
     "collapsed": false,
     "input": [
      "prob_binomial()"
     ],
     "language": "python",
     "metadata": {
      "slideshow": {
       "slide_type": "fragment"
      }
     },
     "outputs": [
      {
       "metadata": {},
       "output_type": "pyout",
       "prompt_number": 12,
       "text": [
        "[0.2373046875,\n",
        " 0.39550781249999983,\n",
        " 0.26367187499999994,\n",
        " 0.087890624999999986,\n",
        " 0.014648437499999995,\n",
        " 0.0009765625]"
       ]
      }
     ],
     "prompt_number": 12
    },
    {
     "cell_type": "markdown",
     "metadata": {
      "slideshow": {
       "slide_type": "slide"
      }
     },
     "source": [
      "Nosotros podemos elegir un valor de *threshold* dada una ventana de longitud *k*, de manera de asegurarnos que la probabilidad de tener un valor igual o superior (por eso usamos la probabilidad acumulada) por azar tenga una probabilidad $\\alpha$.  \n",
      "$\\alpha$ en un test estad\u00edstico suele asociarse a los errores de Tipo I, es decir a la probabilidad de rechazar una hip\u00f3tesis nula que que es cierta.  \n",
      "Normalmente queremos un valor de $\\alpha$ bajo, lo usual es tomar un $\\alpha = 0.05$ ( $5%$ )  \n",
      "La hip\u00f3tesis nula, en este caso, es que la cantidad de coincidencias se obtengan por azar.  "
     ]
    },
    {
     "cell_type": "code",
     "collapsed": false,
     "input": [
      "def choose_threshold(alpha=0.05, p=0.25, k=5):\n",
      "    P = prob_binomial(p,k)\n",
      "    valid = np.cumsum( np.array( P )[ np.arange(k,-1,-1) ] ) <= alpha\n",
      "    \n",
      "    if sum(valid) == 0:\n",
      "        raise Exception(\"min p: \" + str(min(P)))\n",
      "    \n",
      "    return( min( np.arange(k,-1,-1)[ valid ] ) / float(k) )"
     ],
     "language": "python",
     "metadata": {
      "slideshow": {
       "slide_type": "fragment"
      }
     },
     "outputs": [],
     "prompt_number": 13
    },
    {
     "cell_type": "code",
     "collapsed": false,
     "input": [
      "choose_threshold( 0.05 )"
     ],
     "language": "python",
     "metadata": {
      "slideshow": {
       "slide_type": "fragment"
      }
     },
     "outputs": [
      {
       "metadata": {},
       "output_type": "pyout",
       "prompt_number": 14,
       "text": [
        "0.80000000000000004"
       ]
      }
     ],
     "prompt_number": 14
    },
    {
     "cell_type": "code",
     "collapsed": false,
     "input": [
      "dotplot(\"GGTACCAGC\", \"TGACCATGG\", window_size=5, threshold=0.8);"
     ],
     "language": "python",
     "metadata": {
      "slideshow": {
       "slide_type": "fragment"
      }
     },
     "outputs": [
      {
       "metadata": {},
       "output_type": "display_data",
       "png": "[encoded data removed]",
       "text": [
        "<matplotlib.figure.Figure at 0xb1513c0c>"
       ]
      }
     ],
     "prompt_number": 15
    },
    {
     "cell_type": "code",
     "collapsed": false,
     "input": [
      "from Bio import SeqIO\n",
      "CRK = SeqIO.read(\"P46108.fasta\",\"fasta\").seq\n",
      "GRB2 = SeqIO.read(\"P62993.fasta\",\"fasta\").seq"
     ],
     "language": "python",
     "metadata": {
      "slideshow": {
       "slide_type": "slide"
      }
     },
     "outputs": [],
     "prompt_number": 16
    },
    {
     "cell_type": "markdown",
     "metadata": {
      "slideshow": {
       "slide_type": "fragment"
      }
     },
     "source": [
      "<img src=\"image_seq.png\"  width=25% height=25% \\>"
     ]
    },
    {
     "cell_type": "code",
     "collapsed": false,
     "input": [
      "dotplot(CRK, GRB2, window_size=9, threshold=0.35);"
     ],
     "language": "python",
     "metadata": {
      "slideshow": {
       "slide_type": "fragment"
      }
     },
     "outputs": [
      {
       "metadata": {},
       "output_type": "display_data",
       "png": "[encoded data removed]",
       "text": [
        "<matplotlib.figure.Figure at 0xb12099cc>"
       ]
      }
     ],
     "prompt_number": 17
    },
    {
     "cell_type": "code",
     "collapsed": false,
     "input": [
      "dotplot(CRK, GRB2, window_size=1, threshold=1);"
     ],
     "language": "python",
     "metadata": {
      "slideshow": {
       "slide_type": "fragment"
      }
     },
     "outputs": [
      {
       "metadata": {},
       "output_type": "display_data",
       "png": "[encoded data removed]",
       "text": [
        "<matplotlib.figure.Figure at 0xb125ee2c>"
       ]
      }
     ],
     "prompt_number": 18
    },
    {
     "cell_type": "heading",
     "level": 1,
     "metadata": {
      "slideshow": {
       "slide_type": "slide"
      }
     },
     "source": [
      "Teor\u00eda de la Informaci\u00f3n"
     ]
    },
    {
     "cell_type": "markdown",
     "metadata": {
      "slideshow": {
       "slide_type": "fragment"
      }
     },
     "source": [
      "Informaci\u00f3n es una disminuci\u00f3n de la incerteza.  \n",
      "La informaci\u00f3n $H$ de un evento, es inversamente proporcional a su probabilidad $p$.  \n",
      "\n",
      "$H(p)  = log_2 ( 1 / p ) = - log_2 (p)$\n",
      "\n",
      "La informaci\u00f3n calculada con $log_2$ tiene $bits$ como unidad  \n",
      "Si se calcula usando $ln$ la unidad es $nats$"
     ]
    },
    {
     "cell_type": "code",
     "collapsed": false,
     "input": [
      "p = np.arange(0.01, 1, 0.01)\n",
      "\n",
      "H = -1 * np.log2(p)\n",
      "\n",
      "plt.plot(p, H)\n",
      "plt.ylabel(\"H [bits]\");\n",
      "plt.xlabel(\"p\");"
     ],
     "language": "python",
     "metadata": {
      "slideshow": {
       "slide_type": "fragment"
      }
     },
     "outputs": [
      {
       "metadata": {},
       "output_type": "display_data",
       "png": "[encoded data removed]",
       "text": [
        "<matplotlib.figure.Figure at 0xb04509ec>"
       ]
      }
     ],
     "prompt_number": 19
    },
    {
     "cell_type": "markdown",
     "metadata": {
      "slideshow": {
       "slide_type": "slide"
      }
     },
     "source": [
      "Normalmente se habla de un **mensaje** de **s\u00edmbolos** emitido por una **fuente**.  \n",
      "  \n",
      "El la secuencia ```GGTACCAGC``` (*mensaje*) los nucle\u00f3tidos ```A```, ```C```, ```T```, y ```G``` son los *s\u00edmbolos* emitidos por una cadena de ADN (*fuente*)  \n",
      "  \n",
      "Si los $n$ s\u00edmbolos tienen igual probabilidad de aparecer ( $p=1/n$ )     \n",
      "La informaci\u00f3n de cada s\u00edmbolo es $log_2(n)$   \n",
      "El promedio de la informaci\u00f3n de todos es tambi\u00e9n $log_2(n)$  \n",
      "\n",
      "Esta \u00faltima magnitud es la **entrop\u00eda**"
     ]
    },
    {
     "cell_type": "code",
     "collapsed": false,
     "input": [
      "n = 4 # DNA letters\n",
      "-1 * np.log2(1.0/n)"
     ],
     "language": "python",
     "metadata": {
      "slideshow": {
       "slide_type": "fragment"
      }
     },
     "outputs": [
      {
       "metadata": {},
       "output_type": "pyout",
       "prompt_number": 20,
       "text": [
        "2.0"
       ]
      }
     ],
     "prompt_number": 20
    },
    {
     "cell_type": "code",
     "collapsed": false,
     "input": [
      "np.log2(n)"
     ],
     "language": "python",
     "metadata": {
      "slideshow": {
       "slide_type": "fragment"
      }
     },
     "outputs": [
      {
       "metadata": {},
       "output_type": "pyout",
       "prompt_number": 21,
       "text": [
        "2.0"
       ]
      }
     ],
     "prompt_number": 21
    },
    {
     "cell_type": "heading",
     "level": 1,
     "metadata": {
      "slideshow": {
       "slide_type": "slide"
      }
     },
     "source": [
      "Entrop\u00eda de Shannon"
     ]
    },
    {
     "cell_type": "markdown",
     "metadata": {
      "slideshow": {
       "slide_type": "fragment"
      }
     },
     "source": [
      "  \n",
      "$$ H = - \\sum\\limits_{i}^n \\ p_i \\  log_2(p_i)$$\n",
      "    "
     ]
    },
    {
     "cell_type": "code",
     "collapsed": false,
     "input": [
      "def information(pi):\n",
      "    \"\"\"float -> float\"\"\"\n",
      "    return( -1 * np.log2( pi ) )\n",
      "    \n",
      "def entropy(P):\n",
      "    \"\"\"list -> float\n",
      "    Entrop\u00eda de Shannon para n simbolos de probabilidad pi en la lista P\"\"\"\n",
      "    suma = 0\n",
      "    for pi in P:\n",
      "        suma += pi * information(pi)\n",
      "    \n",
      "    return(suma)"
     ],
     "language": "python",
     "metadata": {
      "slideshow": {
       "slide_type": "fragment"
      }
     },
     "outputs": [],
     "prompt_number": 22
    },
    {
     "cell_type": "code",
     "collapsed": false,
     "input": [
      "# Moneda 0.5 cara, 0.5 seca\n",
      "entropy([0.5, 0.5]) # bits"
     ],
     "language": "python",
     "metadata": {
      "slideshow": {
       "slide_type": "fragment"
      }
     },
     "outputs": [
      {
       "metadata": {},
       "output_type": "pyout",
       "prompt_number": 23,
       "text": [
        "1.0"
       ]
      }
     ],
     "prompt_number": 23
    },
    {
     "cell_type": "code",
     "collapsed": false,
     "input": [
      "# Moneda 0.75 cara, 0.25 seca\n",
      "entropy([0.75, 0.25])"
     ],
     "language": "python",
     "metadata": {
      "slideshow": {
       "slide_type": "fragment"
      }
     },
     "outputs": [
      {
       "metadata": {},
       "output_type": "pyout",
       "prompt_number": 24,
       "text": [
        "0.81127812445913283"
       ]
      }
     ],
     "prompt_number": 24
    },
    {
     "cell_type": "heading",
     "level": 1,
     "metadata": {
      "slideshow": {
       "slide_type": "slide"
      }
     },
     "source": [
      "Similitud de Amino\u00e1cidos"
     ]
    },
    {
     "cell_type": "markdown",
     "metadata": {
      "slideshow": {
       "slide_type": "fragment"
      }
     },
     "source": [
      "<img src=\"image_aa.jpg\" \\>  "
     ]
    },
    {
     "cell_type": "heading",
     "level": 1,
     "metadata": {
      "slideshow": {
       "slide_type": "slide"
      }
     },
     "source": [
      "Matrices de Similitud"
     ]
    },
    {
     "cell_type": "heading",
     "level": 2,
     "metadata": {
      "slideshow": {
       "slide_type": "fragment"
      }
     },
     "source": [
      "Scoring Matrices"
     ]
    },
    {
     "cell_type": "code",
     "collapsed": false,
     "input": [
      "from Bio.SubsMat import MatrixInfo\n",
      "print( np.array( MatrixInfo.available_matrices ) )"
     ],
     "language": "python",
     "metadata": {
      "slideshow": {
       "slide_type": "fragment"
      }
     },
     "outputs": [
      {
       "output_type": "stream",
       "stream": "stdout",
       "text": [
        "['benner6' 'benner22' 'benner74' 'blosum100' 'blosum30' 'blosum35'\n",
        " 'blosum40' 'blosum45' 'blosum50' 'blosum55' 'blosum60' 'blosum62'\n",
        " 'blosum65' 'blosum70' 'blosum75' 'blosum80' 'blosum85' 'blosum90'\n",
        " 'blosum95' 'feng' 'fitch' 'genetic' 'gonnet' 'grant' 'ident' 'johnson'\n",
        " 'levin' 'mclach' 'miyata' 'nwsgappep' 'pam120' 'pam180' 'pam250' 'pam30'\n",
        " 'pam300' 'pam60' 'pam90' 'rao' 'risler' 'structure']\n"
       ]
      }
     ],
     "prompt_number": 25
    },
    {
     "cell_type": "code",
     "collapsed": false,
     "input": [
      "MatrixInfo.blosum62"
     ],
     "language": "python",
     "metadata": {
      "slideshow": {
       "slide_type": "slide"
      }
     },
     "outputs": [
      {
       "metadata": {},
       "output_type": "pyout",
       "prompt_number": 26,
       "text": [
        "{('A', 'A'): 4,\n",
        " ('B', 'A'): -2,\n",
        " ('B', 'B'): 4,\n",
        " ('B', 'C'): -3,\n",
        " ('B', 'D'): 4,\n",
        " ('B', 'E'): 1,\n",
        " ('B', 'F'): -3,\n",
        " ('B', 'G'): -1,\n",
        " ('B', 'H'): 0,\n",
        " ('B', 'I'): -3,\n",
        " ('B', 'K'): 0,\n",
        " ('B', 'L'): -4,\n",
        " ('B', 'M'): -3,\n",
        " ('B', 'N'): 3,\n",
        " ('B', 'P'): -2,\n",
        " ('B', 'Q'): 0,\n",
        " ('B', 'R'): -1,\n",
        " ('B', 'S'): 0,\n",
        " ('B', 'T'): -1,\n",
        " ('B', 'V'): -3,\n",
        " ('B', 'W'): -4,\n",
        " ('B', 'Y'): -3,\n",
        " ('C', 'A'): 0,\n",
        " ('C', 'C'): 9,\n",
        " ('C', 'D'): -3,\n",
        " ('C', 'N'): -3,\n",
        " ('C', 'R'): -3,\n",
        " ('D', 'A'): -2,\n",
        " ('D', 'D'): 6,\n",
        " ('D', 'N'): 1,\n",
        " ('D', 'R'): -2,\n",
        " ('E', 'A'): -1,\n",
        " ('E', 'C'): -4,\n",
        " ('E', 'D'): 2,\n",
        " ('E', 'E'): 5,\n",
        " ('E', 'N'): 0,\n",
        " ('E', 'Q'): 2,\n",
        " ('E', 'R'): 0,\n",
        " ('F', 'A'): -2,\n",
        " ('F', 'C'): -2,\n",
        " ('F', 'D'): -3,\n",
        " ('F', 'E'): -3,\n",
        " ('F', 'F'): 6,\n",
        " ('F', 'G'): -3,\n",
        " ('F', 'H'): -1,\n",
        " ('F', 'I'): 0,\n",
        " ('F', 'K'): -3,\n",
        " ('F', 'L'): 0,\n",
        " ('F', 'M'): 0,\n",
        " ('F', 'N'): -3,\n",
        " ('F', 'Q'): -3,\n",
        " ('F', 'R'): -3,\n",
        " ('G', 'A'): 0,\n",
        " ('G', 'C'): -3,\n",
        " ('G', 'D'): -1,\n",
        " ('G', 'E'): -2,\n",
        " ('G', 'G'): 6,\n",
        " ('G', 'N'): 0,\n",
        " ('G', 'Q'): -2,\n",
        " ('G', 'R'): -2,\n",
        " ('H', 'A'): -2,\n",
        " ('H', 'C'): -3,\n",
        " ('H', 'D'): -1,\n",
        " ('H', 'E'): 0,\n",
        " ('H', 'G'): -2,\n",
        " ('H', 'H'): 8,\n",
        " ('H', 'N'): 1,\n",
        " ('H', 'Q'): 0,\n",
        " ('H', 'R'): 0,\n",
        " ('I', 'A'): -1,\n",
        " ('I', 'C'): -1,\n",
        " ('I', 'D'): -3,\n",
        " ('I', 'E'): -3,\n",
        " ('I', 'G'): -4,\n",
        " ('I', 'H'): -3,\n",
        " ('I', 'I'): 4,\n",
        " ('I', 'N'): -3,\n",
        " ('I', 'Q'): -3,\n",
        " ('I', 'R'): -3,\n",
        " ('K', 'A'): -1,\n",
        " ('K', 'C'): -3,\n",
        " ('K', 'D'): -1,\n",
        " ('K', 'E'): 1,\n",
        " ('K', 'G'): -2,\n",
        " ('K', 'H'): -1,\n",
        " ('K', 'I'): -3,\n",
        " ('K', 'K'): 5,\n",
        " ('K', 'L'): -2,\n",
        " ('K', 'N'): 0,\n",
        " ('K', 'Q'): 1,\n",
        " ('K', 'R'): 2,\n",
        " ('L', 'A'): -1,\n",
        " ('L', 'C'): -1,\n",
        " ('L', 'D'): -4,\n",
        " ('L', 'E'): -3,\n",
        " ('L', 'G'): -4,\n",
        " ('L', 'H'): -3,\n",
        " ('L', 'I'): 2,\n",
        " ('L', 'L'): 4,\n",
        " ('L', 'N'): -3,\n",
        " ('L', 'Q'): -2,\n",
        " ('L', 'R'): -2,\n",
        " ('M', 'A'): -1,\n",
        " ('M', 'C'): -1,\n",
        " ('M', 'D'): -3,\n",
        " ('M', 'E'): -2,\n",
        " ('M', 'G'): -3,\n",
        " ('M', 'H'): -2,\n",
        " ('M', 'I'): 1,\n",
        " ('M', 'K'): -1,\n",
        " ('M', 'L'): 2,\n",
        " ('M', 'M'): 5,\n",
        " ('M', 'N'): -2,\n",
        " ('M', 'Q'): 0,\n",
        " ('M', 'R'): -1,\n",
        " ('N', 'A'): -2,\n",
        " ('N', 'N'): 6,\n",
        " ('N', 'R'): 0,\n",
        " ('P', 'A'): -1,\n",
        " ('P', 'C'): -3,\n",
        " ('P', 'D'): -1,\n",
        " ('P', 'E'): -1,\n",
        " ('P', 'F'): -4,\n",
        " ('P', 'G'): -2,\n",
        " ('P', 'H'): -2,\n",
        " ('P', 'I'): -3,\n",
        " ('P', 'K'): -1,\n",
        " ('P', 'L'): -3,\n",
        " ('P', 'M'): -2,\n",
        " ('P', 'N'): -2,\n",
        " ('P', 'P'): 7,\n",
        " ('P', 'Q'): -1,\n",
        " ('P', 'R'): -2,\n",
        " ('Q', 'A'): -1,\n",
        " ('Q', 'C'): -3,\n",
        " ('Q', 'D'): 0,\n",
        " ('Q', 'N'): 0,\n",
        " ('Q', 'Q'): 5,\n",
        " ('Q', 'R'): 1,\n",
        " ('R', 'A'): -1,\n",
        " ('R', 'R'): 5,\n",
        " ('S', 'A'): 1,\n",
        " ('S', 'C'): -1,\n",
        " ('S', 'D'): 0,\n",
        " ('S', 'E'): 0,\n",
        " ('S', 'F'): -2,\n",
        " ('S', 'G'): 0,\n",
        " ('S', 'H'): -1,\n",
        " ('S', 'I'): -2,\n",
        " ('S', 'K'): 0,\n",
        " ('S', 'L'): -2,\n",
        " ('S', 'M'): -1,\n",
        " ('S', 'N'): 1,\n",
        " ('S', 'P'): -1,\n",
        " ('S', 'Q'): 0,\n",
        " ('S', 'R'): -1,\n",
        " ('S', 'S'): 4,\n",
        " ('T', 'A'): 0,\n",
        " ('T', 'C'): -1,\n",
        " ('T', 'D'): -1,\n",
        " ('T', 'E'): -1,\n",
        " ('T', 'F'): -2,\n",
        " ('T', 'G'): -2,\n",
        " ('T', 'H'): -2,\n",
        " ('T', 'I'): -1,\n",
        " ('T', 'K'): -1,\n",
        " ('T', 'L'): -1,\n",
        " ('T', 'M'): -1,\n",
        " ('T', 'N'): 0,\n",
        " ('T', 'P'): -1,\n",
        " ('T', 'Q'): -1,\n",
        " ('T', 'R'): -1,\n",
        " ('T', 'S'): 1,\n",
        " ('T', 'T'): 5,\n",
        " ('V', 'A'): 0,\n",
        " ('V', 'C'): -1,\n",
        " ('V', 'D'): -3,\n",
        " ('V', 'E'): -2,\n",
        " ('V', 'F'): -1,\n",
        " ('V', 'G'): -3,\n",
        " ('V', 'H'): -3,\n",
        " ('V', 'I'): 3,\n",
        " ('V', 'K'): -2,\n",
        " ('V', 'L'): 1,\n",
        " ('V', 'M'): 1,\n",
        " ('V', 'N'): -3,\n",
        " ('V', 'P'): -2,\n",
        " ('V', 'Q'): -2,\n",
        " ('V', 'R'): -3,\n",
        " ('V', 'S'): -2,\n",
        " ('V', 'T'): 0,\n",
        " ('V', 'V'): 4,\n",
        " ('V', 'W'): -3,\n",
        " ('V', 'Y'): -1,\n",
        " ('W', 'A'): -3,\n",
        " ('W', 'C'): -2,\n",
        " ('W', 'D'): -4,\n",
        " ('W', 'E'): -3,\n",
        " ('W', 'F'): 1,\n",
        " ('W', 'G'): -2,\n",
        " ('W', 'H'): -2,\n",
        " ('W', 'I'): -3,\n",
        " ('W', 'K'): -3,\n",
        " ('W', 'L'): -2,\n",
        " ('W', 'M'): -1,\n",
        " ('W', 'N'): -4,\n",
        " ('W', 'P'): -4,\n",
        " ('W', 'Q'): -2,\n",
        " ('W', 'R'): -3,\n",
        " ('W', 'S'): -3,\n",
        " ('W', 'T'): -2,\n",
        " ('W', 'W'): 11,\n",
        " ('X', 'A'): 0,\n",
        " ('X', 'B'): -1,\n",
        " ('X', 'C'): -2,\n",
        " ('X', 'D'): -1,\n",
        " ('X', 'E'): -1,\n",
        " ('X', 'F'): -1,\n",
        " ('X', 'G'): -1,\n",
        " ('X', 'H'): -1,\n",
        " ('X', 'I'): -1,\n",
        " ('X', 'K'): -1,\n",
        " ('X', 'L'): -1,\n",
        " ('X', 'M'): -1,\n",
        " ('X', 'N'): -1,\n",
        " ('X', 'P'): -2,\n",
        " ('X', 'Q'): -1,\n",
        " ('X', 'R'): -1,\n",
        " ('X', 'S'): 0,\n",
        " ('X', 'T'): 0,\n",
        " ('X', 'V'): -1,\n",
        " ('X', 'W'): -2,\n",
        " ('X', 'X'): -1,\n",
        " ('X', 'Y'): -1,\n",
        " ('X', 'Z'): -1,\n",
        " ('Y', 'A'): -2,\n",
        " ('Y', 'C'): -2,\n",
        " ('Y', 'D'): -3,\n",
        " ('Y', 'E'): -2,\n",
        " ('Y', 'F'): 3,\n",
        " ('Y', 'G'): -3,\n",
        " ('Y', 'H'): 2,\n",
        " ('Y', 'I'): -1,\n",
        " ('Y', 'K'): -2,\n",
        " ('Y', 'L'): -1,\n",
        " ('Y', 'M'): -1,\n",
        " ('Y', 'N'): -2,\n",
        " ('Y', 'P'): -3,\n",
        " ('Y', 'Q'): -1,\n",
        " ('Y', 'R'): -2,\n",
        " ('Y', 'S'): -2,\n",
        " ('Y', 'T'): -2,\n",
        " ('Y', 'W'): 2,\n",
        " ('Y', 'Y'): 7,\n",
        " ('Z', 'A'): -1,\n",
        " ('Z', 'B'): 1,\n",
        " ('Z', 'C'): -3,\n",
        " ('Z', 'D'): 1,\n",
        " ('Z', 'E'): 4,\n",
        " ('Z', 'F'): -3,\n",
        " ('Z', 'G'): -2,\n",
        " ('Z', 'H'): 0,\n",
        " ('Z', 'I'): -3,\n",
        " ('Z', 'K'): 1,\n",
        " ('Z', 'L'): -3,\n",
        " ('Z', 'M'): -1,\n",
        " ('Z', 'N'): 0,\n",
        " ('Z', 'P'): -1,\n",
        " ('Z', 'Q'): 3,\n",
        " ('Z', 'R'): 0,\n",
        " ('Z', 'S'): 0,\n",
        " ('Z', 'T'): -1,\n",
        " ('Z', 'V'): -2,\n",
        " ('Z', 'W'): -3,\n",
        " ('Z', 'Y'): -2,\n",
        " ('Z', 'Z'): 4}"
       ]
      }
     ],
     "prompt_number": 26
    },
    {
     "cell_type": "markdown",
     "metadata": {
      "slideshow": {
       "slide_type": "slide"
      }
     },
     "source": [
      "$$\\begin{equation}\n",
      "S_{ij} = ( \\frac{1}{\\lambda} ) log_2(\\frac{p_{ij}}{q_i \\times q_j})\n",
      "\\end{equation}$$"
     ]
    },
    {
     "cell_type": "code",
     "collapsed": false,
     "input": [
      "from Bio.SubsMat import SeqMat\n",
      "SeqMat(MatrixInfo.blosum62).print_mat()"
     ],
     "language": "python",
     "metadata": {
      "slideshow": {
       "slide_type": "fragment"
      }
     },
     "outputs": [
      {
       "output_type": "stream",
       "stream": "stdout",
       "text": [
        "A   4\n",
        "B  -2   4\n",
        "C   0  -3   9\n",
        "D  -2   4  -3   6\n",
        "E  -1   1  -4   2   5\n",
        "F  -2  -3  -2  -3  -3   6\n",
        "G   0  -1  -3  -1  -2  -3   6\n",
        "H  -2   0  -3  -1   0  -1  -2   8\n",
        "I  -1  -3  -1  -3  -3   0  -4  -3   4\n",
        "K  -1   0  -3  -1   1  -3  -2  -1  -3   5\n",
        "L  -1  -4  -1  -4  -3   0  -4  -3   2  -2   4\n",
        "M  -1  -3  -1  -3  -2   0  -3  -2   1  -1   2   5\n",
        "N  -2   3  -3   1   0  -3   0   1  -3   0  -3  -2   6\n",
        "P  -1  -2  -3  -1  -1  -4  -2  -2  -3  -1  -3  -2  -2   7\n",
        "Q  -1   0  -3   0   2  -3  -2   0  -3   1  -2   0   0  -1   5\n",
        "R  -1  -1  -3  -2   0  -3  -2   0  -3   2  -2  -1   0  -2   1   5\n",
        "S   1   0  -1   0   0  -2   0  -1  -2   0  -2  -1   1  -1   0  -1   4\n",
        "T   0  -1  -1  -1  -1  -2  -2  -2  -1  -1  -1  -1   0  -1  -1  -1   1   5\n",
        "V   0  -3  -1  -3  -2  -1  -3  -3   3  -2   1   1  -3  -2  -2  -3  -2   0   4\n",
        "W  -3  -4  -2  -4  -3   1  -2  -2  -3  -3  -2  -1  -4  -4  -2  -3  -3  -2  -3  11\n",
        "X   0  -1  -2  -1  -1  -1  -1  -1  -1  -1  -1  -1  -1  -2  -1  -1   0   0  -1  -2  -1\n",
        "Y  -2  -3  -2  -3  -2   3  -3   2  -1  -2  -1  -1  -2  -3  -1  -2  -2  -2  -1   2  -1   7\n",
        "Z  -1   1  -3   1   4  -3  -2   0  -3   1  -3  -1   0  -1   3   0   0  -1  -2  -3  -1  -2   4\n",
        "   A   B   C   D   E   F   G   H   I   K   L   M   N   P   Q   R   S   T   V   W   X   Y   Z\n"
       ]
      }
     ],
     "prompt_number": 27
    },
    {
     "cell_type": "code",
     "collapsed": false,
     "input": [
      "def subs_numpy(subsmat, letters=None):\n",
      "    \"\"\"dict -> numpy array, str\"\"\"\n",
      "    \n",
      "    if letters == None:\n",
      "        letters = \"\".join( set( [ tup[0] for tup in subsmat.keys() ] ) )\n",
      "    \n",
      "    l = len(letters)\n",
      "    \n",
      "    mat = np.zeros((l,l))\n",
      "    \n",
      "    for key, val in subsmat.items():\n",
      "        i = letters.find( key[0] )\n",
      "        j = letters.find( key[1] )\n",
      "        if j != -1 and i != -1:\n",
      "            mat[i,j] = val\n",
      "            mat[j,i] = val\n",
      "        \n",
      "    return( mat )"
     ],
     "language": "python",
     "metadata": {
      "slideshow": {
       "slide_type": "slide"
      }
     },
     "outputs": [],
     "prompt_number": 28
    },
    {
     "cell_type": "code",
     "collapsed": false,
     "input": [
      "plt.pcolormesh(subs_numpy( MatrixInfo.blosum62 ), cmap=plt.cm.coolwarm );"
     ],
     "language": "python",
     "metadata": {
      "slideshow": {
       "slide_type": "fragment"
      }
     },
     "outputs": [
      {
       "metadata": {},
       "output_type": "display_data",
       "png": "[encoded data removed]",
       "text": [
        "<matplotlib.figure.Figure at 0xb01646ac>"
       ]
      }
     ],
     "prompt_number": 29
    },
    {
     "cell_type": "code",
     "collapsed": false,
     "input": [
      "aromaticos = \"FYW\"\n",
      "hidrofob_peq = \"MILB\"\n",
      "hidrofil_peq = \"STPAG\"\n",
      "hidrofil_aminas_acidos = \"NDEQ\"\n",
      "basicos = \"HRK\"\n",
      "sulf = \"C\"\n",
      "\n",
      "letters = aromaticos + hidrofob_peq + hidrofil_peq + \\\n",
      "          hidrofil_aminas_acidos + basicos + sulf\n",
      "\n",
      "mat = subs_numpy( MatrixInfo.blosum62, letters )\n",
      "plt.pcolormesh( mat , cmap=plt.cm.coolwarm );\n",
      "plt.xlabel( letters );\n",
      "plt.ylabel( letters );"
     ],
     "language": "python",
     "metadata": {
      "slideshow": {
       "slide_type": "slide"
      }
     },
     "outputs": [
      {
       "metadata": {},
       "output_type": "display_data",
       "png": "[encoded data removed]",
       "text": [
        "<matplotlib.figure.Figure at 0xb016744c>"
       ]
      }
     ],
     "prompt_number": 30
    },
    {
     "cell_type": "code",
     "collapsed": false,
     "input": [],
     "language": "python",
     "metadata": {
      "slideshow": {
       "slide_type": "skip"
      }
     },
     "outputs": [],
     "prompt_number": 30
    }
   ],
   "metadata": {}
  }
 ]
}