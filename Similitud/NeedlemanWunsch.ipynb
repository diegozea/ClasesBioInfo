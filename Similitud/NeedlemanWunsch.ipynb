{
 "metadata": {
  "name": "",
  "signature": "sha256:8c1623f0863616f50296b3c5cfab5d0649d4147418084fdbe2177070fa942473"
 },
 "nbformat": 3,
 "nbformat_minor": 0,
 "worksheets": [
  {
   "cells": [
    {
     "cell_type": "code",
     "collapsed": false,
     "input": [
      "from Bio.SubsMat import MatrixInfo\n",
      "import numpy as np\n",
      "\n",
      "def get_value(aa_i, aa_j, matrix_dict=MatrixInfo.blosum62):\n",
      "    key = (aa_i, aa_j) if (aa_i, aa_j) in matrix_dict else (aa_j, aa_i)\n",
      "    return( matrix_dict[ key ] )"
     ],
     "language": "python",
     "metadata": {},
     "outputs": [],
     "prompt_number": 1
    },
    {
     "cell_type": "code",
     "collapsed": false,
     "input": [
      "seqa = \"ACCAT\"\n",
      "seqb = \"CCT\""
     ],
     "language": "python",
     "metadata": {},
     "outputs": [],
     "prompt_number": 2
    },
    {
     "cell_type": "code",
     "collapsed": false,
     "input": [
      "la = len(seqa)\n",
      "lb = len(seqb)"
     ],
     "language": "python",
     "metadata": {},
     "outputs": [],
     "prompt_number": 3
    },
    {
     "cell_type": "code",
     "collapsed": false,
     "input": [
      "mat = np.zeros((la+1,lb+1)) # Una fila y columna extra para los gaps\n",
      "mat"
     ],
     "language": "python",
     "metadata": {},
     "outputs": [
      {
       "metadata": {},
       "output_type": "pyout",
       "prompt_number": 4,
       "text": [
        "array([[ 0.,  0.,  0.,  0.],\n",
        "       [ 0.,  0.,  0.,  0.],\n",
        "       [ 0.,  0.,  0.,  0.],\n",
        "       [ 0.,  0.,  0.,  0.],\n",
        "       [ 0.,  0.,  0.,  0.],\n",
        "       [ 0.,  0.,  0.,  0.]])"
       ]
      }
     ],
     "prompt_number": 4
    },
    {
     "cell_type": "code",
     "collapsed": false,
     "input": [
      "mem = {}\n",
      "mem"
     ],
     "language": "python",
     "metadata": {},
     "outputs": [
      {
       "metadata": {},
       "output_type": "pyout",
       "prompt_number": 5,
       "text": [
        "{}"
       ]
      }
     ],
     "prompt_number": 5
    },
    {
     "cell_type": "code",
     "collapsed": false,
     "input": [
      "gap = -1 # Score de penalizacion para los gaps"
     ],
     "language": "python",
     "metadata": {},
     "outputs": [],
     "prompt_number": 6
    },
    {
     "cell_type": "code",
     "collapsed": false,
     "input": [
      "mat[0,0] = 0 # Inicio la primera celda en cero\n",
      "\n",
      "for i in range(1, la+1): # Recorre la primera columna, iniciando desde arriba\n",
      "    mat[i,0] = mat[i-1,0] + gap # Llenando con el valor de la celda superior mas\n",
      "    # la penalizacion por gap\n",
      "    mem[(i, 0)] = (i-1, 0) # Recordar que vengo de la celda superior"
     ],
     "language": "python",
     "metadata": {},
     "outputs": [],
     "prompt_number": 7
    },
    {
     "cell_type": "code",
     "collapsed": false,
     "input": [
      "mat"
     ],
     "language": "python",
     "metadata": {},
     "outputs": [
      {
       "metadata": {},
       "output_type": "pyout",
       "prompt_number": 8,
       "text": [
        "array([[ 0.,  0.,  0.,  0.],\n",
        "       [-1.,  0.,  0.,  0.],\n",
        "       [-2.,  0.,  0.,  0.],\n",
        "       [-3.,  0.,  0.,  0.],\n",
        "       [-4.,  0.,  0.,  0.],\n",
        "       [-5.,  0.,  0.,  0.]])"
       ]
      }
     ],
     "prompt_number": 8
    },
    {
     "cell_type": "code",
     "collapsed": false,
     "input": [
      "mem"
     ],
     "language": "python",
     "metadata": {},
     "outputs": [
      {
       "metadata": {},
       "output_type": "pyout",
       "prompt_number": 9,
       "text": [
        "{(1, 0): (0, 0),\n",
        " (2, 0): (1, 0),\n",
        " (3, 0): (2, 0),\n",
        " (4, 0): (3, 0),\n",
        " (5, 0): (4, 0)}"
       ]
      }
     ],
     "prompt_number": 9
    },
    {
     "cell_type": "code",
     "collapsed": false,
     "input": [
      "for j in range(1, lb+1): # Recorre la primera fila de izquierda a derecha\n",
      "    mat[0,j] = mat[0, j-1] + gap\n",
      "    mem[(0, j)] = (0, j-1) # Recuerdo en el diccionario que el score de la celda viene de la anterior"
     ],
     "language": "python",
     "metadata": {},
     "outputs": [],
     "prompt_number": 10
    },
    {
     "cell_type": "code",
     "collapsed": false,
     "input": [
      "mat"
     ],
     "language": "python",
     "metadata": {},
     "outputs": [
      {
       "metadata": {},
       "output_type": "pyout",
       "prompt_number": 11,
       "text": [
        "array([[ 0., -1., -2., -3.],\n",
        "       [-1.,  0.,  0.,  0.],\n",
        "       [-2.,  0.,  0.,  0.],\n",
        "       [-3.,  0.,  0.,  0.],\n",
        "       [-4.,  0.,  0.,  0.],\n",
        "       [-5.,  0.,  0.,  0.]])"
       ]
      }
     ],
     "prompt_number": 11
    },
    {
     "cell_type": "code",
     "collapsed": false,
     "input": [
      "mem"
     ],
     "language": "python",
     "metadata": {},
     "outputs": [
      {
       "metadata": {},
       "output_type": "pyout",
       "prompt_number": 12,
       "text": [
        "{(0, 1): (0, 0),\n",
        " (0, 2): (0, 1),\n",
        " (0, 3): (0, 2),\n",
        " (1, 0): (0, 0),\n",
        " (2, 0): (1, 0),\n",
        " (3, 0): (2, 0),\n",
        " (4, 0): (3, 0),\n",
        " (5, 0): (4, 0)}"
       ]
      }
     ],
     "prompt_number": 12
    },
    {
     "cell_type": "code",
     "collapsed": false,
     "input": [
      "for i in range(1, la+1): # Recorre todas las filas, desde la segunda\n",
      "    for j in range(1, lb+1): # Recorre todas las celdas de la fila, desde la segunda columna\n",
      "        \n",
      "        origen = [ (i-1, j-1) , (i, j-1), (i-1, j) ] # [ diagonal, arriba, izquierda ]\n",
      "        \n",
      "        values = [ mat[i-1, j-1] + get_value(seqa[i-1], seqb[j-1]), # Score de avanzar en diagonal\n",
      "        mat[i,j-1] + gap, # Score de bajar\n",
      "        mat[i-1,j] + gap ] # Score de avanzar en horizontal\n",
      "        \n",
      "        score = max( values ) # Uso el maximo\n",
      "        pos_max = values.index( score ) # Posicion del maximo\n",
      "        \n",
      "        mat[i,j] = score \n",
      "        mem[(i,j)] = origen[ pos_max ]"
     ],
     "language": "python",
     "metadata": {},
     "outputs": [],
     "prompt_number": 13
    },
    {
     "cell_type": "code",
     "collapsed": false,
     "input": [
      "mat"
     ],
     "language": "python",
     "metadata": {},
     "outputs": [
      {
       "metadata": {},
       "output_type": "pyout",
       "prompt_number": 14,
       "text": [
        "array([[  0.,  -1.,  -2.,  -3.],\n",
        "       [ -1.,   0.,  -1.,  -2.],\n",
        "       [ -2.,   8.,   9.,   8.],\n",
        "       [ -3.,   7.,  17.,  16.],\n",
        "       [ -4.,   6.,  16.,  17.],\n",
        "       [ -5.,   5.,  15.,  21.]])"
       ]
      }
     ],
     "prompt_number": 14
    },
    {
     "cell_type": "code",
     "collapsed": false,
     "input": [
      "mem"
     ],
     "language": "python",
     "metadata": {},
     "outputs": [
      {
       "metadata": {},
       "output_type": "pyout",
       "prompt_number": 15,
       "text": [
        "{(0, 1): (0, 0),\n",
        " (0, 2): (0, 1),\n",
        " (0, 3): (0, 2),\n",
        " (1, 0): (0, 0),\n",
        " (1, 1): (0, 0),\n",
        " (1, 2): (0, 1),\n",
        " (1, 3): (0, 2),\n",
        " (2, 0): (1, 0),\n",
        " (2, 1): (1, 0),\n",
        " (2, 2): (1, 1),\n",
        " (2, 3): (2, 2),\n",
        " (3, 0): (2, 0),\n",
        " (3, 1): (2, 0),\n",
        " (3, 2): (2, 1),\n",
        " (3, 3): (3, 2),\n",
        " (4, 0): (3, 0),\n",
        " (4, 1): (3, 1),\n",
        " (4, 2): (3, 2),\n",
        " (4, 3): (3, 2),\n",
        " (5, 0): (4, 0),\n",
        " (5, 1): (4, 1),\n",
        " (5, 2): (4, 2),\n",
        " (5, 3): (4, 2)}"
       ]
      }
     ],
     "prompt_number": 15
    },
    {
     "cell_type": "code",
     "collapsed": false,
     "input": [
      "inicio = (5,3) # Comienzo desde el final de la matriz\n",
      "sa = []\n",
      "sb = []\n",
      "\n",
      "while inicio != (0,0): # Me detengo al llegar al inicio\n",
      "    \n",
      "        print(\"----\")\n",
      "        print( inicio )\n",
      "        print( sa )\n",
      "        print( sb )\n",
      "        \n",
      "        prox = mem[inicio] # La proxima celda, avanzando hacia atras en la matriz\n",
      "        \n",
      "        if inicio[0] != prox[0]: # Si cambio de fila:\n",
      "            sa.insert(0, seqa[ inicio[0] -1 ])\n",
      "        else:\n",
      "            sa.insert(0, \"-\")\n",
      "        \n",
      "        if inicio[1] != prox[1]: \n",
      "            sb.insert(0, seqb[ inicio[1] -1 ])\n",
      "        else: # Si no cambie de columna \n",
      "            sb.insert(0, \"-\")\n",
      "        \n",
      "        inicio = prox"
     ],
     "language": "python",
     "metadata": {},
     "outputs": [
      {
       "output_type": "stream",
       "stream": "stdout",
       "text": [
        "----\n",
        "(5, 3)\n",
        "[]\n",
        "[]\n",
        "----\n",
        "(4, 2)\n",
        "['T']\n",
        "['T']\n",
        "----\n",
        "(3, 2)\n",
        "['A', 'T']\n",
        "['-', 'T']\n",
        "----\n",
        "(2, 1)\n",
        "['C', 'A', 'T']\n",
        "['C', '-', 'T']\n",
        "----\n",
        "(1, 0)\n",
        "['C', 'C', 'A', 'T']\n",
        "['C', 'C', '-', 'T']\n"
       ]
      }
     ],
     "prompt_number": 16
    },
    {
     "cell_type": "code",
     "collapsed": false,
     "input": [
      "sa"
     ],
     "language": "python",
     "metadata": {},
     "outputs": [
      {
       "metadata": {},
       "output_type": "pyout",
       "prompt_number": 17,
       "text": [
        "['A', 'C', 'C', 'A', 'T']"
       ]
      }
     ],
     "prompt_number": 17
    },
    {
     "cell_type": "code",
     "collapsed": false,
     "input": [
      "sb"
     ],
     "language": "python",
     "metadata": {},
     "outputs": [
      {
       "metadata": {},
       "output_type": "pyout",
       "prompt_number": 18,
       "text": [
        "['-', 'C', 'C', '-', 'T']"
       ]
      }
     ],
     "prompt_number": 18
    },
    {
     "cell_type": "code",
     "collapsed": false,
     "input": [
      "print( \"\".join(sa) + \"\\n\" + \"\".join(sb) )"
     ],
     "language": "python",
     "metadata": {},
     "outputs": [
      {
       "output_type": "stream",
       "stream": "stdout",
       "text": [
        "ACCAT\n",
        "-CC-T\n"
       ]
      }
     ],
     "prompt_number": 19
    },
    {
     "cell_type": "code",
     "collapsed": false,
     "input": [],
     "language": "python",
     "metadata": {},
     "outputs": [],
     "prompt_number": 19
    }
   ],
   "metadata": {}
  }
 ]
}